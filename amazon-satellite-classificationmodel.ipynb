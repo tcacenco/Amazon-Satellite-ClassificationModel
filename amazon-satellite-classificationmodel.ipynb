{
 "cells": [
  {
   "cell_type": "code",
   "execution_count": 1,
   "id": "b09aa95e",
   "metadata": {
    "execution": {
     "iopub.execute_input": "2022-06-26T18:28:15.767447Z",
     "iopub.status.busy": "2022-06-26T18:28:15.767133Z",
     "iopub.status.idle": "2022-06-26T18:28:21.171512Z",
     "shell.execute_reply": "2022-06-26T18:28:21.170775Z"
    },
    "papermill": {
     "duration": 5.429041,
     "end_time": "2022-06-26T18:28:21.174041",
     "exception": false,
     "start_time": "2022-06-26T18:28:15.745000",
     "status": "completed"
    },
    "tags": []
   },
   "outputs": [],
   "source": [
    "from datetime import datetime\n",
    "from datetime import timedelta\n",
    "import os\n",
    "import math\n",
    "import statistics\n",
    "import numpy as np\n",
    "import pandas as pd\n",
    "import matplotlib.pyplot as plt\n",
    "import matplotlib.image as mpimg\n",
    "from IPython.display import clear_output\n",
    "\n",
    "import tensorflow as tf\n",
    "from tensorflow.keras.preprocessing.image import ImageDataGenerator\n",
    "\n",
    "from tensorflow.keras.applications.inception_v3 import InceptionV3\n",
    "from tensorflow.keras.optimizers import RMSprop\n",
    "import tensorflow_addons as tfa"
   ]
  },
  {
   "cell_type": "markdown",
   "id": "46fe8ae8",
   "metadata": {
    "papermill": {
     "duration": 0.020061,
     "end_time": "2022-06-26T18:28:21.215263",
     "exception": false,
     "start_time": "2022-06-26T18:28:21.195202",
     "status": "completed"
    },
    "tags": []
   },
   "source": [
    "## Def functions: One-Hot Encoding and Split Data (Dataframe)"
   ]
  },
  {
   "cell_type": "code",
   "execution_count": 2,
   "id": "0697a865",
   "metadata": {
    "execution": {
     "iopub.execute_input": "2022-06-26T18:28:21.256298Z",
     "iopub.status.busy": "2022-06-26T18:28:21.256093Z",
     "iopub.status.idle": "2022-06-26T18:28:21.267752Z",
     "shell.execute_reply": "2022-06-26T18:28:21.267117Z"
    },
    "papermill": {
     "duration": 0.034377,
     "end_time": "2022-06-26T18:28:21.269335",
     "exception": false,
     "start_time": "2022-06-26T18:28:21.234958",
     "status": "completed"
    },
    "tags": []
   },
   "outputs": [],
   "source": [
    "def Get_ListOfLabels(df_InputLabels):\n",
    "    df_Tags = df_InputLabels.str.split(expand=True)\n",
    "    columns = len(df_Tags.columns)\n",
    "\n",
    "    for i in range(columns):\n",
    "        if i == 0:\n",
    "            df_aux = pd.DataFrame(df_Tags[0])\n",
    "        else:\n",
    "            df_aux = df_aux.append(pd.DataFrame(df_Tags[i].rename(index=0)))\n",
    "\n",
    "    LabelList = (df_aux.drop_duplicates().sort_values([0], ascending=[True]))[0].tolist()\n",
    "    LabelList = list(filter(None, LabelList))\n",
    "    return LabelList\n",
    "\n",
    "\n",
    "def Get_LabelEncodedArray(df_InputLabels, LabelList):\n",
    "    LabelArray = np.zeros((df_InputLabels.count(), len(LabelList)))\n",
    "    TagsArray = df_InputLabels.str.split(expand=True).to_numpy()\n",
    "\n",
    "    for i in range(TagsArray.shape[0]):\n",
    "        for j in range(TagsArray.shape[1]):\n",
    "            for k in range(len(LabelList)):\n",
    "                if(TagsArray[i][j]== LabelList[k]):\n",
    "                    LabelArray[i][k] = 1\n",
    "\n",
    "    return LabelArray\n",
    "\n",
    "def OneHotToStringLabels(OneHotArray, LabelList, delimiter):\n",
    "    string_labels = \"\"\n",
    "    if(len(OneHotArray)!=len(LabelList)):\n",
    "        raise Exception(\"OneHotArray does not match LabelList len/size\")\n",
    "\n",
    "    for i in range(len(OneHotArray)):\n",
    "        if(OneHotArray[i] == 1.0):\n",
    "            if(string_labels == \"\"):\n",
    "                string_labels = LabelList[i]\n",
    "            else:\n",
    "                string_labels = string_labels+delimiter+LabelList[i]\n",
    "    return string_labels\n",
    "\n",
    "def SplitData(df_Dataset, Ratio):\n",
    "\n",
    "    df_TrainData = pd.DataFrame(df_Dataset).sample(round(Ratio * df_Dataset['filename'].count()))\n",
    "\n",
    "    df_ValData = pd.DataFrame(df_Dataset)\n",
    "    condition = df_ValData['filename'].isin(df_TrainData['filename'])\n",
    "    df_ValData = df_ValData.drop(df_ValData[condition].index)\n",
    "\n",
    "    return df_TrainData, df_ValData"
   ]
  },
  {
   "cell_type": "markdown",
   "id": "6f8de5ca",
   "metadata": {
    "papermill": {
     "duration": 0.019564,
     "end_time": "2022-06-26T18:28:21.308595",
     "exception": false,
     "start_time": "2022-06-26T18:28:21.289031",
     "status": "completed"
    },
    "tags": []
   },
   "source": [
    "### **Encoding labels:** One-Hot"
   ]
  },
  {
   "cell_type": "code",
   "execution_count": 3,
   "id": "0bf7c702",
   "metadata": {
    "execution": {
     "iopub.execute_input": "2022-06-26T18:28:21.351178Z",
     "iopub.status.busy": "2022-06-26T18:28:21.350576Z",
     "iopub.status.idle": "2022-06-26T18:28:26.842970Z",
     "shell.execute_reply": "2022-06-26T18:28:26.842232Z"
    },
    "papermill": {
     "duration": 5.515549,
     "end_time": "2022-06-26T18:28:26.845676",
     "exception": false,
     "start_time": "2022-06-26T18:28:21.330127",
     "status": "completed"
    },
    "tags": []
   },
   "outputs": [],
   "source": [
    "source_path = \"../input/amazon-satellite/raw-data\"\n",
    "source_path_Labels = os.path.join(source_path, 'train_v2.csv')\n",
    "source_path_Images = os.path.join(source_path, 'train-jpg')\n",
    "\n",
    "df_Raw = pd.read_csv(source_path_Labels)\n",
    "LabelList = Get_ListOfLabels(df_Raw.tags)\n",
    "\n",
    "Get_LabelEncodedArray(df_Raw.tags, LabelList)\n",
    "df_Dataset = pd.DataFrame(Get_LabelEncodedArray(df_Raw.tags, LabelList), columns=LabelList)\n",
    "df_Dataset['filename'] = df_Raw.image_name.to_list()\n",
    "df_Dataset['filename'] = df_Dataset['filename']+'.jpg'\n",
    "df_Dataset = df_Dataset.loc[: , ['filename']+LabelList]"
   ]
  },
  {
   "cell_type": "markdown",
   "id": "ab3bd1cf",
   "metadata": {
    "papermill": {
     "duration": 0.033488,
     "end_time": "2022-06-26T18:28:26.914831",
     "exception": false,
     "start_time": "2022-06-26T18:28:26.881343",
     "status": "completed"
    },
    "tags": []
   },
   "source": [
    "## Data Exploration\n",
    "- Finding correlation between classes/labels and mutual exclusivity"
   ]
  },
  {
   "cell_type": "code",
   "execution_count": 4,
   "id": "a3144db2",
   "metadata": {
    "execution": {
     "iopub.execute_input": "2022-06-26T18:28:26.982671Z",
     "iopub.status.busy": "2022-06-26T18:28:26.982416Z",
     "iopub.status.idle": "2022-06-26T18:28:27.056137Z",
     "shell.execute_reply": "2022-06-26T18:28:27.055450Z"
    },
    "papermill": {
     "duration": 0.109691,
     "end_time": "2022-06-26T18:28:27.058055",
     "exception": false,
     "start_time": "2022-06-26T18:28:26.948364",
     "status": "completed"
    },
    "tags": []
   },
   "outputs": [
    {
     "name": "stdout",
     "output_type": "stream",
     "text": [
      "                   agriculture  artisinal_mine  bare_ground  blooming  \\\n",
      "agriculture           1.000000             NaN          NaN       NaN   \n",
      "artisinal_mine             NaN             1.0          NaN       NaN   \n",
      "bare_ground                NaN             NaN          1.0       NaN   \n",
      "blooming                   NaN             NaN          NaN       1.0   \n",
      "blow_down                  NaN             NaN          NaN       NaN   \n",
      "clear                      NaN             NaN          NaN       NaN   \n",
      "cloudy                     NaN             NaN          NaN       NaN   \n",
      "conventional_mine          NaN             NaN          NaN       NaN   \n",
      "cultivation           0.344964             NaN          NaN       NaN   \n",
      "habitation            0.303979             NaN          NaN       NaN   \n",
      "haze                       NaN             NaN          NaN       NaN   \n",
      "partly_cloudy              NaN             NaN          NaN       NaN   \n",
      "primary                    NaN             NaN          NaN       NaN   \n",
      "road                  0.480930             NaN          NaN       NaN   \n",
      "selective_logging          NaN             NaN          NaN       NaN   \n",
      "slash_burn                 NaN             NaN          NaN       NaN   \n",
      "water                      NaN             NaN          NaN       NaN   \n",
      "\n",
      "                   blow_down  clear  cloudy  conventional_mine  cultivation  \\\n",
      "agriculture              NaN    NaN     NaN                NaN     0.344964   \n",
      "artisinal_mine           NaN    NaN     NaN                NaN          NaN   \n",
      "bare_ground              NaN    NaN     NaN                NaN          NaN   \n",
      "blooming                 NaN    NaN     NaN                NaN          NaN   \n",
      "blow_down                1.0    NaN     NaN                NaN          NaN   \n",
      "clear                    NaN    1.0     NaN                NaN          NaN   \n",
      "cloudy                   NaN    NaN     1.0                NaN          NaN   \n",
      "conventional_mine        NaN    NaN     NaN                1.0          NaN   \n",
      "cultivation              NaN    NaN     NaN                NaN     1.000000   \n",
      "habitation               NaN    NaN     NaN                NaN          NaN   \n",
      "haze                     NaN    NaN     NaN                NaN          NaN   \n",
      "partly_cloudy            NaN    NaN     NaN                NaN          NaN   \n",
      "primary                  NaN    NaN     NaN                NaN          NaN   \n",
      "road                     NaN    NaN     NaN                NaN          NaN   \n",
      "selective_logging        NaN    NaN     NaN                NaN          NaN   \n",
      "slash_burn               NaN    NaN     NaN                NaN          NaN   \n",
      "water                    NaN    NaN     NaN                NaN          NaN   \n",
      "\n",
      "                   habitation  haze  partly_cloudy  primary      road  \\\n",
      "agriculture          0.303979   NaN            NaN      NaN  0.480930   \n",
      "artisinal_mine            NaN   NaN            NaN      NaN       NaN   \n",
      "bare_ground               NaN   NaN            NaN      NaN       NaN   \n",
      "blooming                  NaN   NaN            NaN      NaN       NaN   \n",
      "blow_down                 NaN   NaN            NaN      NaN       NaN   \n",
      "clear                     NaN   NaN            NaN      NaN       NaN   \n",
      "cloudy                    NaN   NaN            NaN      NaN       NaN   \n",
      "conventional_mine         NaN   NaN            NaN      NaN       NaN   \n",
      "cultivation               NaN   NaN            NaN      NaN       NaN   \n",
      "habitation           1.000000   NaN            NaN      NaN  0.443341   \n",
      "haze                      NaN   1.0            NaN      NaN       NaN   \n",
      "partly_cloudy             NaN   NaN            1.0      NaN       NaN   \n",
      "primary                   NaN   NaN            NaN      1.0       NaN   \n",
      "road                 0.443341   NaN            NaN      NaN  1.000000   \n",
      "selective_logging         NaN   NaN            NaN      NaN       NaN   \n",
      "slash_burn                NaN   NaN            NaN      NaN       NaN   \n",
      "water                     NaN   NaN            NaN      NaN       NaN   \n",
      "\n",
      "                   selective_logging  slash_burn  water  \n",
      "agriculture                      NaN         NaN    NaN  \n",
      "artisinal_mine                   NaN         NaN    NaN  \n",
      "bare_ground                      NaN         NaN    NaN  \n",
      "blooming                         NaN         NaN    NaN  \n",
      "blow_down                        NaN         NaN    NaN  \n",
      "clear                            NaN         NaN    NaN  \n",
      "cloudy                           NaN         NaN    NaN  \n",
      "conventional_mine                NaN         NaN    NaN  \n",
      "cultivation                      NaN         NaN    NaN  \n",
      "habitation                       NaN         NaN    NaN  \n",
      "haze                             NaN         NaN    NaN  \n",
      "partly_cloudy                    NaN         NaN    NaN  \n",
      "primary                          NaN         NaN    NaN  \n",
      "road                             NaN         NaN    NaN  \n",
      "selective_logging                1.0         NaN    NaN  \n",
      "slash_burn                       NaN         1.0    NaN  \n",
      "water                            NaN         NaN    1.0  \n"
     ]
    }
   ],
   "source": [
    "# Find labels with high correlation\n",
    "df_corr = df_Dataset.corr()\n",
    "print(df_corr[df_corr>0.3])"
   ]
  },
  {
   "cell_type": "code",
   "execution_count": 5,
   "id": "05023cd1",
   "metadata": {
    "execution": {
     "iopub.execute_input": "2022-06-26T18:28:27.104051Z",
     "iopub.status.busy": "2022-06-26T18:28:27.103830Z",
     "iopub.status.idle": "2022-06-26T18:28:27.148290Z",
     "shell.execute_reply": "2022-06-26T18:28:27.146995Z"
    },
    "papermill": {
     "duration": 0.068301,
     "end_time": "2022-06-26T18:28:27.150048",
     "exception": false,
     "start_time": "2022-06-26T18:28:27.081747",
     "status": "completed"
    },
    "tags": []
   },
   "outputs": [
    {
     "name": "stdout",
     "output_type": "stream",
     "text": [
      "                   agriculture  artisinal_mine  bare_ground  blooming  \\\n",
      "agriculture                NaN             NaN          NaN       NaN   \n",
      "artisinal_mine             NaN             NaN          NaN       NaN   \n",
      "bare_ground                NaN             NaN          NaN       NaN   \n",
      "blooming                   NaN             NaN          NaN       NaN   \n",
      "blow_down                  NaN             NaN          NaN       NaN   \n",
      "clear                      NaN             NaN          NaN       NaN   \n",
      "cloudy                     NaN             NaN          NaN       NaN   \n",
      "conventional_mine          NaN             NaN          NaN       NaN   \n",
      "cultivation                NaN             NaN          NaN       NaN   \n",
      "habitation                 NaN             NaN          NaN       NaN   \n",
      "haze                       NaN             NaN          NaN       NaN   \n",
      "partly_cloudy              NaN             NaN          NaN       NaN   \n",
      "primary                    NaN             NaN          NaN       NaN   \n",
      "road                       NaN             NaN          NaN       NaN   \n",
      "selective_logging          NaN             NaN          NaN       NaN   \n",
      "slash_burn                 NaN             NaN          NaN       NaN   \n",
      "water                      NaN             NaN          NaN       NaN   \n",
      "\n",
      "                   blow_down     clear    cloudy  conventional_mine  \\\n",
      "agriculture              NaN       NaN       NaN                NaN   \n",
      "artisinal_mine           NaN       NaN       NaN                NaN   \n",
      "bare_ground              NaN       NaN       NaN                NaN   \n",
      "blooming                 NaN       NaN       NaN                NaN   \n",
      "blow_down                NaN       NaN       NaN                NaN   \n",
      "clear                    NaN       NaN -0.358343                NaN   \n",
      "cloudy                   NaN -0.358343       NaN                NaN   \n",
      "conventional_mine        NaN       NaN       NaN                NaN   \n",
      "cultivation              NaN       NaN       NaN                NaN   \n",
      "habitation               NaN       NaN       NaN                NaN   \n",
      "haze                     NaN -0.410428       NaN                NaN   \n",
      "partly_cloudy            NaN -0.718208       NaN                NaN   \n",
      "primary                  NaN       NaN -0.829594                NaN   \n",
      "road                     NaN       NaN       NaN                NaN   \n",
      "selective_logging        NaN       NaN       NaN                NaN   \n",
      "slash_burn               NaN       NaN       NaN                NaN   \n",
      "water                    NaN       NaN       NaN                NaN   \n",
      "\n",
      "                   cultivation  habitation      haze  partly_cloudy   primary  \\\n",
      "agriculture                NaN         NaN       NaN            NaN       NaN   \n",
      "artisinal_mine             NaN         NaN       NaN            NaN       NaN   \n",
      "bare_ground                NaN         NaN       NaN            NaN       NaN   \n",
      "blooming                   NaN         NaN       NaN            NaN       NaN   \n",
      "blow_down                  NaN         NaN       NaN            NaN       NaN   \n",
      "clear                      NaN         NaN -0.410428      -0.718208       NaN   \n",
      "cloudy                     NaN         NaN       NaN            NaN -0.829594   \n",
      "conventional_mine          NaN         NaN       NaN            NaN       NaN   \n",
      "cultivation                NaN         NaN       NaN            NaN       NaN   \n",
      "habitation                 NaN         NaN       NaN            NaN       NaN   \n",
      "haze                       NaN         NaN       NaN            NaN       NaN   \n",
      "partly_cloudy              NaN         NaN       NaN            NaN       NaN   \n",
      "primary                    NaN         NaN       NaN            NaN       NaN   \n",
      "road                       NaN         NaN       NaN            NaN       NaN   \n",
      "selective_logging          NaN         NaN       NaN            NaN       NaN   \n",
      "slash_burn                 NaN         NaN       NaN            NaN       NaN   \n",
      "water                      NaN         NaN       NaN            NaN       NaN   \n",
      "\n",
      "                   road  selective_logging  slash_burn  water  \n",
      "agriculture         NaN                NaN         NaN    NaN  \n",
      "artisinal_mine      NaN                NaN         NaN    NaN  \n",
      "bare_ground         NaN                NaN         NaN    NaN  \n",
      "blooming            NaN                NaN         NaN    NaN  \n",
      "blow_down           NaN                NaN         NaN    NaN  \n",
      "clear               NaN                NaN         NaN    NaN  \n",
      "cloudy              NaN                NaN         NaN    NaN  \n",
      "conventional_mine   NaN                NaN         NaN    NaN  \n",
      "cultivation         NaN                NaN         NaN    NaN  \n",
      "habitation          NaN                NaN         NaN    NaN  \n",
      "haze                NaN                NaN         NaN    NaN  \n",
      "partly_cloudy       NaN                NaN         NaN    NaN  \n",
      "primary             NaN                NaN         NaN    NaN  \n",
      "road                NaN                NaN         NaN    NaN  \n",
      "selective_logging   NaN                NaN         NaN    NaN  \n",
      "slash_burn          NaN                NaN         NaN    NaN  \n",
      "water               NaN                NaN         NaN    NaN  \n"
     ]
    }
   ],
   "source": [
    "# Find labels with low correlation\n",
    "df_corr = df_Dataset.corr()\n",
    "print(df_corr[df_corr<-0.2])"
   ]
  },
  {
   "cell_type": "code",
   "execution_count": 6,
   "id": "3214406f",
   "metadata": {
    "execution": {
     "iopub.execute_input": "2022-06-26T18:28:27.194990Z",
     "iopub.status.busy": "2022-06-26T18:28:27.194766Z",
     "iopub.status.idle": "2022-06-26T18:28:27.228446Z",
     "shell.execute_reply": "2022-06-26T18:28:27.227518Z"
    },
    "papermill": {
     "duration": 0.058723,
     "end_time": "2022-06-26T18:28:27.230187",
     "exception": false,
     "start_time": "2022-06-26T18:28:27.171464",
     "status": "completed"
    },
    "tags": []
   },
   "outputs": [
    {
     "name": "stdout",
     "output_type": "stream",
     "text": [
      "Images labelled as clear AND haze:\t\t\t0\n",
      "Images labelled as clear AND partly_cloudy:\t\t0\n",
      "Images labelled as clear AND cloudy:\t\t\t0\n",
      "Images labelled as haze AND partly_cloudy:\t\t0\n",
      "Images labelled as haze AND cloudy:\t\t\t0\n",
      "Images labelled as partly_cloudy AND cloudy:\t\t0\n",
      "\n",
      "Images with any of these 4 labels:\t40478\n",
      "Images without any of these 4 labels:\t1\n",
      "total number of images:\t\t\t40479\n"
     ]
    }
   ],
   "source": [
    "# Verify mutual exclusivity of 4 labels: clear, haze, partly_cloudy, cloudy\n",
    "\n",
    "print('Images labelled as clear AND haze:\\t\\t\\t'+str(df_Dataset.loc[(df_Dataset['clear']==1.0) & (df_Dataset['haze']==1.0)]['filename'].count()))\n",
    "print('Images labelled as clear AND partly_cloudy:\\t\\t'+str(df_Dataset.loc[(df_Dataset['clear']==1.0) & (df_Dataset['partly_cloudy']==1.0)]['filename'].count()))\n",
    "print('Images labelled as clear AND cloudy:\\t\\t\\t'+str(df_Dataset.loc[(df_Dataset['clear']==1.0) & (df_Dataset['cloudy']==1.0)]['filename'].count()))\n",
    "print('Images labelled as haze AND partly_cloudy:\\t\\t'+str(df_Dataset.loc[(df_Dataset['haze']==1.0) & (df_Dataset['partly_cloudy']==1.0)]['filename'].count()))\n",
    "print('Images labelled as haze AND cloudy:\\t\\t\\t'+str(df_Dataset.loc[(df_Dataset['haze']==1.0) & (df_Dataset['cloudy']==1.0)]['filename'].count()))\n",
    "print('Images labelled as partly_cloudy AND cloudy:\\t\\t'+str(df_Dataset.loc[(df_Dataset['partly_cloudy']==1.0) & (df_Dataset['cloudy']==1.0)]['filename'].count()))\n",
    "\n",
    "print('\\nImages with any of these 4 labels:\\t'+str(df_Dataset.loc[(df_Dataset['clear']==1.0) | (df_Dataset['haze']==1.0) | (df_Dataset['partly_cloudy']==1.0) | (df_Dataset['cloudy']==1.0)]['filename'].count()))\n",
    "print('Images without any of these 4 labels:\\t'+str(df_Dataset.loc[~((df_Dataset['clear']==1.0) | (df_Dataset['haze']==1.0) | (df_Dataset['partly_cloudy']==1.0) | (df_Dataset['cloudy']==1.0))]['filename'].count()))\n",
    "print('total number of images:\\t\\t\\t'+str(df_Raw.tags.count()))"
   ]
  },
  {
   "cell_type": "code",
   "execution_count": 7,
   "id": "2ff8efc5",
   "metadata": {
    "execution": {
     "iopub.execute_input": "2022-06-26T18:28:27.276146Z",
     "iopub.status.busy": "2022-06-26T18:28:27.275578Z",
     "iopub.status.idle": "2022-06-26T18:28:27.284474Z",
     "shell.execute_reply": "2022-06-26T18:28:27.283539Z"
    },
    "papermill": {
     "duration": 0.033191,
     "end_time": "2022-06-26T18:28:27.286093",
     "exception": false,
     "start_time": "2022-06-26T18:28:27.252902",
     "status": "completed"
    },
    "tags": []
   },
   "outputs": [
    {
     "name": "stdout",
     "output_type": "stream",
     "text": [
      "Images labelled as artisinal_mine AND conventional_mine: 4\n",
      "Images labelled as artisinal_mine OR conventional_mine: 435\n"
     ]
    }
   ],
   "source": [
    "# Verify mutual exclusivity of 4 labels: artisinal_mine and conventional_mine\n",
    "\n",
    "print('Images labelled as artisinal_mine AND conventional_mine: '+str(df_Dataset.loc[(df_Dataset['artisinal_mine']==1.0) & (df_Dataset['conventional_mine']==1.0)]['filename'].count()))\n",
    "print('Images labelled as artisinal_mine OR conventional_mine: '+str(df_Dataset.loc[(df_Dataset['artisinal_mine']==1.0) | (df_Dataset['conventional_mine']==1.0)]['filename'].count()))"
   ]
  },
  {
   "cell_type": "markdown",
   "id": "95734519",
   "metadata": {
    "papermill": {
     "duration": 0.022615,
     "end_time": "2022-06-26T18:28:27.330791",
     "exception": false,
     "start_time": "2022-06-26T18:28:27.308176",
     "status": "completed"
    },
    "tags": []
   },
   "source": [
    "## Training and Validation Generators\n",
    "\n",
    "Now that you know the images you are dealing with, it is time for you to code the generators that will fed these images to your Network. For this, complete the `train_val_generators` function below:\n",
    "\n",
    "**Important Note:** The images have a resolution of 256x256 but the `flow_from_dataframe` method you will use allows you to set a target resolution. Lower resolution may yield much quicker training times without compromising the accuracy!"
   ]
  },
  {
   "cell_type": "code",
   "execution_count": 8,
   "id": "02821e5e",
   "metadata": {
    "execution": {
     "iopub.execute_input": "2022-06-26T18:28:27.377239Z",
     "iopub.status.busy": "2022-06-26T18:28:27.377020Z",
     "iopub.status.idle": "2022-06-26T18:28:27.397499Z",
     "shell.execute_reply": "2022-06-26T18:28:27.396842Z"
    },
    "papermill": {
     "duration": 0.045446,
     "end_time": "2022-06-26T18:28:27.399088",
     "exception": false,
     "start_time": "2022-06-26T18:28:27.353642",
     "status": "completed"
    },
    "tags": []
   },
   "outputs": [],
   "source": [
    "def generate_generator_multiple(generator, directory, df1, df2, df3, df4, df5, batch_size, target_size):\n",
    "    genX1 = generator.flow_from_dataframe(dataframe = df1,\n",
    "                                          directory=directory,\n",
    "                                          x_col=df1.columns[0],\n",
    "                                          y_col=df1.columns[1:len(df1.columns)],\n",
    "                                          target_size = target_size,\n",
    "                                          class_mode = 'raw',\n",
    "                                          batch_size = batch_size,\n",
    "                                          shuffle=False, \n",
    "                                          seed=7)\n",
    "    \n",
    "    genX2 = generator.flow_from_dataframe(dataframe = df2,\n",
    "                                          directory=directory,\n",
    "                                          x_col=df2.columns[0],\n",
    "                                          y_col=df2.columns[1:len(df2.columns)],\n",
    "                                          target_size = target_size,\n",
    "                                          class_mode = 'raw',\n",
    "                                          batch_size = batch_size,\n",
    "                                          shuffle=False, \n",
    "                                          seed=7)\n",
    "    \n",
    "    genX3 = generator.flow_from_dataframe(dataframe = df3,\n",
    "                                          directory=directory,\n",
    "                                          x_col=df3.columns[0],\n",
    "                                          y_col=df3.columns[1:len(df3.columns)],\n",
    "                                          target_size = target_size,\n",
    "                                          class_mode = 'raw',\n",
    "                                          batch_size = batch_size,\n",
    "                                          shuffle=False, \n",
    "                                          seed=7)\n",
    "    \n",
    "    genX4 = generator.flow_from_dataframe(dataframe = df4,\n",
    "                                          directory=directory,\n",
    "                                          x_col=df4.columns[0],\n",
    "                                          y_col=df4.columns[1:len(df4.columns)],\n",
    "                                          target_size = target_size,\n",
    "                                          class_mode = 'raw',\n",
    "                                          batch_size = batch_size,\n",
    "                                          shuffle=False, \n",
    "                                          seed=7)\n",
    "    \n",
    "    genX5 = generator.flow_from_dataframe(dataframe = df5,\n",
    "                                          directory=directory,\n",
    "                                          x_col=df5.columns[0],\n",
    "                                          y_col=df5.columns[1:len(df5.columns)],\n",
    "                                          target_size = target_size,\n",
    "                                          class_mode = 'raw',\n",
    "                                          batch_size = batch_size,\n",
    "                                          shuffle=False, \n",
    "                                          seed=7)\n",
    "    \n",
    "    for i in range(df1['filename'].count()):\n",
    "            X1i = genX1.next()\n",
    "            X2i = genX2.next()\n",
    "            X3i = genX3.next()\n",
    "            X4i = genX4.next()\n",
    "            X5i = genX5.next()\n",
    "            yield X1i[0],[X1i[1], X2i[1], X3i[1], X4i[1], X5i[1]]\n",
    "\n",
    "\n",
    "            \n",
    "            \n",
    "            \n",
    "# Get Data Generators\n",
    "def train_val_generators(DIRECTORY, df_Train, df_Validation):\n",
    "    \n",
    "  # Instantiate the ImageDataGenerator class \n",
    "  # Don't forget to normalize pixel values and set arguments to augment the images \n",
    "  train_datagen = ImageDataGenerator(rescale=1.0/255.0,\n",
    "                                     rotation_range=45,\n",
    "                                     width_shift_range=0.2,\n",
    "                                     height_shift_range=0.2,\n",
    "                                     zoom_range=0.15,\n",
    "                                     horizontal_flip=True,\n",
    "                                     fill_mode='nearest')\n",
    "\n",
    "# create generator\n",
    "  df_vis = df_Train.loc[:, ['filename', 'clear', 'haze', 'partly_cloudy', 'cloudy']]\n",
    "  df_hum = df_Train.loc[:, ['filename', 'agriculture', 'cultivation', 'habitation']]\n",
    "  df_rw  = df_Train.loc[:, ['filename', 'road', 'water']]\n",
    "  df_prim = df_Train.loc[:, ['filename', 'primary']]\n",
    "  df_rem = df_Train.loc[:, ['filename', 'artisinal_mine', 'bare_ground', 'blooming', 'blow_down', 'conventional_mine', 'selective_logging', 'slash_burn']]\n",
    "\n",
    "  train_generator = generate_generator_multiple(train_datagen, DIRECTORY, df_vis, df_hum, df_rw, df_prim, df_rem, 32, (256, 256))\n",
    "    \n",
    "#   train_generator = train_datagen.flow_from_dataframe(dataframe=df_Train,\n",
    "#                                                       directory=DIRECTORY,\n",
    "#                                                       x_col=df_Train.columns[0],\n",
    "#                                                       y_col=df_Train.columns[1:len(df_Train.columns)],\n",
    "#                                                       batch_size=32, \n",
    "#                                                       class_mode='raw',\n",
    "#                                                       target_size=(256, 256))\n",
    "\n",
    "  # Instantiate the ImageDataGenerator class (set the rescale argument)\n",
    "  # Validation data not augmented\n",
    "  validation_datagen = ImageDataGenerator(rescale=1.0/255.0)\n",
    "    \n",
    "  df_vis = df_ValData.loc[:, ['filename', 'clear', 'haze', 'partly_cloudy', 'cloudy']]\n",
    "  df_hum = df_ValData.loc[:, ['filename', 'agriculture', 'cultivation', 'habitation']]\n",
    "  df_rw  = df_ValData.loc[:, ['filename', 'road', 'water']]\n",
    "  df_prim = df_ValData.loc[:, ['filename', 'primary']]\n",
    "  df_rem = df_ValData.loc[:, ['filename', 'artisinal_mine', 'bare_ground', 'blooming', 'blow_down', 'conventional_mine', 'selective_logging', 'slash_burn']]\n",
    "\n",
    "  validation_generator = generate_generator_multiple(validation_datagen, DIRECTORY, df_vis, df_hum, df_rw, df_prim, df_rem, 32, (256, 256))\n",
    "  \n",
    "#   flow_from_dataframe method\n",
    "#   validation_generator = validation_datagen.flow_from_dataframe(dataframe=df_Validation,\n",
    "#                                                                 directory=DIRECTORY,\n",
    "#                                                                 x_col=df_ValData.columns[0],\n",
    "#                                                                 y_col=df_ValData.columns[1:len(df_ValData.columns)],\n",
    "#                                                                 batch_size=32,\n",
    "#                                                                 class_mode='raw',\n",
    "#                                                                 target_size=(256, 256))\n",
    "  return train_generator, validation_generator"
   ]
  },
  {
   "cell_type": "code",
   "execution_count": 9,
   "id": "fd63a0a4",
   "metadata": {
    "execution": {
     "iopub.execute_input": "2022-06-26T18:28:27.445325Z",
     "iopub.status.busy": "2022-06-26T18:28:27.444558Z",
     "iopub.status.idle": "2022-06-26T18:28:27.488166Z",
     "shell.execute_reply": "2022-06-26T18:28:27.487453Z"
    },
    "papermill": {
     "duration": 0.069098,
     "end_time": "2022-06-26T18:28:27.490458",
     "exception": false,
     "start_time": "2022-06-26T18:28:27.421360",
     "status": "completed"
    },
    "tags": []
   },
   "outputs": [],
   "source": [
    "# Split Data\n",
    "TrainToValidation_DataSize_Ratio = 0.8\n",
    "df_TrainData, df_ValData = SplitData(df_Dataset, TrainToValidation_DataSize_Ratio)\n",
    "\n",
    "# Test Generators\n",
    "train_generator, validation_generator = train_val_generators(source_path_Images, df_TrainData, df_ValData)"
   ]
  },
  {
   "cell_type": "markdown",
   "id": "d2692de2",
   "metadata": {
    "papermill": {
     "duration": 0.022808,
     "end_time": "2022-06-26T18:28:27.536515",
     "exception": false,
     "start_time": "2022-06-26T18:28:27.513707",
     "status": "completed"
    },
    "tags": []
   },
   "source": [
    "## Test Image Data Generator and Label Encoding\n",
    "- Verify if functions are working and visualize data"
   ]
  },
  {
   "cell_type": "code",
   "execution_count": 10,
   "id": "6a47fe45",
   "metadata": {
    "execution": {
     "iopub.execute_input": "2022-06-26T18:28:27.583508Z",
     "iopub.status.busy": "2022-06-26T18:28:27.583191Z",
     "iopub.status.idle": "2022-06-26T18:28:27.586879Z",
     "shell.execute_reply": "2022-06-26T18:28:27.586152Z"
    },
    "papermill": {
     "duration": 0.029113,
     "end_time": "2022-06-26T18:28:27.588478",
     "exception": false,
     "start_time": "2022-06-26T18:28:27.559365",
     "status": "completed"
    },
    "tags": []
   },
   "outputs": [],
   "source": [
    "# data_index = 0\n",
    "\n",
    "# print(pd.DataFrame(np.array([LabelList, validation_generator.labels[data_index]]).transpose()).to_string(index=False))\n",
    "# print(\"\\nFile name:\\t\"+validation_generator.filenames[data_index])\n",
    "# print(\"Labels:\\t\\t\"+OneHotToStringLabels(validation_generator.labels[data_index], LabelList, ' ')+'\\n')\n",
    "\n",
    "# img = mpimg.imread(os.path.join(source_path_Images, validation_generator.filenames[data_index]))\n",
    "# img = img[:,:,:3]\n",
    "# plt.imshow(img)"
   ]
  },
  {
   "cell_type": "markdown",
   "id": "0f4e7df9",
   "metadata": {
    "papermill": {
     "duration": 0.022892,
     "end_time": "2022-06-26T18:28:27.633541",
     "exception": false,
     "start_time": "2022-06-26T18:28:27.610649",
     "status": "completed"
    },
    "tags": []
   },
   "source": [
    "## Model Definition\n",
    "- Import InceptionV3 weights and define layers connected\n",
    "- Import VGG19 weights and define layers connected"
   ]
  },
  {
   "cell_type": "code",
   "execution_count": 11,
   "id": "dd81a085",
   "metadata": {
    "execution": {
     "iopub.execute_input": "2022-06-26T18:28:27.681546Z",
     "iopub.status.busy": "2022-06-26T18:28:27.681071Z",
     "iopub.status.idle": "2022-06-26T18:28:27.711130Z",
     "shell.execute_reply": "2022-06-26T18:28:27.710501Z"
    },
    "papermill": {
     "duration": 0.057065,
     "end_time": "2022-06-26T18:28:27.712868",
     "exception": false,
     "start_time": "2022-06-26T18:28:27.655803",
     "status": "completed"
    },
    "tags": []
   },
   "outputs": [],
   "source": [
    "from tensorflow.keras.optimizers import RMSprop\n",
    "from tensorflow.keras.optimizers import Adam\n",
    "import tensorflow_addons as tfa\n",
    "\n",
    "def create_model():\n",
    "    \n",
    "    Input = tf.keras.Input(shape=(256, 256, 3))\n",
    "    \n",
    "#     #Load ResNet50V2 Model\n",
    "    Model_1 = tf.keras.applications.ResNet50V2(input_tensor = Input, include_top = False, weights=\"imagenet\")\n",
    "    #Make all layers on ResNet50V2 trainable\n",
    "    for layer in Model_1.layers:\n",
    "        layer.trainable = True\n",
    "    x_Model_1 = Model_1(Input)\n",
    "    x_Model_1_Flat = tf.keras.layers.Flatten(name='Flatten_Model_1')(x_Model_1)\n",
    "    \n",
    "    \n",
    "#     #Load VGG19 Model\n",
    "    Model_2 = tf.keras.applications.VGG19(input_tensor = Input, include_top=False, weights=\"imagenet\")\n",
    "    #Make all layers on VGG19 trainable\n",
    "    for layer in Model_2.layers:\n",
    "            layer.trainable = True\n",
    "    x_Model_2 = Model_2(Input)\n",
    "    x_Model_2_Flat = tf.keras.layers.Flatten(name='Flatten_Model_2')(x_Model_2)\n",
    "    \n",
    "    \n",
    "    x_Top = tf.keras.layers.Concatenate(name='ConcatenateFlatten_Layer')([x_Model_1_Flat, x_Model_2_Flat])\n",
    "    x_Top = tf.keras.layers.Dense(2048, activation='relu', kernel_initializer = tf.keras.initializers.HeUniform())(x_Top)\n",
    "    \n",
    "    #Define Visibility Branch\n",
    "    # x_vis[0] -> clear\n",
    "    # x_vis[1] -> haze\n",
    "    # x_vis[2] -> partly_cloudy\n",
    "    # x_vis[3] -> cloudy\n",
    "    x_vis = tf.keras.layers.Dense(1024, activation='relu', kernel_initializer = tf.keras.initializers.HeUniform())(x_Top)\n",
    "    x_vis = tf.keras.layers.Dropout(0.4)(x_vis)\n",
    "    x_vis = tf.keras.layers.Dense(1024, activation='relu', kernel_initializer = tf.keras.initializers.HeUniform())(x_vis)\n",
    "    x_vis = tf.keras.layers.Dropout(0.4)(x_vis)\n",
    "    x_vis = tf.keras.layers.Dense(1024, activation='relu', kernel_initializer = tf.keras.initializers.HeUniform())(x_vis)\n",
    "    x_vis = tf.keras.layers.Dropout(0.4)(x_vis)\n",
    "    x_vis = tf.keras.layers.Dense(4, activation='softmax', name = 'visibility', kernel_initializer = tf.keras.initializers.GlorotUniform())(x_vis)\n",
    "    \n",
    "    #Define Human Activity Branch\n",
    "    # x_hum[0] -> agriculture\n",
    "    # x_hum[1] -> cultivation\n",
    "    # x_hum[2] -> habitation\n",
    "    x_hum = tf.keras.layers.Dense(1024, activation='relu', kernel_initializer = tf.keras.initializers.HeUniform())(x_Top)\n",
    "    x_hum = tf.keras.layers.Dropout(0.4)(x_hum)\n",
    "    x_hum = tf.keras.layers.Dense(1024, activation='relu', kernel_initializer = tf.keras.initializers.HeUniform())(x_hum)\n",
    "    x_hum = tf.keras.layers.Dropout(0.4)(x_hum)\n",
    "    x_hum = tf.keras.layers.Dense(1024, activation='relu', kernel_initializer = tf.keras.initializers.HeUniform())(x_hum)\n",
    "    x_hum = tf.keras.layers.Dropout(0.4)(x_hum)\n",
    "    x_hum = tf.keras.layers.Dense(3, activation='sigmoid', name='human_activity', kernel_initializer = tf.keras.initializers.GlorotUniform())(x_hum)\n",
    "    \n",
    "    #Define Track Branch (Road or Water)\n",
    "    # x_rw[0] -> road\n",
    "    # x_rw[1] -> water\n",
    "    x_rw = tf.keras.layers.Dense(1024, activation='relu', kernel_initializer = tf.keras.initializers.HeUniform())(x_Top)\n",
    "    x_rw = tf.keras.layers.Dropout(0.4)(x_rw)\n",
    "    x_rw = tf.keras.layers.Dense(1024, activation='relu', kernel_initializer = tf.keras.initializers.HeUniform())(x_rw)\n",
    "    x_rw = tf.keras.layers.Dropout(0.4)(x_rw)\n",
    "    x_rw = tf.keras.layers.Dense(1024, activation='relu', kernel_initializer = tf.keras.initializers.HeUniform())(x_rw)\n",
    "    x_rw = tf.keras.layers.Dropout(0.4)(x_rw)\n",
    "    x_rw = tf.keras.layers.Dense(2, activation='sigmoid', name='road_water', kernel_initializer = tf.keras.initializers.GlorotUniform())(x_rw)\n",
    "    \n",
    "    #Define Primary Branch\n",
    "    #x_primary[0] -> primary\n",
    "    x_prim = tf.keras.layers.Dense(1024, activation='relu', kernel_initializer = tf.keras.initializers.HeUniform())(x_Top)\n",
    "    x_prim = tf.keras.layers.Dropout(0.4)(x_prim)\n",
    "    x_prim = tf.keras.layers.Dense(1024, activation='relu', kernel_initializer = tf.keras.initializers.HeUniform())(x_prim)\n",
    "    x_prim = tf.keras.layers.Dropout(0.4)(x_prim)\n",
    "    x_prim = tf.keras.layers.Dense(1024, activation='relu', kernel_initializer = tf.keras.initializers.HeUniform())(x_prim)\n",
    "    x_prim = tf.keras.layers.Dropout(0.4)(x_prim)\n",
    "    x_prim = tf.keras.layers.Dense(1, activation='sigmoid', name='primary', kernel_initializer = tf.keras.initializers.GlorotUniform())(x_prim)\n",
    "    \n",
    "    \n",
    "    #Define Remaining Branch\n",
    "    #x_mine[0] -> artisinal_mine\n",
    "    # x_rem[1] -> bare_ground\n",
    "    # x_rem[2] -> blooming\n",
    "    # x_rem[3] -> blow_down\n",
    "    #x_mine[4] -> conventional_mine\n",
    "    # x_rem[5] -> selective_logging\n",
    "    # x_rem[6] -> slash_burn\n",
    "    x_rem = tf.keras.layers.Dense(1024, activation='relu', kernel_initializer = tf.keras.initializers.HeUniform())(x_Top)\n",
    "    x_rem = tf.keras.layers.Dropout(0.4)(x_rem)\n",
    "    x_rem = tf.keras.layers.Dense(1024, activation='relu', kernel_initializer = tf.keras.initializers.HeUniform())(x_rem)\n",
    "    x_rem = tf.keras.layers.Dropout(0.4)(x_rem)\n",
    "    x_rem = tf.keras.layers.Dense(1024, activation='relu', kernel_initializer = tf.keras.initializers.HeUniform())(x_rem)\n",
    "    x_rem = tf.keras.layers.Dropout(0.4)(x_rem)\n",
    "    x_rem = tf.keras.layers.Dense(7, activation='sigmoid', name='remaining', kernel_initializer = tf.keras.initializers.GlorotUniform())(x_rem)\n",
    "    \n",
    "    model = tf.keras.Model(inputs=Input, outputs=[x_vis, x_hum, x_rw, x_prim, x_rem])\n",
    "\n",
    "    model.compile(optimizer=Adam(lr=1e-4),\n",
    "                loss='binary_crossentropy',\n",
    "                metrics={\n",
    "                         'visibility': [tfa.metrics.FBetaScore(beta=2.0, num_classes=4 , average='micro', threshold=0.5)],\n",
    "                         'human_activity': [tfa.metrics.FBetaScore(beta=2.0, num_classes=3 , average='micro', threshold=0.5)],\n",
    "                         'road_water': [tfa.metrics.FBetaScore(beta=2.0, num_classes=2 , average='micro', threshold=0.5)],\n",
    "                         'primary': [tfa.metrics.FBetaScore(beta=2.0, num_classes=1 , average='micro', threshold=0.5)],\n",
    "                         'remaining': [tfa.metrics.FBetaScore(beta=2.0, num_classes=7 , average='micro', threshold=0.5)]\n",
    "                        }\n",
    "               ) \n",
    "    return model"
   ]
  },
  {
   "cell_type": "markdown",
   "id": "cad8dfe5",
   "metadata": {
    "papermill": {
     "duration": 0.023657,
     "end_time": "2022-06-26T18:28:27.760631",
     "exception": false,
     "start_time": "2022-06-26T18:28:27.736974",
     "status": "completed"
    },
    "tags": []
   },
   "source": [
    "## Callback to stop training"
   ]
  },
  {
   "cell_type": "code",
   "execution_count": 12,
   "id": "e92ba108",
   "metadata": {
    "execution": {
     "iopub.execute_input": "2022-06-26T18:28:27.808571Z",
     "iopub.status.busy": "2022-06-26T18:28:27.808015Z",
     "iopub.status.idle": "2022-06-26T18:28:27.812711Z",
     "shell.execute_reply": "2022-06-26T18:28:27.812075Z"
    },
    "papermill": {
     "duration": 0.029854,
     "end_time": "2022-06-26T18:28:27.814449",
     "exception": false,
     "start_time": "2022-06-26T18:28:27.784595",
     "status": "completed"
    },
    "tags": []
   },
   "outputs": [],
   "source": [
    "class myCallback(tf.keras.callbacks.Callback):\n",
    "    def on_epoch_end(self, epoch, logs={}):\n",
    "        print(\"\\nFBeta Score = \"+str(statistics.harmonic_mean([logs.get('val_visibility_fbeta_score'), logs.get('val_human_activity_fbeta_score'), logs.get('val_road_water_fbeta_score'), logs.get('val_primary_fbeta_score')])))"
   ]
  },
  {
   "cell_type": "markdown",
   "id": "99007079",
   "metadata": {
    "papermill": {
     "duration": 0.02299,
     "end_time": "2022-06-26T18:28:27.861052",
     "exception": false,
     "start_time": "2022-06-26T18:28:27.838062",
     "status": "completed"
    },
    "tags": []
   },
   "source": [
    "## Model Training"
   ]
  },
  {
   "cell_type": "code",
   "execution_count": 13,
   "id": "c26f770c",
   "metadata": {
    "execution": {
     "iopub.execute_input": "2022-06-26T18:28:27.909232Z",
     "iopub.status.busy": "2022-06-26T18:28:27.909038Z",
     "iopub.status.idle": "2022-06-27T04:33:21.589566Z",
     "shell.execute_reply": "2022-06-27T04:33:21.586440Z"
    },
    "papermill": {
     "duration": 36298.069147,
     "end_time": "2022-06-27T04:33:25.953515",
     "exception": false,
     "start_time": "2022-06-26T18:28:27.884368",
     "status": "completed"
    },
    "tags": []
   },
   "outputs": [
    {
     "name": "stderr",
     "output_type": "stream",
     "text": [
      "2022-06-26 18:28:28.015021: I tensorflow/stream_executor/cuda/cuda_gpu_executor.cc:937] successful NUMA node read from SysFS had negative value (-1), but there must be at least one NUMA node, so returning NUMA node zero\n",
      "2022-06-26 18:28:28.198079: I tensorflow/stream_executor/cuda/cuda_gpu_executor.cc:937] successful NUMA node read from SysFS had negative value (-1), but there must be at least one NUMA node, so returning NUMA node zero\n",
      "2022-06-26 18:28:28.199462: I tensorflow/stream_executor/cuda/cuda_gpu_executor.cc:937] successful NUMA node read from SysFS had negative value (-1), but there must be at least one NUMA node, so returning NUMA node zero\n",
      "2022-06-26 18:28:28.204263: I tensorflow/core/platform/cpu_feature_guard.cc:142] This TensorFlow binary is optimized with oneAPI Deep Neural Network Library (oneDNN) to use the following CPU instructions in performance-critical operations:  AVX2 AVX512F FMA\n",
      "To enable them in other operations, rebuild TensorFlow with the appropriate compiler flags.\n",
      "2022-06-26 18:28:28.204589: I tensorflow/stream_executor/cuda/cuda_gpu_executor.cc:937] successful NUMA node read from SysFS had negative value (-1), but there must be at least one NUMA node, so returning NUMA node zero\n",
      "2022-06-26 18:28:28.205798: I tensorflow/stream_executor/cuda/cuda_gpu_executor.cc:937] successful NUMA node read from SysFS had negative value (-1), but there must be at least one NUMA node, so returning NUMA node zero\n",
      "2022-06-26 18:28:28.206777: I tensorflow/stream_executor/cuda/cuda_gpu_executor.cc:937] successful NUMA node read from SysFS had negative value (-1), but there must be at least one NUMA node, so returning NUMA node zero\n",
      "2022-06-26 18:28:30.382276: I tensorflow/stream_executor/cuda/cuda_gpu_executor.cc:937] successful NUMA node read from SysFS had negative value (-1), but there must be at least one NUMA node, so returning NUMA node zero\n",
      "2022-06-26 18:28:30.383240: I tensorflow/stream_executor/cuda/cuda_gpu_executor.cc:937] successful NUMA node read from SysFS had negative value (-1), but there must be at least one NUMA node, so returning NUMA node zero\n",
      "2022-06-26 18:28:30.384001: I tensorflow/stream_executor/cuda/cuda_gpu_executor.cc:937] successful NUMA node read from SysFS had negative value (-1), but there must be at least one NUMA node, so returning NUMA node zero\n",
      "2022-06-26 18:28:30.385163: I tensorflow/core/common_runtime/gpu/gpu_device.cc:1510] Created device /job:localhost/replica:0/task:0/device:GPU:0 with 15403 MB memory:  -> device: 0, name: Tesla P100-PCIE-16GB, pci bus id: 0000:00:04.0, compute capability: 6.0\n"
     ]
    },
    {
     "name": "stdout",
     "output_type": "stream",
     "text": [
      "Downloading data from https://storage.googleapis.com/tensorflow/keras-applications/resnet/resnet50v2_weights_tf_dim_ordering_tf_kernels_notop.h5\n",
      "94674944/94668760 [==============================] - 0s 0us/step\n",
      "94683136/94668760 [==============================] - 0s 0us/step\n",
      "Downloading data from https://storage.googleapis.com/tensorflow/keras-applications/vgg19/vgg19_weights_tf_dim_ordering_tf_kernels_notop.h5\n",
      "80142336/80134624 [==============================] - 0s 0us/step\n",
      "80150528/80134624 [==============================] - 0s 0us/step\n"
     ]
    },
    {
     "name": "stderr",
     "output_type": "stream",
     "text": [
      "/opt/conda/lib/python3.7/site-packages/keras/optimizer_v2/optimizer_v2.py:356: UserWarning: The `lr` argument is deprecated, use `learning_rate` instead.\n",
      "  \"The `lr` argument is deprecated, use `learning_rate` instead.\")\n",
      "/opt/conda/lib/python3.7/site-packages/keras/engine/training.py:1972: UserWarning: `Model.fit_generator` is deprecated and will be removed in a future version. Please use `Model.fit`, which supports generators.\n",
      "  warnings.warn('`Model.fit_generator` is deprecated and '\n"
     ]
    },
    {
     "name": "stdout",
     "output_type": "stream",
     "text": [
      "Found 32383 validated image filenames.\n",
      "Found 32383 validated image filenames.\n",
      "Found 32383 validated image filenames.\n",
      "Found 32383 validated image filenames.\n",
      "Found 32383 validated image filenames.\n"
     ]
    },
    {
     "name": "stderr",
     "output_type": "stream",
     "text": [
      "2022-06-26 18:29:46.314918: I tensorflow/compiler/mlir/mlir_graph_optimization_pass.cc:185] None of the MLIR Optimization Passes are enabled (registered 2)\n"
     ]
    },
    {
     "name": "stdout",
     "output_type": "stream",
     "text": [
      "Epoch 1/14\n"
     ]
    },
    {
     "name": "stderr",
     "output_type": "stream",
     "text": [
      "2022-06-26 18:29:54.839659: I tensorflow/stream_executor/cuda/cuda_dnn.cc:369] Loaded cuDNN version 8005\n"
     ]
    },
    {
     "name": "stdout",
     "output_type": "stream",
     "text": [
      "1012/1012 [==============================] - ETA: 0s - loss: 0.9751 - visibility_loss: 0.1980 - human_activity_loss: 0.2942 - road_water_loss: 0.3076 - primary_loss: 0.1275 - remaining_loss: 0.0478 - visibility_fbeta_score: 0.8507 - human_activity_fbeta_score: 0.5423 - road_water_fbeta_score: 0.5913 - primary_fbeta_score: 0.9799 - remaining_fbeta_score: 0.0000e+00Found 8096 validated image filenames.\n",
      "Found 8096 validated image filenames.\n",
      "Found 8096 validated image filenames.\n",
      "Found 8096 validated image filenames.\n",
      "Found 8096 validated image filenames.\n",
      "1012/1012 [==============================] - 2758s 3s/step - loss: 0.9751 - visibility_loss: 0.1980 - human_activity_loss: 0.2942 - road_water_loss: 0.3076 - primary_loss: 0.1275 - remaining_loss: 0.0478 - visibility_fbeta_score: 0.8507 - human_activity_fbeta_score: 0.5423 - road_water_fbeta_score: 0.5913 - primary_fbeta_score: 0.9799 - remaining_fbeta_score: 0.0000e+00 - val_loss: 0.7616 - val_visibility_loss: 0.1490 - val_human_activity_loss: 0.2316 - val_road_water_loss: 0.2241 - val_primary_loss: 0.1200 - val_remaining_loss: 0.0370 - val_visibility_fbeta_score: 0.8841 - val_human_activity_fbeta_score: 0.6549 - val_road_water_fbeta_score: 0.7571 - val_primary_fbeta_score: 0.9688 - val_remaining_fbeta_score: 0.0000e+00\n",
      "\n",
      "FBeta Score = 0.7982163369047109\n",
      "\n",
      "Epoch 00001: val_loss improved from inf to 0.76163, saving model to /kaggle/working/ResNet50VGG19.h5\n"
     ]
    },
    {
     "name": "stderr",
     "output_type": "stream",
     "text": [
      "/opt/conda/lib/python3.7/site-packages/keras/utils/generic_utils.py:497: CustomMaskWarning: Custom mask layers require a config and must override get_config. When loading, the custom mask layer must be passed to the custom_objects argument.\n",
      "  category=CustomMaskWarning)\n",
      "2022-06-26 19:15:44.935794: W tensorflow/core/framework/cpu_allocator_impl.cc:80] Allocation of 1342177280 exceeds 10% of free system memory.\n",
      "2022-06-26 19:15:48.882500: W tensorflow/core/framework/cpu_allocator_impl.cc:80] Allocation of 1342177280 exceeds 10% of free system memory.\n",
      "2022-06-26 19:15:50.867994: W tensorflow/core/framework/cpu_allocator_impl.cc:80] Allocation of 1342177280 exceeds 10% of free system memory.\n"
     ]
    },
    {
     "name": "stdout",
     "output_type": "stream",
     "text": [
      "Epoch 2/14\n",
      "1012/1012 [==============================] - 2743s 3s/step - loss: 0.7456 - visibility_loss: 0.1367 - human_activity_loss: 0.2331 - road_water_loss: 0.2372 - primary_loss: 0.1012 - remaining_loss: 0.0374 - visibility_fbeta_score: 0.8996 - human_activity_fbeta_score: 0.6472 - road_water_fbeta_score: 0.6972 - primary_fbeta_score: 0.9828 - remaining_fbeta_score: 0.0252 - val_loss: 0.6499 - val_visibility_loss: 0.1094 - val_human_activity_loss: 0.2134 - val_road_water_loss: 0.2035 - val_primary_loss: 0.0899 - val_remaining_loss: 0.0337 - val_visibility_fbeta_score: 0.9171 - val_human_activity_fbeta_score: 0.7235 - val_road_water_fbeta_score: 0.7818 - val_primary_fbeta_score: 0.9824 - val_remaining_fbeta_score: 0.0896\n",
      "\n",
      "FBeta Score = 0.8386331111726163\n",
      "\n",
      "Epoch 00002: val_loss improved from 0.76163 to 0.64987, saving model to /kaggle/working/ResNet50VGG19.h5\n"
     ]
    },
    {
     "name": "stderr",
     "output_type": "stream",
     "text": [
      "2022-06-26 20:01:46.758512: W tensorflow/core/framework/cpu_allocator_impl.cc:80] Allocation of 1342177280 exceeds 10% of free system memory.\n",
      "2022-06-26 20:01:50.554969: W tensorflow/core/framework/cpu_allocator_impl.cc:80] Allocation of 1342177280 exceeds 10% of free system memory.\n"
     ]
    },
    {
     "name": "stdout",
     "output_type": "stream",
     "text": [
      "Epoch 3/14\n",
      "1012/1012 [==============================] - 2748s 3s/step - loss: 0.7042 - visibility_loss: 0.1268 - human_activity_loss: 0.2220 - road_water_loss: 0.2262 - primary_loss: 0.0943 - remaining_loss: 0.0349 - visibility_fbeta_score: 0.9065 - human_activity_fbeta_score: 0.6685 - road_water_fbeta_score: 0.7162 - primary_fbeta_score: 0.9836 - remaining_fbeta_score: 0.0786 - val_loss: 0.6237 - val_visibility_loss: 0.1114 - val_human_activity_loss: 0.2040 - val_road_water_loss: 0.1909 - val_primary_loss: 0.0830 - val_remaining_loss: 0.0344 - val_visibility_fbeta_score: 0.9160 - val_human_activity_fbeta_score: 0.7356 - val_road_water_fbeta_score: 0.7690 - val_primary_fbeta_score: 0.9863 - val_remaining_fbeta_score: 0.1351\n",
      "\n",
      "FBeta Score = 0.8393615617491693\n",
      "\n",
      "Epoch 00003: val_loss improved from 0.64987 to 0.62373, saving model to /kaggle/working/ResNet50VGG19.h5\n",
      "Epoch 4/14\n",
      "1012/1012 [==============================] - 2795s 3s/step - loss: 0.6821 - visibility_loss: 0.1218 - human_activity_loss: 0.2158 - road_water_loss: 0.2202 - primary_loss: 0.0907 - remaining_loss: 0.0336 - visibility_fbeta_score: 0.9090 - human_activity_fbeta_score: 0.6828 - road_water_fbeta_score: 0.7248 - primary_fbeta_score: 0.9839 - remaining_fbeta_score: 0.1007 - val_loss: 0.6333 - val_visibility_loss: 0.1093 - val_human_activity_loss: 0.2008 - val_road_water_loss: 0.2032 - val_primary_loss: 0.0879 - val_remaining_loss: 0.0322 - val_visibility_fbeta_score: 0.9207 - val_human_activity_fbeta_score: 0.7441 - val_road_water_fbeta_score: 0.8093 - val_primary_fbeta_score: 0.9820 - val_remaining_fbeta_score: 0.1301\n",
      "\n",
      "FBeta Score = 0.853982916565769\n",
      "\n",
      "Epoch 00004: ReduceLROnPlateau reducing learning rate to 2.9999999242136255e-05.\n",
      "\n",
      "Epoch 00004: val_loss did not improve from 0.62373\n",
      "Epoch 5/14\n",
      "1012/1012 [==============================] - 2742s 3s/step - loss: 0.6100 - visibility_loss: 0.1045 - human_activity_loss: 0.1997 - road_water_loss: 0.1986 - primary_loss: 0.0769 - remaining_loss: 0.0304 - visibility_fbeta_score: 0.9219 - human_activity_fbeta_score: 0.7096 - road_water_fbeta_score: 0.7526 - primary_fbeta_score: 0.9861 - remaining_fbeta_score: 0.1407 - val_loss: 0.5876 - val_visibility_loss: 0.1054 - val_human_activity_loss: 0.1949 - val_road_water_loss: 0.1745 - val_primary_loss: 0.0822 - val_remaining_loss: 0.0306 - val_visibility_fbeta_score: 0.9190 - val_human_activity_fbeta_score: 0.7626 - val_road_water_fbeta_score: 0.8073 - val_primary_fbeta_score: 0.9807 - val_remaining_fbeta_score: 0.2650\n",
      "\n",
      "FBeta Score = 0.8587734490174574\n",
      "\n",
      "Epoch 00005: val_loss improved from 0.62373 to 0.58758, saving model to /kaggle/working/ResNet50VGG19.h5\n",
      "Epoch 6/14\n",
      "1012/1012 [==============================] - 2777s 3s/step - loss: 0.5933 - visibility_loss: 0.1019 - human_activity_loss: 0.1955 - road_water_loss: 0.1922 - primary_loss: 0.0741 - remaining_loss: 0.0295 - visibility_fbeta_score: 0.9229 - human_activity_fbeta_score: 0.7131 - road_water_fbeta_score: 0.7603 - primary_fbeta_score: 0.9862 - remaining_fbeta_score: 0.1654 - val_loss: 0.5632 - val_visibility_loss: 0.0950 - val_human_activity_loss: 0.1880 - val_road_water_loss: 0.1735 - val_primary_loss: 0.0778 - val_remaining_loss: 0.0290 - val_visibility_fbeta_score: 0.9274 - val_human_activity_fbeta_score: 0.7630 - val_road_water_fbeta_score: 0.8060 - val_primary_fbeta_score: 0.9845 - val_remaining_fbeta_score: 0.2550\n",
      "\n",
      "FBeta Score = 0.8610433375792029\n",
      "\n",
      "Epoch 00006: val_loss improved from 0.58758 to 0.56323, saving model to /kaggle/working/ResNet50VGG19.h5\n",
      "Epoch 7/14\n",
      "1012/1012 [==============================] - 2828s 3s/step - loss: 0.5804 - visibility_loss: 0.1002 - human_activity_loss: 0.1928 - road_water_loss: 0.1870 - primary_loss: 0.0716 - remaining_loss: 0.0288 - visibility_fbeta_score: 0.9245 - human_activity_fbeta_score: 0.7196 - road_water_fbeta_score: 0.7687 - primary_fbeta_score: 0.9860 - remaining_fbeta_score: 0.1759 - val_loss: 0.5679 - val_visibility_loss: 0.0987 - val_human_activity_loss: 0.1906 - val_road_water_loss: 0.1729 - val_primary_loss: 0.0766 - val_remaining_loss: 0.0291 - val_visibility_fbeta_score: 0.9261 - val_human_activity_fbeta_score: 0.7657 - val_road_water_fbeta_score: 0.8156 - val_primary_fbeta_score: 0.9863 - val_remaining_fbeta_score: 0.2821\n",
      "\n",
      "FBeta Score = 0.8647092870018609\n",
      "\n",
      "Epoch 00007: ReduceLROnPlateau reducing learning rate to 8.999999772640877e-06.\n",
      "\n",
      "Epoch 00007: val_loss did not improve from 0.56323\n",
      "Epoch 8/14\n",
      "1012/1012 [==============================] - 2780s 3s/step - loss: 0.5501 - visibility_loss: 0.0926 - human_activity_loss: 0.1868 - road_water_loss: 0.1779 - primary_loss: 0.0651 - remaining_loss: 0.0278 - visibility_fbeta_score: 0.9305 - human_activity_fbeta_score: 0.7302 - road_water_fbeta_score: 0.7808 - primary_fbeta_score: 0.9870 - remaining_fbeta_score: 0.1950 - val_loss: 0.5551 - val_visibility_loss: 0.0939 - val_human_activity_loss: 0.1846 - val_road_water_loss: 0.1685 - val_primary_loss: 0.0799 - val_remaining_loss: 0.0282 - val_visibility_fbeta_score: 0.9305 - val_human_activity_fbeta_score: 0.7668 - val_road_water_fbeta_score: 0.8198 - val_primary_fbeta_score: 0.9879 - val_remaining_fbeta_score: 0.2881\n",
      "\n",
      "FBeta Score = 0.8674997974755808\n",
      "\n",
      "Epoch 00008: val_loss improved from 0.56323 to 0.55510, saving model to /kaggle/working/ResNet50VGG19.h5\n",
      "Epoch 9/14\n",
      "1012/1012 [==============================] - 2828s 3s/step - loss: 0.5394 - visibility_loss: 0.0894 - human_activity_loss: 0.1845 - road_water_loss: 0.1748 - primary_loss: 0.0633 - remaining_loss: 0.0275 - visibility_fbeta_score: 0.9327 - human_activity_fbeta_score: 0.7338 - road_water_fbeta_score: 0.7834 - primary_fbeta_score: 0.9874 - remaining_fbeta_score: 0.2038 - val_loss: 0.5551 - val_visibility_loss: 0.0944 - val_human_activity_loss: 0.1848 - val_road_water_loss: 0.1675 - val_primary_loss: 0.0801 - val_remaining_loss: 0.0283 - val_visibility_fbeta_score: 0.9318 - val_human_activity_fbeta_score: 0.7656 - val_road_water_fbeta_score: 0.8249 - val_primary_fbeta_score: 0.9883 - val_remaining_fbeta_score: 0.2958\n",
      "\n",
      "FBeta Score = 0.8689122718436267\n",
      "\n",
      "Epoch 00009: ReduceLROnPlateau reducing learning rate to 2.6999998226528985e-06.\n",
      "\n",
      "Epoch 00009: val_loss improved from 0.55510 to 0.55508, saving model to /kaggle/working/ResNet50VGG19.h5\n",
      "Epoch 10/14\n",
      "1012/1012 [==============================] - 2764s 3s/step - loss: 0.5258 - visibility_loss: 0.0856 - human_activity_loss: 0.1803 - road_water_loss: 0.1726 - primary_loss: 0.0604 - remaining_loss: 0.0269 - visibility_fbeta_score: 0.9349 - human_activity_fbeta_score: 0.7353 - road_water_fbeta_score: 0.7907 - primary_fbeta_score: 0.9880 - remaining_fbeta_score: 0.2042 - val_loss: 0.5550 - val_visibility_loss: 0.0949 - val_human_activity_loss: 0.1836 - val_road_water_loss: 0.1670 - val_primary_loss: 0.0813 - val_remaining_loss: 0.0282 - val_visibility_fbeta_score: 0.9295 - val_human_activity_fbeta_score: 0.7658 - val_road_water_fbeta_score: 0.8217 - val_primary_fbeta_score: 0.9868 - val_remaining_fbeta_score: 0.2995\n",
      "\n",
      "FBeta Score = 0.8672996999066865\n",
      "\n",
      "Epoch 00010: val_loss improved from 0.55508 to 0.55496, saving model to /kaggle/working/ResNet50VGG19.h5\n",
      "Epoch 11/14\n",
      "1012/1012 [==============================] - 2776s 3s/step - loss: 0.5254 - visibility_loss: 0.0878 - human_activity_loss: 0.1799 - road_water_loss: 0.1706 - primary_loss: 0.0603 - remaining_loss: 0.0268 - visibility_fbeta_score: 0.9334 - human_activity_fbeta_score: 0.7380 - road_water_fbeta_score: 0.7921 - primary_fbeta_score: 0.9879 - remaining_fbeta_score: 0.2056 - val_loss: 0.5560 - val_visibility_loss: 0.0953 - val_human_activity_loss: 0.1833 - val_road_water_loss: 0.1666 - val_primary_loss: 0.0827 - val_remaining_loss: 0.0281 - val_visibility_fbeta_score: 0.9298 - val_human_activity_fbeta_score: 0.7627 - val_road_water_fbeta_score: 0.8220 - val_primary_fbeta_score: 0.9873 - val_remaining_fbeta_score: 0.3086\n",
      "\n",
      "FBeta Score = 0.8665491122391176\n",
      "\n",
      "Epoch 00011: ReduceLROnPlateau reducing learning rate to 8.099999604382901e-07.\n",
      "\n",
      "Epoch 00011: val_loss did not improve from 0.55496\n",
      "Epoch 12/14\n",
      "1012/1012 [==============================] - 2763s 3s/step - loss: 0.5234 - visibility_loss: 0.0865 - human_activity_loss: 0.1808 - road_water_loss: 0.1710 - primary_loss: 0.0586 - remaining_loss: 0.0265 - visibility_fbeta_score: 0.9347 - human_activity_fbeta_score: 0.7388 - road_water_fbeta_score: 0.7923 - primary_fbeta_score: 0.9884 - remaining_fbeta_score: 0.2174 - val_loss: 0.5564 - val_visibility_loss: 0.0945 - val_human_activity_loss: 0.1831 - val_road_water_loss: 0.1678 - val_primary_loss: 0.0827 - val_remaining_loss: 0.0282 - val_visibility_fbeta_score: 0.9307 - val_human_activity_fbeta_score: 0.7624 - val_road_water_fbeta_score: 0.8225 - val_primary_fbeta_score: 0.9868 - val_remaining_fbeta_score: 0.3025\n",
      "\n",
      "FBeta Score = 0.8666854170740521\n",
      "\n",
      "Epoch 00012: ReduceLROnPlateau reducing learning rate to 2.4299998813148704e-07.\n",
      "\n",
      "Epoch 00012: val_loss did not improve from 0.55496\n",
      "Epoch 13/14\n",
      "1012/1012 [==============================] - 2758s 3s/step - loss: 0.5185 - visibility_loss: 0.0849 - human_activity_loss: 0.1798 - road_water_loss: 0.1691 - primary_loss: 0.0579 - remaining_loss: 0.0268 - visibility_fbeta_score: 0.9362 - human_activity_fbeta_score: 0.7359 - road_water_fbeta_score: 0.7905 - primary_fbeta_score: 0.9881 - remaining_fbeta_score: 0.2128 - val_loss: 0.5565 - val_visibility_loss: 0.0949 - val_human_activity_loss: 0.1830 - val_road_water_loss: 0.1676 - val_primary_loss: 0.0828 - val_remaining_loss: 0.0282 - val_visibility_fbeta_score: 0.9305 - val_human_activity_fbeta_score: 0.7605 - val_road_water_fbeta_score: 0.8228 - val_primary_fbeta_score: 0.9868 - val_remaining_fbeta_score: 0.3062\n",
      "\n",
      "FBeta Score = 0.8661269966478625\n",
      "\n",
      "Epoch 00013: ReduceLROnPlateau reducing learning rate to 1e-07.\n",
      "\n",
      "Epoch 00013: val_loss did not improve from 0.55496\n",
      "Epoch 00013: early stopping\n"
     ]
    }
   ],
   "source": [
    "from keras.callbacks import ModelCheckpoint, EarlyStopping, ReduceLROnPlateau, History\n",
    "\n",
    "model = create_model()\n",
    "BATCH_SIZE = 32\n",
    "\n",
    "callbacks = [History(),\n",
    "            myCallback(),\n",
    "            EarlyStopping(monitor='val_loss', patience=3, verbose=1, min_delta=1e-4, restore_best_weights=False),\n",
    "            ReduceLROnPlateau(monitor='val_loss', factor=0.3, patience=1, cooldown=0, min_lr=1e-7, verbose=1),\n",
    "            ModelCheckpoint(filepath='/kaggle/working/ResNet50VGG19.h5', monitor=\"val_loss\", verbose=1, save_best_only=True, save_weights_only=False, mode='auto')]\n",
    "\n",
    "model_history = model.fit_generator(train_generator,\n",
    "                    steps_per_epoch = math.ceil(df_TrainData['filename'].count()/BATCH_SIZE),\n",
    "                    epochs=14,\n",
    "                    verbose=1,\n",
    "                    validation_data=validation_generator,\n",
    "                    validation_steps = math.ceil(df_ValData['filename'].count()/BATCH_SIZE),\n",
    "                    callbacks=callbacks\n",
    "                   )\n",
    "\n",
    "history = model_history.history"
   ]
  },
  {
   "cell_type": "markdown",
   "id": "e2815ce4",
   "metadata": {
    "papermill": {
     "duration": 4.289001,
     "end_time": "2022-06-27T04:33:34.792323",
     "exception": false,
     "start_time": "2022-06-27T04:33:30.503322",
     "status": "completed"
    },
    "tags": []
   },
   "source": [
    "## Save/Load Keras Model and History"
   ]
  },
  {
   "cell_type": "code",
   "execution_count": 14,
   "id": "564e1f4c",
   "metadata": {
    "execution": {
     "iopub.execute_input": "2022-06-27T04:33:43.716717Z",
     "iopub.status.busy": "2022-06-27T04:33:43.714216Z",
     "iopub.status.idle": "2022-06-27T04:33:43.722084Z",
     "shell.execute_reply": "2022-06-27T04:33:43.721379Z"
    },
    "papermill": {
     "duration": 4.40363,
     "end_time": "2022-06-27T04:33:43.723758",
     "exception": false,
     "start_time": "2022-06-27T04:33:39.320128",
     "status": "completed"
    },
    "tags": []
   },
   "outputs": [],
   "source": [
    "# Save\n",
    "import pickle\n",
    "from keras.models import load_model\n",
    "with open(\"/kaggle/working/ResNet50VGG19.pkl\", 'wb') as f:\n",
    "    pickle.dump(history, f)\n",
    "# model.save(\"/kaggle/working/ResNet50VGG19_EndTrain.h5\")"
   ]
  },
  {
   "cell_type": "code",
   "execution_count": 15,
   "id": "6197e83c",
   "metadata": {
    "execution": {
     "iopub.execute_input": "2022-06-27T04:33:53.092455Z",
     "iopub.status.busy": "2022-06-27T04:33:53.091879Z",
     "iopub.status.idle": "2022-06-27T04:33:53.095415Z",
     "shell.execute_reply": "2022-06-27T04:33:53.094675Z"
    },
    "papermill": {
     "duration": 5.059959,
     "end_time": "2022-06-27T04:33:53.097038",
     "exception": false,
     "start_time": "2022-06-27T04:33:48.037079",
     "status": "completed"
    },
    "tags": []
   },
   "outputs": [],
   "source": [
    "# # Load\n",
    "# from tensorflow import keras\n",
    "# import pickle\n",
    "# model = keras.models.load_model(\"/kaggle/working/InceptionV3_Untrainable_V2.h5\")\n",
    "# with open(\"/kaggle/working/InceptionV3_Untrainable_V2.pkl\", 'rb') as f:\n",
    "#     history = pickle.load(f)"
   ]
  },
  {
   "cell_type": "markdown",
   "id": "f1a4746f",
   "metadata": {
    "papermill": {
     "duration": 4.580593,
     "end_time": "2022-06-27T04:34:01.938284",
     "exception": false,
     "start_time": "2022-06-27T04:33:57.357691",
     "status": "completed"
    },
    "tags": []
   },
   "source": [
    "## Plot History"
   ]
  },
  {
   "cell_type": "code",
   "execution_count": 16,
   "id": "cb597ec1",
   "metadata": {
    "execution": {
     "iopub.execute_input": "2022-06-27T04:34:10.418204Z",
     "iopub.status.busy": "2022-06-27T04:34:10.417881Z",
     "iopub.status.idle": "2022-06-27T04:34:10.919755Z",
     "shell.execute_reply": "2022-06-27T04:34:10.918958Z"
    },
    "papermill": {
     "duration": 4.719554,
     "end_time": "2022-06-27T04:34:10.922202",
     "exception": false,
     "start_time": "2022-06-27T04:34:06.202648",
     "status": "completed"
    },
    "tags": []
   },
   "outputs": [
    {
     "data": {
      "image/png": "[encoded data removed]",
      "text/plain": [
       "<Figure size 432x288 with 1 Axes>"
      ]
     },
     "metadata": {
      "needs_background": "light"
     },
     "output_type": "display_data"
    },
    {
     "data": {
      "image/png": "[encoded data removed]",
      "text/plain": [
       "<Figure size 432x288 with 1 Axes>"
      ]
     },
     "metadata": {
      "needs_background": "light"
     },
     "output_type": "display_data"
    }
   ],
   "source": [
    "#-----------------------------------------------------------\n",
    "# Retrieve a list of list results on training and test data\n",
    "# sets for each training epoch\n",
    "#-----------------------------------------------------------\n",
    "loss=history['loss']\n",
    "val_loss=history['val_loss']\n",
    "\n",
    "epochs=np.array(range(len(loss)))+1 # Get number of epochs\n",
    "\n",
    "#------------------------------------------------\n",
    "# Plot training and validation loss per epoch\n",
    "#------------------------------------------------\n",
    "plt.plot(epochs, loss, label=\"Training Loss\")\n",
    "plt.plot(epochs, val_loss, label=\"Validation Loss\")\n",
    "plt.title('Training and validation Loss')\n",
    "plt.xlim([0, 15])\n",
    "plt.legend(loc='center left', bbox_to_anchor=(1, 0.5))\n",
    "plt.show()\n",
    "\n",
    "#------------------------------------------------\n",
    "# Plot training and validation F Scores per epoch\n",
    "#------------------------------------------------\n",
    "plt.plot(epochs, history['visibility_fbeta_score'], label=\"Visibility - Train\")\n",
    "plt.plot(epochs, history['val_visibility_fbeta_score'], label=\"Visibility - Validation\")\n",
    "plt.plot(epochs, history['human_activity_fbeta_score'], label=\"Human Activity  - Train\")\n",
    "plt.plot(epochs, history['val_human_activity_fbeta_score'], label=\"Human Activity  - Validation\")\n",
    "plt.plot(epochs, history['road_water_fbeta_score'], label=\"Road-Water - Train\")\n",
    "plt.plot(epochs, history['val_road_water_fbeta_score'], label=\"Road-Water - Validation\")\n",
    "plt.plot(epochs, history['primary_fbeta_score'], label=\"Primary - Train\")\n",
    "plt.plot(epochs, history['val_primary_fbeta_score'], label=\"Primary - Validation\")\n",
    "plt.plot(epochs, history['remaining_fbeta_score'], label=\"Remaining - Train\")\n",
    "plt.plot(epochs, history['val_remaining_fbeta_score'], label=\"Remaining - Validation\")\n",
    "plt.title('F-Beta Score')\n",
    "plt.xlim([0, 15])\n",
    "plt.legend(loc='center left', bbox_to_anchor=(1, 0.5))\n",
    "plt.show()"
   ]
  },
  {
   "cell_type": "markdown",
   "id": "ce3d4d15",
   "metadata": {
    "papermill": {
     "duration": 4.322226,
     "end_time": "2022-06-27T04:34:19.803076",
     "exception": false,
     "start_time": "2022-06-27T04:34:15.480850",
     "status": "completed"
    },
    "tags": []
   },
   "source": [
    "# Threshold optimization and Submission"
   ]
  },
  {
   "cell_type": "code",
   "execution_count": 17,
   "id": "79bbfd7b",
   "metadata": {
    "execution": {
     "iopub.execute_input": "2022-06-27T04:34:29.160522Z",
     "iopub.status.busy": "2022-06-27T04:34:29.160232Z",
     "iopub.status.idle": "2022-06-27T04:34:29.943681Z",
     "shell.execute_reply": "2022-06-27T04:34:29.942861Z"
    },
    "papermill": {
     "duration": 5.554099,
     "end_time": "2022-06-27T04:34:29.946109",
     "exception": false,
     "start_time": "2022-06-27T04:34:24.392010",
     "status": "completed"
    },
    "tags": []
   },
   "outputs": [],
   "source": [
    "import matplotlib.image as mpimg\n",
    "from IPython.display import clear_output\n",
    "\n",
    "import sklearn\n",
    "from sklearn import metrics\n",
    "import scipy\n",
    "\n",
    "\n",
    "def GetOneHotFromPrediction(predictions):\n",
    "    OneHotPred = np.zeros((len(predictions[0]), 17))\n",
    "    for i in range(len(predictions[0])):\n",
    "        OneHotPred[i][0] = predictions[1][i][0]     #agriculture\n",
    "        OneHotPred[i][1] = predictions[4][i][0]     #artisinal_mine\n",
    "        OneHotPred[i][2] = predictions[4][i][1]     #bare_ground\n",
    "        OneHotPred[i][3] = predictions[4][i][2]     #blooming\n",
    "        OneHotPred[i][4] = predictions[4][i][3]     #blow_down\n",
    "        OneHotPred[i][5] = predictions[0][i][0]     #clear\n",
    "        OneHotPred[i][6] = predictions[0][i][3]     #cloudy\n",
    "        OneHotPred[i][7] = predictions[4][i][4]     #conventional_mine\n",
    "        OneHotPred[i][8] = predictions[1][i][1]     #cultivation\n",
    "        OneHotPred[i][9] = predictions[1][i][2]     #habitation\n",
    "        OneHotPred[i][10] = predictions[0][i][1]    #haze\n",
    "        OneHotPred[i][11] = predictions[0][i][2]    #partly_cloudy\n",
    "        OneHotPred[i][12] = predictions[3][i][0]    #primary\n",
    "        OneHotPred[i][13] = predictions[2][i][0]    #road\n",
    "        OneHotPred[i][14] = predictions[4][i][5]    #selective_logging\n",
    "        OneHotPred[i][15] = predictions[4][i][6]    #slash_burn\n",
    "        OneHotPred[i][16] = predictions[2][i][1]    #water\n",
    "    return OneHotPred\n",
    "\n",
    "\n",
    "def GetFScore(threshold):\n",
    "    T_Val1 = np.zeros(True_Val1.shape)\n",
    "    T_Val2 = np.zeros(True_Val2.shape)\n",
    "    for i, row in enumerate(True_Val1):\n",
    "        for j, element in enumerate(row):\n",
    "            if(Pred_Val1[i][j] > threshold[j]):\n",
    "                T_Val1[i][j]=1\n",
    "            else:\n",
    "                T_Val1[i][j]=0\n",
    "    for i, row in enumerate(True_Val2):\n",
    "        for j, element in enumerate(row):\n",
    "            if(Pred_Val2[i][j] > threshold[j]):\n",
    "                T_Val2[i][j]=1\n",
    "            else:\n",
    "                T_Val2[i][j]=0\n",
    "    Fscore1 = sklearn.metrics.fbeta_score(y_true=True_Val1, y_pred=T_Val1, beta=2, average='micro')\n",
    "    Fscore2 = sklearn.metrics.fbeta_score(y_true=True_Val2, y_pred=T_Val2, beta=2, average='micro')\n",
    "    return ((Fscore1+Fscore2)/2.0)\n",
    "\n",
    "\n",
    "def InsertLabels_Dataframe(df_Submission, predicted, threshold):\n",
    "    for i, ModelOutput in enumerate(predicted):\n",
    "        label = \"\"\n",
    "        if(ModelOutput[0] > threshold[0]):\n",
    "            label = label + \" agriculture\"\n",
    "        if(ModelOutput[1] > threshold[1]):\n",
    "            label = label + \" artisinal_mine\"\n",
    "        if(ModelOutput[2] > threshold[2]):\n",
    "            label = label + \" bare_ground\"\n",
    "        if(ModelOutput[3] > threshold[3]):\n",
    "            label = label + \" blooming\"\n",
    "        if(ModelOutput[4] > threshold[4]):\n",
    "            label = label + \" blow_down\"\n",
    "        if(ModelOutput[5] > threshold[5]):\n",
    "            label = label + \" clear\"\n",
    "        if(ModelOutput[6] > threshold[6]):\n",
    "            label = label + \" cloudy\"\n",
    "        if(ModelOutput[7] > threshold[7]):\n",
    "            label = label + \" conventional_mine\"\n",
    "        if(ModelOutput[8] > threshold[8]):\n",
    "            label = label + \" cultivation\"\n",
    "        if(ModelOutput[9] > threshold[9]):\n",
    "            label = label + \" habitation\"\n",
    "        if(ModelOutput[10] > threshold[10]):\n",
    "            label = label + \" haze\"\n",
    "        if(ModelOutput[11] > threshold[11]):\n",
    "            label = label + \" partly_cloudy\"\n",
    "        if(ModelOutput[12] > threshold[12]):\n",
    "            label = label + \" primary\"\n",
    "        if(ModelOutput[13] > threshold[13]):\n",
    "            label = label + \" road\"\n",
    "        if(ModelOutput[14] > threshold[14]):\n",
    "            label = label + \" selective_logging\"\n",
    "        if(ModelOutput[15] > threshold[15]):\n",
    "            label = label + \" slash_burn\"\n",
    "        if(ModelOutput[16] > threshold[16]):\n",
    "            label = label + \" water\"\n",
    "        df_Submission['tags'][i] = label"
   ]
  },
  {
   "cell_type": "code",
   "execution_count": 18,
   "id": "8f86abd5",
   "metadata": {
    "execution": {
     "iopub.execute_input": "2022-06-27T04:34:38.669308Z",
     "iopub.status.busy": "2022-06-27T04:34:38.669047Z",
     "iopub.status.idle": "2022-06-27T04:38:59.457695Z",
     "shell.execute_reply": "2022-06-27T04:38:59.456175Z"
    },
    "papermill": {
     "duration": 265.216197,
     "end_time": "2022-06-27T04:38:59.459598",
     "exception": false,
     "start_time": "2022-06-27T04:34:34.243401",
     "status": "completed"
    },
    "tags": []
   },
   "outputs": [
    {
     "name": "stdout",
     "output_type": "stream",
     "text": [
      "Found 20240 validated image filenames.\n",
      "Found 20239 validated image filenames.\n",
      "633/633 [==============================] - 98s 153ms/step\n",
      "633/633 [==============================] - 97s 153ms/step\n",
      "0.9015872236568696\n"
     ]
    }
   ],
   "source": [
    "FolderPath = '../input/amazon-satellite/raw-data/train-jpg'\n",
    "df_Raw = pd.read_csv('../input/amazon-satellite/raw-data/train_v2.csv')\n",
    "\n",
    "df_Dataset = pd.DataFrame(Get_LabelEncodedArray(df_Raw.tags, LabelList), columns=LabelList)\n",
    "df_Dataset['filename'] = df_Raw.image_name.to_list()\n",
    "df_Dataset['filename'] = df_Dataset['filename']+'.jpg'\n",
    "df_Dataset = df_Dataset.loc[: , ['filename']+LabelList]\n",
    "\n",
    "df_Val1, df_Val2 = SplitData(df_Dataset, Ratio=0.5)\n",
    "\n",
    "Val1_datagen = ImageDataGenerator(rescale=1.0/255.0)\n",
    "Val1_generator = Val1_datagen.flow_from_dataframe(dataframe=df_Val1,\n",
    "                                                                directory=FolderPath,\n",
    "                                                                x_col=df_Val1.columns[0],\n",
    "                                                                y_col=df_Val1.columns[1:len(df_Val1.columns)],\n",
    "                                                                batch_size=32,\n",
    "                                                                class_mode='raw',\n",
    "                                                                shuffle=False,\n",
    "                                                                target_size=(256, 256))\n",
    "\n",
    "Val2_datagen = ImageDataGenerator(rescale=1.0/255.0)\n",
    "Val2_generator = Val2_datagen.flow_from_dataframe(dataframe=df_Val2,\n",
    "                                                                directory=FolderPath,\n",
    "                                                                x_col=df_Val2.columns[0],\n",
    "                                                                y_col=df_Val2.columns[1:len(df_Val2.columns)],\n",
    "                                                                batch_size=32,\n",
    "                                                                class_mode='raw',\n",
    "                                                                shuffle=False,\n",
    "                                                                target_size=(256, 256))\n",
    "\n",
    "True_Val1 = np.array(df_Val1.loc[: , LabelList])\n",
    "True_Val2 = np.array(df_Val2.loc[: , LabelList])\n",
    "\n",
    "Pred_Val1 = GetOneHotFromPrediction(model.predict(Val1_generator, verbose=1))\n",
    "Pred_Val2 = GetOneHotFromPrediction(model.predict(Val2_generator, verbose=1))\n",
    "\n",
    "initial_threshold = np.ones(17)*0.5\n",
    "print(GetFScore(initial_threshold))\n",
    "\n",
    "# Threshold optimization\n",
    "# lw = [0.0]*17\n",
    "# up = [1.0]*17\n",
    "# ret = scipy.optimize.dual_annealing(lambda x: -GetFScore(x), bounds=list(zip(lw, up)))\n",
    "# optimized_threshold = ret.x\n",
    "# optimized_fscore = -ret.fun\n",
    "# print(optimized_threshold)\n",
    "# print(optimized_fscore)\n",
    "optimized_threshold = initial_threshold"
   ]
  },
  {
   "cell_type": "code",
   "execution_count": 19,
   "id": "aa1d720d",
   "metadata": {
    "execution": {
     "iopub.execute_input": "2022-06-27T04:39:08.908725Z",
     "iopub.status.busy": "2022-06-27T04:39:08.908461Z",
     "iopub.status.idle": "2022-06-27T04:48:28.503061Z",
     "shell.execute_reply": "2022-06-27T04:48:28.502353Z"
    },
    "papermill": {
     "duration": 564.370887,
     "end_time": "2022-06-27T04:48:28.504923",
     "exception": false,
     "start_time": "2022-06-27T04:39:04.134036",
     "status": "completed"
    },
    "tags": []
   },
   "outputs": [
    {
     "name": "stdout",
     "output_type": "stream",
     "text": [
      "Found 61191 validated image filenames.\n",
      "1913/1913 [==============================] - 415s 216ms/step\n"
     ]
    },
    {
     "name": "stderr",
     "output_type": "stream",
     "text": [
      "/opt/conda/lib/python3.7/site-packages/ipykernel_launcher.py:19: FutureWarning: The default value of regex will change from True to False in a future version.\n"
     ]
    }
   ],
   "source": [
    "df_Submission = pd.read_csv('../input/amazon-satellite/raw-data/sample_submission_v2/sample_submission_v2.csv')\n",
    "df_Submission['image_name'] = df_Submission['image_name'] + '.jpg'\n",
    "Test_FolderPath = '../input/amazon-satellite/raw-data/test-jpg'\n",
    "\n",
    "validation_datagen = ImageDataGenerator(rescale=1.0/255.0)\n",
    "validation_generator = validation_datagen.flow_from_dataframe(dataframe=df_Submission,\n",
    "                                                                directory=Test_FolderPath,\n",
    "                                                                x_col=df_Submission.columns[0],\n",
    "                                                                y_col=df_Submission.columns[1:len(df_Submission.columns)],\n",
    "                                                                batch_size=32,\n",
    "                                                                class_mode='raw',\n",
    "                                                                shuffle=False,\n",
    "                                                                target_size=(256, 256))\n",
    "\n",
    "Raw_Predictions = model.predict(validation_generator, verbose=1)\n",
    "OneHot_Predictions = GetOneHotFromPrediction(Raw_Predictions)\n",
    "InsertLabels_Dataframe(df_Submission, OneHot_Predictions, threshold=optimized_threshold)\n",
    "\n",
    "df_Submission['image_name'] = df_Submission['image_name'].str.replace('.jpg', '')\n",
    "df_Submission.to_csv('/kaggle/working/submission.csv', index=None)"
   ]
  }
 ],
 "metadata": {
  "kernelspec": {
   "display_name": "Python 3",
   "language": "python",
   "name": "python3"
  },
  "language_info": {
   "codemirror_mode": {
    "name": "ipython",
    "version": 3
   },
   "file_extension": ".py",
   "mimetype": "text/x-python",
   "name": "python",
   "nbconvert_exporter": "python",
   "pygments_lexer": "ipython3",
   "version": "3.7.12"
  },
  "papermill": {
   "default_parameters": {},
   "duration": 37229.287035,
   "end_time": "2022-06-27T04:48:37.122352",
   "environment_variables": {},
   "exception": null,
   "input_path": "__notebook__.ipynb",
   "output_path": "__notebook__.ipynb",
   "parameters": {},
   "start_time": "2022-06-26T18:28:07.835317",
   "version": "2.3.4"
  }
 },
 "nbformat": 4,
 "nbformat_minor": 5
}
