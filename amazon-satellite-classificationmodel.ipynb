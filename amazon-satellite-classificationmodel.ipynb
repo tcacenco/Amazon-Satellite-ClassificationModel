{
 "cells": [
  {
   "cell_type": "code",
   "execution_count": 1,
   "id": "4b7c2c61",
   "metadata": {
    "execution": {
     "iopub.execute_input": "2022-05-26T19:17:00.352923Z",
     "iopub.status.busy": "2022-05-26T19:17:00.352255Z",
     "iopub.status.idle": "2022-05-26T19:17:08.733959Z",
     "shell.execute_reply": "2022-05-26T19:17:08.732644Z"
    },
    "papermill": {
     "duration": 8.414482,
     "end_time": "2022-05-26T19:17:08.741094",
     "exception": false,
     "start_time": "2022-05-26T19:17:00.326612",
     "status": "completed"
    },
    "tags": []
   },
   "outputs": [
    {
     "name": "stderr",
     "output_type": "stream",
     "text": [
      "2022-05-26 19:17:06.224439: I tensorflow/core/platform/cpu_feature_guard.cc:142] This TensorFlow binary is optimized with oneAPI Deep Neural Network Library (oneDNN) to use the following CPU instructions in performance-critical operations:  AVX2 AVX512F FMA\n",
      "To enable them in other operations, rebuild TensorFlow with the appropriate compiler flags.\n"
     ]
    },
    {
     "data": {
      "text/plain": [
       "[PhysicalDevice(name='/physical_device:GPU:0', device_type='GPU')]"
      ]
     },
     "execution_count": 1,
     "metadata": {},
     "output_type": "execute_result"
    },
    {
     "name": "stderr",
     "output_type": "stream",
     "text": [
      "2022-05-26 19:17:06.279822: I tensorflow/stream_executor/cuda/cuda_gpu_executor.cc:937] successful NUMA node read from SysFS had negative value (-1), but there must be at least one NUMA node, so returning NUMA node zero\n",
      "2022-05-26 19:17:06.379732: I tensorflow/stream_executor/cuda/cuda_gpu_executor.cc:937] successful NUMA node read from SysFS had negative value (-1), but there must be at least one NUMA node, so returning NUMA node zero\n",
      "2022-05-26 19:17:06.380514: I tensorflow/stream_executor/cuda/cuda_gpu_executor.cc:937] successful NUMA node read from SysFS had negative value (-1), but there must be at least one NUMA node, so returning NUMA node zero\n",
      "2022-05-26 19:17:08.711802: I tensorflow/stream_executor/cuda/cuda_gpu_executor.cc:937] successful NUMA node read from SysFS had negative value (-1), but there must be at least one NUMA node, so returning NUMA node zero\n",
      "2022-05-26 19:17:08.712650: I tensorflow/stream_executor/cuda/cuda_gpu_executor.cc:937] successful NUMA node read from SysFS had negative value (-1), but there must be at least one NUMA node, so returning NUMA node zero\n",
      "2022-05-26 19:17:08.713288: I tensorflow/stream_executor/cuda/cuda_gpu_executor.cc:937] successful NUMA node read from SysFS had negative value (-1), but there must be at least one NUMA node, so returning NUMA node zero\n",
      "2022-05-26 19:17:08.714655: I tensorflow/core/common_runtime/gpu/gpu_device.cc:1510] Created device /device:GPU:0 with 15403 MB memory:  -> device: 0, name: Tesla P100-PCIE-16GB, pci bus id: 0000:00:04.0, compute capability: 6.0\n",
      "2022-05-26 19:17:08.718834: I tensorflow/stream_executor/cuda/cuda_gpu_executor.cc:937] successful NUMA node read from SysFS had negative value (-1), but there must be at least one NUMA node, so returning NUMA node zero\n",
      "2022-05-26 19:17:08.719843: I tensorflow/stream_executor/cuda/cuda_gpu_executor.cc:937] successful NUMA node read from SysFS had negative value (-1), but there must be at least one NUMA node, so returning NUMA node zero\n",
      "2022-05-26 19:17:08.720785: I tensorflow/stream_executor/cuda/cuda_gpu_executor.cc:937] successful NUMA node read from SysFS had negative value (-1), but there must be at least one NUMA node, so returning NUMA node zero\n"
     ]
    }
   ],
   "source": [
    "from datetime import datetime\n",
    "from datetime import timedelta\n",
    "import os\n",
    "import math\n",
    "import statistics\n",
    "import numpy as np\n",
    "import pandas as pd\n",
    "import matplotlib.pyplot as plt\n",
    "import matplotlib.image as mpimg\n",
    "from IPython.display import clear_output\n",
    "\n",
    "import tensorflow as tf\n",
    "from tensorflow.keras.preprocessing.image import ImageDataGenerator\n",
    "\n",
    "from tensorflow.keras.applications.inception_v3 import InceptionV3\n",
    "from tensorflow.keras.optimizers import RMSprop\n",
    "import tensorflow_addons as tfa\n",
    "\n",
    "tf.test.is_gpu_available()\n",
    "tf.config.list_physical_devices('GPU')"
   ]
  },
  {
   "cell_type": "markdown",
   "id": "986b2fad",
   "metadata": {
    "papermill": {
     "duration": 0.022715,
     "end_time": "2022-05-26T19:17:08.792514",
     "exception": false,
     "start_time": "2022-05-26T19:17:08.769799",
     "status": "completed"
    },
    "tags": []
   },
   "source": [
    "## Def functions: One-Hot Encoding and Split Data (Dataframe)"
   ]
  },
  {
   "cell_type": "code",
   "execution_count": 2,
   "id": "cf90e621",
   "metadata": {
    "execution": {
     "iopub.execute_input": "2022-05-26T19:17:08.840074Z",
     "iopub.status.busy": "2022-05-26T19:17:08.839582Z",
     "iopub.status.idle": "2022-05-26T19:17:08.852920Z",
     "shell.execute_reply": "2022-05-26T19:17:08.852314Z"
    },
    "papermill": {
     "duration": 0.039496,
     "end_time": "2022-05-26T19:17:08.854693",
     "exception": false,
     "start_time": "2022-05-26T19:17:08.815197",
     "status": "completed"
    },
    "tags": []
   },
   "outputs": [],
   "source": [
    "def Get_ListOfLabels(df_InputLabels):\n",
    "    df_Tags = df_InputLabels.str.split(expand=True)\n",
    "    columns = len(df_Tags.columns)\n",
    "\n",
    "    for i in range(columns):\n",
    "        if i == 0:\n",
    "            df_aux = pd.DataFrame(df_Tags[0])\n",
    "        else:\n",
    "            df_aux = df_aux.append(pd.DataFrame(df_Tags[i].rename(index=0)))\n",
    "\n",
    "    LabelList = (df_aux.drop_duplicates().sort_values([0], ascending=[True]))[0].tolist()\n",
    "    LabelList = list(filter(None, LabelList))\n",
    "    return LabelList\n",
    "\n",
    "\n",
    "def Get_LabelEncodedArray(df_InputLabels, LabelList):\n",
    "    LabelArray = np.zeros((df_InputLabels.count(), len(LabelList)))\n",
    "    TagsArray = df_InputLabels.str.split(expand=True).to_numpy()\n",
    "\n",
    "    for i in range(TagsArray.shape[0]):\n",
    "        for j in range(TagsArray.shape[1]):\n",
    "            for k in range(len(LabelList)):\n",
    "                if(TagsArray[i][j]== LabelList[k]):\n",
    "                    LabelArray[i][k] = 1\n",
    "\n",
    "    return LabelArray\n",
    "\n",
    "def OneHotToStringLabels(OneHotArray, LabelList, delimiter):\n",
    "    string_labels = \"\"\n",
    "    if(len(OneHotArray)!=len(LabelList)):\n",
    "        raise Exception(\"OneHotArray does not match LabelList len/size\")\n",
    "\n",
    "    for i in range(len(OneHotArray)):\n",
    "        if(OneHotArray[i] == 1.0):\n",
    "            if(string_labels == \"\"):\n",
    "                string_labels = LabelList[i]\n",
    "            else:\n",
    "                string_labels = string_labels+delimiter+LabelList[i]\n",
    "    return string_labels\n",
    "\n",
    "def SplitData(df_Dataset, Ratio):\n",
    "\n",
    "    df_TrainData = pd.DataFrame(df_Dataset).sample(round(Ratio * df_Dataset['filename'].count()))\n",
    "\n",
    "    df_ValData = pd.DataFrame(df_Dataset)\n",
    "    condition = df_ValData['filename'].isin(df_TrainData['filename'])\n",
    "    df_ValData = df_ValData.drop(df_ValData[condition].index)\n",
    "\n",
    "    return df_TrainData, df_ValData"
   ]
  },
  {
   "cell_type": "markdown",
   "id": "68cd4b86",
   "metadata": {
    "papermill": {
     "duration": 0.026241,
     "end_time": "2022-05-26T19:17:08.919065",
     "exception": false,
     "start_time": "2022-05-26T19:17:08.892824",
     "status": "completed"
    },
    "tags": []
   },
   "source": [
    "### **Encoding labels:** One-Hot"
   ]
  },
  {
   "cell_type": "code",
   "execution_count": 3,
   "id": "85d0660c",
   "metadata": {
    "execution": {
     "iopub.execute_input": "2022-05-26T19:17:08.974666Z",
     "iopub.status.busy": "2022-05-26T19:17:08.974111Z",
     "iopub.status.idle": "2022-05-26T19:17:14.494529Z",
     "shell.execute_reply": "2022-05-26T19:17:14.493776Z"
    },
    "papermill": {
     "duration": 5.551687,
     "end_time": "2022-05-26T19:17:14.497069",
     "exception": false,
     "start_time": "2022-05-26T19:17:08.945382",
     "status": "completed"
    },
    "tags": []
   },
   "outputs": [],
   "source": [
    "source_path = \"../input/amazon-satellite/raw-data\"\n",
    "source_path_Labels = os.path.join(source_path, 'train_v2.csv')\n",
    "source_path_Images = os.path.join(source_path, 'train-jpg')\n",
    "\n",
    "df_Raw = pd.read_csv(source_path_Labels)\n",
    "LabelList = Get_ListOfLabels(df_Raw.tags)\n",
    "\n",
    "Get_LabelEncodedArray(df_Raw.tags, LabelList)\n",
    "df_Dataset = pd.DataFrame(Get_LabelEncodedArray(df_Raw.tags, LabelList), columns=LabelList)\n",
    "df_Dataset['filename'] = df_Raw.image_name.to_list()\n",
    "df_Dataset['filename'] = df_Dataset['filename']+'.jpg'\n",
    "df_Dataset = df_Dataset.loc[: , ['filename']+LabelList]"
   ]
  },
  {
   "cell_type": "markdown",
   "id": "24726a5b",
   "metadata": {
    "papermill": {
     "duration": 0.024798,
     "end_time": "2022-05-26T19:17:14.545509",
     "exception": false,
     "start_time": "2022-05-26T19:17:14.520711",
     "status": "completed"
    },
    "tags": []
   },
   "source": [
    "## Data Exploration\n",
    "- Finding correlation between classes/labels and mutual exclusivity"
   ]
  },
  {
   "cell_type": "code",
   "execution_count": 4,
   "id": "943454ba",
   "metadata": {
    "execution": {
     "iopub.execute_input": "2022-05-26T19:17:14.596074Z",
     "iopub.status.busy": "2022-05-26T19:17:14.595814Z",
     "iopub.status.idle": "2022-05-26T19:17:14.653189Z",
     "shell.execute_reply": "2022-05-26T19:17:14.652195Z"
    },
    "papermill": {
     "duration": 0.087154,
     "end_time": "2022-05-26T19:17:14.657298",
     "exception": false,
     "start_time": "2022-05-26T19:17:14.570144",
     "status": "completed"
    },
    "tags": []
   },
   "outputs": [
    {
     "name": "stdout",
     "output_type": "stream",
     "text": [
      "                   agriculture  artisinal_mine  bare_ground  blooming  \\\n",
      "agriculture           1.000000             NaN          NaN       NaN   \n",
      "artisinal_mine             NaN             1.0          NaN       NaN   \n",
      "bare_ground                NaN             NaN          1.0       NaN   \n",
      "blooming                   NaN             NaN          NaN       1.0   \n",
      "blow_down                  NaN             NaN          NaN       NaN   \n",
      "clear                      NaN             NaN          NaN       NaN   \n",
      "cloudy                     NaN             NaN          NaN       NaN   \n",
      "conventional_mine          NaN             NaN          NaN       NaN   \n",
      "cultivation           0.344964             NaN          NaN       NaN   \n",
      "habitation            0.303979             NaN          NaN       NaN   \n",
      "haze                       NaN             NaN          NaN       NaN   \n",
      "partly_cloudy              NaN             NaN          NaN       NaN   \n",
      "primary                    NaN             NaN          NaN       NaN   \n",
      "road                  0.480930             NaN          NaN       NaN   \n",
      "selective_logging          NaN             NaN          NaN       NaN   \n",
      "slash_burn                 NaN             NaN          NaN       NaN   \n",
      "water                      NaN             NaN          NaN       NaN   \n",
      "\n",
      "                   blow_down  clear  cloudy  conventional_mine  cultivation  \\\n",
      "agriculture              NaN    NaN     NaN                NaN     0.344964   \n",
      "artisinal_mine           NaN    NaN     NaN                NaN          NaN   \n",
      "bare_ground              NaN    NaN     NaN                NaN          NaN   \n",
      "blooming                 NaN    NaN     NaN                NaN          NaN   \n",
      "blow_down                1.0    NaN     NaN                NaN          NaN   \n",
      "clear                    NaN    1.0     NaN                NaN          NaN   \n",
      "cloudy                   NaN    NaN     1.0                NaN          NaN   \n",
      "conventional_mine        NaN    NaN     NaN                1.0          NaN   \n",
      "cultivation              NaN    NaN     NaN                NaN     1.000000   \n",
      "habitation               NaN    NaN     NaN                NaN          NaN   \n",
      "haze                     NaN    NaN     NaN                NaN          NaN   \n",
      "partly_cloudy            NaN    NaN     NaN                NaN          NaN   \n",
      "primary                  NaN    NaN     NaN                NaN          NaN   \n",
      "road                     NaN    NaN     NaN                NaN          NaN   \n",
      "selective_logging        NaN    NaN     NaN                NaN          NaN   \n",
      "slash_burn               NaN    NaN     NaN                NaN          NaN   \n",
      "water                    NaN    NaN     NaN                NaN          NaN   \n",
      "\n",
      "                   habitation  haze  partly_cloudy  primary      road  \\\n",
      "agriculture          0.303979   NaN            NaN      NaN  0.480930   \n",
      "artisinal_mine            NaN   NaN            NaN      NaN       NaN   \n",
      "bare_ground               NaN   NaN            NaN      NaN       NaN   \n",
      "blooming                  NaN   NaN            NaN      NaN       NaN   \n",
      "blow_down                 NaN   NaN            NaN      NaN       NaN   \n",
      "clear                     NaN   NaN            NaN      NaN       NaN   \n",
      "cloudy                    NaN   NaN            NaN      NaN       NaN   \n",
      "conventional_mine         NaN   NaN            NaN      NaN       NaN   \n",
      "cultivation               NaN   NaN            NaN      NaN       NaN   \n",
      "habitation           1.000000   NaN            NaN      NaN  0.443341   \n",
      "haze                      NaN   1.0            NaN      NaN       NaN   \n",
      "partly_cloudy             NaN   NaN            1.0      NaN       NaN   \n",
      "primary                   NaN   NaN            NaN      1.0       NaN   \n",
      "road                 0.443341   NaN            NaN      NaN  1.000000   \n",
      "selective_logging         NaN   NaN            NaN      NaN       NaN   \n",
      "slash_burn                NaN   NaN            NaN      NaN       NaN   \n",
      "water                     NaN   NaN            NaN      NaN       NaN   \n",
      "\n",
      "                   selective_logging  slash_burn  water  \n",
      "agriculture                      NaN         NaN    NaN  \n",
      "artisinal_mine                   NaN         NaN    NaN  \n",
      "bare_ground                      NaN         NaN    NaN  \n",
      "blooming                         NaN         NaN    NaN  \n",
      "blow_down                        NaN         NaN    NaN  \n",
      "clear                            NaN         NaN    NaN  \n",
      "cloudy                           NaN         NaN    NaN  \n",
      "conventional_mine                NaN         NaN    NaN  \n",
      "cultivation                      NaN         NaN    NaN  \n",
      "habitation                       NaN         NaN    NaN  \n",
      "haze                             NaN         NaN    NaN  \n",
      "partly_cloudy                    NaN         NaN    NaN  \n",
      "primary                          NaN         NaN    NaN  \n",
      "road                             NaN         NaN    NaN  \n",
      "selective_logging                1.0         NaN    NaN  \n",
      "slash_burn                       NaN         1.0    NaN  \n",
      "water                            NaN         NaN    1.0  \n"
     ]
    }
   ],
   "source": [
    "# Find labels with high correlation\n",
    "df_corr = df_Dataset.corr()\n",
    "print(df_corr[df_corr>0.3])"
   ]
  },
  {
   "cell_type": "code",
   "execution_count": 5,
   "id": "f4dfa780",
   "metadata": {
    "execution": {
     "iopub.execute_input": "2022-05-26T19:17:14.710752Z",
     "iopub.status.busy": "2022-05-26T19:17:14.710164Z",
     "iopub.status.idle": "2022-05-26T19:17:14.759961Z",
     "shell.execute_reply": "2022-05-26T19:17:14.759059Z"
    },
    "papermill": {
     "duration": 0.079614,
     "end_time": "2022-05-26T19:17:14.764234",
     "exception": false,
     "start_time": "2022-05-26T19:17:14.684620",
     "status": "completed"
    },
    "tags": []
   },
   "outputs": [
    {
     "name": "stdout",
     "output_type": "stream",
     "text": [
      "                   agriculture  artisinal_mine  bare_ground  blooming  \\\n",
      "agriculture                NaN             NaN          NaN       NaN   \n",
      "artisinal_mine             NaN             NaN          NaN       NaN   \n",
      "bare_ground                NaN             NaN          NaN       NaN   \n",
      "blooming                   NaN             NaN          NaN       NaN   \n",
      "blow_down                  NaN             NaN          NaN       NaN   \n",
      "clear                      NaN             NaN          NaN       NaN   \n",
      "cloudy                     NaN             NaN          NaN       NaN   \n",
      "conventional_mine          NaN             NaN          NaN       NaN   \n",
      "cultivation                NaN             NaN          NaN       NaN   \n",
      "habitation                 NaN             NaN          NaN       NaN   \n",
      "haze                       NaN             NaN          NaN       NaN   \n",
      "partly_cloudy              NaN             NaN          NaN       NaN   \n",
      "primary                    NaN             NaN          NaN       NaN   \n",
      "road                       NaN             NaN          NaN       NaN   \n",
      "selective_logging          NaN             NaN          NaN       NaN   \n",
      "slash_burn                 NaN             NaN          NaN       NaN   \n",
      "water                      NaN             NaN          NaN       NaN   \n",
      "\n",
      "                   blow_down     clear    cloudy  conventional_mine  \\\n",
      "agriculture              NaN       NaN       NaN                NaN   \n",
      "artisinal_mine           NaN       NaN       NaN                NaN   \n",
      "bare_ground              NaN       NaN       NaN                NaN   \n",
      "blooming                 NaN       NaN       NaN                NaN   \n",
      "blow_down                NaN       NaN       NaN                NaN   \n",
      "clear                    NaN       NaN -0.358343                NaN   \n",
      "cloudy                   NaN -0.358343       NaN                NaN   \n",
      "conventional_mine        NaN       NaN       NaN                NaN   \n",
      "cultivation              NaN       NaN       NaN                NaN   \n",
      "habitation               NaN       NaN       NaN                NaN   \n",
      "haze                     NaN -0.410428       NaN                NaN   \n",
      "partly_cloudy            NaN -0.718208       NaN                NaN   \n",
      "primary                  NaN       NaN -0.829594                NaN   \n",
      "road                     NaN       NaN       NaN                NaN   \n",
      "selective_logging        NaN       NaN       NaN                NaN   \n",
      "slash_burn               NaN       NaN       NaN                NaN   \n",
      "water                    NaN       NaN       NaN                NaN   \n",
      "\n",
      "                   cultivation  habitation      haze  partly_cloudy   primary  \\\n",
      "agriculture                NaN         NaN       NaN            NaN       NaN   \n",
      "artisinal_mine             NaN         NaN       NaN            NaN       NaN   \n",
      "bare_ground                NaN         NaN       NaN            NaN       NaN   \n",
      "blooming                   NaN         NaN       NaN            NaN       NaN   \n",
      "blow_down                  NaN         NaN       NaN            NaN       NaN   \n",
      "clear                      NaN         NaN -0.410428      -0.718208       NaN   \n",
      "cloudy                     NaN         NaN       NaN            NaN -0.829594   \n",
      "conventional_mine          NaN         NaN       NaN            NaN       NaN   \n",
      "cultivation                NaN         NaN       NaN            NaN       NaN   \n",
      "habitation                 NaN         NaN       NaN            NaN       NaN   \n",
      "haze                       NaN         NaN       NaN            NaN       NaN   \n",
      "partly_cloudy              NaN         NaN       NaN            NaN       NaN   \n",
      "primary                    NaN         NaN       NaN            NaN       NaN   \n",
      "road                       NaN         NaN       NaN            NaN       NaN   \n",
      "selective_logging          NaN         NaN       NaN            NaN       NaN   \n",
      "slash_burn                 NaN         NaN       NaN            NaN       NaN   \n",
      "water                      NaN         NaN       NaN            NaN       NaN   \n",
      "\n",
      "                   road  selective_logging  slash_burn  water  \n",
      "agriculture         NaN                NaN         NaN    NaN  \n",
      "artisinal_mine      NaN                NaN         NaN    NaN  \n",
      "bare_ground         NaN                NaN         NaN    NaN  \n",
      "blooming            NaN                NaN         NaN    NaN  \n",
      "blow_down           NaN                NaN         NaN    NaN  \n",
      "clear               NaN                NaN         NaN    NaN  \n",
      "cloudy              NaN                NaN         NaN    NaN  \n",
      "conventional_mine   NaN                NaN         NaN    NaN  \n",
      "cultivation         NaN                NaN         NaN    NaN  \n",
      "habitation          NaN                NaN         NaN    NaN  \n",
      "haze                NaN                NaN         NaN    NaN  \n",
      "partly_cloudy       NaN                NaN         NaN    NaN  \n",
      "primary             NaN                NaN         NaN    NaN  \n",
      "road                NaN                NaN         NaN    NaN  \n",
      "selective_logging   NaN                NaN         NaN    NaN  \n",
      "slash_burn          NaN                NaN         NaN    NaN  \n",
      "water               NaN                NaN         NaN    NaN  \n"
     ]
    }
   ],
   "source": [
    "# Find labels with low correlation\n",
    "df_corr = df_Dataset.corr()\n",
    "print(df_corr[df_corr<-0.2])"
   ]
  },
  {
   "cell_type": "code",
   "execution_count": 6,
   "id": "e86eb17d",
   "metadata": {
    "execution": {
     "iopub.execute_input": "2022-05-26T19:17:14.817699Z",
     "iopub.status.busy": "2022-05-26T19:17:14.816915Z",
     "iopub.status.idle": "2022-05-26T19:17:14.852794Z",
     "shell.execute_reply": "2022-05-26T19:17:14.851967Z"
    },
    "papermill": {
     "duration": 0.064382,
     "end_time": "2022-05-26T19:17:14.855119",
     "exception": false,
     "start_time": "2022-05-26T19:17:14.790737",
     "status": "completed"
    },
    "tags": []
   },
   "outputs": [
    {
     "name": "stdout",
     "output_type": "stream",
     "text": [
      "Images labelled as clear AND haze:\t\t\t0\n",
      "Images labelled as clear AND partly_cloudy:\t\t0\n",
      "Images labelled as clear AND cloudy:\t\t\t0\n",
      "Images labelled as haze AND partly_cloudy:\t\t0\n",
      "Images labelled as haze AND cloudy:\t\t\t0\n",
      "Images labelled as partly_cloudy AND cloudy:\t\t0\n",
      "\n",
      "Images with any of these 4 labels:\t40478\n",
      "Images without any of these 4 labels:\t1\n",
      "total number of images:\t\t\t40479\n"
     ]
    }
   ],
   "source": [
    "# Verify mutual exclusivity of 4 labels: clear, haze, partly_cloudy, cloudy\n",
    "\n",
    "print('Images labelled as clear AND haze:\\t\\t\\t'+str(df_Dataset.loc[(df_Dataset['clear']==1.0) & (df_Dataset['haze']==1.0)]['filename'].count()))\n",
    "print('Images labelled as clear AND partly_cloudy:\\t\\t'+str(df_Dataset.loc[(df_Dataset['clear']==1.0) & (df_Dataset['partly_cloudy']==1.0)]['filename'].count()))\n",
    "print('Images labelled as clear AND cloudy:\\t\\t\\t'+str(df_Dataset.loc[(df_Dataset['clear']==1.0) & (df_Dataset['cloudy']==1.0)]['filename'].count()))\n",
    "print('Images labelled as haze AND partly_cloudy:\\t\\t'+str(df_Dataset.loc[(df_Dataset['haze']==1.0) & (df_Dataset['partly_cloudy']==1.0)]['filename'].count()))\n",
    "print('Images labelled as haze AND cloudy:\\t\\t\\t'+str(df_Dataset.loc[(df_Dataset['haze']==1.0) & (df_Dataset['cloudy']==1.0)]['filename'].count()))\n",
    "print('Images labelled as partly_cloudy AND cloudy:\\t\\t'+str(df_Dataset.loc[(df_Dataset['partly_cloudy']==1.0) & (df_Dataset['cloudy']==1.0)]['filename'].count()))\n",
    "\n",
    "print('\\nImages with any of these 4 labels:\\t'+str(df_Dataset.loc[(df_Dataset['clear']==1.0) | (df_Dataset['haze']==1.0) | (df_Dataset['partly_cloudy']==1.0) | (df_Dataset['cloudy']==1.0)]['filename'].count()))\n",
    "print('Images without any of these 4 labels:\\t'+str(df_Dataset.loc[~((df_Dataset['clear']==1.0) | (df_Dataset['haze']==1.0) | (df_Dataset['partly_cloudy']==1.0) | (df_Dataset['cloudy']==1.0))]['filename'].count()))\n",
    "print('total number of images:\\t\\t\\t'+str(df_Raw.tags.count()))"
   ]
  },
  {
   "cell_type": "code",
   "execution_count": 7,
   "id": "1d446586",
   "metadata": {
    "execution": {
     "iopub.execute_input": "2022-05-26T19:17:14.907952Z",
     "iopub.status.busy": "2022-05-26T19:17:14.907616Z",
     "iopub.status.idle": "2022-05-26T19:17:14.918622Z",
     "shell.execute_reply": "2022-05-26T19:17:14.917367Z"
    },
    "papermill": {
     "duration": 0.040381,
     "end_time": "2022-05-26T19:17:14.920691",
     "exception": false,
     "start_time": "2022-05-26T19:17:14.880310",
     "status": "completed"
    },
    "tags": []
   },
   "outputs": [
    {
     "name": "stdout",
     "output_type": "stream",
     "text": [
      "Images labelled as artisinal_mine AND conventional_mine: 4\n",
      "Images labelled as artisinal_mine OR conventional_mine: 435\n"
     ]
    }
   ],
   "source": [
    "# Verify mutual exclusivity of 4 labels: artisinal_mine and conventional_mine\n",
    "\n",
    "print('Images labelled as artisinal_mine AND conventional_mine: '+str(df_Dataset.loc[(df_Dataset['artisinal_mine']==1.0) & (df_Dataset['conventional_mine']==1.0)]['filename'].count()))\n",
    "print('Images labelled as artisinal_mine OR conventional_mine: '+str(df_Dataset.loc[(df_Dataset['artisinal_mine']==1.0) | (df_Dataset['conventional_mine']==1.0)]['filename'].count()))"
   ]
  },
  {
   "cell_type": "markdown",
   "id": "dd203a72",
   "metadata": {
    "papermill": {
     "duration": 0.025036,
     "end_time": "2022-05-26T19:17:14.971629",
     "exception": false,
     "start_time": "2022-05-26T19:17:14.946593",
     "status": "completed"
    },
    "tags": []
   },
   "source": [
    "## Training and Validation Generators\n",
    "\n",
    "Now that you know the images you are dealing with, it is time for you to code the generators that will fed these images to your Network. For this, complete the `train_val_generators` function below:\n",
    "\n",
    "**Important Note:** The images have a resolution of 256x256 but the `flow_from_dataframe` method you will use allows you to set a target resolution. Lower resolution may yield much quicker training times without compromising the accuracy!"
   ]
  },
  {
   "cell_type": "code",
   "execution_count": 8,
   "id": "ff64148a",
   "metadata": {
    "execution": {
     "iopub.execute_input": "2022-05-26T19:17:15.024124Z",
     "iopub.status.busy": "2022-05-26T19:17:15.023849Z",
     "iopub.status.idle": "2022-05-26T19:17:15.044861Z",
     "shell.execute_reply": "2022-05-26T19:17:15.044056Z"
    },
    "papermill": {
     "duration": 0.049764,
     "end_time": "2022-05-26T19:17:15.046748",
     "exception": false,
     "start_time": "2022-05-26T19:17:14.996984",
     "status": "completed"
    },
    "tags": []
   },
   "outputs": [],
   "source": [
    "def generate_generator_multiple(generator, directory, df1, df2, df3, df4, df5, batch_size, target_size):\n",
    "    genX1 = generator.flow_from_dataframe(dataframe = df1,\n",
    "                                          directory=directory,\n",
    "                                          x_col=df1.columns[0],\n",
    "                                          y_col=df1.columns[1:len(df1.columns)],\n",
    "                                          target_size = target_size,\n",
    "                                          class_mode = 'raw',\n",
    "                                          batch_size = batch_size,\n",
    "                                          shuffle=False, \n",
    "                                          seed=7)\n",
    "    \n",
    "    genX2 = generator.flow_from_dataframe(dataframe = df2,\n",
    "                                          directory=directory,\n",
    "                                          x_col=df2.columns[0],\n",
    "                                          y_col=df2.columns[1:len(df2.columns)],\n",
    "                                          target_size = target_size,\n",
    "                                          class_mode = 'raw',\n",
    "                                          batch_size = batch_size,\n",
    "                                          shuffle=False, \n",
    "                                          seed=7)\n",
    "    \n",
    "    genX3 = generator.flow_from_dataframe(dataframe = df3,\n",
    "                                          directory=directory,\n",
    "                                          x_col=df3.columns[0],\n",
    "                                          y_col=df3.columns[1:len(df3.columns)],\n",
    "                                          target_size = target_size,\n",
    "                                          class_mode = 'raw',\n",
    "                                          batch_size = batch_size,\n",
    "                                          shuffle=False, \n",
    "                                          seed=7)\n",
    "    \n",
    "    genX4 = generator.flow_from_dataframe(dataframe = df4,\n",
    "                                          directory=directory,\n",
    "                                          x_col=df4.columns[0],\n",
    "                                          y_col=df4.columns[1:len(df4.columns)],\n",
    "                                          target_size = target_size,\n",
    "                                          class_mode = 'raw',\n",
    "                                          batch_size = batch_size,\n",
    "                                          shuffle=False, \n",
    "                                          seed=7)\n",
    "    \n",
    "    genX5 = generator.flow_from_dataframe(dataframe = df5,\n",
    "                                          directory=directory,\n",
    "                                          x_col=df5.columns[0],\n",
    "                                          y_col=df5.columns[1:len(df5.columns)],\n",
    "                                          target_size = target_size,\n",
    "                                          class_mode = 'raw',\n",
    "                                          batch_size = batch_size,\n",
    "                                          shuffle=False, \n",
    "                                          seed=7)\n",
    "    \n",
    "    for i in range(df1['filename'].count()):\n",
    "            X1i = genX1.next()\n",
    "            X2i = genX2.next()\n",
    "            X3i = genX3.next()\n",
    "            X4i = genX4.next()\n",
    "            X5i = genX5.next()\n",
    "            yield X1i[0],[X1i[1], X2i[1], X3i[1], X4i[1], X5i[1]]\n",
    "\n",
    "\n",
    "            \n",
    "            \n",
    "            \n",
    "# Get Data Generators\n",
    "def train_val_generators(DIRECTORY, df_Train, df_Validation):\n",
    "    \n",
    "  # Instantiate the ImageDataGenerator class \n",
    "  # Don't forget to normalize pixel values and set arguments to augment the images \n",
    "  train_datagen = ImageDataGenerator(rescale=1.0/255.0,\n",
    "                                     rotation_range=20,\n",
    "                                     width_shift_range=0.2,\n",
    "                                     height_shift_range=0.2,\n",
    "                                     horizontal_flip=True,\n",
    "                                     fill_mode='nearest')\n",
    "\n",
    "# create generator\n",
    "  df_vis = df_Train.loc[:, ['filename', 'clear', 'haze', 'partly_cloudy', 'cloudy']]\n",
    "  df_hum = df_Train.loc[:, ['filename', 'agriculture', 'cultivation', 'habitation']]\n",
    "  df_rw  = df_Train.loc[:, ['filename', 'road', 'water']]\n",
    "  df_prim = df_Train.loc[:, ['filename', 'primary']]\n",
    "  df_rem = df_Train.loc[:, ['filename', 'artisinal_mine', 'bare_ground', 'blooming', 'blow_down', 'conventional_mine', 'selective_logging', 'slash_burn']]\n",
    "\n",
    "  train_generator = generate_generator_multiple(train_datagen, DIRECTORY, df_vis, df_hum, df_rw, df_prim, df_rem, 32, (256, 256))\n",
    "    \n",
    "#   train_generator = train_datagen.flow_from_dataframe(dataframe=df_Train,\n",
    "#                                                       directory=DIRECTORY,\n",
    "#                                                       x_col=df_Train.columns[0],\n",
    "#                                                       y_col=df_Train.columns[1:len(df_Train.columns)],\n",
    "#                                                       batch_size=32, \n",
    "#                                                       class_mode='raw',\n",
    "#                                                       target_size=(256, 256))\n",
    "\n",
    "  # Instantiate the ImageDataGenerator class (set the rescale argument)\n",
    "  # Validation data not augmented\n",
    "  validation_datagen = ImageDataGenerator(rescale=1.0/255.0)\n",
    "    \n",
    "  df_vis = df_ValData.loc[:, ['filename', 'clear', 'haze', 'partly_cloudy', 'cloudy']]\n",
    "  df_hum = df_ValData.loc[:, ['filename', 'agriculture', 'cultivation', 'habitation']]\n",
    "  df_rw  = df_ValData.loc[:, ['filename', 'road', 'water']]\n",
    "  df_prim = df_ValData.loc[:, ['filename', 'primary']]\n",
    "  df_rem = df_ValData.loc[:, ['filename', 'artisinal_mine', 'bare_ground', 'blooming', 'blow_down', 'conventional_mine', 'selective_logging', 'slash_burn']]\n",
    "\n",
    "  validation_generator = generate_generator_multiple(validation_datagen, DIRECTORY, df_vis, df_hum, df_rw, df_prim, df_rem, 32, (256, 256))\n",
    "  \n",
    "#   flow_from_dataframe method\n",
    "#   validation_generator = validation_datagen.flow_from_dataframe(dataframe=df_Validation,\n",
    "#                                                                 directory=DIRECTORY,\n",
    "#                                                                 x_col=df_ValData.columns[0],\n",
    "#                                                                 y_col=df_ValData.columns[1:len(df_ValData.columns)],\n",
    "#                                                                 batch_size=32,\n",
    "#                                                                 class_mode='raw',\n",
    "#                                                                 target_size=(256, 256))\n",
    "  return train_generator, validation_generator"
   ]
  },
  {
   "cell_type": "code",
   "execution_count": 9,
   "id": "a527c80f",
   "metadata": {
    "execution": {
     "iopub.execute_input": "2022-05-26T19:17:15.101389Z",
     "iopub.status.busy": "2022-05-26T19:17:15.099469Z",
     "iopub.status.idle": "2022-05-26T19:17:15.147738Z",
     "shell.execute_reply": "2022-05-26T19:17:15.146867Z"
    },
    "papermill": {
     "duration": 0.077634,
     "end_time": "2022-05-26T19:17:15.149983",
     "exception": false,
     "start_time": "2022-05-26T19:17:15.072349",
     "status": "completed"
    },
    "tags": []
   },
   "outputs": [],
   "source": [
    "# Split Data\n",
    "TrainToValidation_DataSize_Ratio = 0.6\n",
    "df_TrainData, df_ValData = SplitData(df_Dataset, TrainToValidation_DataSize_Ratio)\n",
    "\n",
    "# Test Generators\n",
    "train_generator, validation_generator = train_val_generators(source_path_Images, df_TrainData, df_ValData)"
   ]
  },
  {
   "cell_type": "markdown",
   "id": "5ee9795a",
   "metadata": {
    "papermill": {
     "duration": 0.024337,
     "end_time": "2022-05-26T19:17:15.201663",
     "exception": false,
     "start_time": "2022-05-26T19:17:15.177326",
     "status": "completed"
    },
    "tags": []
   },
   "source": [
    "## Test Image Data Generator and Label Encoding\n",
    "- Verify if functions are working and visualize data"
   ]
  },
  {
   "cell_type": "code",
   "execution_count": 10,
   "id": "2f4340cb",
   "metadata": {
    "execution": {
     "iopub.execute_input": "2022-05-26T19:17:15.252311Z",
     "iopub.status.busy": "2022-05-26T19:17:15.252060Z",
     "iopub.status.idle": "2022-05-26T19:17:15.255509Z",
     "shell.execute_reply": "2022-05-26T19:17:15.254803Z"
    },
    "papermill": {
     "duration": 0.030402,
     "end_time": "2022-05-26T19:17:15.257158",
     "exception": false,
     "start_time": "2022-05-26T19:17:15.226756",
     "status": "completed"
    },
    "tags": []
   },
   "outputs": [],
   "source": [
    "# data_index = 0\n",
    "\n",
    "# print(pd.DataFrame(np.array([LabelList, validation_generator.labels[data_index]]).transpose()).to_string(index=False))\n",
    "# print(\"\\nFile name:\\t\"+validation_generator.filenames[data_index])\n",
    "# print(\"Labels:\\t\\t\"+OneHotToStringLabels(validation_generator.labels[data_index], LabelList, ' ')+'\\n')\n",
    "\n",
    "# img = mpimg.imread(os.path.join(source_path_Images, validation_generator.filenames[data_index]))\n",
    "# img = img[:,:,:3]\n",
    "# plt.imshow(img)"
   ]
  },
  {
   "cell_type": "markdown",
   "id": "2c1771da",
   "metadata": {
    "papermill": {
     "duration": 0.023861,
     "end_time": "2022-05-26T19:17:15.305011",
     "exception": false,
     "start_time": "2022-05-26T19:17:15.281150",
     "status": "completed"
    },
    "tags": []
   },
   "source": [
    "## Model Definition\n",
    "- Import InceptionV3 weights and define layers connected\n",
    "- Import VGG19 weights and define layers connected"
   ]
  },
  {
   "cell_type": "code",
   "execution_count": 11,
   "id": "b3ddebd6",
   "metadata": {
    "execution": {
     "iopub.execute_input": "2022-05-26T19:17:15.356490Z",
     "iopub.status.busy": "2022-05-26T19:17:15.356195Z",
     "iopub.status.idle": "2022-05-26T19:17:15.383738Z",
     "shell.execute_reply": "2022-05-26T19:17:15.383068Z"
    },
    "papermill": {
     "duration": 0.055609,
     "end_time": "2022-05-26T19:17:15.385479",
     "exception": false,
     "start_time": "2022-05-26T19:17:15.329870",
     "status": "completed"
    },
    "tags": []
   },
   "outputs": [],
   "source": [
    "from tensorflow.keras.optimizers import RMSprop\n",
    "import tensorflow_addons as tfa\n",
    "\n",
    "def create_model():\n",
    "    \n",
    "    Input = tf.keras.Input(shape=(256, 256, 3))\n",
    "    \n",
    "#     #Load InceptionV3 Model\n",
    "    InceptionModel = tf.keras.applications.InceptionResNetV2(input_tensor = Input, include_top = False, weights=\"imagenet\")\n",
    "    #Make all layers on InceptionV3 untrainable\n",
    "    for layer in InceptionModel.layers:\n",
    "        layer.trainable = False\n",
    "    #Get Last Convolution Layer\n",
    "    x_Inception = InceptionModel(Input)\n",
    "#     InceptionDesiredLayer = InceptionModel.get_layer('mixed10').output\n",
    "    x_FlatInception = tf.keras.layers.Flatten(name='Flatten_Inception')(x_Inception)\n",
    "    \n",
    "    \n",
    "#     #Load VGG19 Model\n",
    "    VGG19Model = tf.keras.applications.VGG19(input_tensor = Input, include_top=False, weights=\"imagenet\")\n",
    "    for layer in VGG19Model.layers:\n",
    "            layer.trainable = False\n",
    "    x_VGG19 = VGG19Model(Input)\n",
    "    x_FlatVGG19 = tf.keras.layers.Flatten(name='Flatten_VGG19')(x_VGG19)\n",
    "    \n",
    "    \n",
    "    x_Top = tf.keras.layers.Concatenate(name='ConcatenateFlatten_Layer')([x_FlatInception, x_FlatVGG19])\n",
    "    \n",
    "    #Define Visibility Branch\n",
    "    # x_vis[0] -> clear\n",
    "    # x_vis[1] -> haze\n",
    "    # x_vis[2] -> partly_cloudy\n",
    "    # x_vis[3] -> cloudy\n",
    "    x_vis = tf.keras.layers.Dense(512, activation='relu')(x_Top)\n",
    "    x_vis = tf.keras.layers.BatchNormalization()(x_vis)\n",
    "    x_vis = tf.keras.layers.Dropout(0.2)(x_vis)\n",
    "    x_vis = tf.keras.layers.Dense(256, activation='relu')(x_vis)\n",
    "    x_vis = tf.keras.layers.BatchNormalization()(x_vis)\n",
    "    x_vis = tf.keras.layers.Dropout(0.4)(x_vis)\n",
    "    x_vis = tf.keras.layers.Dense(4, activation='softmax', name = 'visibility')(x_vis)\n",
    "    \n",
    "    #Define Human Activity Branch\n",
    "    # x_hum[0] -> agriculture\n",
    "    # x_hum[1] -> cultivation\n",
    "    # x_hum[2] -> habitation\n",
    "    x_hum = tf.keras.layers.Dense(512, activation='relu')(x_Top)\n",
    "    x_hum = tf.keras.layers.BatchNormalization()(x_hum)\n",
    "    x_hum = tf.keras.layers.Dropout(0.2)(x_hum)\n",
    "    x_hum = tf.keras.layers.Dense(512, activation='relu')(x_hum)\n",
    "    x_hum = tf.keras.layers.BatchNormalization()(x_hum)\n",
    "    x_hum = tf.keras.layers.Dropout(0.2)(x_hum)\n",
    "    x_hum = tf.keras.layers.Dense(256, activation='relu')(x_hum)\n",
    "    x_hum = tf.keras.layers.BatchNormalization()(x_hum)\n",
    "    x_hum = tf.keras.layers.Dropout(0.4)(x_hum)\n",
    "    x_hum = tf.keras.layers.Dense(3, activation='sigmoid', name='human_activity')(x_hum)\n",
    "    \n",
    "    #Define Track Branch (Road or Water)\n",
    "    # x_rw[0] -> road\n",
    "    # x_rw[1] -> water\n",
    "    x_rw = tf.keras.layers.Dense(512, activation='relu')(x_Top)\n",
    "    x_rw = tf.keras.layers.BatchNormalization()(x_rw)\n",
    "    x_rw = tf.keras.layers.Dropout(0.2)(x_rw)\n",
    "    x_rw = tf.keras.layers.Dense(512, activation='relu')(x_rw)\n",
    "    x_rw = tf.keras.layers.BatchNormalization()(x_rw)\n",
    "    x_rw = tf.keras.layers.Dropout(0.2)(x_rw)\n",
    "    x_rw = tf.keras.layers.Dense(256, activation='relu')(x_rw)\n",
    "    x_rw = tf.keras.layers.BatchNormalization()(x_rw)\n",
    "    x_rw = tf.keras.layers.Dropout(0.4)(x_rw)\n",
    "    x_rw = tf.keras.layers.Dense(2, activation='sigmoid', name='road_water')(x_rw)\n",
    "    \n",
    "    #Define Primary Branch\n",
    "    #x_primary[0] -> primary\n",
    "    x_prim = tf.keras.layers.Dense(512, activation='relu')(x_Top)\n",
    "    x_prim = tf.keras.layers.BatchNormalization()(x_prim)\n",
    "    x_prim = tf.keras.layers.Dropout(0.2)(x_prim)\n",
    "    x_prim = tf.keras.layers.Dense(256, activation='relu')(x_prim)\n",
    "    x_prim = tf.keras.layers.BatchNormalization()(x_prim)\n",
    "    x_prim = tf.keras.layers.Dropout(0.4)(x_prim)\n",
    "    x_prim = tf.keras.layers.Dense(1, activation='sigmoid', name='primary')(x_prim)\n",
    "    \n",
    "    \n",
    "    #Define Remaining Branch\n",
    "    #x_mine[0] -> artisinal_mine\n",
    "    # x_rem[1] -> bare_ground\n",
    "    # x_rem[2] -> blooming\n",
    "    # x_rem[3] -> blow_down\n",
    "    #x_mine[4] -> conventional_mine\n",
    "    # x_rem[5] -> selective_logging\n",
    "    # x_rem[6] -> slash_burn\n",
    "    x_rem = tf.keras.layers.Dense(512, activation='relu')(x_Top)\n",
    "    x_rem = tf.keras.layers.BatchNormalization()(x_rem)\n",
    "    x_rem = tf.keras.layers.Dropout(0.2)(x_rem)\n",
    "    x_rem = tf.keras.layers.Dense(512, activation='relu')(x_rem)\n",
    "    x_rem = tf.keras.layers.BatchNormalization()(x_rem)\n",
    "    x_rem = tf.keras.layers.Dropout(0.4)(x_rem)\n",
    "    x_rem = tf.keras.layers.Dense(512, activation='relu')(x_rem)\n",
    "    x_rem = tf.keras.layers.BatchNormalization()(x_rem)\n",
    "    x_rem = tf.keras.layers.Dropout(0.4)(x_rem)\n",
    "    x_rem = tf.keras.layers.Dense(256, activation='relu')(x_rem)\n",
    "    x_rem = tf.keras.layers.BatchNormalization()(x_rem)\n",
    "    x_rem = tf.keras.layers.Dropout(0.4)(x_rem)\n",
    "    x_rem = tf.keras.layers.Dense(7, activation='sigmoid', name='remaining')(x_rem)\n",
    "    \n",
    "    model = tf.keras.Model(inputs=Input, outputs=[x_vis, x_hum, x_rw, x_prim, x_rem])\n",
    "\n",
    "    model.compile(optimizer=RMSprop(learning_rate=0.004),\n",
    "                loss='binary_crossentropy',\n",
    "                metrics={\n",
    "                         'visibility': [tfa.metrics.FBetaScore(beta=2.0, num_classes=4 , average='micro', threshold=0.5)],\n",
    "                         'human_activity': [tfa.metrics.FBetaScore(beta=2.0, num_classes=3 , average='micro', threshold=0.5)],\n",
    "                         'road_water': [tfa.metrics.FBetaScore(beta=2.0, num_classes=2 , average='micro', threshold=0.5)],\n",
    "                         'primary': [tfa.metrics.FBetaScore(beta=2.0, num_classes=1 , average='micro', threshold=0.5)],\n",
    "                         'remaining': [tfa.metrics.FBetaScore(beta=2.0, num_classes=7 , average='micro', threshold=0.5)]\n",
    "                        }\n",
    "               ) \n",
    "    return model"
   ]
  },
  {
   "cell_type": "markdown",
   "id": "bfba1556",
   "metadata": {
    "papermill": {
     "duration": 0.02451,
     "end_time": "2022-05-26T19:17:15.434861",
     "exception": false,
     "start_time": "2022-05-26T19:17:15.410351",
     "status": "completed"
    },
    "tags": []
   },
   "source": [
    "## Callback to stop training"
   ]
  },
  {
   "cell_type": "code",
   "execution_count": 12,
   "id": "b73a7be4",
   "metadata": {
    "execution": {
     "iopub.execute_input": "2022-05-26T19:17:15.484050Z",
     "iopub.status.busy": "2022-05-26T19:17:15.483815Z",
     "iopub.status.idle": "2022-05-26T19:17:15.489370Z",
     "shell.execute_reply": "2022-05-26T19:17:15.488719Z"
    },
    "papermill": {
     "duration": 0.032275,
     "end_time": "2022-05-26T19:17:15.491026",
     "exception": false,
     "start_time": "2022-05-26T19:17:15.458751",
     "status": "completed"
    },
    "tags": []
   },
   "outputs": [],
   "source": [
    "class myCallback(tf.keras.callbacks.Callback):\n",
    "  def on_epoch_end(self, epoch, logs={}):\n",
    "    if(statistics.harmonic_mean([logs.get('val_visibility_fbeta_score'), logs.get('val_human_activity_fbeta_score'), logs.get('val_remaining_fbeta_score'), logs.get('val_road_water_fbeta_score')])>0.90):\n",
    "        print(\"\\nReached FBeta Score = \"+str(statistics.harmonic_mean([logs.get('val_visibility_fbeta_score'), logs.get('val_human_activity_fbeta_score'), logs.get('val_remaining_fbeta_score'), logs.get('val_road_water_fbeta_score')])))\n",
    "#       self.model.stop_training = True"
   ]
  },
  {
   "cell_type": "markdown",
   "id": "391a5e5e",
   "metadata": {
    "papermill": {
     "duration": 0.024652,
     "end_time": "2022-05-26T19:17:15.539739",
     "exception": false,
     "start_time": "2022-05-26T19:17:15.515087",
     "status": "completed"
    },
    "tags": []
   },
   "source": [
    "## Model Training"
   ]
  },
  {
   "cell_type": "code",
   "execution_count": 13,
   "id": "271eedff",
   "metadata": {
    "execution": {
     "iopub.execute_input": "2022-05-26T19:17:15.590899Z",
     "iopub.status.busy": "2022-05-26T19:17:15.590355Z",
     "iopub.status.idle": "2022-05-27T05:02:35.965792Z",
     "shell.execute_reply": "2022-05-27T05:02:35.964921Z"
    },
    "papermill": {
     "duration": 35120.403392,
     "end_time": "2022-05-27T05:02:35.968389",
     "exception": false,
     "start_time": "2022-05-26T19:17:15.564997",
     "status": "completed"
    },
    "tags": []
   },
   "outputs": [
    {
     "name": "stderr",
     "output_type": "stream",
     "text": [
      "2022-05-26 19:17:15.628540: I tensorflow/stream_executor/cuda/cuda_gpu_executor.cc:937] successful NUMA node read from SysFS had negative value (-1), but there must be at least one NUMA node, so returning NUMA node zero\n",
      "2022-05-26 19:17:15.629416: I tensorflow/stream_executor/cuda/cuda_gpu_executor.cc:937] successful NUMA node read from SysFS had negative value (-1), but there must be at least one NUMA node, so returning NUMA node zero\n",
      "2022-05-26 19:17:15.630052: I tensorflow/stream_executor/cuda/cuda_gpu_executor.cc:937] successful NUMA node read from SysFS had negative value (-1), but there must be at least one NUMA node, so returning NUMA node zero\n",
      "2022-05-26 19:17:15.630751: I tensorflow/stream_executor/cuda/cuda_gpu_executor.cc:937] successful NUMA node read from SysFS had negative value (-1), but there must be at least one NUMA node, so returning NUMA node zero\n",
      "2022-05-26 19:17:15.631409: I tensorflow/stream_executor/cuda/cuda_gpu_executor.cc:937] successful NUMA node read from SysFS had negative value (-1), but there must be at least one NUMA node, so returning NUMA node zero\n",
      "2022-05-26 19:17:15.631995: I tensorflow/core/common_runtime/gpu/gpu_device.cc:1510] Created device /job:localhost/replica:0/task:0/device:GPU:0 with 15403 MB memory:  -> device: 0, name: Tesla P100-PCIE-16GB, pci bus id: 0000:00:04.0, compute capability: 6.0\n"
     ]
    },
    {
     "name": "stdout",
     "output_type": "stream",
     "text": [
      "Downloading data from https://storage.googleapis.com/tensorflow/keras-applications/inception_resnet_v2/inception_resnet_v2_weights_tf_dim_ordering_tf_kernels_notop.h5\n",
      "219062272/219055592 [==============================] - 1s 0us/step\n",
      "219070464/219055592 [==============================] - 1s 0us/step\n",
      "Downloading data from https://storage.googleapis.com/tensorflow/keras-applications/vgg19/vgg19_weights_tf_dim_ordering_tf_kernels_notop.h5\n",
      "80142336/80134624 [==============================] - 1s 0us/step\n",
      "80150528/80134624 [==============================] - 1s 0us/step\n"
     ]
    },
    {
     "name": "stderr",
     "output_type": "stream",
     "text": [
      "/opt/conda/lib/python3.7/site-packages/keras/engine/training.py:1972: UserWarning: `Model.fit_generator` is deprecated and will be removed in a future version. Please use `Model.fit`, which supports generators.\n",
      "  warnings.warn('`Model.fit_generator` is deprecated and '\n"
     ]
    },
    {
     "name": "stdout",
     "output_type": "stream",
     "text": [
      "Found 24287 validated image filenames.\n",
      "Found 24287 validated image filenames.\n",
      "Found 24287 validated image filenames.\n",
      "Found 24287 validated image filenames.\n",
      "Found 24287 validated image filenames.\n"
     ]
    },
    {
     "name": "stderr",
     "output_type": "stream",
     "text": [
      "2022-05-26 19:18:57.996753: I tensorflow/compiler/mlir/mlir_graph_optimization_pass.cc:185] None of the MLIR Optimization Passes are enabled (registered 2)\n"
     ]
    },
    {
     "name": "stdout",
     "output_type": "stream",
     "text": [
      "Epoch 1/15\n"
     ]
    },
    {
     "name": "stderr",
     "output_type": "stream",
     "text": [
      "2022-05-26 19:19:15.129507: I tensorflow/stream_executor/cuda/cuda_dnn.cc:369] Loaded cuDNN version 8005\n"
     ]
    },
    {
     "name": "stdout",
     "output_type": "stream",
     "text": [
      "759/759 [==============================] - ETA: 0s - loss: 1.1528 - visibility_loss: 0.2394 - human_activity_loss: 0.3216 - road_water_loss: 0.3445 - primary_loss: 0.1757 - remaining_loss: 0.0716 - visibility_fbeta_score: 0.8170 - human_activity_fbeta_score: 0.5229 - road_water_fbeta_score: 0.5550 - primary_fbeta_score: 0.9695 - remaining_fbeta_score: 0.0164Found 16192 validated image filenames.\n",
      "Found 16192 validated image filenames.\n",
      "Found 16192 validated image filenames.\n",
      "Found 16192 validated image filenames.\n",
      "Found 16192 validated image filenames.\n",
      "759/759 [==============================] - 2375s 3s/step - loss: 1.1528 - visibility_loss: 0.2394 - human_activity_loss: 0.3216 - road_water_loss: 0.3445 - primary_loss: 0.1757 - remaining_loss: 0.0716 - visibility_fbeta_score: 0.8170 - human_activity_fbeta_score: 0.5229 - road_water_fbeta_score: 0.5550 - primary_fbeta_score: 0.9695 - remaining_fbeta_score: 0.0164 - val_loss: 0.8922 - val_visibility_loss: 0.1852 - val_human_activity_loss: 0.2730 - val_road_water_loss: 0.2546 - val_primary_loss: 0.1324 - val_remaining_loss: 0.0470 - val_visibility_fbeta_score: 0.8536 - val_human_activity_fbeta_score: 0.5607 - val_road_water_fbeta_score: 0.6913 - val_primary_fbeta_score: 0.9886 - val_remaining_fbeta_score: 0.0079\n",
      "Epoch 2/15\n",
      "759/759 [==============================] - 2177s 3s/step - loss: 0.9162 - visibility_loss: 0.1874 - human_activity_loss: 0.2721 - road_water_loss: 0.2850 - primary_loss: 0.1299 - remaining_loss: 0.0418 - visibility_fbeta_score: 0.8565 - human_activity_fbeta_score: 0.5729 - road_water_fbeta_score: 0.6162 - primary_fbeta_score: 0.9799 - remaining_fbeta_score: 0.0295 - val_loss: 0.8419 - val_visibility_loss: 0.1746 - val_human_activity_loss: 0.2534 - val_road_water_loss: 0.2323 - val_primary_loss: 0.1151 - val_remaining_loss: 0.0666 - val_visibility_fbeta_score: 0.8779 - val_human_activity_fbeta_score: 0.5827 - val_road_water_fbeta_score: 0.6909 - val_primary_fbeta_score: 0.9879 - val_remaining_fbeta_score: 0.0522\n",
      "Epoch 3/15\n",
      "759/759 [==============================] - 2180s 3s/step - loss: 0.8785 - visibility_loss: 0.1732 - human_activity_loss: 0.2625 - road_water_loss: 0.2756 - primary_loss: 0.1268 - remaining_loss: 0.0405 - visibility_fbeta_score: 0.8679 - human_activity_fbeta_score: 0.5887 - road_water_fbeta_score: 0.6335 - primary_fbeta_score: 0.9816 - remaining_fbeta_score: 0.0522 - val_loss: 1.8527 - val_visibility_loss: 0.2647 - val_human_activity_loss: 0.2583 - val_road_water_loss: 0.2423 - val_primary_loss: 0.1087 - val_remaining_loss: 0.9787 - val_visibility_fbeta_score: 0.8902 - val_human_activity_fbeta_score: 0.6071 - val_road_water_fbeta_score: 0.6656 - val_primary_fbeta_score: 0.9873 - val_remaining_fbeta_score: 0.0538\n",
      "Epoch 4/15\n",
      "759/759 [==============================] - 2188s 3s/step - loss: 0.8587 - visibility_loss: 0.1689 - human_activity_loss: 0.2579 - road_water_loss: 0.2693 - primary_loss: 0.1223 - remaining_loss: 0.0403 - visibility_fbeta_score: 0.8718 - human_activity_fbeta_score: 0.5939 - road_water_fbeta_score: 0.6412 - primary_fbeta_score: 0.9813 - remaining_fbeta_score: 0.0594 - val_loss: 1.0486 - val_visibility_loss: 0.2222 - val_human_activity_loss: 0.2876 - val_road_water_loss: 0.2703 - val_primary_loss: 0.1154 - val_remaining_loss: 0.1531 - val_visibility_fbeta_score: 0.8834 - val_human_activity_fbeta_score: 0.6006 - val_road_water_fbeta_score: 0.7057 - val_primary_fbeta_score: 0.9861 - val_remaining_fbeta_score: 0.0707\n",
      "Epoch 5/15\n",
      "759/759 [==============================] - 2169s 3s/step - loss: 0.8459 - visibility_loss: 0.1649 - human_activity_loss: 0.2553 - road_water_loss: 0.2641 - primary_loss: 0.1217 - remaining_loss: 0.0400 - visibility_fbeta_score: 0.8745 - human_activity_fbeta_score: 0.5989 - road_water_fbeta_score: 0.6450 - primary_fbeta_score: 0.9816 - remaining_fbeta_score: 0.0658 - val_loss: 1.0123 - val_visibility_loss: 0.2049 - val_human_activity_loss: 0.3139 - val_road_water_loss: 0.2947 - val_primary_loss: 0.1073 - val_remaining_loss: 0.0915 - val_visibility_fbeta_score: 0.8922 - val_human_activity_fbeta_score: 0.6306 - val_road_water_fbeta_score: 0.6747 - val_primary_fbeta_score: 0.9823 - val_remaining_fbeta_score: 0.0705\n",
      "Epoch 6/15\n",
      "759/759 [==============================] - 2190s 3s/step - loss: 0.8375 - visibility_loss: 0.1616 - human_activity_loss: 0.2546 - road_water_loss: 0.2632 - primary_loss: 0.1186 - remaining_loss: 0.0396 - visibility_fbeta_score: 0.8785 - human_activity_fbeta_score: 0.6041 - road_water_fbeta_score: 0.6482 - primary_fbeta_score: 0.9816 - remaining_fbeta_score: 0.0531 - val_loss: 1.5733 - val_visibility_loss: 0.1404 - val_human_activity_loss: 0.3006 - val_road_water_loss: 0.3023 - val_primary_loss: 0.1038 - val_remaining_loss: 0.7262 - val_visibility_fbeta_score: 0.8902 - val_human_activity_fbeta_score: 0.5889 - val_road_water_fbeta_score: 0.6780 - val_primary_fbeta_score: 0.9813 - val_remaining_fbeta_score: 0.0584\n",
      "Epoch 7/15\n",
      "759/759 [==============================] - 2419s 3s/step - loss: 0.8271 - visibility_loss: 0.1587 - human_activity_loss: 0.2501 - road_water_loss: 0.2599 - primary_loss: 0.1191 - remaining_loss: 0.0393 - visibility_fbeta_score: 0.8798 - human_activity_fbeta_score: 0.6130 - road_water_fbeta_score: 0.6564 - primary_fbeta_score: 0.9822 - remaining_fbeta_score: 0.0748 - val_loss: 3.1604 - val_visibility_loss: 0.1383 - val_human_activity_loss: 0.3160 - val_road_water_loss: 0.2695 - val_primary_loss: 0.1085 - val_remaining_loss: 2.3282 - val_visibility_fbeta_score: 0.8958 - val_human_activity_fbeta_score: 0.5694 - val_road_water_fbeta_score: 0.6790 - val_primary_fbeta_score: 0.9773 - val_remaining_fbeta_score: 0.0870\n",
      "Epoch 8/15\n",
      "759/759 [==============================] - 2493s 3s/step - loss: 0.8209 - visibility_loss: 0.1567 - human_activity_loss: 0.2477 - road_water_loss: 0.2591 - primary_loss: 0.1184 - remaining_loss: 0.0390 - visibility_fbeta_score: 0.8805 - human_activity_fbeta_score: 0.6119 - road_water_fbeta_score: 0.6602 - primary_fbeta_score: 0.9820 - remaining_fbeta_score: 0.0648 - val_loss: 7.8145 - val_visibility_loss: 0.1922 - val_human_activity_loss: 0.3187 - val_road_water_loss: 0.3147 - val_primary_loss: 0.1023 - val_remaining_loss: 6.8867 - val_visibility_fbeta_score: 0.8879 - val_human_activity_fbeta_score: 0.5984 - val_road_water_fbeta_score: 0.6818 - val_primary_fbeta_score: 0.9824 - val_remaining_fbeta_score: 0.0746\n",
      "Epoch 9/15\n",
      "759/759 [==============================] - 2503s 3s/step - loss: 0.8137 - visibility_loss: 0.1573 - human_activity_loss: 0.2470 - road_water_loss: 0.2543 - primary_loss: 0.1167 - remaining_loss: 0.0384 - visibility_fbeta_score: 0.8822 - human_activity_fbeta_score: 0.6187 - road_water_fbeta_score: 0.6652 - primary_fbeta_score: 0.9825 - remaining_fbeta_score: 0.0667 - val_loss: 15.9600 - val_visibility_loss: 0.1918 - val_human_activity_loss: 0.3108 - val_road_water_loss: 0.2595 - val_primary_loss: 0.1081 - val_remaining_loss: 15.0899 - val_visibility_fbeta_score: 0.8944 - val_human_activity_fbeta_score: 0.6092 - val_road_water_fbeta_score: 0.7129 - val_primary_fbeta_score: 0.9850 - val_remaining_fbeta_score: 0.1037\n",
      "Epoch 10/15\n",
      "759/759 [==============================] - 2473s 3s/step - loss: 0.8097 - visibility_loss: 0.1548 - human_activity_loss: 0.2464 - road_water_loss: 0.2538 - primary_loss: 0.1167 - remaining_loss: 0.0380 - visibility_fbeta_score: 0.8842 - human_activity_fbeta_score: 0.6213 - road_water_fbeta_score: 0.6679 - primary_fbeta_score: 0.9829 - remaining_fbeta_score: 0.0766 - val_loss: 7.8750 - val_visibility_loss: 0.1595 - val_human_activity_loss: 0.2733 - val_road_water_loss: 0.2576 - val_primary_loss: 0.1118 - val_remaining_loss: 7.0728 - val_visibility_fbeta_score: 0.8992 - val_human_activity_fbeta_score: 0.5714 - val_road_water_fbeta_score: 0.6900 - val_primary_fbeta_score: 0.9793 - val_remaining_fbeta_score: 0.1093\n",
      "Epoch 11/15\n",
      "759/759 [==============================] - 2408s 3s/step - loss: 0.8039 - visibility_loss: 0.1535 - human_activity_loss: 0.2452 - road_water_loss: 0.2513 - primary_loss: 0.1159 - remaining_loss: 0.0380 - visibility_fbeta_score: 0.8844 - human_activity_fbeta_score: 0.6188 - road_water_fbeta_score: 0.6733 - primary_fbeta_score: 0.9822 - remaining_fbeta_score: 0.0694 - val_loss: 5.6273 - val_visibility_loss: 0.1441 - val_human_activity_loss: 0.2950 - val_road_water_loss: 0.2872 - val_primary_loss: 0.1002 - val_remaining_loss: 4.8008 - val_visibility_fbeta_score: 0.8968 - val_human_activity_fbeta_score: 0.5982 - val_road_water_fbeta_score: 0.6853 - val_primary_fbeta_score: 0.9855 - val_remaining_fbeta_score: 0.0759\n",
      "Epoch 12/15\n",
      "759/759 [==============================] - 2386s 3s/step - loss: 0.8031 - visibility_loss: 0.1539 - human_activity_loss: 0.2446 - road_water_loss: 0.2528 - primary_loss: 0.1143 - remaining_loss: 0.0375 - visibility_fbeta_score: 0.8853 - human_activity_fbeta_score: 0.6246 - road_water_fbeta_score: 0.6734 - primary_fbeta_score: 0.9823 - remaining_fbeta_score: 0.0812 - val_loss: 2.2930 - val_visibility_loss: 0.1491 - val_human_activity_loss: 0.2917 - val_road_water_loss: 0.3368 - val_primary_loss: 0.1000 - val_remaining_loss: 1.4154 - val_visibility_fbeta_score: 0.8982 - val_human_activity_fbeta_score: 0.5846 - val_road_water_fbeta_score: 0.6781 - val_primary_fbeta_score: 0.9822 - val_remaining_fbeta_score: 0.0496\n",
      "Epoch 13/15\n",
      "759/759 [==============================] - 2390s 3s/step - loss: 0.8009 - visibility_loss: 0.1536 - human_activity_loss: 0.2446 - road_water_loss: 0.2503 - primary_loss: 0.1142 - remaining_loss: 0.0382 - visibility_fbeta_score: 0.8876 - human_activity_fbeta_score: 0.6214 - road_water_fbeta_score: 0.6725 - primary_fbeta_score: 0.9821 - remaining_fbeta_score: 0.0793 - val_loss: 4.5737 - val_visibility_loss: 0.1684 - val_human_activity_loss: 0.3153 - val_road_water_loss: 0.3126 - val_primary_loss: 0.1016 - val_remaining_loss: 3.6759 - val_visibility_fbeta_score: 0.8998 - val_human_activity_fbeta_score: 0.6103 - val_road_water_fbeta_score: 0.7024 - val_primary_fbeta_score: 0.9821 - val_remaining_fbeta_score: 0.0495\n",
      "Epoch 14/15\n",
      "759/759 [==============================] - 2326s 3s/step - loss: 0.7946 - visibility_loss: 0.1515 - human_activity_loss: 0.2436 - road_water_loss: 0.2495 - primary_loss: 0.1115 - remaining_loss: 0.0384 - visibility_fbeta_score: 0.8869 - human_activity_fbeta_score: 0.6256 - road_water_fbeta_score: 0.6714 - primary_fbeta_score: 0.9828 - remaining_fbeta_score: 0.0828 - val_loss: 4.4641 - val_visibility_loss: 0.1548 - val_human_activity_loss: 0.4599 - val_road_water_loss: 0.2711 - val_primary_loss: 0.1013 - val_remaining_loss: 3.4771 - val_visibility_fbeta_score: 0.9030 - val_human_activity_fbeta_score: 0.6125 - val_road_water_fbeta_score: 0.7033 - val_primary_fbeta_score: 0.9804 - val_remaining_fbeta_score: 0.0559\n",
      "Epoch 15/15\n",
      "759/759 [==============================] - 2318s 3s/step - loss: 0.7871 - visibility_loss: 0.1501 - human_activity_loss: 0.2427 - road_water_loss: 0.2453 - primary_loss: 0.1118 - remaining_loss: 0.0373 - visibility_fbeta_score: 0.8867 - human_activity_fbeta_score: 0.6218 - road_water_fbeta_score: 0.6792 - primary_fbeta_score: 0.9824 - remaining_fbeta_score: 0.0838 - val_loss: 8.5393 - val_visibility_loss: 0.1789 - val_human_activity_loss: 0.4232 - val_road_water_loss: 0.3126 - val_primary_loss: 0.0997 - val_remaining_loss: 7.5250 - val_visibility_fbeta_score: 0.8963 - val_human_activity_fbeta_score: 0.6029 - val_road_water_fbeta_score: 0.7044 - val_primary_fbeta_score: 0.9832 - val_remaining_fbeta_score: 0.0496\n"
     ]
    }
   ],
   "source": [
    "model = create_model()\n",
    "\n",
    "BATCH_SIZE = 32\n",
    "\n",
    "model_history = model.fit_generator(train_generator,\n",
    "                    steps_per_epoch = math.ceil(df_TrainData['filename'].count()/BATCH_SIZE),\n",
    "                    epochs=15,\n",
    "                    verbose=1,\n",
    "                    validation_data=validation_generator,\n",
    "                    validation_steps = math.ceil(df_ValData['filename'].count()/BATCH_SIZE),\n",
    "                    callbacks=myCallback()\n",
    "                   )\n",
    "\n",
    "history = model_history.history"
   ]
  },
  {
   "cell_type": "markdown",
   "id": "e52a0280",
   "metadata": {
    "papermill": {
     "duration": 3.812607,
     "end_time": "2022-05-27T05:02:43.672272",
     "exception": false,
     "start_time": "2022-05-27T05:02:39.859665",
     "status": "completed"
    },
    "tags": []
   },
   "source": [
    "## Save/Load Keras Model and History"
   ]
  },
  {
   "cell_type": "code",
   "execution_count": 14,
   "id": "8e590c0a",
   "metadata": {
    "execution": {
     "iopub.execute_input": "2022-05-27T05:02:51.599027Z",
     "iopub.status.busy": "2022-05-27T05:02:51.598753Z",
     "iopub.status.idle": "2022-05-27T05:02:58.331060Z",
     "shell.execute_reply": "2022-05-27T05:02:58.330249Z"
    },
    "papermill": {
     "duration": 10.587502,
     "end_time": "2022-05-27T05:02:58.334385",
     "exception": false,
     "start_time": "2022-05-27T05:02:47.746883",
     "status": "completed"
    },
    "tags": []
   },
   "outputs": [],
   "source": [
    "# Save\n",
    "import pickle\n",
    "from keras.models import load_model\n",
    "with open(\"/kaggle/working/InceptionNVGG19_Untrainable_V2.pkl\", 'wb') as f:\n",
    "    pickle.dump(history, f)\n",
    "model.save(\"/kaggle/working/InceptionNVGG19_Untrainable_V2.h5\")"
   ]
  },
  {
   "cell_type": "code",
   "execution_count": 15,
   "id": "c09855d1",
   "metadata": {
    "execution": {
     "iopub.execute_input": "2022-05-27T05:03:06.950986Z",
     "iopub.status.busy": "2022-05-27T05:03:06.950698Z",
     "iopub.status.idle": "2022-05-27T05:03:06.954424Z",
     "shell.execute_reply": "2022-05-27T05:03:06.953585Z"
    },
    "papermill": {
     "duration": 3.895412,
     "end_time": "2022-05-27T05:03:06.956724",
     "exception": false,
     "start_time": "2022-05-27T05:03:03.061312",
     "status": "completed"
    },
    "tags": []
   },
   "outputs": [],
   "source": [
    "# # Load\n",
    "# from tensorflow import keras\n",
    "# import pickle\n",
    "# model = keras.models.load_model(\"/kaggle/working/InceptionV3_Untrainable_V2.h5\")\n",
    "# with open(\"/kaggle/working/InceptionV3_Untrainable_V2.pkl\", 'rb') as f:\n",
    "#     history = pickle.load(f)"
   ]
  },
  {
   "cell_type": "markdown",
   "id": "7a9a2a3c",
   "metadata": {
    "papermill": {
     "duration": 3.848142,
     "end_time": "2022-05-27T05:03:14.904367",
     "exception": false,
     "start_time": "2022-05-27T05:03:11.056225",
     "status": "completed"
    },
    "tags": []
   },
   "source": [
    "## Plot History"
   ]
  },
  {
   "cell_type": "code",
   "execution_count": 16,
   "id": "7d751211",
   "metadata": {
    "execution": {
     "iopub.execute_input": "2022-05-27T05:03:23.245491Z",
     "iopub.status.busy": "2022-05-27T05:03:23.245189Z",
     "iopub.status.idle": "2022-05-27T05:03:23.730289Z",
     "shell.execute_reply": "2022-05-27T05:03:23.729532Z"
    },
    "papermill": {
     "duration": 4.981642,
     "end_time": "2022-05-27T05:03:23.732644",
     "exception": false,
     "start_time": "2022-05-27T05:03:18.751002",
     "status": "completed"
    },
    "tags": []
   },
   "outputs": [
    {
     "data": {
      "image/png": "[encoded data removed]",
      "text/plain": [
       "<Figure size 432x288 with 1 Axes>"
      ]
     },
     "metadata": {
      "needs_background": "light"
     },
     "output_type": "display_data"
    },
    {
     "data": {
      "image/png": "[encoded data removed]",
      "text/plain": [
       "<Figure size 432x288 with 1 Axes>"
      ]
     },
     "metadata": {
      "needs_background": "light"
     },
     "output_type": "display_data"
    }
   ],
   "source": [
    "#-----------------------------------------------------------\n",
    "# Retrieve a list of list results on training and test data\n",
    "# sets for each training epoch\n",
    "#-----------------------------------------------------------\n",
    "loss=history['loss']\n",
    "val_loss=history['val_loss']\n",
    "\n",
    "epochs=np.array(range(len(loss)))+1 # Get number of epochs\n",
    "\n",
    "#------------------------------------------------\n",
    "# Plot training and validation loss per epoch\n",
    "#------------------------------------------------\n",
    "plt.plot(epochs, loss, label=\"Training Loss\")\n",
    "plt.plot(epochs, val_loss, label=\"Validation Loss\")\n",
    "plt.title('Training and validation Loss')\n",
    "plt.xlim([0, 15])\n",
    "plt.legend(loc='center left', bbox_to_anchor=(1, 0.5))\n",
    "plt.show()\n",
    "\n",
    "#------------------------------------------------\n",
    "# Plot training and validation F Scores per epoch\n",
    "#------------------------------------------------\n",
    "plt.plot(epochs, history['visibility_fbeta_score'], label=\"Visibility - Train\")\n",
    "plt.plot(epochs, history['val_visibility_fbeta_score'], label=\"Visibility - Validation\")\n",
    "plt.plot(epochs, history['human_activity_fbeta_score'], label=\"Human Activity  - Train\")\n",
    "plt.plot(epochs, history['val_human_activity_fbeta_score'], label=\"Human Activity  - Validation\")\n",
    "plt.plot(epochs, history['road_water_fbeta_score'], label=\"Road-Water - Train\")\n",
    "plt.plot(epochs, history['val_road_water_fbeta_score'], label=\"Road-Water - Validation\")\n",
    "plt.plot(epochs, history['primary_fbeta_score'], label=\"Primary - Train\")\n",
    "plt.plot(epochs, history['val_primary_fbeta_score'], label=\"Primary - Validation\")\n",
    "plt.plot(epochs, history['remaining_fbeta_score'], label=\"Remaining - Train\")\n",
    "plt.plot(epochs, history['val_remaining_fbeta_score'], label=\"Remaining - Validation\")\n",
    "plt.title('F-Beta Score')\n",
    "plt.xlim([0, 15])\n",
    "plt.legend(loc='center left', bbox_to_anchor=(1, 0.5))\n",
    "plt.show()"
   ]
  },
  {
   "cell_type": "markdown",
   "id": "14bde6da",
   "metadata": {
    "papermill": {
     "duration": 4.23991,
     "end_time": "2022-05-27T05:03:32.562890",
     "exception": false,
     "start_time": "2022-05-27T05:03:28.322980",
     "status": "completed"
    },
    "tags": []
   },
   "source": [
    "## Submission"
   ]
  },
  {
   "cell_type": "code",
   "execution_count": 17,
   "id": "45946a1e",
   "metadata": {
    "execution": {
     "iopub.execute_input": "2022-05-27T05:03:40.291319Z",
     "iopub.status.busy": "2022-05-27T05:03:40.291048Z",
     "iopub.status.idle": "2022-05-27T05:03:40.313098Z",
     "shell.execute_reply": "2022-05-27T05:03:40.312374Z"
    },
    "papermill": {
     "duration": 3.893243,
     "end_time": "2022-05-27T05:03:40.314912",
     "exception": false,
     "start_time": "2022-05-27T05:03:36.421669",
     "status": "completed"
    },
    "tags": []
   },
   "outputs": [],
   "source": [
    "import matplotlib.image as mpimg\n",
    "from IPython.display import clear_output\n",
    "\n",
    "def GetPredictions(df_Submission, ImageFolderPath):\n",
    "\n",
    "    start_time = datetime.now()\n",
    "    iteration_time = start_time\n",
    "    df_Submission.image_name = df_Submission.image_name+'.jpg'\n",
    "\n",
    "    predicted = np.array([np.zeros(4), np.zeros(3), np.zeros(2), np.zeros(2), np.zeros(6)], dtype=object)\n",
    "    predicted = [predicted]*df_Submission.image_name.count()\n",
    "\n",
    "    for i, row in enumerate(df_Submission.to_numpy()):\n",
    "        img = mpimg.imread(os.path.join(ImageFolderPath, row[0]))\n",
    "        img = img[:,:,:3]\n",
    "        img = np.array([img])\n",
    "        predicted[i] = model.predict(img)\n",
    "        iteration_elapsed = datetime.now()-iteration_time\n",
    "        if(iteration_elapsed.total_seconds()>5.00):\n",
    "            iteration_time = datetime.now()\n",
    "            elapsed_time = (datetime.now()-start_time)\n",
    "            estimate_to_completion = (elapsed_time/i)*(df_Submission.count()[0]-i)\n",
    "            clear_output(wait=True)\n",
    "            print('Completed\\t\\t\\t', \"{:.2f}\".format(100*i/df_Submission.image_name.count()),'%')\n",
    "            print('Elapsed time:\\t\\t', elapsed_time)\n",
    "            print('Estimate to completion:\\t', estimate_to_completion)\n",
    "\n",
    "    clear_output(wait=True)\n",
    "    print('completed 100 %')\n",
    "    elapsed_time = (datetime.now()-start_time)\n",
    "    print('Elapsed time: ', elapsed_time)\n",
    "    return predicted\n",
    "\n",
    "def GetPedictGeneratorOutput(prediction, index):\n",
    "    return [predictions[0][index], predictions[1][index], predictions[2][index], predictions[3][index], predictions[4][index]]\n",
    "\n",
    "def GetLabelsFromPrediction(ModelOutput, threshold):\n",
    "    label = \"\"\n",
    "    if(ModelOutput[1][0] > threshold):\n",
    "        label = label + \" agriculture\"\n",
    "    if(ModelOutput[4][0] > threshold):\n",
    "        label = label + \" artisinal_mine\"\n",
    "    if(ModelOutput[4][1] > threshold):\n",
    "        label = label + \" bare_ground\"\n",
    "    if(ModelOutput[4][2] > threshold):\n",
    "        label = label + \" blooming\"\n",
    "    if(ModelOutput[4][3] > threshold):\n",
    "        label = label + \" blow_down\"\n",
    "    if(ModelOutput[0][0] > threshold):\n",
    "        label = label + \" clear\"\n",
    "    if(ModelOutput[0][3] > threshold):\n",
    "        label = label + \" cloudy\"\n",
    "    if(ModelOutput[4][4] > threshold):\n",
    "        label = label + \" conventional_mine\"\n",
    "    if(ModelOutput[1][1] > threshold):\n",
    "        label = label + \" cultivation\"\n",
    "    if(ModelOutput[1][2] > threshold):\n",
    "        label = label + \" habitation\"\n",
    "    if(ModelOutput[0][1] > threshold):\n",
    "        label = label + \" haze\"\n",
    "    if(ModelOutput[0][2] > threshold):\n",
    "        label = label + \" partly_cloudy\"\n",
    "    if(ModelOutput[3][0] > threshold):\n",
    "        label = label + \" primary\"\n",
    "    if(ModelOutput[2][0] > threshold):\n",
    "        label = label + \" road\"\n",
    "    if(ModelOutput[4][5] > threshold):\n",
    "        label = label + \" selective_logging\"\n",
    "    if(ModelOutput[4][6] > threshold):\n",
    "        label = label + \" slash_burn\"\n",
    "    if(ModelOutput[2][1] > threshold):\n",
    "        label = label + \" water\"\n",
    "    return label.lstrip()\n",
    "\n",
    "\n",
    "def InsertLabels_Dataframe(df_Submission, predicted, threshold):\n",
    "    pred = []\n",
    "    for i in range(len(predicted[0])):\n",
    "        pred.append([])\n",
    "        pred[i] = [predicted[0][i], predicted[1][i], predicted[2][i], predicted[3][i], predicted[4][i]]\n",
    "    for i, ModelOutput in enumerate(pred):\n",
    "        df_Submission['tags'][i]=GetLabelsFromPrediction(ModelOutput, threshold)"
   ]
  },
  {
   "cell_type": "code",
   "execution_count": 18,
   "id": "5412532a",
   "metadata": {
    "execution": {
     "iopub.execute_input": "2022-05-27T05:03:48.430123Z",
     "iopub.status.busy": "2022-05-27T05:03:48.429829Z",
     "iopub.status.idle": "2022-05-27T05:17:21.696703Z",
     "shell.execute_reply": "2022-05-27T05:17:21.695833Z"
    },
    "papermill": {
     "duration": 822.031987,
     "end_time": "2022-05-27T05:17:26.499860",
     "exception": false,
     "start_time": "2022-05-27T05:03:44.467873",
     "status": "completed"
    },
    "tags": []
   },
   "outputs": [
    {
     "name": "stdout",
     "output_type": "stream",
     "text": [
      "Found 61191 validated image filenames.\n",
      "1913/1913 [==============================] - 602s 312ms/step\n"
     ]
    },
    {
     "name": "stderr",
     "output_type": "stream",
     "text": [
      "/opt/conda/lib/python3.7/site-packages/ipykernel_launcher.py:19: FutureWarning: The default value of regex will change from True to False in a future version.\n"
     ]
    }
   ],
   "source": [
    "df_Submission = pd.read_csv('../input/amazon-satellite/raw-data/sample_submission_v2/sample_submission_v2.csv')\n",
    "Test_FolderPath = '../input/amazon-satellite/raw-data/test-jpg'\n",
    "\n",
    "df_Submission['image_name'] = df_Submission['image_name'] + '.jpg'\n",
    "\n",
    "validation_datagen = ImageDataGenerator(rescale=1.0/255.0)\n",
    "validation_generator = validation_datagen.flow_from_dataframe(dataframe=df_Submission,\n",
    "                                                                directory=Test_FolderPath,\n",
    "                                                                x_col=df_Submission.columns[0],\n",
    "                                                                y_col=df_Submission.columns[1:len(df_Submission.columns)],\n",
    "                                                                batch_size=32,\n",
    "                                                                class_mode='raw',\n",
    "                                                                shuffle=False,\n",
    "                                                                target_size=(256, 256))\n",
    "\n",
    "predictions = model.predict(validation_generator, verbose=1)\n",
    "InsertLabels_Dataframe(df_Submission, predictions, threshold=0.5)\n",
    "\n",
    "df_Submission['image_name'] = df_Submission['image_name'].str.replace('.jpg', '')\n",
    "df_Submission.to_csv('/kaggle/working/submission.csv', index=None)"
   ]
  }
 ],
 "metadata": {
  "kernelspec": {
   "display_name": "Python 3",
   "language": "python",
   "name": "python3"
  },
  "language_info": {
   "codemirror_mode": {
    "name": "ipython",
    "version": 3
   },
   "file_extension": ".py",
   "mimetype": "text/x-python",
   "name": "python",
   "nbconvert_exporter": "python",
   "pygments_lexer": "ipython3",
   "version": "3.7.12"
  },
  "papermill": {
   "default_parameters": {},
   "duration": 36041.933382,
   "end_time": "2022-05-27T05:17:33.747858",
   "environment_variables": {},
   "exception": null,
   "input_path": "__notebook__.ipynb",
   "output_path": "__notebook__.ipynb",
   "parameters": {},
   "start_time": "2022-05-26T19:16:51.814476",
   "version": "2.3.4"
  }
 },
 "nbformat": 4,
 "nbformat_minor": 5
}
