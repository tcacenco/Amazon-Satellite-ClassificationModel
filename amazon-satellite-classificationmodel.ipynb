{
 "cells": [
  {
   "cell_type": "code",
   "execution_count": 1,
   "id": "273ae26c",
   "metadata": {
    "execution": {
     "iopub.execute_input": "2022-06-28T18:03:58.345039Z",
     "iopub.status.busy": "2022-06-28T18:03:58.344702Z",
     "iopub.status.idle": "2022-06-28T18:04:03.950157Z",
     "shell.execute_reply": "2022-06-28T18:04:03.949238Z"
    },
    "papermill": {
     "duration": 5.630558,
     "end_time": "2022-06-28T18:04:03.952575",
     "exception": false,
     "start_time": "2022-06-28T18:03:58.322017",
     "status": "completed"
    },
    "tags": []
   },
   "outputs": [],
   "source": [
    "from datetime import datetime\n",
    "from datetime import timedelta\n",
    "import os\n",
    "import math\n",
    "import statistics\n",
    "import numpy as np\n",
    "import pandas as pd\n",
    "import matplotlib.pyplot as plt\n",
    "import matplotlib.image as mpimg\n",
    "from IPython.display import clear_output\n",
    "\n",
    "import tensorflow as tf\n",
    "from tensorflow.keras.preprocessing.image import ImageDataGenerator\n",
    "\n",
    "from tensorflow.keras.applications.inception_v3 import InceptionV3\n",
    "from tensorflow.keras.optimizers import RMSprop\n",
    "import tensorflow_addons as tfa"
   ]
  },
  {
   "cell_type": "markdown",
   "id": "82d8e357",
   "metadata": {
    "papermill": {
     "duration": 0.021351,
     "end_time": "2022-06-28T18:04:03.995415",
     "exception": false,
     "start_time": "2022-06-28T18:04:03.974064",
     "status": "completed"
    },
    "tags": []
   },
   "source": [
    "## Def functions: One-Hot Encoding and Split Data (Dataframe)"
   ]
  },
  {
   "cell_type": "code",
   "execution_count": 2,
   "id": "da282c7d",
   "metadata": {
    "execution": {
     "iopub.execute_input": "2022-06-28T18:04:04.036502Z",
     "iopub.status.busy": "2022-06-28T18:04:04.036243Z",
     "iopub.status.idle": "2022-06-28T18:04:04.048390Z",
     "shell.execute_reply": "2022-06-28T18:04:04.047711Z"
    },
    "papermill": {
     "duration": 0.034686,
     "end_time": "2022-06-28T18:04:04.050020",
     "exception": false,
     "start_time": "2022-06-28T18:04:04.015334",
     "status": "completed"
    },
    "tags": []
   },
   "outputs": [],
   "source": [
    "def Get_ListOfLabels(df_InputLabels):\n",
    "    df_Tags = df_InputLabels.str.split(expand=True)\n",
    "    columns = len(df_Tags.columns)\n",
    "\n",
    "    for i in range(columns):\n",
    "        if i == 0:\n",
    "            df_aux = pd.DataFrame(df_Tags[0])\n",
    "        else:\n",
    "            df_aux = df_aux.append(pd.DataFrame(df_Tags[i].rename(index=0)))\n",
    "\n",
    "    LabelList = (df_aux.drop_duplicates().sort_values([0], ascending=[True]))[0].tolist()\n",
    "    LabelList = list(filter(None, LabelList))\n",
    "    return LabelList\n",
    "\n",
    "\n",
    "def Get_LabelEncodedArray(df_InputLabels, LabelList):\n",
    "    LabelArray = np.zeros((df_InputLabels.count(), len(LabelList)))\n",
    "    TagsArray = df_InputLabels.str.split(expand=True).to_numpy()\n",
    "\n",
    "    for i in range(TagsArray.shape[0]):\n",
    "        for j in range(TagsArray.shape[1]):\n",
    "            for k in range(len(LabelList)):\n",
    "                if(TagsArray[i][j]== LabelList[k]):\n",
    "                    LabelArray[i][k] = 1\n",
    "\n",
    "    return LabelArray\n",
    "\n",
    "def OneHotToStringLabels(OneHotArray, LabelList, delimiter):\n",
    "    string_labels = \"\"\n",
    "    if(len(OneHotArray)!=len(LabelList)):\n",
    "        raise Exception(\"OneHotArray does not match LabelList len/size\")\n",
    "\n",
    "    for i in range(len(OneHotArray)):\n",
    "        if(OneHotArray[i] == 1.0):\n",
    "            if(string_labels == \"\"):\n",
    "                string_labels = LabelList[i]\n",
    "            else:\n",
    "                string_labels = string_labels+delimiter+LabelList[i]\n",
    "    return string_labels\n",
    "\n",
    "def SplitData(df_Dataset, Ratio):\n",
    "\n",
    "    df_TrainData = pd.DataFrame(df_Dataset).sample(round(Ratio * df_Dataset['filename'].count()))\n",
    "\n",
    "    df_ValData = pd.DataFrame(df_Dataset)\n",
    "    condition = df_ValData['filename'].isin(df_TrainData['filename'])\n",
    "    df_ValData = df_ValData.drop(df_ValData[condition].index)\n",
    "\n",
    "    return df_TrainData, df_ValData"
   ]
  },
  {
   "cell_type": "markdown",
   "id": "d93abf98",
   "metadata": {
    "papermill": {
     "duration": 0.020024,
     "end_time": "2022-06-28T18:04:04.090368",
     "exception": false,
     "start_time": "2022-06-28T18:04:04.070344",
     "status": "completed"
    },
    "tags": []
   },
   "source": [
    "### **Encoding labels:** One-Hot"
   ]
  },
  {
   "cell_type": "code",
   "execution_count": 3,
   "id": "75efc68d",
   "metadata": {
    "execution": {
     "iopub.execute_input": "2022-06-28T18:04:04.133422Z",
     "iopub.status.busy": "2022-06-28T18:04:04.133034Z",
     "iopub.status.idle": "2022-06-28T18:04:09.197078Z",
     "shell.execute_reply": "2022-06-28T18:04:09.196233Z"
    },
    "papermill": {
     "duration": 5.087024,
     "end_time": "2022-06-28T18:04:09.199668",
     "exception": false,
     "start_time": "2022-06-28T18:04:04.112644",
     "status": "completed"
    },
    "tags": []
   },
   "outputs": [],
   "source": [
    "source_path = \"../input/amazon-satellite/raw-data\"\n",
    "source_path_Labels = os.path.join(source_path, 'train_v2.csv')\n",
    "source_path_Images = os.path.join(source_path, 'train-jpg')\n",
    "\n",
    "df_Raw = pd.read_csv(source_path_Labels)\n",
    "LabelList = Get_ListOfLabels(df_Raw.tags)\n",
    "\n",
    "Get_LabelEncodedArray(df_Raw.tags, LabelList)\n",
    "df_Dataset = pd.DataFrame(Get_LabelEncodedArray(df_Raw.tags, LabelList), columns=LabelList)\n",
    "df_Dataset['filename'] = df_Raw.image_name.to_list()\n",
    "df_Dataset['filename'] = df_Dataset['filename']+'.jpg'\n",
    "df_Dataset = df_Dataset.loc[: , ['filename']+LabelList]"
   ]
  },
  {
   "cell_type": "markdown",
   "id": "f44dda5f",
   "metadata": {
    "papermill": {
     "duration": 0.021289,
     "end_time": "2022-06-28T18:04:09.242054",
     "exception": false,
     "start_time": "2022-06-28T18:04:09.220765",
     "status": "completed"
    },
    "tags": []
   },
   "source": [
    "## Data Exploration\n",
    "- Finding correlation between classes/labels and mutual exclusivity"
   ]
  },
  {
   "cell_type": "code",
   "execution_count": 4,
   "id": "2d80b130",
   "metadata": {
    "execution": {
     "iopub.execute_input": "2022-06-28T18:04:09.284010Z",
     "iopub.status.busy": "2022-06-28T18:04:09.283785Z",
     "iopub.status.idle": "2022-06-28T18:04:09.340511Z",
     "shell.execute_reply": "2022-06-28T18:04:09.339801Z"
    },
    "papermill": {
     "duration": 0.081142,
     "end_time": "2022-06-28T18:04:09.343611",
     "exception": false,
     "start_time": "2022-06-28T18:04:09.262469",
     "status": "completed"
    },
    "tags": []
   },
   "outputs": [
    {
     "name": "stdout",
     "output_type": "stream",
     "text": [
      "                   agriculture  artisinal_mine  bare_ground  blooming  \\\n",
      "agriculture           1.000000             NaN          NaN       NaN   \n",
      "artisinal_mine             NaN             1.0          NaN       NaN   \n",
      "bare_ground                NaN             NaN          1.0       NaN   \n",
      "blooming                   NaN             NaN          NaN       1.0   \n",
      "blow_down                  NaN             NaN          NaN       NaN   \n",
      "clear                      NaN             NaN          NaN       NaN   \n",
      "cloudy                     NaN             NaN          NaN       NaN   \n",
      "conventional_mine          NaN             NaN          NaN       NaN   \n",
      "cultivation           0.344964             NaN          NaN       NaN   \n",
      "habitation            0.303979             NaN          NaN       NaN   \n",
      "haze                       NaN             NaN          NaN       NaN   \n",
      "partly_cloudy              NaN             NaN          NaN       NaN   \n",
      "primary                    NaN             NaN          NaN       NaN   \n",
      "road                  0.480930             NaN          NaN       NaN   \n",
      "selective_logging          NaN             NaN          NaN       NaN   \n",
      "slash_burn                 NaN             NaN          NaN       NaN   \n",
      "water                      NaN             NaN          NaN       NaN   \n",
      "\n",
      "                   blow_down  clear  cloudy  conventional_mine  cultivation  \\\n",
      "agriculture              NaN    NaN     NaN                NaN     0.344964   \n",
      "artisinal_mine           NaN    NaN     NaN                NaN          NaN   \n",
      "bare_ground              NaN    NaN     NaN                NaN          NaN   \n",
      "blooming                 NaN    NaN     NaN                NaN          NaN   \n",
      "blow_down                1.0    NaN     NaN                NaN          NaN   \n",
      "clear                    NaN    1.0     NaN                NaN          NaN   \n",
      "cloudy                   NaN    NaN     1.0                NaN          NaN   \n",
      "conventional_mine        NaN    NaN     NaN                1.0          NaN   \n",
      "cultivation              NaN    NaN     NaN                NaN     1.000000   \n",
      "habitation               NaN    NaN     NaN                NaN          NaN   \n",
      "haze                     NaN    NaN     NaN                NaN          NaN   \n",
      "partly_cloudy            NaN    NaN     NaN                NaN          NaN   \n",
      "primary                  NaN    NaN     NaN                NaN          NaN   \n",
      "road                     NaN    NaN     NaN                NaN          NaN   \n",
      "selective_logging        NaN    NaN     NaN                NaN          NaN   \n",
      "slash_burn               NaN    NaN     NaN                NaN          NaN   \n",
      "water                    NaN    NaN     NaN                NaN          NaN   \n",
      "\n",
      "                   habitation  haze  partly_cloudy  primary      road  \\\n",
      "agriculture          0.303979   NaN            NaN      NaN  0.480930   \n",
      "artisinal_mine            NaN   NaN            NaN      NaN       NaN   \n",
      "bare_ground               NaN   NaN            NaN      NaN       NaN   \n",
      "blooming                  NaN   NaN            NaN      NaN       NaN   \n",
      "blow_down                 NaN   NaN            NaN      NaN       NaN   \n",
      "clear                     NaN   NaN            NaN      NaN       NaN   \n",
      "cloudy                    NaN   NaN            NaN      NaN       NaN   \n",
      "conventional_mine         NaN   NaN            NaN      NaN       NaN   \n",
      "cultivation               NaN   NaN            NaN      NaN       NaN   \n",
      "habitation           1.000000   NaN            NaN      NaN  0.443341   \n",
      "haze                      NaN   1.0            NaN      NaN       NaN   \n",
      "partly_cloudy             NaN   NaN            1.0      NaN       NaN   \n",
      "primary                   NaN   NaN            NaN      1.0       NaN   \n",
      "road                 0.443341   NaN            NaN      NaN  1.000000   \n",
      "selective_logging         NaN   NaN            NaN      NaN       NaN   \n",
      "slash_burn                NaN   NaN            NaN      NaN       NaN   \n",
      "water                     NaN   NaN            NaN      NaN       NaN   \n",
      "\n",
      "                   selective_logging  slash_burn  water  \n",
      "agriculture                      NaN         NaN    NaN  \n",
      "artisinal_mine                   NaN         NaN    NaN  \n",
      "bare_ground                      NaN         NaN    NaN  \n",
      "blooming                         NaN         NaN    NaN  \n",
      "blow_down                        NaN         NaN    NaN  \n",
      "clear                            NaN         NaN    NaN  \n",
      "cloudy                           NaN         NaN    NaN  \n",
      "conventional_mine                NaN         NaN    NaN  \n",
      "cultivation                      NaN         NaN    NaN  \n",
      "habitation                       NaN         NaN    NaN  \n",
      "haze                             NaN         NaN    NaN  \n",
      "partly_cloudy                    NaN         NaN    NaN  \n",
      "primary                          NaN         NaN    NaN  \n",
      "road                             NaN         NaN    NaN  \n",
      "selective_logging                1.0         NaN    NaN  \n",
      "slash_burn                       NaN         1.0    NaN  \n",
      "water                            NaN         NaN    1.0  \n"
     ]
    }
   ],
   "source": [
    "# Find labels with high correlation\n",
    "df_corr = df_Dataset.corr()\n",
    "print(df_corr[df_corr>0.3])"
   ]
  },
  {
   "cell_type": "code",
   "execution_count": 5,
   "id": "3d5f2ade",
   "metadata": {
    "execution": {
     "iopub.execute_input": "2022-06-28T18:04:09.392896Z",
     "iopub.status.busy": "2022-06-28T18:04:09.392654Z",
     "iopub.status.idle": "2022-06-28T18:04:09.439727Z",
     "shell.execute_reply": "2022-06-28T18:04:09.438816Z"
    },
    "papermill": {
     "duration": 0.073124,
     "end_time": "2022-06-28T18:04:09.442420",
     "exception": false,
     "start_time": "2022-06-28T18:04:09.369296",
     "status": "completed"
    },
    "tags": []
   },
   "outputs": [
    {
     "name": "stdout",
     "output_type": "stream",
     "text": [
      "                   agriculture  artisinal_mine  bare_ground  blooming  \\\n",
      "agriculture                NaN             NaN          NaN       NaN   \n",
      "artisinal_mine             NaN             NaN          NaN       NaN   \n",
      "bare_ground                NaN             NaN          NaN       NaN   \n",
      "blooming                   NaN             NaN          NaN       NaN   \n",
      "blow_down                  NaN             NaN          NaN       NaN   \n",
      "clear                      NaN             NaN          NaN       NaN   \n",
      "cloudy                     NaN             NaN          NaN       NaN   \n",
      "conventional_mine          NaN             NaN          NaN       NaN   \n",
      "cultivation                NaN             NaN          NaN       NaN   \n",
      "habitation                 NaN             NaN          NaN       NaN   \n",
      "haze                       NaN             NaN          NaN       NaN   \n",
      "partly_cloudy              NaN             NaN          NaN       NaN   \n",
      "primary                    NaN             NaN          NaN       NaN   \n",
      "road                       NaN             NaN          NaN       NaN   \n",
      "selective_logging          NaN             NaN          NaN       NaN   \n",
      "slash_burn                 NaN             NaN          NaN       NaN   \n",
      "water                      NaN             NaN          NaN       NaN   \n",
      "\n",
      "                   blow_down     clear    cloudy  conventional_mine  \\\n",
      "agriculture              NaN       NaN       NaN                NaN   \n",
      "artisinal_mine           NaN       NaN       NaN                NaN   \n",
      "bare_ground              NaN       NaN       NaN                NaN   \n",
      "blooming                 NaN       NaN       NaN                NaN   \n",
      "blow_down                NaN       NaN       NaN                NaN   \n",
      "clear                    NaN       NaN -0.358343                NaN   \n",
      "cloudy                   NaN -0.358343       NaN                NaN   \n",
      "conventional_mine        NaN       NaN       NaN                NaN   \n",
      "cultivation              NaN       NaN       NaN                NaN   \n",
      "habitation               NaN       NaN       NaN                NaN   \n",
      "haze                     NaN -0.410428       NaN                NaN   \n",
      "partly_cloudy            NaN -0.718208       NaN                NaN   \n",
      "primary                  NaN       NaN -0.829594                NaN   \n",
      "road                     NaN       NaN       NaN                NaN   \n",
      "selective_logging        NaN       NaN       NaN                NaN   \n",
      "slash_burn               NaN       NaN       NaN                NaN   \n",
      "water                    NaN       NaN       NaN                NaN   \n",
      "\n",
      "                   cultivation  habitation      haze  partly_cloudy   primary  \\\n",
      "agriculture                NaN         NaN       NaN            NaN       NaN   \n",
      "artisinal_mine             NaN         NaN       NaN            NaN       NaN   \n",
      "bare_ground                NaN         NaN       NaN            NaN       NaN   \n",
      "blooming                   NaN         NaN       NaN            NaN       NaN   \n",
      "blow_down                  NaN         NaN       NaN            NaN       NaN   \n",
      "clear                      NaN         NaN -0.410428      -0.718208       NaN   \n",
      "cloudy                     NaN         NaN       NaN            NaN -0.829594   \n",
      "conventional_mine          NaN         NaN       NaN            NaN       NaN   \n",
      "cultivation                NaN         NaN       NaN            NaN       NaN   \n",
      "habitation                 NaN         NaN       NaN            NaN       NaN   \n",
      "haze                       NaN         NaN       NaN            NaN       NaN   \n",
      "partly_cloudy              NaN         NaN       NaN            NaN       NaN   \n",
      "primary                    NaN         NaN       NaN            NaN       NaN   \n",
      "road                       NaN         NaN       NaN            NaN       NaN   \n",
      "selective_logging          NaN         NaN       NaN            NaN       NaN   \n",
      "slash_burn                 NaN         NaN       NaN            NaN       NaN   \n",
      "water                      NaN         NaN       NaN            NaN       NaN   \n",
      "\n",
      "                   road  selective_logging  slash_burn  water  \n",
      "agriculture         NaN                NaN         NaN    NaN  \n",
      "artisinal_mine      NaN                NaN         NaN    NaN  \n",
      "bare_ground         NaN                NaN         NaN    NaN  \n",
      "blooming            NaN                NaN         NaN    NaN  \n",
      "blow_down           NaN                NaN         NaN    NaN  \n",
      "clear               NaN                NaN         NaN    NaN  \n",
      "cloudy              NaN                NaN         NaN    NaN  \n",
      "conventional_mine   NaN                NaN         NaN    NaN  \n",
      "cultivation         NaN                NaN         NaN    NaN  \n",
      "habitation          NaN                NaN         NaN    NaN  \n",
      "haze                NaN                NaN         NaN    NaN  \n",
      "partly_cloudy       NaN                NaN         NaN    NaN  \n",
      "primary             NaN                NaN         NaN    NaN  \n",
      "road                NaN                NaN         NaN    NaN  \n",
      "selective_logging   NaN                NaN         NaN    NaN  \n",
      "slash_burn          NaN                NaN         NaN    NaN  \n",
      "water               NaN                NaN         NaN    NaN  \n"
     ]
    }
   ],
   "source": [
    "# Find labels with low correlation\n",
    "df_corr = df_Dataset.corr()\n",
    "print(df_corr[df_corr<-0.2])"
   ]
  },
  {
   "cell_type": "code",
   "execution_count": 6,
   "id": "939f9574",
   "metadata": {
    "execution": {
     "iopub.execute_input": "2022-06-28T18:04:09.489634Z",
     "iopub.status.busy": "2022-06-28T18:04:09.489146Z",
     "iopub.status.idle": "2022-06-28T18:04:09.524176Z",
     "shell.execute_reply": "2022-06-28T18:04:09.523352Z"
    },
    "papermill": {
     "duration": 0.061166,
     "end_time": "2022-06-28T18:04:09.526936",
     "exception": false,
     "start_time": "2022-06-28T18:04:09.465770",
     "status": "completed"
    },
    "tags": []
   },
   "outputs": [
    {
     "name": "stdout",
     "output_type": "stream",
     "text": [
      "Images labelled as clear AND haze:\t\t\t0\n",
      "Images labelled as clear AND partly_cloudy:\t\t0\n",
      "Images labelled as clear AND cloudy:\t\t\t0\n",
      "Images labelled as haze AND partly_cloudy:\t\t0\n",
      "Images labelled as haze AND cloudy:\t\t\t0\n",
      "Images labelled as partly_cloudy AND cloudy:\t\t0\n",
      "\n",
      "Images with any of these 4 labels:\t40478\n",
      "Images without any of these 4 labels:\t1\n",
      "total number of images:\t\t\t40479\n"
     ]
    }
   ],
   "source": [
    "# Verify mutual exclusivity of 4 labels: clear, haze, partly_cloudy, cloudy\n",
    "\n",
    "print('Images labelled as clear AND haze:\\t\\t\\t'+str(df_Dataset.loc[(df_Dataset['clear']==1.0) & (df_Dataset['haze']==1.0)]['filename'].count()))\n",
    "print('Images labelled as clear AND partly_cloudy:\\t\\t'+str(df_Dataset.loc[(df_Dataset['clear']==1.0) & (df_Dataset['partly_cloudy']==1.0)]['filename'].count()))\n",
    "print('Images labelled as clear AND cloudy:\\t\\t\\t'+str(df_Dataset.loc[(df_Dataset['clear']==1.0) & (df_Dataset['cloudy']==1.0)]['filename'].count()))\n",
    "print('Images labelled as haze AND partly_cloudy:\\t\\t'+str(df_Dataset.loc[(df_Dataset['haze']==1.0) & (df_Dataset['partly_cloudy']==1.0)]['filename'].count()))\n",
    "print('Images labelled as haze AND cloudy:\\t\\t\\t'+str(df_Dataset.loc[(df_Dataset['haze']==1.0) & (df_Dataset['cloudy']==1.0)]['filename'].count()))\n",
    "print('Images labelled as partly_cloudy AND cloudy:\\t\\t'+str(df_Dataset.loc[(df_Dataset['partly_cloudy']==1.0) & (df_Dataset['cloudy']==1.0)]['filename'].count()))\n",
    "\n",
    "print('\\nImages with any of these 4 labels:\\t'+str(df_Dataset.loc[(df_Dataset['clear']==1.0) | (df_Dataset['haze']==1.0) | (df_Dataset['partly_cloudy']==1.0) | (df_Dataset['cloudy']==1.0)]['filename'].count()))\n",
    "print('Images without any of these 4 labels:\\t'+str(df_Dataset.loc[~((df_Dataset['clear']==1.0) | (df_Dataset['haze']==1.0) | (df_Dataset['partly_cloudy']==1.0) | (df_Dataset['cloudy']==1.0))]['filename'].count()))\n",
    "print('total number of images:\\t\\t\\t'+str(df_Raw.tags.count()))"
   ]
  },
  {
   "cell_type": "code",
   "execution_count": 7,
   "id": "f78465cb",
   "metadata": {
    "execution": {
     "iopub.execute_input": "2022-06-28T18:04:09.573782Z",
     "iopub.status.busy": "2022-06-28T18:04:09.573578Z",
     "iopub.status.idle": "2022-06-28T18:04:09.582525Z",
     "shell.execute_reply": "2022-06-28T18:04:09.581373Z"
    },
    "papermill": {
     "duration": 0.034321,
     "end_time": "2022-06-28T18:04:09.584730",
     "exception": false,
     "start_time": "2022-06-28T18:04:09.550409",
     "status": "completed"
    },
    "tags": []
   },
   "outputs": [
    {
     "name": "stdout",
     "output_type": "stream",
     "text": [
      "Images labelled as artisinal_mine AND conventional_mine: 4\n",
      "Images labelled as artisinal_mine OR conventional_mine: 435\n"
     ]
    }
   ],
   "source": [
    "# Verify mutual exclusivity of 4 labels: artisinal_mine and conventional_mine\n",
    "\n",
    "print('Images labelled as artisinal_mine AND conventional_mine: '+str(df_Dataset.loc[(df_Dataset['artisinal_mine']==1.0) & (df_Dataset['conventional_mine']==1.0)]['filename'].count()))\n",
    "print('Images labelled as artisinal_mine OR conventional_mine: '+str(df_Dataset.loc[(df_Dataset['artisinal_mine']==1.0) | (df_Dataset['conventional_mine']==1.0)]['filename'].count()))"
   ]
  },
  {
   "cell_type": "markdown",
   "id": "ff87246f",
   "metadata": {
    "papermill": {
     "duration": 0.022051,
     "end_time": "2022-06-28T18:04:09.629906",
     "exception": false,
     "start_time": "2022-06-28T18:04:09.607855",
     "status": "completed"
    },
    "tags": []
   },
   "source": [
    "## Training and Validation Generators\n",
    "\n",
    "Now that you know the images you are dealing with, it is time for you to code the generators that will fed these images to your Network. For this, complete the `train_val_generators` function below:\n",
    "\n",
    "**Important Note:** The images have a resolution of 256x256 but the `flow_from_dataframe` method you will use allows you to set a target resolution. Lower resolution may yield much quicker training times without compromising the accuracy!"
   ]
  },
  {
   "cell_type": "code",
   "execution_count": 8,
   "id": "9bcf3d7e",
   "metadata": {
    "execution": {
     "iopub.execute_input": "2022-06-28T18:04:09.675579Z",
     "iopub.status.busy": "2022-06-28T18:04:09.675228Z",
     "iopub.status.idle": "2022-06-28T18:04:09.695920Z",
     "shell.execute_reply": "2022-06-28T18:04:09.695303Z"
    },
    "papermill": {
     "duration": 0.045517,
     "end_time": "2022-06-28T18:04:09.697599",
     "exception": false,
     "start_time": "2022-06-28T18:04:09.652082",
     "status": "completed"
    },
    "tags": []
   },
   "outputs": [],
   "source": [
    "def generate_generator_multiple(generator, directory, df1, df2, df3, df4, df5, batch_size, target_size):\n",
    "    genX1 = generator.flow_from_dataframe(dataframe = df1,\n",
    "                                          directory=directory,\n",
    "                                          x_col=df1.columns[0],\n",
    "                                          y_col=df1.columns[1:len(df1.columns)],\n",
    "                                          target_size = target_size,\n",
    "                                          class_mode = 'raw',\n",
    "                                          batch_size = batch_size,\n",
    "                                          shuffle=False, \n",
    "                                          seed=7)\n",
    "    \n",
    "    genX2 = generator.flow_from_dataframe(dataframe = df2,\n",
    "                                          directory=directory,\n",
    "                                          x_col=df2.columns[0],\n",
    "                                          y_col=df2.columns[1:len(df2.columns)],\n",
    "                                          target_size = target_size,\n",
    "                                          class_mode = 'raw',\n",
    "                                          batch_size = batch_size,\n",
    "                                          shuffle=False, \n",
    "                                          seed=7)\n",
    "    \n",
    "    genX3 = generator.flow_from_dataframe(dataframe = df3,\n",
    "                                          directory=directory,\n",
    "                                          x_col=df3.columns[0],\n",
    "                                          y_col=df3.columns[1:len(df3.columns)],\n",
    "                                          target_size = target_size,\n",
    "                                          class_mode = 'raw',\n",
    "                                          batch_size = batch_size,\n",
    "                                          shuffle=False, \n",
    "                                          seed=7)\n",
    "    \n",
    "    genX4 = generator.flow_from_dataframe(dataframe = df4,\n",
    "                                          directory=directory,\n",
    "                                          x_col=df4.columns[0],\n",
    "                                          y_col=df4.columns[1:len(df4.columns)],\n",
    "                                          target_size = target_size,\n",
    "                                          class_mode = 'raw',\n",
    "                                          batch_size = batch_size,\n",
    "                                          shuffle=False, \n",
    "                                          seed=7)\n",
    "    \n",
    "    genX5 = generator.flow_from_dataframe(dataframe = df5,\n",
    "                                          directory=directory,\n",
    "                                          x_col=df5.columns[0],\n",
    "                                          y_col=df5.columns[1:len(df5.columns)],\n",
    "                                          target_size = target_size,\n",
    "                                          class_mode = 'raw',\n",
    "                                          batch_size = batch_size,\n",
    "                                          shuffle=False, \n",
    "                                          seed=7)\n",
    "    \n",
    "    for i in range(df1['filename'].count()):\n",
    "            X1i = genX1.next()\n",
    "            X2i = genX2.next()\n",
    "            X3i = genX3.next()\n",
    "            X4i = genX4.next()\n",
    "            X5i = genX5.next()\n",
    "            yield X1i[0],[X1i[1], X2i[1], X3i[1], X4i[1], X5i[1]]\n",
    "\n",
    "\n",
    "            \n",
    "            \n",
    "            \n",
    "# Get Data Generators\n",
    "def train_val_generators(DIRECTORY, df_Train, df_Validation):\n",
    "    \n",
    "  # Instantiate the ImageDataGenerator class \n",
    "  # Don't forget to normalize pixel values and set arguments to augment the images \n",
    "  train_datagen = ImageDataGenerator(rescale=1.0/255.0,\n",
    "                                     rotation_range=45,\n",
    "                                     width_shift_range=0.2,\n",
    "                                     height_shift_range=0.2,\n",
    "                                     zoom_range=0.15,\n",
    "                                     horizontal_flip=True,\n",
    "                                     fill_mode='nearest')\n",
    "\n",
    "# create generator\n",
    "  df_vis = df_Train.loc[:, ['filename', 'clear', 'haze', 'partly_cloudy', 'cloudy']]\n",
    "  df_hum = df_Train.loc[:, ['filename', 'agriculture', 'cultivation', 'habitation']]\n",
    "  df_rw  = df_Train.loc[:, ['filename', 'road', 'water']]\n",
    "  df_prim = df_Train.loc[:, ['filename', 'primary']]\n",
    "  df_rem = df_Train.loc[:, ['filename', 'artisinal_mine', 'bare_ground', 'blooming', 'blow_down', 'conventional_mine', 'selective_logging', 'slash_burn']]\n",
    "\n",
    "  train_generator = generate_generator_multiple(train_datagen, DIRECTORY, df_vis, df_hum, df_rw, df_prim, df_rem, 32, (256, 256))\n",
    "    \n",
    "#   train_generator = train_datagen.flow_from_dataframe(dataframe=df_Train,\n",
    "#                                                       directory=DIRECTORY,\n",
    "#                                                       x_col=df_Train.columns[0],\n",
    "#                                                       y_col=df_Train.columns[1:len(df_Train.columns)],\n",
    "#                                                       batch_size=32, \n",
    "#                                                       class_mode='raw',\n",
    "#                                                       target_size=(256, 256))\n",
    "\n",
    "  # Instantiate the ImageDataGenerator class (set the rescale argument)\n",
    "  # Validation data not augmented\n",
    "  validation_datagen = ImageDataGenerator(rescale=1.0/255.0)\n",
    "    \n",
    "  df_vis = df_ValData.loc[:, ['filename', 'clear', 'haze', 'partly_cloudy', 'cloudy']]\n",
    "  df_hum = df_ValData.loc[:, ['filename', 'agriculture', 'cultivation', 'habitation']]\n",
    "  df_rw  = df_ValData.loc[:, ['filename', 'road', 'water']]\n",
    "  df_prim = df_ValData.loc[:, ['filename', 'primary']]\n",
    "  df_rem = df_ValData.loc[:, ['filename', 'artisinal_mine', 'bare_ground', 'blooming', 'blow_down', 'conventional_mine', 'selective_logging', 'slash_burn']]\n",
    "\n",
    "  validation_generator = generate_generator_multiple(validation_datagen, DIRECTORY, df_vis, df_hum, df_rw, df_prim, df_rem, 32, (256, 256))\n",
    "  \n",
    "#   flow_from_dataframe method\n",
    "#   validation_generator = validation_datagen.flow_from_dataframe(dataframe=df_Validation,\n",
    "#                                                                 directory=DIRECTORY,\n",
    "#                                                                 x_col=df_ValData.columns[0],\n",
    "#                                                                 y_col=df_ValData.columns[1:len(df_ValData.columns)],\n",
    "#                                                                 batch_size=32,\n",
    "#                                                                 class_mode='raw',\n",
    "#                                                                 target_size=(256, 256))\n",
    "  return train_generator, validation_generator"
   ]
  },
  {
   "cell_type": "code",
   "execution_count": 9,
   "id": "3d3c339a",
   "metadata": {
    "execution": {
     "iopub.execute_input": "2022-06-28T18:04:09.744601Z",
     "iopub.status.busy": "2022-06-28T18:04:09.744413Z",
     "iopub.status.idle": "2022-06-28T18:04:09.790844Z",
     "shell.execute_reply": "2022-06-28T18:04:09.790133Z"
    },
    "papermill": {
     "duration": 0.072904,
     "end_time": "2022-06-28T18:04:09.792932",
     "exception": false,
     "start_time": "2022-06-28T18:04:09.720028",
     "status": "completed"
    },
    "tags": []
   },
   "outputs": [],
   "source": [
    "# Split Data\n",
    "TrainToValidation_DataSize_Ratio = 0.8\n",
    "df_TrainData, df_ValData = SplitData(df_Dataset, TrainToValidation_DataSize_Ratio)\n",
    "\n",
    "# Test Generators\n",
    "train_generator, validation_generator = train_val_generators(source_path_Images, df_TrainData, df_ValData)"
   ]
  },
  {
   "cell_type": "markdown",
   "id": "796dd203",
   "metadata": {
    "papermill": {
     "duration": 0.022504,
     "end_time": "2022-06-28T18:04:09.840037",
     "exception": false,
     "start_time": "2022-06-28T18:04:09.817533",
     "status": "completed"
    },
    "tags": []
   },
   "source": [
    "## Test Image Data Generator and Label Encoding\n",
    "- Verify if functions are working and visualize data"
   ]
  },
  {
   "cell_type": "code",
   "execution_count": 10,
   "id": "d865576a",
   "metadata": {
    "execution": {
     "iopub.execute_input": "2022-06-28T18:04:09.886097Z",
     "iopub.status.busy": "2022-06-28T18:04:09.885859Z",
     "iopub.status.idle": "2022-06-28T18:04:09.889378Z",
     "shell.execute_reply": "2022-06-28T18:04:09.888713Z"
    },
    "papermill": {
     "duration": 0.028663,
     "end_time": "2022-06-28T18:04:09.891026",
     "exception": false,
     "start_time": "2022-06-28T18:04:09.862363",
     "status": "completed"
    },
    "tags": []
   },
   "outputs": [],
   "source": [
    "# data_index = 0\n",
    "\n",
    "# print(pd.DataFrame(np.array([LabelList, validation_generator.labels[data_index]]).transpose()).to_string(index=False))\n",
    "# print(\"\\nFile name:\\t\"+validation_generator.filenames[data_index])\n",
    "# print(\"Labels:\\t\\t\"+OneHotToStringLabels(validation_generator.labels[data_index], LabelList, ' ')+'\\n')\n",
    "\n",
    "# img = mpimg.imread(os.path.join(source_path_Images, validation_generator.filenames[data_index]))\n",
    "# img = img[:,:,:3]\n",
    "# plt.imshow(img)"
   ]
  },
  {
   "cell_type": "markdown",
   "id": "2e2a1254",
   "metadata": {
    "papermill": {
     "duration": 0.022557,
     "end_time": "2022-06-28T18:04:09.935960",
     "exception": false,
     "start_time": "2022-06-28T18:04:09.913403",
     "status": "completed"
    },
    "tags": []
   },
   "source": [
    "## Model Definition\n",
    "- Import InceptionV3 weights and define layers connected\n",
    "- Import VGG19 weights and define layers connected"
   ]
  },
  {
   "cell_type": "code",
   "execution_count": 11,
   "id": "4c294663",
   "metadata": {
    "execution": {
     "iopub.execute_input": "2022-06-28T18:04:09.982658Z",
     "iopub.status.busy": "2022-06-28T18:04:09.982466Z",
     "iopub.status.idle": "2022-06-28T18:04:10.012354Z",
     "shell.execute_reply": "2022-06-28T18:04:10.011739Z"
    },
    "papermill": {
     "duration": 0.055139,
     "end_time": "2022-06-28T18:04:10.014116",
     "exception": false,
     "start_time": "2022-06-28T18:04:09.958977",
     "status": "completed"
    },
    "tags": []
   },
   "outputs": [],
   "source": [
    "from tensorflow.keras.optimizers import RMSprop\n",
    "from tensorflow.keras.optimizers import Adam\n",
    "import tensorflow_addons as tfa\n",
    "\n",
    "def create_model():\n",
    "    \n",
    "    Input = tf.keras.Input(shape=(256, 256, 3))\n",
    "    \n",
    "#     #Load ResNet50V2 Model\n",
    "    Model_1 = tf.keras.applications.ResNet50V2(input_tensor = Input, include_top = False, weights=\"imagenet\")\n",
    "    #Make all layers on ResNet50V2 trainable\n",
    "    for layer in Model_1.layers:\n",
    "        layer.trainable = True\n",
    "    x_Model_1 = Model_1(Input)\n",
    "    x_Model_1_Flat = tf.keras.layers.Flatten(name='Flatten_Model_1')(x_Model_1)\n",
    "    \n",
    "    \n",
    "#     #Load VGG19 Model\n",
    "    Model_2 = tf.keras.applications.VGG19(input_tensor = Input, include_top=False, weights=\"imagenet\")\n",
    "    #Make all layers on VGG19 trainable\n",
    "    for layer in Model_2.layers:\n",
    "            layer.trainable = True\n",
    "    x_Model_2 = Model_2(Input)\n",
    "    x_Model_2_Flat = tf.keras.layers.Flatten(name='Flatten_Model_2')(x_Model_2)\n",
    "    \n",
    "    \n",
    "    x_Top = tf.keras.layers.Concatenate(name='ConcatenateFlatten_Layer')([x_Model_1_Flat, x_Model_2_Flat])\n",
    "    x_Top = tf.keras.layers.Dense(2048, activation='relu', kernel_initializer = tf.keras.initializers.HeUniform())(x_Top)\n",
    "    \n",
    "    #Define Visibility Branch\n",
    "    # x_vis[0] -> clear\n",
    "    # x_vis[1] -> haze\n",
    "    # x_vis[2] -> partly_cloudy\n",
    "    # x_vis[3] -> cloudy\n",
    "    x_vis = tf.keras.layers.Dense(1024, activation='relu', kernel_initializer = tf.keras.initializers.HeUniform())(x_Top)\n",
    "    x_vis = tf.keras.layers.Dropout(0.4)(x_vis)\n",
    "    x_vis = tf.keras.layers.Dense(1024, activation='relu', kernel_initializer = tf.keras.initializers.HeUniform())(x_vis)\n",
    "    x_vis = tf.keras.layers.Dropout(0.4)(x_vis)\n",
    "    x_vis = tf.keras.layers.Dense(1024, activation='relu', kernel_initializer = tf.keras.initializers.HeUniform())(x_vis)\n",
    "    x_vis = tf.keras.layers.Dropout(0.4)(x_vis)\n",
    "    x_vis = tf.keras.layers.Dense(4, activation='softmax', name = 'visibility', kernel_initializer = tf.keras.initializers.GlorotUniform())(x_vis)\n",
    "    \n",
    "    #Define Human Activity Branch\n",
    "    # x_hum[0] -> agriculture\n",
    "    # x_hum[1] -> cultivation\n",
    "    # x_hum[2] -> habitation\n",
    "    x_hum = tf.keras.layers.Dense(1024, activation='relu', kernel_initializer = tf.keras.initializers.HeUniform())(x_Top)\n",
    "    x_hum = tf.keras.layers.Dropout(0.4)(x_hum)\n",
    "    x_hum = tf.keras.layers.Dense(1024, activation='relu', kernel_initializer = tf.keras.initializers.HeUniform())(x_hum)\n",
    "    x_hum = tf.keras.layers.Dropout(0.4)(x_hum)\n",
    "    x_hum = tf.keras.layers.Dense(1024, activation='relu', kernel_initializer = tf.keras.initializers.HeUniform())(x_hum)\n",
    "    x_hum = tf.keras.layers.Dropout(0.4)(x_hum)\n",
    "    x_hum = tf.keras.layers.Dense(3, activation='sigmoid', name='human_activity', kernel_initializer = tf.keras.initializers.GlorotUniform())(x_hum)\n",
    "    \n",
    "    #Define Track Branch (Road or Water)\n",
    "    # x_rw[0] -> road\n",
    "    # x_rw[1] -> water\n",
    "    x_rw = tf.keras.layers.Dense(1024, activation='relu', kernel_initializer = tf.keras.initializers.HeUniform())(x_Top)\n",
    "    x_rw = tf.keras.layers.Dropout(0.4)(x_rw)\n",
    "    x_rw = tf.keras.layers.Dense(1024, activation='relu', kernel_initializer = tf.keras.initializers.HeUniform())(x_rw)\n",
    "    x_rw = tf.keras.layers.Dropout(0.4)(x_rw)\n",
    "    x_rw = tf.keras.layers.Dense(1024, activation='relu', kernel_initializer = tf.keras.initializers.HeUniform())(x_rw)\n",
    "    x_rw = tf.keras.layers.Dropout(0.4)(x_rw)\n",
    "    x_rw = tf.keras.layers.Dense(2, activation='sigmoid', name='road_water', kernel_initializer = tf.keras.initializers.GlorotUniform())(x_rw)\n",
    "    \n",
    "    #Define Primary Branch\n",
    "    #x_primary[0] -> primary\n",
    "    x_prim = tf.keras.layers.Dense(1024, activation='relu', kernel_initializer = tf.keras.initializers.HeUniform())(x_Top)\n",
    "    x_prim = tf.keras.layers.Dropout(0.4)(x_prim)\n",
    "    x_prim = tf.keras.layers.Dense(1024, activation='relu', kernel_initializer = tf.keras.initializers.HeUniform())(x_prim)\n",
    "    x_prim = tf.keras.layers.Dropout(0.4)(x_prim)\n",
    "    x_prim = tf.keras.layers.Dense(1024, activation='relu', kernel_initializer = tf.keras.initializers.HeUniform())(x_prim)\n",
    "    x_prim = tf.keras.layers.Dropout(0.4)(x_prim)\n",
    "    x_prim = tf.keras.layers.Dense(1, activation='sigmoid', name='primary', kernel_initializer = tf.keras.initializers.GlorotUniform())(x_prim)\n",
    "    \n",
    "    \n",
    "    #Define Remaining Branch\n",
    "    #x_mine[0] -> artisinal_mine\n",
    "    # x_rem[1] -> bare_ground\n",
    "    # x_rem[2] -> blooming\n",
    "    # x_rem[3] -> blow_down\n",
    "    #x_mine[4] -> conventional_mine\n",
    "    # x_rem[5] -> selective_logging\n",
    "    # x_rem[6] -> slash_burn\n",
    "    x_rem = tf.keras.layers.Dense(1024, activation='relu', kernel_initializer = tf.keras.initializers.HeUniform())(x_Top)\n",
    "    x_rem = tf.keras.layers.Dropout(0.4)(x_rem)\n",
    "    x_rem = tf.keras.layers.Dense(1024, activation='relu', kernel_initializer = tf.keras.initializers.HeUniform())(x_rem)\n",
    "    x_rem = tf.keras.layers.Dropout(0.4)(x_rem)\n",
    "    x_rem = tf.keras.layers.Dense(1024, activation='relu', kernel_initializer = tf.keras.initializers.HeUniform())(x_rem)\n",
    "    x_rem = tf.keras.layers.Dropout(0.4)(x_rem)\n",
    "    x_rem = tf.keras.layers.Dense(7, activation='sigmoid', name='remaining', kernel_initializer = tf.keras.initializers.GlorotUniform())(x_rem)\n",
    "    \n",
    "    model = tf.keras.Model(inputs=Input, outputs=[x_vis, x_hum, x_rw, x_prim, x_rem])\n",
    "\n",
    "    model.compile(optimizer=Adam(lr=1e-4),\n",
    "                loss='binary_crossentropy',\n",
    "                metrics={\n",
    "                         'visibility': [tfa.metrics.FBetaScore(beta=2.0, num_classes=4 , average='micro', threshold=0.5)],\n",
    "                         'human_activity': [tfa.metrics.FBetaScore(beta=2.0, num_classes=3 , average='micro', threshold=0.5)],\n",
    "                         'road_water': [tfa.metrics.FBetaScore(beta=2.0, num_classes=2 , average='micro', threshold=0.5)],\n",
    "                         'primary': [tfa.metrics.FBetaScore(beta=2.0, num_classes=1 , average='micro', threshold=0.5)],\n",
    "                         'remaining': [tfa.metrics.FBetaScore(beta=2.0, num_classes=7 , average='micro', threshold=0.5)]\n",
    "                        }\n",
    "               ) \n",
    "    return model"
   ]
  },
  {
   "cell_type": "markdown",
   "id": "d6a538fc",
   "metadata": {
    "papermill": {
     "duration": 0.045577,
     "end_time": "2022-06-28T18:04:10.096810",
     "exception": false,
     "start_time": "2022-06-28T18:04:10.051233",
     "status": "completed"
    },
    "tags": []
   },
   "source": [
    "## Callback to stop training"
   ]
  },
  {
   "cell_type": "code",
   "execution_count": 12,
   "id": "7e54f500",
   "metadata": {
    "execution": {
     "iopub.execute_input": "2022-06-28T18:04:10.174605Z",
     "iopub.status.busy": "2022-06-28T18:04:10.174317Z",
     "iopub.status.idle": "2022-06-28T18:04:10.179762Z",
     "shell.execute_reply": "2022-06-28T18:04:10.179157Z"
    },
    "papermill": {
     "duration": 0.045474,
     "end_time": "2022-06-28T18:04:10.183300",
     "exception": false,
     "start_time": "2022-06-28T18:04:10.137826",
     "status": "completed"
    },
    "tags": []
   },
   "outputs": [],
   "source": [
    "class myCallback(tf.keras.callbacks.Callback):\n",
    "    def on_epoch_end(self, epoch, logs={}):\n",
    "        print(\"\\nFBeta Score = \"+str(statistics.harmonic_mean([logs.get('val_visibility_fbeta_score'), logs.get('val_human_activity_fbeta_score'), logs.get('val_road_water_fbeta_score'), logs.get('val_primary_fbeta_score')])))"
   ]
  },
  {
   "cell_type": "markdown",
   "id": "a44bd159",
   "metadata": {
    "papermill": {
     "duration": 0.036583,
     "end_time": "2022-06-28T18:04:10.255269",
     "exception": false,
     "start_time": "2022-06-28T18:04:10.218686",
     "status": "completed"
    },
    "tags": []
   },
   "source": [
    "## Model Training"
   ]
  },
  {
   "cell_type": "code",
   "execution_count": 13,
   "id": "9e8517f7",
   "metadata": {
    "execution": {
     "iopub.execute_input": "2022-06-28T18:04:10.331018Z",
     "iopub.status.busy": "2022-06-28T18:04:10.330768Z",
     "iopub.status.idle": "2022-06-29T03:03:49.289740Z",
     "shell.execute_reply": "2022-06-29T03:03:49.288709Z"
    },
    "papermill": {
     "duration": 32382.968257,
     "end_time": "2022-06-29T03:03:53.261119",
     "exception": false,
     "start_time": "2022-06-28T18:04:10.292862",
     "status": "completed"
    },
    "tags": []
   },
   "outputs": [
    {
     "name": "stderr",
     "output_type": "stream",
     "text": [
      "2022-06-28 18:04:10.482294: I tensorflow/stream_executor/cuda/cuda_gpu_executor.cc:937] successful NUMA node read from SysFS had negative value (-1), but there must be at least one NUMA node, so returning NUMA node zero\n",
      "2022-06-28 18:04:10.633199: I tensorflow/stream_executor/cuda/cuda_gpu_executor.cc:937] successful NUMA node read from SysFS had negative value (-1), but there must be at least one NUMA node, so returning NUMA node zero\n",
      "2022-06-28 18:04:10.634630: I tensorflow/stream_executor/cuda/cuda_gpu_executor.cc:937] successful NUMA node read from SysFS had negative value (-1), but there must be at least one NUMA node, so returning NUMA node zero\n",
      "2022-06-28 18:04:10.637661: I tensorflow/core/platform/cpu_feature_guard.cc:142] This TensorFlow binary is optimized with oneAPI Deep Neural Network Library (oneDNN) to use the following CPU instructions in performance-critical operations:  AVX2 AVX512F FMA\n",
      "To enable them in other operations, rebuild TensorFlow with the appropriate compiler flags.\n",
      "2022-06-28 18:04:10.638216: I tensorflow/stream_executor/cuda/cuda_gpu_executor.cc:937] successful NUMA node read from SysFS had negative value (-1), but there must be at least one NUMA node, so returning NUMA node zero\n",
      "2022-06-28 18:04:10.639388: I tensorflow/stream_executor/cuda/cuda_gpu_executor.cc:937] successful NUMA node read from SysFS had negative value (-1), but there must be at least one NUMA node, so returning NUMA node zero\n",
      "2022-06-28 18:04:10.640545: I tensorflow/stream_executor/cuda/cuda_gpu_executor.cc:937] successful NUMA node read from SysFS had negative value (-1), but there must be at least one NUMA node, so returning NUMA node zero\n",
      "2022-06-28 18:04:13.130923: I tensorflow/stream_executor/cuda/cuda_gpu_executor.cc:937] successful NUMA node read from SysFS had negative value (-1), but there must be at least one NUMA node, so returning NUMA node zero\n",
      "2022-06-28 18:04:13.131828: I tensorflow/stream_executor/cuda/cuda_gpu_executor.cc:937] successful NUMA node read from SysFS had negative value (-1), but there must be at least one NUMA node, so returning NUMA node zero\n",
      "2022-06-28 18:04:13.132502: I tensorflow/stream_executor/cuda/cuda_gpu_executor.cc:937] successful NUMA node read from SysFS had negative value (-1), but there must be at least one NUMA node, so returning NUMA node zero\n",
      "2022-06-28 18:04:13.134118: I tensorflow/core/common_runtime/gpu/gpu_device.cc:1510] Created device /job:localhost/replica:0/task:0/device:GPU:0 with 15403 MB memory:  -> device: 0, name: Tesla P100-PCIE-16GB, pci bus id: 0000:00:04.0, compute capability: 6.0\n"
     ]
    },
    {
     "name": "stdout",
     "output_type": "stream",
     "text": [
      "Downloading data from https://storage.googleapis.com/tensorflow/keras-applications/resnet/resnet50v2_weights_tf_dim_ordering_tf_kernels_notop.h5\n",
      "94674944/94668760 [==============================] - 1s 0us/step\n",
      "94683136/94668760 [==============================] - 1s 0us/step\n",
      "Downloading data from https://storage.googleapis.com/tensorflow/keras-applications/vgg19/vgg19_weights_tf_dim_ordering_tf_kernels_notop.h5\n",
      "80142336/80134624 [==============================] - 0s 0us/step\n",
      "80150528/80134624 [==============================] - 0s 0us/step\n"
     ]
    },
    {
     "name": "stderr",
     "output_type": "stream",
     "text": [
      "/opt/conda/lib/python3.7/site-packages/keras/optimizer_v2/optimizer_v2.py:356: UserWarning: The `lr` argument is deprecated, use `learning_rate` instead.\n",
      "  \"The `lr` argument is deprecated, use `learning_rate` instead.\")\n",
      "/opt/conda/lib/python3.7/site-packages/keras/engine/training.py:1972: UserWarning: `Model.fit_generator` is deprecated and will be removed in a future version. Please use `Model.fit`, which supports generators.\n",
      "  warnings.warn('`Model.fit_generator` is deprecated and '\n"
     ]
    },
    {
     "name": "stdout",
     "output_type": "stream",
     "text": [
      "Found 32383 validated image filenames.\n",
      "Found 32383 validated image filenames.\n",
      "Found 32383 validated image filenames.\n",
      "Found 32383 validated image filenames.\n",
      "Found 32383 validated image filenames.\n"
     ]
    },
    {
     "name": "stderr",
     "output_type": "stream",
     "text": [
      "2022-06-28 18:06:43.239865: I tensorflow/compiler/mlir/mlir_graph_optimization_pass.cc:185] None of the MLIR Optimization Passes are enabled (registered 2)\n"
     ]
    },
    {
     "name": "stdout",
     "output_type": "stream",
     "text": [
      "Epoch 1/13\n"
     ]
    },
    {
     "name": "stderr",
     "output_type": "stream",
     "text": [
      "2022-06-28 18:06:52.262792: I tensorflow/stream_executor/cuda/cuda_dnn.cc:369] Loaded cuDNN version 8005\n"
     ]
    },
    {
     "name": "stdout",
     "output_type": "stream",
     "text": [
      "1012/1012 [==============================] - ETA: 0s - loss: 0.9808 - visibility_loss: 0.1945 - human_activity_loss: 0.2945 - road_water_loss: 0.3084 - primary_loss: 0.1328 - remaining_loss: 0.0506 - visibility_fbeta_score: 0.8564 - human_activity_fbeta_score: 0.5503 - road_water_fbeta_score: 0.5954 - primary_fbeta_score: 0.9792 - remaining_fbeta_score: 0.0058Found 8096 validated image filenames.\n",
      "Found 8096 validated image filenames.\n",
      "Found 8096 validated image filenames.\n",
      "Found 8096 validated image filenames.\n",
      "Found 8096 validated image filenames.\n",
      "1012/1012 [==============================] - 3005s 3s/step - loss: 0.9808 - visibility_loss: 0.1945 - human_activity_loss: 0.2945 - road_water_loss: 0.3084 - primary_loss: 0.1328 - remaining_loss: 0.0506 - visibility_fbeta_score: 0.8564 - human_activity_fbeta_score: 0.5503 - road_water_fbeta_score: 0.5954 - primary_fbeta_score: 0.9792 - remaining_fbeta_score: 0.0058 - val_loss: 0.7076 - val_visibility_loss: 0.1615 - val_human_activity_loss: 0.2178 - val_road_water_loss: 0.2058 - val_primary_loss: 0.0917 - val_remaining_loss: 0.0309 - val_visibility_fbeta_score: 0.8849 - val_human_activity_fbeta_score: 0.6777 - val_road_water_fbeta_score: 0.7573 - val_primary_fbeta_score: 0.9790 - val_remaining_fbeta_score: 0.0146\n",
      "\n",
      "FBeta Score = 0.8084648642556648\n",
      "\n",
      "Epoch 00001: val_loss improved from inf to 0.70764, saving model to /kaggle/working/ResNet50VGG19.h5\n"
     ]
    },
    {
     "name": "stderr",
     "output_type": "stream",
     "text": [
      "/opt/conda/lib/python3.7/site-packages/keras/utils/generic_utils.py:497: CustomMaskWarning: Custom mask layers require a config and must override get_config. When loading, the custom mask layer must be passed to the custom_objects argument.\n",
      "  category=CustomMaskWarning)\n",
      "2022-06-28 18:56:48.590081: W tensorflow/core/framework/cpu_allocator_impl.cc:80] Allocation of 1342177280 exceeds 10% of free system memory.\n",
      "2022-06-28 18:56:52.309825: W tensorflow/core/framework/cpu_allocator_impl.cc:80] Allocation of 1342177280 exceeds 10% of free system memory.\n",
      "2022-06-28 18:56:54.338490: W tensorflow/core/framework/cpu_allocator_impl.cc:80] Allocation of 1342177280 exceeds 10% of free system memory.\n"
     ]
    },
    {
     "name": "stdout",
     "output_type": "stream",
     "text": [
      "Epoch 2/13\n",
      "1012/1012 [==============================] - 2788s 3s/step - loss: 0.7418 - visibility_loss: 0.1363 - human_activity_loss: 0.2306 - road_water_loss: 0.2382 - primary_loss: 0.0987 - remaining_loss: 0.0380 - visibility_fbeta_score: 0.9011 - human_activity_fbeta_score: 0.6540 - road_water_fbeta_score: 0.7031 - primary_fbeta_score: 0.9836 - remaining_fbeta_score: 0.0518 - val_loss: 0.6632 - val_visibility_loss: 0.1240 - val_human_activity_loss: 0.2073 - val_road_water_loss: 0.2105 - val_primary_loss: 0.0912 - val_remaining_loss: 0.0302 - val_visibility_fbeta_score: 0.9064 - val_human_activity_fbeta_score: 0.7050 - val_road_water_fbeta_score: 0.7772 - val_primary_fbeta_score: 0.9852 - val_remaining_fbeta_score: 0.1532\n",
      "\n",
      "FBeta Score = 0.8292712626141208\n",
      "\n",
      "Epoch 00002: val_loss improved from 0.70764 to 0.66324, saving model to /kaggle/working/ResNet50VGG19.h5\n"
     ]
    },
    {
     "name": "stderr",
     "output_type": "stream",
     "text": [
      "2022-06-28 19:43:35.236357: W tensorflow/core/framework/cpu_allocator_impl.cc:80] Allocation of 1342177280 exceeds 10% of free system memory.\n",
      "2022-06-28 19:43:39.166613: W tensorflow/core/framework/cpu_allocator_impl.cc:80] Allocation of 1342177280 exceeds 10% of free system memory.\n"
     ]
    },
    {
     "name": "stdout",
     "output_type": "stream",
     "text": [
      "Epoch 3/13\n",
      "1012/1012 [==============================] - 2820s 3s/step - loss: 0.7013 - visibility_loss: 0.1260 - human_activity_loss: 0.2204 - road_water_loss: 0.2248 - primary_loss: 0.0951 - remaining_loss: 0.0349 - visibility_fbeta_score: 0.9057 - human_activity_fbeta_score: 0.6748 - road_water_fbeta_score: 0.7173 - primary_fbeta_score: 0.9843 - remaining_fbeta_score: 0.1191 - val_loss: 0.7203 - val_visibility_loss: 0.1334 - val_human_activity_loss: 0.2108 - val_road_water_loss: 0.2342 - val_primary_loss: 0.1127 - val_remaining_loss: 0.0293 - val_visibility_fbeta_score: 0.8948 - val_human_activity_fbeta_score: 0.7006 - val_road_water_fbeta_score: 0.7549 - val_primary_fbeta_score: 0.9725 - val_remaining_fbeta_score: 0.1280\n",
      "\n",
      "FBeta Score = 0.8166716964102552\n",
      "\n",
      "Epoch 00003: ReduceLROnPlateau reducing learning rate to 2.9999999242136255e-05.\n",
      "\n",
      "Epoch 00003: val_loss did not improve from 0.66324\n",
      "Epoch 4/13\n",
      "1012/1012 [==============================] - 2836s 3s/step - loss: 0.6226 - visibility_loss: 0.1083 - human_activity_loss: 0.2025 - road_water_loss: 0.2008 - primary_loss: 0.0797 - remaining_loss: 0.0312 - visibility_fbeta_score: 0.9193 - human_activity_fbeta_score: 0.7002 - road_water_fbeta_score: 0.7527 - primary_fbeta_score: 0.9854 - remaining_fbeta_score: 0.1522 - val_loss: 0.5743 - val_visibility_loss: 0.0998 - val_human_activity_loss: 0.1911 - val_road_water_loss: 0.1770 - val_primary_loss: 0.0805 - val_remaining_loss: 0.0259 - val_visibility_fbeta_score: 0.9209 - val_human_activity_fbeta_score: 0.7159 - val_road_water_fbeta_score: 0.8051 - val_primary_fbeta_score: 0.9859 - val_remaining_fbeta_score: 0.2440\n",
      "\n",
      "FBeta Score = 0.8440602914245706\n",
      "\n",
      "Epoch 00004: val_loss improved from 0.66324 to 0.57434, saving model to /kaggle/working/ResNet50VGG19.h5\n",
      "Epoch 5/13\n",
      "1012/1012 [==============================] - 2885s 3s/step - loss: 0.6038 - visibility_loss: 0.1022 - human_activity_loss: 0.1970 - road_water_loss: 0.1959 - primary_loss: 0.0777 - remaining_loss: 0.0310 - visibility_fbeta_score: 0.9243 - human_activity_fbeta_score: 0.7108 - road_water_fbeta_score: 0.7598 - primary_fbeta_score: 0.9860 - remaining_fbeta_score: 0.1647 - val_loss: 0.5832 - val_visibility_loss: 0.1064 - val_human_activity_loss: 0.1902 - val_road_water_loss: 0.1787 - val_primary_loss: 0.0818 - val_remaining_loss: 0.0262 - val_visibility_fbeta_score: 0.9166 - val_human_activity_fbeta_score: 0.7114 - val_road_water_fbeta_score: 0.8063 - val_primary_fbeta_score: 0.9842 - val_remaining_fbeta_score: 0.2493\n",
      "\n",
      "FBeta Score = 0.8415697875443107\n",
      "\n",
      "Epoch 00005: ReduceLROnPlateau reducing learning rate to 8.999999772640877e-06.\n",
      "\n",
      "Epoch 00005: val_loss did not improve from 0.57434\n",
      "Epoch 6/13\n",
      "1012/1012 [==============================] - 2927s 3s/step - loss: 0.5718 - visibility_loss: 0.0952 - human_activity_loss: 0.1925 - road_water_loss: 0.1844 - primary_loss: 0.0706 - remaining_loss: 0.0291 - visibility_fbeta_score: 0.9273 - human_activity_fbeta_score: 0.7189 - road_water_fbeta_score: 0.7736 - primary_fbeta_score: 0.9866 - remaining_fbeta_score: 0.1761 - val_loss: 0.5715 - val_visibility_loss: 0.1008 - val_human_activity_loss: 0.1884 - val_road_water_loss: 0.1769 - val_primary_loss: 0.0794 - val_remaining_loss: 0.0260 - val_visibility_fbeta_score: 0.9211 - val_human_activity_fbeta_score: 0.7446 - val_road_water_fbeta_score: 0.8137 - val_primary_fbeta_score: 0.9858 - val_remaining_fbeta_score: 0.2754\n",
      "\n",
      "FBeta Score = 0.8561789657873782\n",
      "\n",
      "Epoch 00006: val_loss improved from 0.57434 to 0.57147, saving model to /kaggle/working/ResNet50VGG19.h5\n",
      "Epoch 7/13\n",
      "1012/1012 [==============================] - 2966s 3s/step - loss: 0.5588 - visibility_loss: 0.0919 - human_activity_loss: 0.1882 - road_water_loss: 0.1821 - primary_loss: 0.0676 - remaining_loss: 0.0290 - visibility_fbeta_score: 0.9305 - human_activity_fbeta_score: 0.7232 - road_water_fbeta_score: 0.7772 - primary_fbeta_score: 0.9866 - remaining_fbeta_score: 0.1909 - val_loss: 0.5785 - val_visibility_loss: 0.1008 - val_human_activity_loss: 0.1898 - val_road_water_loss: 0.1807 - val_primary_loss: 0.0808 - val_remaining_loss: 0.0264 - val_visibility_fbeta_score: 0.9243 - val_human_activity_fbeta_score: 0.7498 - val_road_water_fbeta_score: 0.8180 - val_primary_fbeta_score: 0.9859 - val_remaining_fbeta_score: 0.2762\n",
      "\n",
      "FBeta Score = 0.85978645196456\n",
      "\n",
      "Epoch 00007: ReduceLROnPlateau reducing learning rate to 2.6999998226528985e-06.\n",
      "\n",
      "Epoch 00007: val_loss did not improve from 0.57147\n",
      "Epoch 8/13\n",
      "1012/1012 [==============================] - 2930s 3s/step - loss: 0.5456 - visibility_loss: 0.0887 - human_activity_loss: 0.1863 - road_water_loss: 0.1770 - primary_loss: 0.0651 - remaining_loss: 0.0284 - visibility_fbeta_score: 0.9343 - human_activity_fbeta_score: 0.7264 - road_water_fbeta_score: 0.7857 - primary_fbeta_score: 0.9874 - remaining_fbeta_score: 0.1987 - val_loss: 0.5702 - val_visibility_loss: 0.0987 - val_human_activity_loss: 0.1883 - val_road_water_loss: 0.1762 - val_primary_loss: 0.0808 - val_remaining_loss: 0.0261 - val_visibility_fbeta_score: 0.9262 - val_human_activity_fbeta_score: 0.7499 - val_road_water_fbeta_score: 0.8125 - val_primary_fbeta_score: 0.9863 - val_remaining_fbeta_score: 0.2741\n",
      "\n",
      "FBeta Score = 0.8587817990102706\n",
      "\n",
      "Epoch 00008: val_loss improved from 0.57147 to 0.57016, saving model to /kaggle/working/ResNet50VGG19.h5\n",
      "Epoch 9/13\n",
      "1012/1012 [==============================] - 2978s 3s/step - loss: 0.5429 - visibility_loss: 0.0889 - human_activity_loss: 0.1848 - road_water_loss: 0.1761 - primary_loss: 0.0649 - remaining_loss: 0.0281 - visibility_fbeta_score: 0.9329 - human_activity_fbeta_score: 0.7292 - road_water_fbeta_score: 0.7863 - primary_fbeta_score: 0.9874 - remaining_fbeta_score: 0.2013 - val_loss: 0.5717 - val_visibility_loss: 0.0992 - val_human_activity_loss: 0.1886 - val_road_water_loss: 0.1770 - val_primary_loss: 0.0807 - val_remaining_loss: 0.0261 - val_visibility_fbeta_score: 0.9269 - val_human_activity_fbeta_score: 0.7528 - val_road_water_fbeta_score: 0.8129 - val_primary_fbeta_score: 0.9856 - val_remaining_fbeta_score: 0.2835\n",
      "\n",
      "FBeta Score = 0.8598269480821311\n",
      "\n",
      "Epoch 00009: ReduceLROnPlateau reducing learning rate to 8.099999604382901e-07.\n",
      "\n",
      "Epoch 00009: val_loss did not improve from 0.57016\n",
      "Epoch 10/13\n",
      "1012/1012 [==============================] - 2986s 3s/step - loss: 0.5392 - visibility_loss: 0.0873 - human_activity_loss: 0.1850 - road_water_loss: 0.1759 - primary_loss: 0.0631 - remaining_loss: 0.0280 - visibility_fbeta_score: 0.9335 - human_activity_fbeta_score: 0.7297 - road_water_fbeta_score: 0.7835 - primary_fbeta_score: 0.9875 - remaining_fbeta_score: 0.2082 - val_loss: 0.5712 - val_visibility_loss: 0.0988 - val_human_activity_loss: 0.1882 - val_road_water_loss: 0.1770 - val_primary_loss: 0.0813 - val_remaining_loss: 0.0260 - val_visibility_fbeta_score: 0.9266 - val_human_activity_fbeta_score: 0.7531 - val_road_water_fbeta_score: 0.8118 - val_primary_fbeta_score: 0.9857 - val_remaining_fbeta_score: 0.2710\n",
      "\n",
      "FBeta Score = 0.8595947417262353\n",
      "\n",
      "Epoch 00010: ReduceLROnPlateau reducing learning rate to 2.4299998813148704e-07.\n",
      "\n",
      "Epoch 00010: val_loss did not improve from 0.57016\n",
      "Epoch 11/13\n",
      "1012/1012 [==============================] - 2997s 3s/step - loss: 0.5373 - visibility_loss: 0.0875 - human_activity_loss: 0.1848 - road_water_loss: 0.1739 - primary_loss: 0.0631 - remaining_loss: 0.0281 - visibility_fbeta_score: 0.9346 - human_activity_fbeta_score: 0.7286 - road_water_fbeta_score: 0.7893 - primary_fbeta_score: 0.9876 - remaining_fbeta_score: 0.2034 - val_loss: 0.5723 - val_visibility_loss: 0.0990 - val_human_activity_loss: 0.1883 - val_road_water_loss: 0.1776 - val_primary_loss: 0.0814 - val_remaining_loss: 0.0260 - val_visibility_fbeta_score: 0.9266 - val_human_activity_fbeta_score: 0.7538 - val_road_water_fbeta_score: 0.8122 - val_primary_fbeta_score: 0.9858 - val_remaining_fbeta_score: 0.2661\n",
      "\n",
      "FBeta Score = 0.8599399467530965\n",
      "\n",
      "Epoch 00011: ReduceLROnPlateau reducing learning rate to 1e-07.\n",
      "\n",
      "Epoch 00011: val_loss did not improve from 0.57016\n",
      "Epoch 00011: early stopping\n"
     ]
    }
   ],
   "source": [
    "from keras.callbacks import ModelCheckpoint, EarlyStopping, ReduceLROnPlateau, History\n",
    "\n",
    "model = create_model()\n",
    "BATCH_SIZE = 32\n",
    "\n",
    "callbacks = [History(),\n",
    "            myCallback(),\n",
    "            EarlyStopping(monitor='val_loss', patience=3, verbose=1, min_delta=1e-4, restore_best_weights=False),\n",
    "            ReduceLROnPlateau(monitor='val_loss', factor=0.3, patience=1, cooldown=0, min_lr=1e-7, verbose=1),\n",
    "            ModelCheckpoint(filepath='/kaggle/working/ResNet50VGG19.h5', monitor=\"val_loss\", verbose=1, save_best_only=True, save_weights_only=False, mode='auto')]\n",
    "\n",
    "model_history = model.fit_generator(train_generator,\n",
    "                    steps_per_epoch = math.ceil(df_TrainData['filename'].count()/BATCH_SIZE),\n",
    "                    epochs=13,\n",
    "                    verbose=1,\n",
    "                    validation_data=validation_generator,\n",
    "                    validation_steps = math.ceil(df_ValData['filename'].count()/BATCH_SIZE),\n",
    "                    callbacks=callbacks\n",
    "                   )\n",
    "\n",
    "history = model_history.history"
   ]
  },
  {
   "cell_type": "markdown",
   "id": "e8b2f762",
   "metadata": {
    "papermill": {
     "duration": 4.667941,
     "end_time": "2022-06-29T03:04:01.634420",
     "exception": false,
     "start_time": "2022-06-29T03:03:56.966479",
     "status": "completed"
    },
    "tags": []
   },
   "source": [
    "## Save/Load Keras Model and History"
   ]
  },
  {
   "cell_type": "code",
   "execution_count": 14,
   "id": "6f07631c",
   "metadata": {
    "execution": {
     "iopub.execute_input": "2022-06-29T03:04:09.202547Z",
     "iopub.status.busy": "2022-06-29T03:04:09.202269Z",
     "iopub.status.idle": "2022-06-29T03:04:31.678114Z",
     "shell.execute_reply": "2022-06-29T03:04:31.677201Z"
    },
    "papermill": {
     "duration": 26.192395,
     "end_time": "2022-06-29T03:04:31.681559",
     "exception": false,
     "start_time": "2022-06-29T03:04:05.489164",
     "status": "completed"
    },
    "tags": []
   },
   "outputs": [],
   "source": [
    "# Save\n",
    "import pickle\n",
    "from keras.models import load_model\n",
    "with open(\"/kaggle/working/ResNet50VGG19.pkl\", 'wb') as f:\n",
    "    pickle.dump(history, f)\n",
    "model.save(\"/kaggle/working/ResNet50VGG19_EndTrain.h5\")"
   ]
  },
  {
   "cell_type": "code",
   "execution_count": 15,
   "id": "6c16feb7",
   "metadata": {
    "execution": {
     "iopub.execute_input": "2022-06-29T03:04:40.477677Z",
     "iopub.status.busy": "2022-06-29T03:04:40.477399Z",
     "iopub.status.idle": "2022-06-29T03:04:40.480783Z",
     "shell.execute_reply": "2022-06-29T03:04:40.480137Z"
    },
    "papermill": {
     "duration": 3.895585,
     "end_time": "2022-06-29T03:04:40.482424",
     "exception": false,
     "start_time": "2022-06-29T03:04:36.586839",
     "status": "completed"
    },
    "tags": []
   },
   "outputs": [],
   "source": [
    "# # Load\n",
    "# from tensorflow import keras\n",
    "# import pickle\n",
    "# model = keras.models.load_model(\"/kaggle/working/InceptionV3_Untrainable_V2.h5\")\n",
    "# with open(\"/kaggle/working/InceptionV3_Untrainable_V2.pkl\", 'rb') as f:\n",
    "#     history = pickle.load(f)"
   ]
  },
  {
   "cell_type": "markdown",
   "id": "ef65308a",
   "metadata": {
    "papermill": {
     "duration": 3.946209,
     "end_time": "2022-06-29T03:04:48.294986",
     "exception": false,
     "start_time": "2022-06-29T03:04:44.348777",
     "status": "completed"
    },
    "tags": []
   },
   "source": [
    "## Plot History"
   ]
  },
  {
   "cell_type": "code",
   "execution_count": 16,
   "id": "a27c68d5",
   "metadata": {
    "execution": {
     "iopub.execute_input": "2022-06-29T03:04:55.951215Z",
     "iopub.status.busy": "2022-06-29T03:04:55.950927Z",
     "iopub.status.idle": "2022-06-29T03:04:56.434029Z",
     "shell.execute_reply": "2022-06-29T03:04:56.433297Z"
    },
    "papermill": {
     "duration": 4.457295,
     "end_time": "2022-06-29T03:04:56.436212",
     "exception": false,
     "start_time": "2022-06-29T03:04:51.978917",
     "status": "completed"
    },
    "tags": []
   },
   "outputs": [
    {
     "data": {
      "image/png": "[encoded data removed]",
      "text/plain": [
       "<Figure size 432x288 with 1 Axes>"
      ]
     },
     "metadata": {
      "needs_background": "light"
     },
     "output_type": "display_data"
    },
    {
     "data": {
      "image/png": "[encoded data removed]",
      "text/plain": [
       "<Figure size 432x288 with 1 Axes>"
      ]
     },
     "metadata": {
      "needs_background": "light"
     },
     "output_type": "display_data"
    }
   ],
   "source": [
    "#-----------------------------------------------------------\n",
    "# Retrieve a list of list results on training and test data\n",
    "# sets for each training epoch\n",
    "#-----------------------------------------------------------\n",
    "loss=history['loss']\n",
    "val_loss=history['val_loss']\n",
    "\n",
    "epochs=np.array(range(len(loss)))+1 # Get number of epochs\n",
    "\n",
    "#------------------------------------------------\n",
    "# Plot training and validation loss per epoch\n",
    "#------------------------------------------------\n",
    "plt.plot(epochs, loss, label=\"Training Loss\")\n",
    "plt.plot(epochs, val_loss, label=\"Validation Loss\")\n",
    "plt.title('Training and validation Loss')\n",
    "plt.xlim([0, 15])\n",
    "plt.legend(loc='center left', bbox_to_anchor=(1, 0.5))\n",
    "plt.show()\n",
    "\n",
    "#------------------------------------------------\n",
    "# Plot training and validation F Scores per epoch\n",
    "#------------------------------------------------\n",
    "plt.plot(epochs, history['visibility_fbeta_score'], label=\"Visibility - Train\")\n",
    "plt.plot(epochs, history['val_visibility_fbeta_score'], label=\"Visibility - Validation\")\n",
    "plt.plot(epochs, history['human_activity_fbeta_score'], label=\"Human Activity  - Train\")\n",
    "plt.plot(epochs, history['val_human_activity_fbeta_score'], label=\"Human Activity  - Validation\")\n",
    "plt.plot(epochs, history['road_water_fbeta_score'], label=\"Road-Water - Train\")\n",
    "plt.plot(epochs, history['val_road_water_fbeta_score'], label=\"Road-Water - Validation\")\n",
    "plt.plot(epochs, history['primary_fbeta_score'], label=\"Primary - Train\")\n",
    "plt.plot(epochs, history['val_primary_fbeta_score'], label=\"Primary - Validation\")\n",
    "plt.plot(epochs, history['remaining_fbeta_score'], label=\"Remaining - Train\")\n",
    "plt.plot(epochs, history['val_remaining_fbeta_score'], label=\"Remaining - Validation\")\n",
    "plt.title('F-Beta Score')\n",
    "plt.xlim([0, 15])\n",
    "plt.legend(loc='center left', bbox_to_anchor=(1, 0.5))\n",
    "plt.show()"
   ]
  },
  {
   "cell_type": "markdown",
   "id": "db8d69af",
   "metadata": {
    "papermill": {
     "duration": 3.887554,
     "end_time": "2022-06-29T03:05:04.091446",
     "exception": false,
     "start_time": "2022-06-29T03:05:00.203892",
     "status": "completed"
    },
    "tags": []
   },
   "source": [
    "# Threshold optimization and Submission"
   ]
  },
  {
   "cell_type": "code",
   "execution_count": 17,
   "id": "9a5e5dac",
   "metadata": {
    "execution": {
     "iopub.execute_input": "2022-06-29T03:05:12.570475Z",
     "iopub.status.busy": "2022-06-29T03:05:12.570222Z",
     "iopub.status.idle": "2022-06-29T03:05:13.265570Z",
     "shell.execute_reply": "2022-06-29T03:05:13.264702Z"
    },
    "papermill": {
     "duration": 4.317107,
     "end_time": "2022-06-29T03:05:13.268057",
     "exception": false,
     "start_time": "2022-06-29T03:05:08.950950",
     "status": "completed"
    },
    "tags": []
   },
   "outputs": [],
   "source": [
    "import matplotlib.image as mpimg\n",
    "from IPython.display import clear_output\n",
    "\n",
    "import sklearn\n",
    "from sklearn import metrics\n",
    "import scipy\n",
    "\n",
    "\n",
    "def GetOneHotFromPrediction(predictions):\n",
    "    OneHotPred = np.zeros((len(predictions[0]), 17))\n",
    "    for i in range(len(predictions[0])):\n",
    "        OneHotPred[i][0] = predictions[1][i][0]     #agriculture\n",
    "        OneHotPred[i][1] = predictions[4][i][0]     #artisinal_mine\n",
    "        OneHotPred[i][2] = predictions[4][i][1]     #bare_ground\n",
    "        OneHotPred[i][3] = predictions[4][i][2]     #blooming\n",
    "        OneHotPred[i][4] = predictions[4][i][3]     #blow_down\n",
    "        OneHotPred[i][5] = predictions[0][i][0]     #clear\n",
    "        OneHotPred[i][6] = predictions[0][i][3]     #cloudy\n",
    "        OneHotPred[i][7] = predictions[4][i][4]     #conventional_mine\n",
    "        OneHotPred[i][8] = predictions[1][i][1]     #cultivation\n",
    "        OneHotPred[i][9] = predictions[1][i][2]     #habitation\n",
    "        OneHotPred[i][10] = predictions[0][i][1]    #haze\n",
    "        OneHotPred[i][11] = predictions[0][i][2]    #partly_cloudy\n",
    "        OneHotPred[i][12] = predictions[3][i][0]    #primary\n",
    "        OneHotPred[i][13] = predictions[2][i][0]    #road\n",
    "        OneHotPred[i][14] = predictions[4][i][5]    #selective_logging\n",
    "        OneHotPred[i][15] = predictions[4][i][6]    #slash_burn\n",
    "        OneHotPred[i][16] = predictions[2][i][1]    #water\n",
    "    return OneHotPred\n",
    "\n",
    "\n",
    "def GetFScore(threshold):\n",
    "    T_Val1 = np.zeros(True_Val1.shape)\n",
    "    T_Val2 = np.zeros(True_Val2.shape)\n",
    "    for i, row in enumerate(True_Val1):\n",
    "        for j, element in enumerate(row):\n",
    "            if(Pred_Val1[i][j] > threshold[j]):\n",
    "                T_Val1[i][j]=1\n",
    "            else:\n",
    "                T_Val1[i][j]=0\n",
    "    for i, row in enumerate(True_Val2):\n",
    "        for j, element in enumerate(row):\n",
    "            if(Pred_Val2[i][j] > threshold[j]):\n",
    "                T_Val2[i][j]=1\n",
    "            else:\n",
    "                T_Val2[i][j]=0\n",
    "    Fscore1 = sklearn.metrics.fbeta_score(y_true=True_Val1, y_pred=T_Val1, beta=2, average='micro')\n",
    "    Fscore2 = sklearn.metrics.fbeta_score(y_true=True_Val2, y_pred=T_Val2, beta=2, average='micro')\n",
    "    return ((Fscore1+Fscore2)/2.0)\n",
    "\n",
    "\n",
    "def InsertLabels_Dataframe(df_Submission, predicted, threshold):\n",
    "    for i, ModelOutput in enumerate(predicted):\n",
    "        label = \"\"\n",
    "        if(ModelOutput[0] > threshold[0]):\n",
    "            label = label + \" agriculture\"\n",
    "        if(ModelOutput[1] > threshold[1]):\n",
    "            label = label + \" artisinal_mine\"\n",
    "        if(ModelOutput[2] > threshold[2]):\n",
    "            label = label + \" bare_ground\"\n",
    "        if(ModelOutput[3] > threshold[3]):\n",
    "            label = label + \" blooming\"\n",
    "        if(ModelOutput[4] > threshold[4]):\n",
    "            label = label + \" blow_down\"\n",
    "        if(ModelOutput[5] > threshold[5]):\n",
    "            label = label + \" clear\"\n",
    "        if(ModelOutput[6] > threshold[6]):\n",
    "            label = label + \" cloudy\"\n",
    "        if(ModelOutput[7] > threshold[7]):\n",
    "            label = label + \" conventional_mine\"\n",
    "        if(ModelOutput[8] > threshold[8]):\n",
    "            label = label + \" cultivation\"\n",
    "        if(ModelOutput[9] > threshold[9]):\n",
    "            label = label + \" habitation\"\n",
    "        if(ModelOutput[10] > threshold[10]):\n",
    "            label = label + \" haze\"\n",
    "        if(ModelOutput[11] > threshold[11]):\n",
    "            label = label + \" partly_cloudy\"\n",
    "        if(ModelOutput[12] > threshold[12]):\n",
    "            label = label + \" primary\"\n",
    "        if(ModelOutput[13] > threshold[13]):\n",
    "            label = label + \" road\"\n",
    "        if(ModelOutput[14] > threshold[14]):\n",
    "            label = label + \" selective_logging\"\n",
    "        if(ModelOutput[15] > threshold[15]):\n",
    "            label = label + \" slash_burn\"\n",
    "        if(ModelOutput[16] > threshold[16]):\n",
    "            label = label + \" water\"\n",
    "        df_Submission['tags'][i] = label"
   ]
  },
  {
   "cell_type": "code",
   "execution_count": 18,
   "id": "d3d3cef6",
   "metadata": {
    "execution": {
     "iopub.execute_input": "2022-06-29T03:05:20.730799Z",
     "iopub.status.busy": "2022-06-29T03:05:20.730544Z",
     "iopub.status.idle": "2022-06-29T03:10:04.654573Z",
     "shell.execute_reply": "2022-06-29T03:10:04.653132Z"
    },
    "papermill": {
     "duration": 291.847242,
     "end_time": "2022-06-29T03:10:08.735946",
     "exception": false,
     "start_time": "2022-06-29T03:05:16.888704",
     "status": "completed"
    },
    "tags": []
   },
   "outputs": [
    {
     "name": "stdout",
     "output_type": "stream",
     "text": [
      "Found 20240 validated image filenames.\n",
      "Found 20239 validated image filenames.\n",
      "633/633 [==============================] - 109s 171ms/step\n",
      "633/633 [==============================] - 109s 172ms/step\n",
      "0.8996089974533897\n"
     ]
    }
   ],
   "source": [
    "FolderPath = '../input/amazon-satellite/raw-data/train-jpg'\n",
    "df_Raw = pd.read_csv('../input/amazon-satellite/raw-data/train_v2.csv')\n",
    "\n",
    "df_Dataset = pd.DataFrame(Get_LabelEncodedArray(df_Raw.tags, LabelList), columns=LabelList)\n",
    "df_Dataset['filename'] = df_Raw.image_name.to_list()\n",
    "df_Dataset['filename'] = df_Dataset['filename']+'.jpg'\n",
    "df_Dataset = df_Dataset.loc[: , ['filename']+LabelList]\n",
    "\n",
    "df_Val1, df_Val2 = SplitData(df_Dataset, Ratio=0.5)\n",
    "\n",
    "Val1_datagen = ImageDataGenerator(rescale=1.0/255.0)\n",
    "Val1_generator = Val1_datagen.flow_from_dataframe(dataframe=df_Val1,\n",
    "                                                                directory=FolderPath,\n",
    "                                                                x_col=df_Val1.columns[0],\n",
    "                                                                y_col=df_Val1.columns[1:len(df_Val1.columns)],\n",
    "                                                                batch_size=32,\n",
    "                                                                class_mode='raw',\n",
    "                                                                shuffle=False,\n",
    "                                                                target_size=(256, 256))\n",
    "\n",
    "Val2_datagen = ImageDataGenerator(rescale=1.0/255.0)\n",
    "Val2_generator = Val2_datagen.flow_from_dataframe(dataframe=df_Val2,\n",
    "                                                                directory=FolderPath,\n",
    "                                                                x_col=df_Val2.columns[0],\n",
    "                                                                y_col=df_Val2.columns[1:len(df_Val2.columns)],\n",
    "                                                                batch_size=32,\n",
    "                                                                class_mode='raw',\n",
    "                                                                shuffle=False,\n",
    "                                                                target_size=(256, 256))\n",
    "\n",
    "True_Val1 = np.array(df_Val1.loc[: , LabelList])\n",
    "True_Val2 = np.array(df_Val2.loc[: , LabelList])\n",
    "\n",
    "Pred_Val1 = GetOneHotFromPrediction(model.predict(Val1_generator, verbose=1))\n",
    "Pred_Val2 = GetOneHotFromPrediction(model.predict(Val2_generator, verbose=1))\n",
    "\n",
    "initial_threshold = np.ones(17)*0.5\n",
    "print(GetFScore(initial_threshold))\n",
    "\n",
    "# Threshold optimization\n",
    "# lw = [0.0]*17\n",
    "# up = [1.0]*17\n",
    "# ret = scipy.optimize.dual_annealing(lambda x: -GetFScore(x), bounds=list(zip(lw, up)))\n",
    "# optimized_threshold = ret.x\n",
    "# optimized_fscore = -ret.fun\n",
    "# print(optimized_threshold)\n",
    "# print(optimized_fscore)\n",
    "optimized_threshold = initial_threshold"
   ]
  },
  {
   "cell_type": "code",
   "execution_count": 19,
   "id": "1f4af73f",
   "metadata": {
    "execution": {
     "iopub.execute_input": "2022-06-29T03:10:17.369970Z",
     "iopub.status.busy": "2022-06-29T03:10:17.369688Z",
     "iopub.status.idle": "2022-06-29T03:23:04.957570Z",
     "shell.execute_reply": "2022-06-29T03:23:04.956860Z"
    },
    "papermill": {
     "duration": 771.983671,
     "end_time": "2022-06-29T03:23:04.959757",
     "exception": false,
     "start_time": "2022-06-29T03:10:12.976086",
     "status": "completed"
    },
    "tags": []
   },
   "outputs": [
    {
     "name": "stdout",
     "output_type": "stream",
     "text": [
      "Found 61191 validated image filenames.\n",
      "1913/1913 [==============================] - 573s 299ms/step\n"
     ]
    },
    {
     "name": "stderr",
     "output_type": "stream",
     "text": [
      "/opt/conda/lib/python3.7/site-packages/ipykernel_launcher.py:19: FutureWarning: The default value of regex will change from True to False in a future version.\n"
     ]
    }
   ],
   "source": [
    "df_Submission = pd.read_csv('../input/amazon-satellite/raw-data/sample_submission_v2/sample_submission_v2.csv')\n",
    "df_Submission['image_name'] = df_Submission['image_name'] + '.jpg'\n",
    "Test_FolderPath = '../input/amazon-satellite/raw-data/test-jpg'\n",
    "\n",
    "validation_datagen = ImageDataGenerator(rescale=1.0/255.0)\n",
    "validation_generator = validation_datagen.flow_from_dataframe(dataframe=df_Submission,\n",
    "                                                                directory=Test_FolderPath,\n",
    "                                                                x_col=df_Submission.columns[0],\n",
    "                                                                y_col=df_Submission.columns[1:len(df_Submission.columns)],\n",
    "                                                                batch_size=32,\n",
    "                                                                class_mode='raw',\n",
    "                                                                shuffle=False,\n",
    "                                                                target_size=(256, 256))\n",
    "\n",
    "Raw_Predictions = model.predict(validation_generator, verbose=1)\n",
    "OneHot_Predictions = GetOneHotFromPrediction(Raw_Predictions)\n",
    "InsertLabels_Dataframe(df_Submission, OneHot_Predictions, threshold=optimized_threshold)\n",
    "\n",
    "df_Submission['image_name'] = df_Submission['image_name'].str.replace('.jpg', '')\n",
    "df_Submission.to_csv('/kaggle/working/submission.csv', index=None)"
   ]
  }
 ],
 "metadata": {
  "kernelspec": {
   "display_name": "Python 3",
   "language": "python",
   "name": "python3"
  },
  "language_info": {
   "codemirror_mode": {
    "name": "ipython",
    "version": 3
   },
   "file_extension": ".py",
   "mimetype": "text/x-python",
   "name": "python",
   "nbconvert_exporter": "python",
   "pygments_lexer": "ipython3",
   "version": "3.7.12"
  },
  "papermill": {
   "default_parameters": {},
   "duration": 33562.675254,
   "end_time": "2022-06-29T03:23:12.711808",
   "environment_variables": {},
   "exception": null,
   "input_path": "__notebook__.ipynb",
   "output_path": "__notebook__.ipynb",
   "parameters": {},
   "start_time": "2022-06-28T18:03:50.036554",
   "version": "2.3.4"
  }
 },
 "nbformat": 4,
 "nbformat_minor": 5
}
