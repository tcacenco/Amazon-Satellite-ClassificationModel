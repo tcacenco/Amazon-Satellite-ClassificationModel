{
 "cells": [
  {
   "cell_type": "code",
   "execution_count": 1,
   "id": "c69b020f",
   "metadata": {
    "execution": {
     "iopub.execute_input": "2022-06-06T22:03:25.001704Z",
     "iopub.status.busy": "2022-06-06T22:03:25.001274Z",
     "iopub.status.idle": "2022-06-06T22:03:31.053060Z",
     "shell.execute_reply": "2022-06-06T22:03:31.052279Z"
    },
    "papermill": {
     "duration": 6.080371,
     "end_time": "2022-06-06T22:03:31.055711",
     "exception": false,
     "start_time": "2022-06-06T22:03:24.975340",
     "status": "completed"
    },
    "tags": []
   },
   "outputs": [],
   "source": [
    "from datetime import datetime\n",
    "from datetime import timedelta\n",
    "import os\n",
    "import math\n",
    "import statistics\n",
    "import numpy as np\n",
    "import pandas as pd\n",
    "import matplotlib.pyplot as plt\n",
    "import matplotlib.image as mpimg\n",
    "from IPython.display import clear_output\n",
    "\n",
    "import tensorflow as tf\n",
    "from tensorflow.keras.preprocessing.image import ImageDataGenerator\n",
    "\n",
    "from tensorflow.keras.applications.inception_v3 import InceptionV3\n",
    "from tensorflow.keras.optimizers import RMSprop\n",
    "import tensorflow_addons as tfa\n",
    "\n",
    "# tf.test.is_gpu_available()\n",
    "# tf.config.list_physical_devices('GPU')"
   ]
  },
  {
   "cell_type": "markdown",
   "id": "8926dd56",
   "metadata": {
    "papermill": {
     "duration": 0.021852,
     "end_time": "2022-06-06T22:03:31.100556",
     "exception": false,
     "start_time": "2022-06-06T22:03:31.078704",
     "status": "completed"
    },
    "tags": []
   },
   "source": [
    "## Def functions: One-Hot Encoding and Split Data (Dataframe)"
   ]
  },
  {
   "cell_type": "code",
   "execution_count": 2,
   "id": "ffe6554c",
   "metadata": {
    "execution": {
     "iopub.execute_input": "2022-06-06T22:03:31.147136Z",
     "iopub.status.busy": "2022-06-06T22:03:31.146908Z",
     "iopub.status.idle": "2022-06-06T22:03:31.159419Z",
     "shell.execute_reply": "2022-06-06T22:03:31.158715Z"
    },
    "papermill": {
     "duration": 0.038122,
     "end_time": "2022-06-06T22:03:31.161220",
     "exception": false,
     "start_time": "2022-06-06T22:03:31.123098",
     "status": "completed"
    },
    "tags": []
   },
   "outputs": [],
   "source": [
    "def Get_ListOfLabels(df_InputLabels):\n",
    "    df_Tags = df_InputLabels.str.split(expand=True)\n",
    "    columns = len(df_Tags.columns)\n",
    "\n",
    "    for i in range(columns):\n",
    "        if i == 0:\n",
    "            df_aux = pd.DataFrame(df_Tags[0])\n",
    "        else:\n",
    "            df_aux = df_aux.append(pd.DataFrame(df_Tags[i].rename(index=0)))\n",
    "\n",
    "    LabelList = (df_aux.drop_duplicates().sort_values([0], ascending=[True]))[0].tolist()\n",
    "    LabelList = list(filter(None, LabelList))\n",
    "    return LabelList\n",
    "\n",
    "\n",
    "def Get_LabelEncodedArray(df_InputLabels, LabelList):\n",
    "    LabelArray = np.zeros((df_InputLabels.count(), len(LabelList)))\n",
    "    TagsArray = df_InputLabels.str.split(expand=True).to_numpy()\n",
    "\n",
    "    for i in range(TagsArray.shape[0]):\n",
    "        for j in range(TagsArray.shape[1]):\n",
    "            for k in range(len(LabelList)):\n",
    "                if(TagsArray[i][j]== LabelList[k]):\n",
    "                    LabelArray[i][k] = 1\n",
    "\n",
    "    return LabelArray\n",
    "\n",
    "def OneHotToStringLabels(OneHotArray, LabelList, delimiter):\n",
    "    string_labels = \"\"\n",
    "    if(len(OneHotArray)!=len(LabelList)):\n",
    "        raise Exception(\"OneHotArray does not match LabelList len/size\")\n",
    "\n",
    "    for i in range(len(OneHotArray)):\n",
    "        if(OneHotArray[i] == 1.0):\n",
    "            if(string_labels == \"\"):\n",
    "                string_labels = LabelList[i]\n",
    "            else:\n",
    "                string_labels = string_labels+delimiter+LabelList[i]\n",
    "    return string_labels\n",
    "\n",
    "def SplitData(df_Dataset, Ratio):\n",
    "\n",
    "    df_TrainData = pd.DataFrame(df_Dataset).sample(round(Ratio * df_Dataset['filename'].count()))\n",
    "\n",
    "    df_ValData = pd.DataFrame(df_Dataset)\n",
    "    condition = df_ValData['filename'].isin(df_TrainData['filename'])\n",
    "    df_ValData = df_ValData.drop(df_ValData[condition].index)\n",
    "\n",
    "    return df_TrainData, df_ValData"
   ]
  },
  {
   "cell_type": "markdown",
   "id": "935d42fb",
   "metadata": {
    "papermill": {
     "duration": 0.02271,
     "end_time": "2022-06-06T22:03:31.205768",
     "exception": false,
     "start_time": "2022-06-06T22:03:31.183058",
     "status": "completed"
    },
    "tags": []
   },
   "source": [
    "### **Encoding labels:** One-Hot"
   ]
  },
  {
   "cell_type": "code",
   "execution_count": 3,
   "id": "7689f6ab",
   "metadata": {
    "execution": {
     "iopub.execute_input": "2022-06-06T22:03:31.251402Z",
     "iopub.status.busy": "2022-06-06T22:03:31.250777Z",
     "iopub.status.idle": "2022-06-06T22:03:36.920646Z",
     "shell.execute_reply": "2022-06-06T22:03:36.919858Z"
    },
    "papermill": {
     "duration": 5.695192,
     "end_time": "2022-06-06T22:03:36.923167",
     "exception": false,
     "start_time": "2022-06-06T22:03:31.227975",
     "status": "completed"
    },
    "tags": []
   },
   "outputs": [],
   "source": [
    "source_path = \"../input/amazon-satellite/raw-data\"\n",
    "source_path_Labels = os.path.join(source_path, 'train_v2.csv')\n",
    "source_path_Images = os.path.join(source_path, 'train-jpg')\n",
    "\n",
    "df_Raw = pd.read_csv(source_path_Labels)\n",
    "LabelList = Get_ListOfLabels(df_Raw.tags)\n",
    "\n",
    "Get_LabelEncodedArray(df_Raw.tags, LabelList)\n",
    "df_Dataset = pd.DataFrame(Get_LabelEncodedArray(df_Raw.tags, LabelList), columns=LabelList)\n",
    "df_Dataset['filename'] = df_Raw.image_name.to_list()\n",
    "df_Dataset['filename'] = df_Dataset['filename']+'.jpg'\n",
    "df_Dataset = df_Dataset.loc[: , ['filename']+LabelList]"
   ]
  },
  {
   "cell_type": "markdown",
   "id": "2b576956",
   "metadata": {
    "papermill": {
     "duration": 0.03208,
     "end_time": "2022-06-06T22:03:36.993684",
     "exception": false,
     "start_time": "2022-06-06T22:03:36.961604",
     "status": "completed"
    },
    "tags": []
   },
   "source": [
    "## Data Exploration\n",
    "- Finding correlation between classes/labels and mutual exclusivity"
   ]
  },
  {
   "cell_type": "code",
   "execution_count": 4,
   "id": "d356f061",
   "metadata": {
    "execution": {
     "iopub.execute_input": "2022-06-06T22:03:37.041144Z",
     "iopub.status.busy": "2022-06-06T22:03:37.040897Z",
     "iopub.status.idle": "2022-06-06T22:03:37.102675Z",
     "shell.execute_reply": "2022-06-06T22:03:37.101884Z"
    },
    "papermill": {
     "duration": 0.091032,
     "end_time": "2022-06-06T22:03:37.107646",
     "exception": false,
     "start_time": "2022-06-06T22:03:37.016614",
     "status": "completed"
    },
    "tags": []
   },
   "outputs": [
    {
     "name": "stdout",
     "output_type": "stream",
     "text": [
      "                   agriculture  artisinal_mine  bare_ground  blooming  \\\n",
      "agriculture           1.000000             NaN          NaN       NaN   \n",
      "artisinal_mine             NaN             1.0          NaN       NaN   \n",
      "bare_ground                NaN             NaN          1.0       NaN   \n",
      "blooming                   NaN             NaN          NaN       1.0   \n",
      "blow_down                  NaN             NaN          NaN       NaN   \n",
      "clear                      NaN             NaN          NaN       NaN   \n",
      "cloudy                     NaN             NaN          NaN       NaN   \n",
      "conventional_mine          NaN             NaN          NaN       NaN   \n",
      "cultivation           0.344964             NaN          NaN       NaN   \n",
      "habitation            0.303979             NaN          NaN       NaN   \n",
      "haze                       NaN             NaN          NaN       NaN   \n",
      "partly_cloudy              NaN             NaN          NaN       NaN   \n",
      "primary                    NaN             NaN          NaN       NaN   \n",
      "road                  0.480930             NaN          NaN       NaN   \n",
      "selective_logging          NaN             NaN          NaN       NaN   \n",
      "slash_burn                 NaN             NaN          NaN       NaN   \n",
      "water                      NaN             NaN          NaN       NaN   \n",
      "\n",
      "                   blow_down  clear  cloudy  conventional_mine  cultivation  \\\n",
      "agriculture              NaN    NaN     NaN                NaN     0.344964   \n",
      "artisinal_mine           NaN    NaN     NaN                NaN          NaN   \n",
      "bare_ground              NaN    NaN     NaN                NaN          NaN   \n",
      "blooming                 NaN    NaN     NaN                NaN          NaN   \n",
      "blow_down                1.0    NaN     NaN                NaN          NaN   \n",
      "clear                    NaN    1.0     NaN                NaN          NaN   \n",
      "cloudy                   NaN    NaN     1.0                NaN          NaN   \n",
      "conventional_mine        NaN    NaN     NaN                1.0          NaN   \n",
      "cultivation              NaN    NaN     NaN                NaN     1.000000   \n",
      "habitation               NaN    NaN     NaN                NaN          NaN   \n",
      "haze                     NaN    NaN     NaN                NaN          NaN   \n",
      "partly_cloudy            NaN    NaN     NaN                NaN          NaN   \n",
      "primary                  NaN    NaN     NaN                NaN          NaN   \n",
      "road                     NaN    NaN     NaN                NaN          NaN   \n",
      "selective_logging        NaN    NaN     NaN                NaN          NaN   \n",
      "slash_burn               NaN    NaN     NaN                NaN          NaN   \n",
      "water                    NaN    NaN     NaN                NaN          NaN   \n",
      "\n",
      "                   habitation  haze  partly_cloudy  primary      road  \\\n",
      "agriculture          0.303979   NaN            NaN      NaN  0.480930   \n",
      "artisinal_mine            NaN   NaN            NaN      NaN       NaN   \n",
      "bare_ground               NaN   NaN            NaN      NaN       NaN   \n",
      "blooming                  NaN   NaN            NaN      NaN       NaN   \n",
      "blow_down                 NaN   NaN            NaN      NaN       NaN   \n",
      "clear                     NaN   NaN            NaN      NaN       NaN   \n",
      "cloudy                    NaN   NaN            NaN      NaN       NaN   \n",
      "conventional_mine         NaN   NaN            NaN      NaN       NaN   \n",
      "cultivation               NaN   NaN            NaN      NaN       NaN   \n",
      "habitation           1.000000   NaN            NaN      NaN  0.443341   \n",
      "haze                      NaN   1.0            NaN      NaN       NaN   \n",
      "partly_cloudy             NaN   NaN            1.0      NaN       NaN   \n",
      "primary                   NaN   NaN            NaN      1.0       NaN   \n",
      "road                 0.443341   NaN            NaN      NaN  1.000000   \n",
      "selective_logging         NaN   NaN            NaN      NaN       NaN   \n",
      "slash_burn                NaN   NaN            NaN      NaN       NaN   \n",
      "water                     NaN   NaN            NaN      NaN       NaN   \n",
      "\n",
      "                   selective_logging  slash_burn  water  \n",
      "agriculture                      NaN         NaN    NaN  \n",
      "artisinal_mine                   NaN         NaN    NaN  \n",
      "bare_ground                      NaN         NaN    NaN  \n",
      "blooming                         NaN         NaN    NaN  \n",
      "blow_down                        NaN         NaN    NaN  \n",
      "clear                            NaN         NaN    NaN  \n",
      "cloudy                           NaN         NaN    NaN  \n",
      "conventional_mine                NaN         NaN    NaN  \n",
      "cultivation                      NaN         NaN    NaN  \n",
      "habitation                       NaN         NaN    NaN  \n",
      "haze                             NaN         NaN    NaN  \n",
      "partly_cloudy                    NaN         NaN    NaN  \n",
      "primary                          NaN         NaN    NaN  \n",
      "road                             NaN         NaN    NaN  \n",
      "selective_logging                1.0         NaN    NaN  \n",
      "slash_burn                       NaN         1.0    NaN  \n",
      "water                            NaN         NaN    1.0  \n"
     ]
    }
   ],
   "source": [
    "# Find labels with high correlation\n",
    "df_corr = df_Dataset.corr()\n",
    "print(df_corr[df_corr>0.3])"
   ]
  },
  {
   "cell_type": "code",
   "execution_count": 5,
   "id": "8f2ce609",
   "metadata": {
    "execution": {
     "iopub.execute_input": "2022-06-06T22:03:37.154811Z",
     "iopub.status.busy": "2022-06-06T22:03:37.154154Z",
     "iopub.status.idle": "2022-06-06T22:03:37.204533Z",
     "shell.execute_reply": "2022-06-06T22:03:37.203572Z"
    },
    "papermill": {
     "duration": 0.076387,
     "end_time": "2022-06-06T22:03:37.207290",
     "exception": false,
     "start_time": "2022-06-06T22:03:37.130903",
     "status": "completed"
    },
    "tags": []
   },
   "outputs": [
    {
     "name": "stdout",
     "output_type": "stream",
     "text": [
      "                   agriculture  artisinal_mine  bare_ground  blooming  \\\n",
      "agriculture                NaN             NaN          NaN       NaN   \n",
      "artisinal_mine             NaN             NaN          NaN       NaN   \n",
      "bare_ground                NaN             NaN          NaN       NaN   \n",
      "blooming                   NaN             NaN          NaN       NaN   \n",
      "blow_down                  NaN             NaN          NaN       NaN   \n",
      "clear                      NaN             NaN          NaN       NaN   \n",
      "cloudy                     NaN             NaN          NaN       NaN   \n",
      "conventional_mine          NaN             NaN          NaN       NaN   \n",
      "cultivation                NaN             NaN          NaN       NaN   \n",
      "habitation                 NaN             NaN          NaN       NaN   \n",
      "haze                       NaN             NaN          NaN       NaN   \n",
      "partly_cloudy              NaN             NaN          NaN       NaN   \n",
      "primary                    NaN             NaN          NaN       NaN   \n",
      "road                       NaN             NaN          NaN       NaN   \n",
      "selective_logging          NaN             NaN          NaN       NaN   \n",
      "slash_burn                 NaN             NaN          NaN       NaN   \n",
      "water                      NaN             NaN          NaN       NaN   \n",
      "\n",
      "                   blow_down     clear    cloudy  conventional_mine  \\\n",
      "agriculture              NaN       NaN       NaN                NaN   \n",
      "artisinal_mine           NaN       NaN       NaN                NaN   \n",
      "bare_ground              NaN       NaN       NaN                NaN   \n",
      "blooming                 NaN       NaN       NaN                NaN   \n",
      "blow_down                NaN       NaN       NaN                NaN   \n",
      "clear                    NaN       NaN -0.358343                NaN   \n",
      "cloudy                   NaN -0.358343       NaN                NaN   \n",
      "conventional_mine        NaN       NaN       NaN                NaN   \n",
      "cultivation              NaN       NaN       NaN                NaN   \n",
      "habitation               NaN       NaN       NaN                NaN   \n",
      "haze                     NaN -0.410428       NaN                NaN   \n",
      "partly_cloudy            NaN -0.718208       NaN                NaN   \n",
      "primary                  NaN       NaN -0.829594                NaN   \n",
      "road                     NaN       NaN       NaN                NaN   \n",
      "selective_logging        NaN       NaN       NaN                NaN   \n",
      "slash_burn               NaN       NaN       NaN                NaN   \n",
      "water                    NaN       NaN       NaN                NaN   \n",
      "\n",
      "                   cultivation  habitation      haze  partly_cloudy   primary  \\\n",
      "agriculture                NaN         NaN       NaN            NaN       NaN   \n",
      "artisinal_mine             NaN         NaN       NaN            NaN       NaN   \n",
      "bare_ground                NaN         NaN       NaN            NaN       NaN   \n",
      "blooming                   NaN         NaN       NaN            NaN       NaN   \n",
      "blow_down                  NaN         NaN       NaN            NaN       NaN   \n",
      "clear                      NaN         NaN -0.410428      -0.718208       NaN   \n",
      "cloudy                     NaN         NaN       NaN            NaN -0.829594   \n",
      "conventional_mine          NaN         NaN       NaN            NaN       NaN   \n",
      "cultivation                NaN         NaN       NaN            NaN       NaN   \n",
      "habitation                 NaN         NaN       NaN            NaN       NaN   \n",
      "haze                       NaN         NaN       NaN            NaN       NaN   \n",
      "partly_cloudy              NaN         NaN       NaN            NaN       NaN   \n",
      "primary                    NaN         NaN       NaN            NaN       NaN   \n",
      "road                       NaN         NaN       NaN            NaN       NaN   \n",
      "selective_logging          NaN         NaN       NaN            NaN       NaN   \n",
      "slash_burn                 NaN         NaN       NaN            NaN       NaN   \n",
      "water                      NaN         NaN       NaN            NaN       NaN   \n",
      "\n",
      "                   road  selective_logging  slash_burn  water  \n",
      "agriculture         NaN                NaN         NaN    NaN  \n",
      "artisinal_mine      NaN                NaN         NaN    NaN  \n",
      "bare_ground         NaN                NaN         NaN    NaN  \n",
      "blooming            NaN                NaN         NaN    NaN  \n",
      "blow_down           NaN                NaN         NaN    NaN  \n",
      "clear               NaN                NaN         NaN    NaN  \n",
      "cloudy              NaN                NaN         NaN    NaN  \n",
      "conventional_mine   NaN                NaN         NaN    NaN  \n",
      "cultivation         NaN                NaN         NaN    NaN  \n",
      "habitation          NaN                NaN         NaN    NaN  \n",
      "haze                NaN                NaN         NaN    NaN  \n",
      "partly_cloudy       NaN                NaN         NaN    NaN  \n",
      "primary             NaN                NaN         NaN    NaN  \n",
      "road                NaN                NaN         NaN    NaN  \n",
      "selective_logging   NaN                NaN         NaN    NaN  \n",
      "slash_burn          NaN                NaN         NaN    NaN  \n",
      "water               NaN                NaN         NaN    NaN  \n"
     ]
    }
   ],
   "source": [
    "# Find labels with low correlation\n",
    "df_corr = df_Dataset.corr()\n",
    "print(df_corr[df_corr<-0.2])"
   ]
  },
  {
   "cell_type": "code",
   "execution_count": 6,
   "id": "c42f322e",
   "metadata": {
    "execution": {
     "iopub.execute_input": "2022-06-06T22:03:37.261805Z",
     "iopub.status.busy": "2022-06-06T22:03:37.261576Z",
     "iopub.status.idle": "2022-06-06T22:03:37.299464Z",
     "shell.execute_reply": "2022-06-06T22:03:37.298014Z"
    },
    "papermill": {
     "duration": 0.067829,
     "end_time": "2022-06-06T22:03:37.301993",
     "exception": false,
     "start_time": "2022-06-06T22:03:37.234164",
     "status": "completed"
    },
    "tags": []
   },
   "outputs": [
    {
     "name": "stdout",
     "output_type": "stream",
     "text": [
      "Images labelled as clear AND haze:\t\t\t0\n",
      "Images labelled as clear AND partly_cloudy:\t\t0\n",
      "Images labelled as clear AND cloudy:\t\t\t0\n",
      "Images labelled as haze AND partly_cloudy:\t\t0\n",
      "Images labelled as haze AND cloudy:\t\t\t0\n",
      "Images labelled as partly_cloudy AND cloudy:\t\t0\n",
      "\n",
      "Images with any of these 4 labels:\t40478\n",
      "Images without any of these 4 labels:\t1\n",
      "total number of images:\t\t\t40479\n"
     ]
    }
   ],
   "source": [
    "# Verify mutual exclusivity of 4 labels: clear, haze, partly_cloudy, cloudy\n",
    "\n",
    "print('Images labelled as clear AND haze:\\t\\t\\t'+str(df_Dataset.loc[(df_Dataset['clear']==1.0) & (df_Dataset['haze']==1.0)]['filename'].count()))\n",
    "print('Images labelled as clear AND partly_cloudy:\\t\\t'+str(df_Dataset.loc[(df_Dataset['clear']==1.0) & (df_Dataset['partly_cloudy']==1.0)]['filename'].count()))\n",
    "print('Images labelled as clear AND cloudy:\\t\\t\\t'+str(df_Dataset.loc[(df_Dataset['clear']==1.0) & (df_Dataset['cloudy']==1.0)]['filename'].count()))\n",
    "print('Images labelled as haze AND partly_cloudy:\\t\\t'+str(df_Dataset.loc[(df_Dataset['haze']==1.0) & (df_Dataset['partly_cloudy']==1.0)]['filename'].count()))\n",
    "print('Images labelled as haze AND cloudy:\\t\\t\\t'+str(df_Dataset.loc[(df_Dataset['haze']==1.0) & (df_Dataset['cloudy']==1.0)]['filename'].count()))\n",
    "print('Images labelled as partly_cloudy AND cloudy:\\t\\t'+str(df_Dataset.loc[(df_Dataset['partly_cloudy']==1.0) & (df_Dataset['cloudy']==1.0)]['filename'].count()))\n",
    "\n",
    "print('\\nImages with any of these 4 labels:\\t'+str(df_Dataset.loc[(df_Dataset['clear']==1.0) | (df_Dataset['haze']==1.0) | (df_Dataset['partly_cloudy']==1.0) | (df_Dataset['cloudy']==1.0)]['filename'].count()))\n",
    "print('Images without any of these 4 labels:\\t'+str(df_Dataset.loc[~((df_Dataset['clear']==1.0) | (df_Dataset['haze']==1.0) | (df_Dataset['partly_cloudy']==1.0) | (df_Dataset['cloudy']==1.0))]['filename'].count()))\n",
    "print('total number of images:\\t\\t\\t'+str(df_Raw.tags.count()))"
   ]
  },
  {
   "cell_type": "code",
   "execution_count": 7,
   "id": "c080f1af",
   "metadata": {
    "execution": {
     "iopub.execute_input": "2022-06-06T22:03:37.350967Z",
     "iopub.status.busy": "2022-06-06T22:03:37.350737Z",
     "iopub.status.idle": "2022-06-06T22:03:37.360454Z",
     "shell.execute_reply": "2022-06-06T22:03:37.359608Z"
    },
    "papermill": {
     "duration": 0.036985,
     "end_time": "2022-06-06T22:03:37.363168",
     "exception": false,
     "start_time": "2022-06-06T22:03:37.326183",
     "status": "completed"
    },
    "tags": []
   },
   "outputs": [
    {
     "name": "stdout",
     "output_type": "stream",
     "text": [
      "Images labelled as artisinal_mine AND conventional_mine: 4\n",
      "Images labelled as artisinal_mine OR conventional_mine: 435\n"
     ]
    }
   ],
   "source": [
    "# Verify mutual exclusivity of 4 labels: artisinal_mine and conventional_mine\n",
    "\n",
    "print('Images labelled as artisinal_mine AND conventional_mine: '+str(df_Dataset.loc[(df_Dataset['artisinal_mine']==1.0) & (df_Dataset['conventional_mine']==1.0)]['filename'].count()))\n",
    "print('Images labelled as artisinal_mine OR conventional_mine: '+str(df_Dataset.loc[(df_Dataset['artisinal_mine']==1.0) | (df_Dataset['conventional_mine']==1.0)]['filename'].count()))"
   ]
  },
  {
   "cell_type": "markdown",
   "id": "c639594d",
   "metadata": {
    "papermill": {
     "duration": 0.024389,
     "end_time": "2022-06-06T22:03:37.412932",
     "exception": false,
     "start_time": "2022-06-06T22:03:37.388543",
     "status": "completed"
    },
    "tags": []
   },
   "source": [
    "## Training and Validation Generators\n",
    "\n",
    "Now that you know the images you are dealing with, it is time for you to code the generators that will fed these images to your Network. For this, complete the `train_val_generators` function below:\n",
    "\n",
    "**Important Note:** The images have a resolution of 256x256 but the `flow_from_dataframe` method you will use allows you to set a target resolution. Lower resolution may yield much quicker training times without compromising the accuracy!"
   ]
  },
  {
   "cell_type": "code",
   "execution_count": 8,
   "id": "e42e3347",
   "metadata": {
    "execution": {
     "iopub.execute_input": "2022-06-06T22:03:37.463216Z",
     "iopub.status.busy": "2022-06-06T22:03:37.462963Z",
     "iopub.status.idle": "2022-06-06T22:03:37.484751Z",
     "shell.execute_reply": "2022-06-06T22:03:37.483951Z"
    },
    "papermill": {
     "duration": 0.048779,
     "end_time": "2022-06-06T22:03:37.486656",
     "exception": false,
     "start_time": "2022-06-06T22:03:37.437877",
     "status": "completed"
    },
    "tags": []
   },
   "outputs": [],
   "source": [
    "def generate_generator_multiple(generator, directory, df1, df2, df3, df4, df5, batch_size, target_size):\n",
    "    genX1 = generator.flow_from_dataframe(dataframe = df1,\n",
    "                                          directory=directory,\n",
    "                                          x_col=df1.columns[0],\n",
    "                                          y_col=df1.columns[1:len(df1.columns)],\n",
    "                                          target_size = target_size,\n",
    "                                          class_mode = 'raw',\n",
    "                                          batch_size = batch_size,\n",
    "                                          shuffle=False, \n",
    "                                          seed=7)\n",
    "    \n",
    "    genX2 = generator.flow_from_dataframe(dataframe = df2,\n",
    "                                          directory=directory,\n",
    "                                          x_col=df2.columns[0],\n",
    "                                          y_col=df2.columns[1:len(df2.columns)],\n",
    "                                          target_size = target_size,\n",
    "                                          class_mode = 'raw',\n",
    "                                          batch_size = batch_size,\n",
    "                                          shuffle=False, \n",
    "                                          seed=7)\n",
    "    \n",
    "    genX3 = generator.flow_from_dataframe(dataframe = df3,\n",
    "                                          directory=directory,\n",
    "                                          x_col=df3.columns[0],\n",
    "                                          y_col=df3.columns[1:len(df3.columns)],\n",
    "                                          target_size = target_size,\n",
    "                                          class_mode = 'raw',\n",
    "                                          batch_size = batch_size,\n",
    "                                          shuffle=False, \n",
    "                                          seed=7)\n",
    "    \n",
    "    genX4 = generator.flow_from_dataframe(dataframe = df4,\n",
    "                                          directory=directory,\n",
    "                                          x_col=df4.columns[0],\n",
    "                                          y_col=df4.columns[1:len(df4.columns)],\n",
    "                                          target_size = target_size,\n",
    "                                          class_mode = 'raw',\n",
    "                                          batch_size = batch_size,\n",
    "                                          shuffle=False, \n",
    "                                          seed=7)\n",
    "    \n",
    "    genX5 = generator.flow_from_dataframe(dataframe = df5,\n",
    "                                          directory=directory,\n",
    "                                          x_col=df5.columns[0],\n",
    "                                          y_col=df5.columns[1:len(df5.columns)],\n",
    "                                          target_size = target_size,\n",
    "                                          class_mode = 'raw',\n",
    "                                          batch_size = batch_size,\n",
    "                                          shuffle=False, \n",
    "                                          seed=7)\n",
    "    \n",
    "    for i in range(df1['filename'].count()):\n",
    "            X1i = genX1.next()\n",
    "            X2i = genX2.next()\n",
    "            X3i = genX3.next()\n",
    "            X4i = genX4.next()\n",
    "            X5i = genX5.next()\n",
    "            yield X1i[0],[X1i[1], X2i[1], X3i[1], X4i[1], X5i[1]]\n",
    "\n",
    "\n",
    "            \n",
    "            \n",
    "            \n",
    "# Get Data Generators\n",
    "def train_val_generators(DIRECTORY, df_Train, df_Validation):\n",
    "    \n",
    "  # Instantiate the ImageDataGenerator class \n",
    "  # Don't forget to normalize pixel values and set arguments to augment the images \n",
    "  train_datagen = ImageDataGenerator(rescale=1.0/255.0,\n",
    "                                     rotation_range=45,\n",
    "                                     width_shift_range=0.2,\n",
    "                                     height_shift_range=0.2,\n",
    "                                     zoom_range=0.15,\n",
    "                                     horizontal_flip=True,\n",
    "                                     fill_mode='nearest')\n",
    "\n",
    "# create generator\n",
    "  df_vis = df_Train.loc[:, ['filename', 'clear', 'haze', 'partly_cloudy', 'cloudy']]\n",
    "  df_hum = df_Train.loc[:, ['filename', 'agriculture', 'cultivation', 'habitation']]\n",
    "  df_rw  = df_Train.loc[:, ['filename', 'road', 'water']]\n",
    "  df_prim = df_Train.loc[:, ['filename', 'primary']]\n",
    "  df_rem = df_Train.loc[:, ['filename', 'artisinal_mine', 'bare_ground', 'blooming', 'blow_down', 'conventional_mine', 'selective_logging', 'slash_burn']]\n",
    "\n",
    "  train_generator = generate_generator_multiple(train_datagen, DIRECTORY, df_vis, df_hum, df_rw, df_prim, df_rem, 32, (256, 256))\n",
    "    \n",
    "#   train_generator = train_datagen.flow_from_dataframe(dataframe=df_Train,\n",
    "#                                                       directory=DIRECTORY,\n",
    "#                                                       x_col=df_Train.columns[0],\n",
    "#                                                       y_col=df_Train.columns[1:len(df_Train.columns)],\n",
    "#                                                       batch_size=32, \n",
    "#                                                       class_mode='raw',\n",
    "#                                                       target_size=(256, 256))\n",
    "\n",
    "  # Instantiate the ImageDataGenerator class (set the rescale argument)\n",
    "  # Validation data not augmented\n",
    "  validation_datagen = ImageDataGenerator(rescale=1.0/255.0)\n",
    "    \n",
    "  df_vis = df_ValData.loc[:, ['filename', 'clear', 'haze', 'partly_cloudy', 'cloudy']]\n",
    "  df_hum = df_ValData.loc[:, ['filename', 'agriculture', 'cultivation', 'habitation']]\n",
    "  df_rw  = df_ValData.loc[:, ['filename', 'road', 'water']]\n",
    "  df_prim = df_ValData.loc[:, ['filename', 'primary']]\n",
    "  df_rem = df_ValData.loc[:, ['filename', 'artisinal_mine', 'bare_ground', 'blooming', 'blow_down', 'conventional_mine', 'selective_logging', 'slash_burn']]\n",
    "\n",
    "  validation_generator = generate_generator_multiple(validation_datagen, DIRECTORY, df_vis, df_hum, df_rw, df_prim, df_rem, 32, (256, 256))\n",
    "  \n",
    "#   flow_from_dataframe method\n",
    "#   validation_generator = validation_datagen.flow_from_dataframe(dataframe=df_Validation,\n",
    "#                                                                 directory=DIRECTORY,\n",
    "#                                                                 x_col=df_ValData.columns[0],\n",
    "#                                                                 y_col=df_ValData.columns[1:len(df_ValData.columns)],\n",
    "#                                                                 batch_size=32,\n",
    "#                                                                 class_mode='raw',\n",
    "#                                                                 target_size=(256, 256))\n",
    "  return train_generator, validation_generator"
   ]
  },
  {
   "cell_type": "code",
   "execution_count": 9,
   "id": "59a3310e",
   "metadata": {
    "execution": {
     "iopub.execute_input": "2022-06-06T22:03:37.533848Z",
     "iopub.status.busy": "2022-06-06T22:03:37.533640Z",
     "iopub.status.idle": "2022-06-06T22:03:37.580584Z",
     "shell.execute_reply": "2022-06-06T22:03:37.579804Z"
    },
    "papermill": {
     "duration": 0.072819,
     "end_time": "2022-06-06T22:03:37.582656",
     "exception": false,
     "start_time": "2022-06-06T22:03:37.509837",
     "status": "completed"
    },
    "tags": []
   },
   "outputs": [],
   "source": [
    "# Split Data\n",
    "TrainToValidation_DataSize_Ratio = 0.8\n",
    "df_TrainData, df_ValData = SplitData(df_Dataset, TrainToValidation_DataSize_Ratio)\n",
    "\n",
    "# Test Generators\n",
    "train_generator, validation_generator = train_val_generators(source_path_Images, df_TrainData, df_ValData)"
   ]
  },
  {
   "cell_type": "markdown",
   "id": "ec0ddafc",
   "metadata": {
    "papermill": {
     "duration": 0.024611,
     "end_time": "2022-06-06T22:03:37.633920",
     "exception": false,
     "start_time": "2022-06-06T22:03:37.609309",
     "status": "completed"
    },
    "tags": []
   },
   "source": [
    "## Test Image Data Generator and Label Encoding\n",
    "- Verify if functions are working and visualize data"
   ]
  },
  {
   "cell_type": "code",
   "execution_count": 10,
   "id": "c43be00d",
   "metadata": {
    "execution": {
     "iopub.execute_input": "2022-06-06T22:03:37.683480Z",
     "iopub.status.busy": "2022-06-06T22:03:37.683215Z",
     "iopub.status.idle": "2022-06-06T22:03:37.686799Z",
     "shell.execute_reply": "2022-06-06T22:03:37.686094Z"
    },
    "papermill": {
     "duration": 0.030681,
     "end_time": "2022-06-06T22:03:37.688708",
     "exception": false,
     "start_time": "2022-06-06T22:03:37.658027",
     "status": "completed"
    },
    "tags": []
   },
   "outputs": [],
   "source": [
    "# data_index = 0\n",
    "\n",
    "# print(pd.DataFrame(np.array([LabelList, validation_generator.labels[data_index]]).transpose()).to_string(index=False))\n",
    "# print(\"\\nFile name:\\t\"+validation_generator.filenames[data_index])\n",
    "# print(\"Labels:\\t\\t\"+OneHotToStringLabels(validation_generator.labels[data_index], LabelList, ' ')+'\\n')\n",
    "\n",
    "# img = mpimg.imread(os.path.join(source_path_Images, validation_generator.filenames[data_index]))\n",
    "# img = img[:,:,:3]\n",
    "# plt.imshow(img)"
   ]
  },
  {
   "cell_type": "markdown",
   "id": "e9cb4955",
   "metadata": {
    "papermill": {
     "duration": 0.023865,
     "end_time": "2022-06-06T22:03:37.736707",
     "exception": false,
     "start_time": "2022-06-06T22:03:37.712842",
     "status": "completed"
    },
    "tags": []
   },
   "source": [
    "## Model Definition\n",
    "- Import InceptionV3 weights and define layers connected\n",
    "- Import VGG19 weights and define layers connected"
   ]
  },
  {
   "cell_type": "code",
   "execution_count": 11,
   "id": "615225e9",
   "metadata": {
    "execution": {
     "iopub.execute_input": "2022-06-06T22:03:37.784794Z",
     "iopub.status.busy": "2022-06-06T22:03:37.784578Z",
     "iopub.status.idle": "2022-06-06T22:03:37.828467Z",
     "shell.execute_reply": "2022-06-06T22:03:37.827850Z"
    },
    "papermill": {
     "duration": 0.07006,
     "end_time": "2022-06-06T22:03:37.830482",
     "exception": false,
     "start_time": "2022-06-06T22:03:37.760422",
     "status": "completed"
    },
    "tags": []
   },
   "outputs": [],
   "source": [
    "from tensorflow.keras.optimizers import RMSprop\n",
    "from tensorflow.keras.optimizers import Adam\n",
    "import tensorflow_addons as tfa\n",
    "\n",
    "def create_model():\n",
    "    \n",
    "    Input = tf.keras.Input(shape=(256, 256, 3))\n",
    "    \n",
    "#     #Load InceptionResNetV2 Model\n",
    "    Model_1 = tf.keras.applications.InceptionResNetV2(input_tensor = Input, include_top = False, weights=\"imagenet\")\n",
    "    #Make all layers on InceptionResNetV2 trainable\n",
    "    for layer in Model_1.layers:\n",
    "        layer.trainable = True\n",
    "    x_Model_1 = Model_1(Input)\n",
    "    x_Model_1_Flat = tf.keras.layers.Flatten(name='Flatten_Model_1')(x_Model_1)\n",
    "    \n",
    "    \n",
    "#     #Load VGG19 Model\n",
    "    Model_2 = tf.keras.applications.VGG19(input_tensor = Input, include_top=False, weights=\"imagenet\")\n",
    "    #Make all layers on VGG19 trainable\n",
    "    for layer in Model_2.layers:\n",
    "            layer.trainable = True\n",
    "    x_Model_2 = Model_2(Input)\n",
    "    x_Model_2_Flat = tf.keras.layers.Flatten(name='Flatten_Model_2')(x_Model_2)\n",
    "    \n",
    "    \n",
    "    x_Top = tf.keras.layers.Concatenate(name='ConcatenateFlatten_Layer')([x_Model_1_Flat, x_Model_2_Flat])\n",
    "    x_Top = tf.keras.layers.Dense(1024, activation='relu', kernel_initializer = tf.keras.initializers.HeUniform())(x_Top)\n",
    "    \n",
    "    #Define Visibility Branch\n",
    "    # x_vis[0] -> clear\n",
    "    # x_vis[1] -> haze\n",
    "    # x_vis[2] -> partly_cloudy\n",
    "    # x_vis[3] -> cloudy\n",
    "    x_vis = tf.keras.layers.Dense(512, activation='relu', kernel_initializer = tf.keras.initializers.HeUniform())(x_Top)\n",
    "    x_vis = tf.keras.layers.BatchNormalization()(x_vis)\n",
    "    x_vis = tf.keras.layers.Dropout(0.4)(x_vis)\n",
    "    x_vis = tf.keras.layers.Dense(512, activation='relu', kernel_initializer = tf.keras.initializers.HeUniform())(x_vis)\n",
    "    x_vis = tf.keras.layers.BatchNormalization()(x_vis)\n",
    "    x_vis = tf.keras.layers.Dropout(0.4)(x_vis)\n",
    "    x_vis = tf.keras.layers.Dense(256, activation='relu', kernel_initializer = tf.keras.initializers.HeUniform())(x_vis)\n",
    "    x_vis = tf.keras.layers.BatchNormalization()(x_vis)\n",
    "    x_vis = tf.keras.layers.Dropout(0.4)(x_vis)\n",
    "    x_vis = tf.keras.layers.Dense(4, activation='softmax', name = 'visibility', kernel_initializer = tf.keras.initializers.GlorotUniform())(x_vis)\n",
    "    \n",
    "    #Define Human Activity Branch\n",
    "    # x_hum[0] -> agriculture\n",
    "    # x_hum[1] -> cultivation\n",
    "    # x_hum[2] -> habitation\n",
    "    x_hum = tf.keras.layers.Dense(1024, activation='relu', kernel_initializer = tf.keras.initializers.HeUniform())(x_Top)\n",
    "    x_hum = tf.keras.layers.BatchNormalization()(x_hum)\n",
    "    x_hum = tf.keras.layers.Dropout(0.4)(x_hum)\n",
    "    x_hum = tf.keras.layers.Dense(512, activation='relu', kernel_initializer = tf.keras.initializers.HeUniform())(x_hum)\n",
    "    x_hum = tf.keras.layers.BatchNormalization()(x_hum)\n",
    "    x_hum = tf.keras.layers.Dropout(0.4)(x_hum)\n",
    "    x_hum = tf.keras.layers.Dense(512, activation='relu', kernel_initializer = tf.keras.initializers.HeUniform())(x_hum)\n",
    "    x_hum = tf.keras.layers.BatchNormalization()(x_hum)\n",
    "    x_hum = tf.keras.layers.Dropout(0.4)(x_hum)\n",
    "    x_hum = tf.keras.layers.Dense(256, activation='relu', kernel_initializer = tf.keras.initializers.HeUniform())(x_hum)\n",
    "    x_hum = tf.keras.layers.BatchNormalization()(x_hum)\n",
    "    x_hum = tf.keras.layers.Dropout(0.4)(x_hum)\n",
    "    x_hum = tf.keras.layers.Dense(128, activation='relu', kernel_initializer = tf.keras.initializers.HeUniform())(x_hum)\n",
    "    x_hum = tf.keras.layers.BatchNormalization()(x_hum)\n",
    "    x_hum = tf.keras.layers.Dropout(0.4)(x_hum)\n",
    "    x_hum = tf.keras.layers.Dense(3, activation='sigmoid', name='human_activity', kernel_initializer = tf.keras.initializers.GlorotUniform())(x_hum)\n",
    "    \n",
    "    #Define Track Branch (Road or Water)\n",
    "    # x_rw[0] -> road\n",
    "    # x_rw[1] -> water\n",
    "    x_rw = tf.keras.layers.Dense(1024, activation='relu', kernel_initializer = tf.keras.initializers.HeUniform())(x_Top)\n",
    "    x_rw = tf.keras.layers.BatchNormalization()(x_rw)\n",
    "    x_rw = tf.keras.layers.Dropout(0.4)(x_rw)\n",
    "    x_rw = tf.keras.layers.Dense(512, activation='relu', kernel_initializer = tf.keras.initializers.HeUniform())(x_rw)\n",
    "    x_rw = tf.keras.layers.BatchNormalization()(x_rw)\n",
    "    x_rw = tf.keras.layers.Dropout(0.4)(x_rw)\n",
    "    x_rw = tf.keras.layers.Dense(512, activation='relu', kernel_initializer = tf.keras.initializers.HeUniform())(x_rw)\n",
    "    x_rw = tf.keras.layers.BatchNormalization()(x_rw)\n",
    "    x_rw = tf.keras.layers.Dropout(0.4)(x_rw)\n",
    "    x_rw = tf.keras.layers.Dense(256, activation='relu', kernel_initializer = tf.keras.initializers.HeUniform())(x_rw)\n",
    "    x_rw = tf.keras.layers.BatchNormalization()(x_rw)\n",
    "    x_rw = tf.keras.layers.Dropout(0.4)(x_rw)\n",
    "    x_rw = tf.keras.layers.Dense(128, activation='relu', kernel_initializer = tf.keras.initializers.HeUniform())(x_rw)\n",
    "    x_rw = tf.keras.layers.BatchNormalization()(x_rw)\n",
    "    x_rw = tf.keras.layers.Dropout(0.4)(x_rw)\n",
    "    x_rw = tf.keras.layers.Dense(2, activation='sigmoid', name='road_water', kernel_initializer = tf.keras.initializers.GlorotUniform())(x_rw)\n",
    "    \n",
    "    #Define Primary Branch\n",
    "    #x_primary[0] -> primary\n",
    "    x_prim = tf.keras.layers.Dense(512, activation='relu', kernel_initializer = tf.keras.initializers.HeUniform())(x_Top)\n",
    "    x_prim = tf.keras.layers.BatchNormalization()(x_prim)\n",
    "    x_prim = tf.keras.layers.Dropout(0.4)(x_prim)\n",
    "    x_prim = tf.keras.layers.Dense(512, activation='relu', kernel_initializer = tf.keras.initializers.HeUniform())(x_prim)\n",
    "    x_prim = tf.keras.layers.BatchNormalization()(x_prim)\n",
    "    x_prim = tf.keras.layers.Dropout(0.4)(x_prim)\n",
    "    x_prim = tf.keras.layers.Dense(512, activation='relu', kernel_initializer = tf.keras.initializers.HeUniform())(x_prim)\n",
    "    x_prim = tf.keras.layers.BatchNormalization()(x_prim)\n",
    "    x_prim = tf.keras.layers.Dropout(0.4)(x_prim)\n",
    "    x_prim = tf.keras.layers.Dense(256, activation='relu', kernel_initializer = tf.keras.initializers.HeUniform())(x_prim)\n",
    "    x_prim = tf.keras.layers.BatchNormalization()(x_prim)\n",
    "    x_prim = tf.keras.layers.Dropout(0.4)(x_prim)\n",
    "    x_prim = tf.keras.layers.Dense(1, activation='sigmoid', name='primary', kernel_initializer = tf.keras.initializers.GlorotUniform())(x_prim)\n",
    "    \n",
    "    \n",
    "    #Define Remaining Branch\n",
    "    #x_mine[0] -> artisinal_mine\n",
    "    # x_rem[1] -> bare_ground\n",
    "    # x_rem[2] -> blooming\n",
    "    # x_rem[3] -> blow_down\n",
    "    #x_mine[4] -> conventional_mine\n",
    "    # x_rem[5] -> selective_logging\n",
    "    # x_rem[6] -> slash_burn\n",
    "    x_rem = tf.keras.layers.Dense(512, activation='relu', kernel_initializer = tf.keras.initializers.HeUniform())(x_Top)\n",
    "    x_rem = tf.keras.layers.BatchNormalization()(x_rem)\n",
    "    x_rem = tf.keras.layers.Dropout(0.4)(x_rem)\n",
    "    x_rem = tf.keras.layers.Dense(512, activation='relu', kernel_initializer = tf.keras.initializers.HeUniform())(x_rem)\n",
    "    x_rem = tf.keras.layers.BatchNormalization()(x_rem)\n",
    "    x_rem = tf.keras.layers.Dropout(0.4)(x_rem)\n",
    "    x_rem = tf.keras.layers.Dense(512, activation='relu', kernel_initializer = tf.keras.initializers.HeUniform())(x_rem)\n",
    "    x_rem = tf.keras.layers.BatchNormalization()(x_rem)\n",
    "    x_rem = tf.keras.layers.Dropout(0.4)(x_rem)\n",
    "    x_rem = tf.keras.layers.Dense(256, activation='relu', kernel_initializer = tf.keras.initializers.HeUniform())(x_rem)\n",
    "    x_rem = tf.keras.layers.BatchNormalization()(x_rem)\n",
    "    x_rem = tf.keras.layers.Dropout(0.4)(x_rem)\n",
    "    x_rem = tf.keras.layers.Dense(7, activation='sigmoid', name='remaining', kernel_initializer = tf.keras.initializers.GlorotUniform())(x_rem)\n",
    "    \n",
    "    model = tf.keras.Model(inputs=Input, outputs=[x_vis, x_hum, x_rw, x_prim, x_rem])\n",
    "\n",
    "    model.compile(optimizer=Adam(lr=1e-4),\n",
    "                loss='binary_crossentropy',\n",
    "                metrics={\n",
    "                         'visibility': [tfa.metrics.FBetaScore(beta=2.0, num_classes=4 , average='micro', threshold=0.5)],\n",
    "                         'human_activity': [tfa.metrics.FBetaScore(beta=2.0, num_classes=3 , average='micro', threshold=0.5)],\n",
    "                         'road_water': [tfa.metrics.FBetaScore(beta=2.0, num_classes=2 , average='micro', threshold=0.5)],\n",
    "                         'primary': [tfa.metrics.FBetaScore(beta=2.0, num_classes=1 , average='micro', threshold=0.5)],\n",
    "                         'remaining': [tfa.metrics.FBetaScore(beta=2.0, num_classes=7 , average='micro', threshold=0.5)]\n",
    "                        }\n",
    "               ) \n",
    "    return model"
   ]
  },
  {
   "cell_type": "markdown",
   "id": "5689c560",
   "metadata": {
    "papermill": {
     "duration": 0.023486,
     "end_time": "2022-06-06T22:03:37.878006",
     "exception": false,
     "start_time": "2022-06-06T22:03:37.854520",
     "status": "completed"
    },
    "tags": []
   },
   "source": [
    "## Callback to stop training"
   ]
  },
  {
   "cell_type": "code",
   "execution_count": 12,
   "id": "b408c5d0",
   "metadata": {
    "execution": {
     "iopub.execute_input": "2022-06-06T22:03:37.927881Z",
     "iopub.status.busy": "2022-06-06T22:03:37.927670Z",
     "iopub.status.idle": "2022-06-06T22:03:37.932529Z",
     "shell.execute_reply": "2022-06-06T22:03:37.931767Z"
    },
    "papermill": {
     "duration": 0.031399,
     "end_time": "2022-06-06T22:03:37.934303",
     "exception": false,
     "start_time": "2022-06-06T22:03:37.902904",
     "status": "completed"
    },
    "tags": []
   },
   "outputs": [],
   "source": [
    "class myCallback(tf.keras.callbacks.Callback):\n",
    "    def on_epoch_end(self, epoch, logs={}):\n",
    "        print(\"\\nReached FBeta Score = \"+str(statistics.harmonic_mean([logs.get('val_visibility_fbeta_score'), logs.get('val_human_activity_fbeta_score'), logs.get('val_road_water_fbeta_score'), logs.get('val_primary_fbeta_score')])))"
   ]
  },
  {
   "cell_type": "markdown",
   "id": "0b13ff19",
   "metadata": {
    "papermill": {
     "duration": 0.024637,
     "end_time": "2022-06-06T22:03:37.982501",
     "exception": false,
     "start_time": "2022-06-06T22:03:37.957864",
     "status": "completed"
    },
    "tags": []
   },
   "source": [
    "## Model Training"
   ]
  },
  {
   "cell_type": "code",
   "execution_count": 13,
   "id": "9f9a72e7",
   "metadata": {
    "execution": {
     "iopub.execute_input": "2022-06-06T22:03:38.031955Z",
     "iopub.status.busy": "2022-06-06T22:03:38.031743Z",
     "iopub.status.idle": "2022-06-07T06:38:10.649635Z",
     "shell.execute_reply": "2022-06-07T06:38:10.648835Z"
    },
    "papermill": {
     "duration": 30875.78085,
     "end_time": "2022-06-07T06:38:13.787866",
     "exception": false,
     "start_time": "2022-06-06T22:03:38.007016",
     "status": "completed"
    },
    "tags": []
   },
   "outputs": [
    {
     "name": "stderr",
     "output_type": "stream",
     "text": [
      "2022-06-06 22:03:38.138308: I tensorflow/stream_executor/cuda/cuda_gpu_executor.cc:937] successful NUMA node read from SysFS had negative value (-1), but there must be at least one NUMA node, so returning NUMA node zero\n",
      "2022-06-06 22:03:38.343047: I tensorflow/stream_executor/cuda/cuda_gpu_executor.cc:937] successful NUMA node read from SysFS had negative value (-1), but there must be at least one NUMA node, so returning NUMA node zero\n",
      "2022-06-06 22:03:38.343880: I tensorflow/stream_executor/cuda/cuda_gpu_executor.cc:937] successful NUMA node read from SysFS had negative value (-1), but there must be at least one NUMA node, so returning NUMA node zero\n",
      "2022-06-06 22:03:38.345086: I tensorflow/core/platform/cpu_feature_guard.cc:142] This TensorFlow binary is optimized with oneAPI Deep Neural Network Library (oneDNN) to use the following CPU instructions in performance-critical operations:  AVX2 AVX512F FMA\n",
      "To enable them in other operations, rebuild TensorFlow with the appropriate compiler flags.\n",
      "2022-06-06 22:03:38.345441: I tensorflow/stream_executor/cuda/cuda_gpu_executor.cc:937] successful NUMA node read from SysFS had negative value (-1), but there must be at least one NUMA node, so returning NUMA node zero\n",
      "2022-06-06 22:03:38.346148: I tensorflow/stream_executor/cuda/cuda_gpu_executor.cc:937] successful NUMA node read from SysFS had negative value (-1), but there must be at least one NUMA node, so returning NUMA node zero\n",
      "2022-06-06 22:03:38.346863: I tensorflow/stream_executor/cuda/cuda_gpu_executor.cc:937] successful NUMA node read from SysFS had negative value (-1), but there must be at least one NUMA node, so returning NUMA node zero\n",
      "2022-06-06 22:03:40.661194: I tensorflow/stream_executor/cuda/cuda_gpu_executor.cc:937] successful NUMA node read from SysFS had negative value (-1), but there must be at least one NUMA node, so returning NUMA node zero\n",
      "2022-06-06 22:03:40.662059: I tensorflow/stream_executor/cuda/cuda_gpu_executor.cc:937] successful NUMA node read from SysFS had negative value (-1), but there must be at least one NUMA node, so returning NUMA node zero\n",
      "2022-06-06 22:03:40.662737: I tensorflow/stream_executor/cuda/cuda_gpu_executor.cc:937] successful NUMA node read from SysFS had negative value (-1), but there must be at least one NUMA node, so returning NUMA node zero\n",
      "2022-06-06 22:03:40.664108: I tensorflow/core/common_runtime/gpu/gpu_device.cc:1510] Created device /job:localhost/replica:0/task:0/device:GPU:0 with 15403 MB memory:  -> device: 0, name: Tesla P100-PCIE-16GB, pci bus id: 0000:00:04.0, compute capability: 6.0\n"
     ]
    },
    {
     "name": "stdout",
     "output_type": "stream",
     "text": [
      "Downloading data from https://storage.googleapis.com/tensorflow/keras-applications/inception_resnet_v2/inception_resnet_v2_weights_tf_dim_ordering_tf_kernels_notop.h5\n",
      "219062272/219055592 [==============================] - 1s 0us/step\n",
      "219070464/219055592 [==============================] - 1s 0us/step\n",
      "Downloading data from https://storage.googleapis.com/tensorflow/keras-applications/vgg19/vgg19_weights_tf_dim_ordering_tf_kernels_notop.h5\n",
      "80142336/80134624 [==============================] - 1s 0us/step\n",
      "80150528/80134624 [==============================] - 1s 0us/step\n"
     ]
    },
    {
     "name": "stderr",
     "output_type": "stream",
     "text": [
      "/opt/conda/lib/python3.7/site-packages/keras/optimizer_v2/optimizer_v2.py:356: UserWarning: The `lr` argument is deprecated, use `learning_rate` instead.\n",
      "  \"The `lr` argument is deprecated, use `learning_rate` instead.\")\n",
      "/opt/conda/lib/python3.7/site-packages/keras/engine/training.py:1972: UserWarning: `Model.fit_generator` is deprecated and will be removed in a future version. Please use `Model.fit`, which supports generators.\n",
      "  warnings.warn('`Model.fit_generator` is deprecated and '\n"
     ]
    },
    {
     "name": "stdout",
     "output_type": "stream",
     "text": [
      "Found 32383 validated image filenames.\n",
      "Found 32383 validated image filenames.\n",
      "Found 32383 validated image filenames.\n",
      "Found 32383 validated image filenames.\n",
      "Found 32383 validated image filenames.\n"
     ]
    },
    {
     "name": "stderr",
     "output_type": "stream",
     "text": [
      "2022-06-06 22:05:01.254024: I tensorflow/compiler/mlir/mlir_graph_optimization_pass.cc:185] None of the MLIR Optimization Passes are enabled (registered 2)\n"
     ]
    },
    {
     "name": "stdout",
     "output_type": "stream",
     "text": [
      "Epoch 1/20\n"
     ]
    },
    {
     "name": "stderr",
     "output_type": "stream",
     "text": [
      "2022-06-06 22:05:26.439319: I tensorflow/stream_executor/cuda/cuda_dnn.cc:369] Loaded cuDNN version 8005\n"
     ]
    },
    {
     "name": "stdout",
     "output_type": "stream",
     "text": [
      "1012/1012 [==============================] - ETA: 0s - loss: 3.4110 - visibility_loss: 0.6430 - human_activity_loss: 0.7395 - road_water_loss: 0.7377 - primary_loss: 0.5903 - remaining_loss: 0.7006 - visibility_fbeta_score: 0.5361 - human_activity_fbeta_score: 0.4622 - road_water_fbeta_score: 0.4506 - primary_fbeta_score: 0.7903 - remaining_fbeta_score: 0.0357Found 8096 validated image filenames.\n",
      "Found 8096 validated image filenames.\n",
      "Found 8096 validated image filenames.\n",
      "Found 8096 validated image filenames.\n",
      "Found 8096 validated image filenames.\n",
      "1012/1012 [==============================] - 3161s 3s/step - loss: 3.4110 - visibility_loss: 0.6430 - human_activity_loss: 0.7395 - road_water_loss: 0.7377 - primary_loss: 0.5903 - remaining_loss: 0.7006 - visibility_fbeta_score: 0.5361 - human_activity_fbeta_score: 0.4622 - road_water_fbeta_score: 0.4506 - primary_fbeta_score: 0.7903 - remaining_fbeta_score: 0.0357 - val_loss: 12.1282 - val_visibility_loss: 2.6658 - val_human_activity_loss: 1.0199 - val_road_water_loss: 0.9146 - val_primary_loss: 6.5571 - val_remaining_loss: 0.9708 - val_visibility_fbeta_score: 0.8137 - val_human_activity_fbeta_score: 0.4867 - val_road_water_fbeta_score: 0.2901 - val_primary_fbeta_score: 0.9768 - val_remaining_fbeta_score: 0.0019\n",
      "\n",
      "Reached FBeta Score = 0.5158374819147125\n",
      "\n",
      "Epoch 00001: val_loss improved from inf to 12.12824, saving model to /kaggle/working/InceptionResNetVGG19.h5\n",
      "Epoch 2/20\n",
      "1012/1012 [==============================] - 2969s 3s/step - loss: 1.8245 - visibility_loss: 0.3323 - human_activity_loss: 0.4780 - road_water_loss: 0.4888 - primary_loss: 0.2900 - remaining_loss: 0.2353 - visibility_fbeta_score: 0.8135 - human_activity_fbeta_score: 0.5232 - road_water_fbeta_score: 0.4965 - primary_fbeta_score: 0.9454 - remaining_fbeta_score: 0.0248 - val_loss: 1.2048 - val_visibility_loss: 0.1937 - val_human_activity_loss: 0.3499 - val_road_water_loss: 0.3958 - val_primary_loss: 0.1796 - val_remaining_loss: 0.0858 - val_visibility_fbeta_score: 0.8352 - val_human_activity_fbeta_score: 0.5881 - val_road_water_fbeta_score: 0.7186 - val_primary_fbeta_score: 0.9848 - val_remaining_fbeta_score: 0.0000e+00\n",
      "\n",
      "Reached FBeta Score = 0.7540594825571686\n",
      "\n",
      "Epoch 00002: val_loss improved from 12.12824 to 1.20481, saving model to /kaggle/working/InceptionResNetVGG19.h5\n",
      "Epoch 3/20\n",
      "1012/1012 [==============================] - 3022s 3s/step - loss: 1.2869 - visibility_loss: 0.2431 - human_activity_loss: 0.3653 - road_water_loss: 0.3821 - primary_loss: 0.2157 - remaining_loss: 0.0807 - visibility_fbeta_score: 0.8404 - human_activity_fbeta_score: 0.5373 - road_water_fbeta_score: 0.5516 - primary_fbeta_score: 0.9656 - remaining_fbeta_score: 0.0019 - val_loss: 2.4378 - val_visibility_loss: 0.5363 - val_human_activity_loss: 0.5811 - val_road_water_loss: 0.5253 - val_primary_loss: 0.7397 - val_remaining_loss: 0.0554 - val_visibility_fbeta_score: 0.7841 - val_human_activity_fbeta_score: 0.2392 - val_road_water_fbeta_score: 0.4265 - val_primary_fbeta_score: 0.9722 - val_remaining_fbeta_score: 0.0000e+00\n",
      "\n",
      "Reached FBeta Score = 0.45303897017570055\n",
      "\n",
      "Epoch 00003: ReduceLROnPlateau reducing learning rate to 2.9999999242136255e-05.\n",
      "\n",
      "Epoch 00003: val_loss did not improve from 1.20481\n",
      "Epoch 4/20\n",
      "1012/1012 [==============================] - 3062s 3s/step - loss: 1.0851 - visibility_loss: 0.2006 - human_activity_loss: 0.3237 - road_water_loss: 0.3226 - primary_loss: 0.1811 - remaining_loss: 0.0571 - visibility_fbeta_score: 0.8678 - human_activity_fbeta_score: 0.5566 - road_water_fbeta_score: 0.6374 - primary_fbeta_score: 0.9708 - remaining_fbeta_score: 0.0020 - val_loss: 0.9357 - val_visibility_loss: 0.1614 - val_human_activity_loss: 0.2707 - val_road_water_loss: 0.2802 - val_primary_loss: 0.1753 - val_remaining_loss: 0.0481 - val_visibility_fbeta_score: 0.8966 - val_human_activity_fbeta_score: 0.5412 - val_road_water_fbeta_score: 0.7564 - val_primary_fbeta_score: 0.9852 - val_remaining_fbeta_score: 0.0000e+00\n",
      "\n",
      "Reached FBeta Score = 0.7547018684383728\n",
      "\n",
      "Epoch 00004: val_loss improved from 1.20481 to 0.93572, saving model to /kaggle/working/InceptionResNetVGG19.h5\n",
      "Epoch 5/20\n",
      "1012/1012 [==============================] - 3058s 3s/step - loss: 1.0106 - visibility_loss: 0.1817 - human_activity_loss: 0.3076 - road_water_loss: 0.3052 - primary_loss: 0.1648 - remaining_loss: 0.0513 - visibility_fbeta_score: 0.8806 - human_activity_fbeta_score: 0.5663 - road_water_fbeta_score: 0.6579 - primary_fbeta_score: 0.9732 - remaining_fbeta_score: 0.0000e+00 - val_loss: 1.1249 - val_visibility_loss: 0.2987 - val_human_activity_loss: 0.2807 - val_road_water_loss: 0.2532 - val_primary_loss: 0.2460 - val_remaining_loss: 0.0464 - val_visibility_fbeta_score: 0.8784 - val_human_activity_fbeta_score: 0.5758 - val_road_water_fbeta_score: 0.7472 - val_primary_fbeta_score: 0.9833 - val_remaining_fbeta_score: 0.0000e+00\n",
      "\n",
      "Reached FBeta Score = 0.7647489270622011\n",
      "\n",
      "Epoch 00005: ReduceLROnPlateau reducing learning rate to 8.999999772640877e-06.\n",
      "\n",
      "Epoch 00005: val_loss did not improve from 0.93572\n",
      "Epoch 6/20\n",
      "1012/1012 [==============================] - 3060s 3s/step - loss: 0.9646 - visibility_loss: 0.1735 - human_activity_loss: 0.2981 - road_water_loss: 0.2866 - primary_loss: 0.1575 - remaining_loss: 0.0488 - visibility_fbeta_score: 0.8873 - human_activity_fbeta_score: 0.5743 - road_water_fbeta_score: 0.6780 - primary_fbeta_score: 0.9745 - remaining_fbeta_score: 0.0021 - val_loss: 1.0279 - val_visibility_loss: 0.2346 - val_human_activity_loss: 0.2712 - val_road_water_loss: 0.2503 - val_primary_loss: 0.2260 - val_remaining_loss: 0.0457 - val_visibility_fbeta_score: 0.9015 - val_human_activity_fbeta_score: 0.5729 - val_road_water_fbeta_score: 0.7558 - val_primary_fbeta_score: 0.9852 - val_remaining_fbeta_score: 0.0000e+00\n",
      "\n",
      "Reached FBeta Score = 0.7702547852648102\n",
      "\n",
      "Epoch 00006: ReduceLROnPlateau reducing learning rate to 2.6999998226528985e-06.\n",
      "\n",
      "Epoch 00006: val_loss did not improve from 0.93572\n",
      "Epoch 7/20\n",
      "1012/1012 [==============================] - 3067s 3s/step - loss: 0.9459 - visibility_loss: 0.1672 - human_activity_loss: 0.2982 - road_water_loss: 0.2806 - primary_loss: 0.1517 - remaining_loss: 0.0481 - visibility_fbeta_score: 0.8925 - human_activity_fbeta_score: 0.5780 - road_water_fbeta_score: 0.6882 - primary_fbeta_score: 0.9750 - remaining_fbeta_score: 0.0000e+00 - val_loss: 1.0591 - val_visibility_loss: 0.2394 - val_human_activity_loss: 0.2733 - val_road_water_loss: 0.2577 - val_primary_loss: 0.2428 - val_remaining_loss: 0.0459 - val_visibility_fbeta_score: 0.9022 - val_human_activity_fbeta_score: 0.5718 - val_road_water_fbeta_score: 0.7510 - val_primary_fbeta_score: 0.9845 - val_remaining_fbeta_score: 0.0000e+00\n",
      "\n",
      "Reached FBeta Score = 0.7685406055619798\n",
      "\n",
      "Epoch 00007: ReduceLROnPlateau reducing learning rate to 8.099999604382901e-07.\n",
      "\n",
      "Epoch 00007: val_loss did not improve from 0.93572\n",
      "Epoch 8/20\n",
      "1012/1012 [==============================] - 3098s 3s/step - loss: 0.9401 - visibility_loss: 0.1688 - human_activity_loss: 0.2943 - road_water_loss: 0.2803 - primary_loss: 0.1489 - remaining_loss: 0.0478 - visibility_fbeta_score: 0.8918 - human_activity_fbeta_score: 0.5811 - road_water_fbeta_score: 0.6905 - primary_fbeta_score: 0.9749 - remaining_fbeta_score: 0.0000e+00 - val_loss: 1.0457 - val_visibility_loss: 0.2350 - val_human_activity_loss: 0.2670 - val_road_water_loss: 0.2558 - val_primary_loss: 0.2421 - val_remaining_loss: 0.0459 - val_visibility_fbeta_score: 0.9020 - val_human_activity_fbeta_score: 0.5570 - val_road_water_fbeta_score: 0.7523 - val_primary_fbeta_score: 0.9846 - val_remaining_fbeta_score: 0.0000e+00\n",
      "\n",
      "Reached FBeta Score = 0.7620474659601074\n",
      "\n",
      "Epoch 00008: ReduceLROnPlateau reducing learning rate to 2.4299998813148704e-07.\n",
      "\n",
      "Epoch 00008: val_loss did not improve from 0.93572\n",
      "Epoch 9/20\n",
      "1012/1012 [==============================] - 3122s 3s/step - loss: 0.9387 - visibility_loss: 0.1672 - human_activity_loss: 0.2929 - road_water_loss: 0.2808 - primary_loss: 0.1501 - remaining_loss: 0.0477 - visibility_fbeta_score: 0.8941 - human_activity_fbeta_score: 0.5796 - road_water_fbeta_score: 0.6898 - primary_fbeta_score: 0.9749 - remaining_fbeta_score: 0.0000e+00 - val_loss: 1.0034 - val_visibility_loss: 0.2201 - val_human_activity_loss: 0.2661 - val_road_water_loss: 0.2503 - val_primary_loss: 0.2212 - val_remaining_loss: 0.0457 - val_visibility_fbeta_score: 0.9027 - val_human_activity_fbeta_score: 0.5739 - val_road_water_fbeta_score: 0.7534 - val_primary_fbeta_score: 0.9847 - val_remaining_fbeta_score: 0.0000e+00\n",
      "\n",
      "Reached FBeta Score = 0.7702757081852971\n",
      "\n",
      "Epoch 00009: ReduceLROnPlateau reducing learning rate to 1e-07.\n",
      "\n",
      "Epoch 00009: val_loss did not improve from 0.93572\n",
      "Epoch 10/20\n",
      "1012/1012 [==============================] - 3141s 3s/step - loss: 0.9393 - visibility_loss: 0.1667 - human_activity_loss: 0.2935 - road_water_loss: 0.2807 - primary_loss: 0.1509 - remaining_loss: 0.0475 - visibility_fbeta_score: 0.8918 - human_activity_fbeta_score: 0.5792 - road_water_fbeta_score: 0.6899 - primary_fbeta_score: 0.9759 - remaining_fbeta_score: 0.0000e+00 - val_loss: 0.9962 - val_visibility_loss: 0.2226 - val_human_activity_loss: 0.2667 - val_road_water_loss: 0.2501 - val_primary_loss: 0.2113 - val_remaining_loss: 0.0455 - val_visibility_fbeta_score: 0.9027 - val_human_activity_fbeta_score: 0.5712 - val_road_water_fbeta_score: 0.7548 - val_primary_fbeta_score: 0.9854 - val_remaining_fbeta_score: 0.0000e+00\n",
      "\n",
      "Reached FBeta Score = 0.7694699354503542\n",
      "Restoring model weights from the end of the best epoch.\n",
      "\n",
      "Epoch 00010: val_loss did not improve from 0.93572\n",
      "Epoch 00010: early stopping\n"
     ]
    }
   ],
   "source": [
    "from keras.callbacks import ModelCheckpoint, EarlyStopping, ReduceLROnPlateau, History\n",
    "\n",
    "model = create_model()\n",
    "BATCH_SIZE = 32\n",
    "\n",
    "callbacks = [History(),\n",
    "            myCallback(),\n",
    "            EarlyStopping(monitor='val_loss', patience=6, verbose=1, min_delta=1e-4, restore_best_weights=True),\n",
    "            ReduceLROnPlateau(monitor='val_loss', factor=0.3, patience=1, cooldown=0, min_lr=1e-7, verbose=1),\n",
    "            ModelCheckpoint(filepath='/kaggle/working/InceptionResNetVGG19.h5', monitor=\"val_loss\", verbose=1, save_best_only=True, save_weights_only=False, mode='auto')]\n",
    "\n",
    "model_history = model.fit_generator(train_generator,\n",
    "                    steps_per_epoch = math.ceil(df_TrainData['filename'].count()/BATCH_SIZE),\n",
    "                    epochs=20,\n",
    "                    verbose=1,\n",
    "                    validation_data=validation_generator,\n",
    "                    validation_steps = math.ceil(df_ValData['filename'].count()/BATCH_SIZE),\n",
    "                    callbacks=callbacks\n",
    "                   )\n",
    "\n",
    "history = model_history.history"
   ]
  },
  {
   "cell_type": "markdown",
   "id": "b64c228d",
   "metadata": {
    "papermill": {
     "duration": 3.483785,
     "end_time": "2022-06-07T06:38:21.241169",
     "exception": false,
     "start_time": "2022-06-07T06:38:17.757384",
     "status": "completed"
    },
    "tags": []
   },
   "source": [
    "## Save/Load Keras Model and History"
   ]
  },
  {
   "cell_type": "code",
   "execution_count": 14,
   "id": "61ea9a7a",
   "metadata": {
    "execution": {
     "iopub.execute_input": "2022-06-07T06:38:28.434462Z",
     "iopub.status.busy": "2022-06-07T06:38:28.434197Z",
     "iopub.status.idle": "2022-06-07T06:38:36.045591Z",
     "shell.execute_reply": "2022-06-07T06:38:36.029548Z"
    },
    "papermill": {
     "duration": 11.201131,
     "end_time": "2022-06-07T06:38:36.049602",
     "exception": false,
     "start_time": "2022-06-07T06:38:24.848471",
     "status": "completed"
    },
    "tags": []
   },
   "outputs": [],
   "source": [
    "# Save\n",
    "import pickle\n",
    "from keras.models import load_model\n",
    "with open(\"/kaggle/working/InceptionResNetVGG19.pkl\", 'wb') as f:\n",
    "    pickle.dump(history, f)\n",
    "model.save(\"/kaggle/working/InceptionResNetVGG19_EndTrain.h5\")"
   ]
  },
  {
   "cell_type": "code",
   "execution_count": 15,
   "id": "ea50abe5",
   "metadata": {
    "execution": {
     "iopub.execute_input": "2022-06-07T06:38:43.637330Z",
     "iopub.status.busy": "2022-06-07T06:38:43.637060Z",
     "iopub.status.idle": "2022-06-07T06:38:43.640743Z",
     "shell.execute_reply": "2022-06-07T06:38:43.639870Z"
    },
    "papermill": {
     "duration": 3.479619,
     "end_time": "2022-06-07T06:38:43.643136",
     "exception": false,
     "start_time": "2022-06-07T06:38:40.163517",
     "status": "completed"
    },
    "tags": []
   },
   "outputs": [],
   "source": [
    "# # Load\n",
    "# from tensorflow import keras\n",
    "# import pickle\n",
    "# model = keras.models.load_model(\"/kaggle/working/InceptionV3_Untrainable_V2.h5\")\n",
    "# with open(\"/kaggle/working/InceptionV3_Untrainable_V2.pkl\", 'rb') as f:\n",
    "#     history = pickle.load(f)"
   ]
  },
  {
   "cell_type": "markdown",
   "id": "11947371",
   "metadata": {
    "papermill": {
     "duration": 4.036013,
     "end_time": "2022-06-07T06:38:51.236810",
     "exception": false,
     "start_time": "2022-06-07T06:38:47.200797",
     "status": "completed"
    },
    "tags": []
   },
   "source": [
    "## Plot History"
   ]
  },
  {
   "cell_type": "code",
   "execution_count": 16,
   "id": "54cd5ee1",
   "metadata": {
    "execution": {
     "iopub.execute_input": "2022-06-07T06:38:58.262053Z",
     "iopub.status.busy": "2022-06-07T06:38:58.261800Z",
     "iopub.status.idle": "2022-06-07T06:38:58.743767Z",
     "shell.execute_reply": "2022-06-07T06:38:58.743059Z"
    },
    "papermill": {
     "duration": 4.137639,
     "end_time": "2022-06-07T06:38:58.745503",
     "exception": false,
     "start_time": "2022-06-07T06:38:54.607864",
     "status": "completed"
    },
    "tags": []
   },
   "outputs": [
    {
     "data": {
      "image/png": "[encoded data removed]",
      "text/plain": [
       "<Figure size 432x288 with 1 Axes>"
      ]
     },
     "metadata": {
      "needs_background": "light"
     },
     "output_type": "display_data"
    },
    {
     "data": {
      "image/png": "[encoded data removed]",
      "text/plain": [
       "<Figure size 432x288 with 1 Axes>"
      ]
     },
     "metadata": {
      "needs_background": "light"
     },
     "output_type": "display_data"
    }
   ],
   "source": [
    "#-----------------------------------------------------------\n",
    "# Retrieve a list of list results on training and test data\n",
    "# sets for each training epoch\n",
    "#-----------------------------------------------------------\n",
    "loss=history['loss']\n",
    "val_loss=history['val_loss']\n",
    "\n",
    "epochs=np.array(range(len(loss)))+1 # Get number of epochs\n",
    "\n",
    "#------------------------------------------------\n",
    "# Plot training and validation loss per epoch\n",
    "#------------------------------------------------\n",
    "plt.plot(epochs, loss, label=\"Training Loss\")\n",
    "plt.plot(epochs, val_loss, label=\"Validation Loss\")\n",
    "plt.title('Training and validation Loss')\n",
    "plt.xlim([0, 15])\n",
    "plt.legend(loc='center left', bbox_to_anchor=(1, 0.5))\n",
    "plt.show()\n",
    "\n",
    "#------------------------------------------------\n",
    "# Plot training and validation F Scores per epoch\n",
    "#------------------------------------------------\n",
    "plt.plot(epochs, history['visibility_fbeta_score'], label=\"Visibility - Train\")\n",
    "plt.plot(epochs, history['val_visibility_fbeta_score'], label=\"Visibility - Validation\")\n",
    "plt.plot(epochs, history['human_activity_fbeta_score'], label=\"Human Activity  - Train\")\n",
    "plt.plot(epochs, history['val_human_activity_fbeta_score'], label=\"Human Activity  - Validation\")\n",
    "plt.plot(epochs, history['road_water_fbeta_score'], label=\"Road-Water - Train\")\n",
    "plt.plot(epochs, history['val_road_water_fbeta_score'], label=\"Road-Water - Validation\")\n",
    "plt.plot(epochs, history['primary_fbeta_score'], label=\"Primary - Train\")\n",
    "plt.plot(epochs, history['val_primary_fbeta_score'], label=\"Primary - Validation\")\n",
    "plt.plot(epochs, history['remaining_fbeta_score'], label=\"Remaining - Train\")\n",
    "plt.plot(epochs, history['val_remaining_fbeta_score'], label=\"Remaining - Validation\")\n",
    "plt.title('F-Beta Score')\n",
    "plt.xlim([0, 15])\n",
    "plt.legend(loc='center left', bbox_to_anchor=(1, 0.5))\n",
    "plt.show()"
   ]
  },
  {
   "cell_type": "markdown",
   "id": "18545223",
   "metadata": {
    "papermill": {
     "duration": 3.368949,
     "end_time": "2022-06-07T06:39:05.588885",
     "exception": false,
     "start_time": "2022-06-07T06:39:02.219936",
     "status": "completed"
    },
    "tags": []
   },
   "source": [
    "## Submission"
   ]
  },
  {
   "cell_type": "code",
   "execution_count": 17,
   "id": "48733c15",
   "metadata": {
    "execution": {
     "iopub.execute_input": "2022-06-07T06:39:12.621767Z",
     "iopub.status.busy": "2022-06-07T06:39:12.621481Z",
     "iopub.status.idle": "2022-06-07T06:39:12.643485Z",
     "shell.execute_reply": "2022-06-07T06:39:12.642780Z"
    },
    "papermill": {
     "duration": 3.356813,
     "end_time": "2022-06-07T06:39:12.645292",
     "exception": false,
     "start_time": "2022-06-07T06:39:09.288479",
     "status": "completed"
    },
    "tags": []
   },
   "outputs": [],
   "source": [
    "import matplotlib.image as mpimg\n",
    "from IPython.display import clear_output\n",
    "\n",
    "def GetPredictions(df_Submission, ImageFolderPath):\n",
    "\n",
    "    start_time = datetime.now()\n",
    "    iteration_time = start_time\n",
    "    df_Submission.image_name = df_Submission.image_name+'.jpg'\n",
    "\n",
    "    predicted = np.array([np.zeros(4), np.zeros(3), np.zeros(2), np.zeros(2), np.zeros(6)], dtype=object)\n",
    "    predicted = [predicted]*df_Submission.image_name.count()\n",
    "\n",
    "    for i, row in enumerate(df_Submission.to_numpy()):\n",
    "        img = mpimg.imread(os.path.join(ImageFolderPath, row[0]))\n",
    "        img = img[:,:,:3]\n",
    "        img = np.array([img])\n",
    "        predicted[i] = model.predict(img)\n",
    "        iteration_elapsed = datetime.now()-iteration_time\n",
    "        if(iteration_elapsed.total_seconds()>5.00):\n",
    "            iteration_time = datetime.now()\n",
    "            elapsed_time = (datetime.now()-start_time)\n",
    "            estimate_to_completion = (elapsed_time/i)*(df_Submission.count()[0]-i)\n",
    "            clear_output(wait=True)\n",
    "            print('Completed\\t\\t\\t', \"{:.2f}\".format(100*i/df_Submission.image_name.count()),'%')\n",
    "            print('Elapsed time:\\t\\t', elapsed_time)\n",
    "            print('Estimate to completion:\\t', estimate_to_completion)\n",
    "\n",
    "    clear_output(wait=True)\n",
    "    print('completed 100 %')\n",
    "    elapsed_time = (datetime.now()-start_time)\n",
    "    print('Elapsed time: ', elapsed_time)\n",
    "    return predicted\n",
    "\n",
    "def GetPedictGeneratorOutput(prediction, index):\n",
    "    return [predictions[0][index], predictions[1][index], predictions[2][index], predictions[3][index], predictions[4][index]]\n",
    "\n",
    "def GetLabelsFromPrediction(ModelOutput, threshold):\n",
    "    label = \"\"\n",
    "    if(ModelOutput[1][0] > threshold):\n",
    "        label = label + \" agriculture\"\n",
    "    if(ModelOutput[4][0] > threshold):\n",
    "        label = label + \" artisinal_mine\"\n",
    "    if(ModelOutput[4][1] > threshold):\n",
    "        label = label + \" bare_ground\"\n",
    "    if(ModelOutput[4][2] > threshold):\n",
    "        label = label + \" blooming\"\n",
    "    if(ModelOutput[4][3] > threshold):\n",
    "        label = label + \" blow_down\"\n",
    "    if(ModelOutput[0][0] > threshold):\n",
    "        label = label + \" clear\"\n",
    "    if(ModelOutput[0][3] > threshold):\n",
    "        label = label + \" cloudy\"\n",
    "    if(ModelOutput[4][4] > threshold):\n",
    "        label = label + \" conventional_mine\"\n",
    "    if(ModelOutput[1][1] > threshold):\n",
    "        label = label + \" cultivation\"\n",
    "    if(ModelOutput[1][2] > threshold):\n",
    "        label = label + \" habitation\"\n",
    "    if(ModelOutput[0][1] > threshold):\n",
    "        label = label + \" haze\"\n",
    "    if(ModelOutput[0][2] > threshold):\n",
    "        label = label + \" partly_cloudy\"\n",
    "    if(ModelOutput[3][0] > threshold):\n",
    "        label = label + \" primary\"\n",
    "    if(ModelOutput[2][0] > threshold):\n",
    "        label = label + \" road\"\n",
    "    if(ModelOutput[4][5] > threshold):\n",
    "        label = label + \" selective_logging\"\n",
    "    if(ModelOutput[4][6] > threshold):\n",
    "        label = label + \" slash_burn\"\n",
    "    if(ModelOutput[2][1] > threshold):\n",
    "        label = label + \" water\"\n",
    "    return label.lstrip()\n",
    "\n",
    "\n",
    "def InsertLabels_Dataframe(df_Submission, predicted, threshold):\n",
    "    pred = []\n",
    "    for i in range(len(predicted[0])):\n",
    "        pred.append([])\n",
    "        pred[i] = [predicted[0][i], predicted[1][i], predicted[2][i], predicted[3][i], predicted[4][i]]\n",
    "    for i, ModelOutput in enumerate(pred):\n",
    "        df_Submission['tags'][i]=GetLabelsFromPrediction(ModelOutput, threshold)"
   ]
  },
  {
   "cell_type": "code",
   "execution_count": 18,
   "id": "490ee5fb",
   "metadata": {
    "execution": {
     "iopub.execute_input": "2022-06-07T06:39:19.352862Z",
     "iopub.status.busy": "2022-06-07T06:39:19.352509Z",
     "iopub.status.idle": "2022-06-07T06:50:55.426818Z",
     "shell.execute_reply": "2022-06-07T06:50:55.426126Z"
    },
    "papermill": {
     "duration": 699.421424,
     "end_time": "2022-06-07T06:50:55.428925",
     "exception": false,
     "start_time": "2022-06-07T06:39:16.007501",
     "status": "completed"
    },
    "tags": []
   },
   "outputs": [
    {
     "name": "stdout",
     "output_type": "stream",
     "text": [
      "Found 61191 validated image filenames.\n",
      "1913/1913 [==============================] - 504s 261ms/step\n"
     ]
    },
    {
     "name": "stderr",
     "output_type": "stream",
     "text": [
      "/opt/conda/lib/python3.7/site-packages/ipykernel_launcher.py:19: FutureWarning: The default value of regex will change from True to False in a future version.\n"
     ]
    }
   ],
   "source": [
    "df_Submission = pd.read_csv('../input/amazon-satellite/raw-data/sample_submission_v2/sample_submission_v2.csv')\n",
    "Test_FolderPath = '../input/amazon-satellite/raw-data/test-jpg'\n",
    "\n",
    "df_Submission['image_name'] = df_Submission['image_name'] + '.jpg'\n",
    "\n",
    "validation_datagen = ImageDataGenerator(rescale=1.0/255.0)\n",
    "validation_generator = validation_datagen.flow_from_dataframe(dataframe=df_Submission,\n",
    "                                                                directory=Test_FolderPath,\n",
    "                                                                x_col=df_Submission.columns[0],\n",
    "                                                                y_col=df_Submission.columns[1:len(df_Submission.columns)],\n",
    "                                                                batch_size=32,\n",
    "                                                                class_mode='raw',\n",
    "                                                                shuffle=False,\n",
    "                                                                target_size=(256, 256))\n",
    "\n",
    "predictions = model.predict(validation_generator, verbose=1)\n",
    "InsertLabels_Dataframe(df_Submission, predictions, threshold=0.5)\n",
    "\n",
    "df_Submission['image_name'] = df_Submission['image_name'].str.replace('.jpg', '')\n",
    "df_Submission.to_csv('/kaggle/working/submission.csv', index=None)"
   ]
  }
 ],
 "metadata": {
  "kernelspec": {
   "display_name": "Python 3",
   "language": "python",
   "name": "python3"
  },
  "language_info": {
   "codemirror_mode": {
    "name": "ipython",
    "version": 3
   },
   "file_extension": ".py",
   "mimetype": "text/x-python",
   "name": "python",
   "nbconvert_exporter": "python",
   "pygments_lexer": "ipython3",
   "version": "3.7.12"
  },
  "papermill": {
   "default_parameters": {},
   "duration": 31667.056321,
   "end_time": "2022-06-07T06:51:03.209833",
   "environment_variables": {},
   "exception": null,
   "input_path": "__notebook__.ipynb",
   "output_path": "__notebook__.ipynb",
   "parameters": {},
   "start_time": "2022-06-06T22:03:16.153512",
   "version": "2.3.4"
  }
 },
 "nbformat": 4,
 "nbformat_minor": 5
}
