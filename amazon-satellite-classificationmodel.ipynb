{
 "cells": [
  {
   "cell_type": "code",
   "execution_count": 1,
   "id": "e0b27d5b",
   "metadata": {
    "execution": {
     "iopub.execute_input": "2022-05-28T16:35:56.225041Z",
     "iopub.status.busy": "2022-05-28T16:35:56.223986Z",
     "iopub.status.idle": "2022-05-28T16:36:01.683159Z",
     "shell.execute_reply": "2022-05-28T16:36:01.682336Z"
    },
    "papermill": {
     "duration": 5.490306,
     "end_time": "2022-05-28T16:36:01.685580",
     "exception": false,
     "start_time": "2022-05-28T16:35:56.195274",
     "status": "completed"
    },
    "tags": []
   },
   "outputs": [],
   "source": [
    "from datetime import datetime\n",
    "from datetime import timedelta\n",
    "import os\n",
    "import math\n",
    "import statistics\n",
    "import numpy as np\n",
    "import pandas as pd\n",
    "import matplotlib.pyplot as plt\n",
    "import matplotlib.image as mpimg\n",
    "from IPython.display import clear_output\n",
    "\n",
    "import tensorflow as tf\n",
    "from tensorflow.keras.preprocessing.image import ImageDataGenerator\n",
    "\n",
    "from tensorflow.keras.applications.inception_v3 import InceptionV3\n",
    "from tensorflow.keras.optimizers import RMSprop\n",
    "import tensorflow_addons as tfa\n",
    "\n",
    "# tf.test.is_gpu_available()\n",
    "# tf.config.list_physical_devices('GPU')"
   ]
  },
  {
   "cell_type": "markdown",
   "id": "ce9fcf20",
   "metadata": {
    "papermill": {
     "duration": 0.025754,
     "end_time": "2022-05-28T16:36:01.737678",
     "exception": false,
     "start_time": "2022-05-28T16:36:01.711924",
     "status": "completed"
    },
    "tags": []
   },
   "source": [
    "## Def functions: One-Hot Encoding and Split Data (Dataframe)"
   ]
  },
  {
   "cell_type": "code",
   "execution_count": 2,
   "id": "209e355f",
   "metadata": {
    "execution": {
     "iopub.execute_input": "2022-05-28T16:36:01.789739Z",
     "iopub.status.busy": "2022-05-28T16:36:01.789491Z",
     "iopub.status.idle": "2022-05-28T16:36:01.804449Z",
     "shell.execute_reply": "2022-05-28T16:36:01.803757Z"
    },
    "papermill": {
     "duration": 0.043274,
     "end_time": "2022-05-28T16:36:01.806322",
     "exception": false,
     "start_time": "2022-05-28T16:36:01.763048",
     "status": "completed"
    },
    "tags": []
   },
   "outputs": [],
   "source": [
    "def Get_ListOfLabels(df_InputLabels):\n",
    "    df_Tags = df_InputLabels.str.split(expand=True)\n",
    "    columns = len(df_Tags.columns)\n",
    "\n",
    "    for i in range(columns):\n",
    "        if i == 0:\n",
    "            df_aux = pd.DataFrame(df_Tags[0])\n",
    "        else:\n",
    "            df_aux = df_aux.append(pd.DataFrame(df_Tags[i].rename(index=0)))\n",
    "\n",
    "    LabelList = (df_aux.drop_duplicates().sort_values([0], ascending=[True]))[0].tolist()\n",
    "    LabelList = list(filter(None, LabelList))\n",
    "    return LabelList\n",
    "\n",
    "\n",
    "def Get_LabelEncodedArray(df_InputLabels, LabelList):\n",
    "    LabelArray = np.zeros((df_InputLabels.count(), len(LabelList)))\n",
    "    TagsArray = df_InputLabels.str.split(expand=True).to_numpy()\n",
    "\n",
    "    for i in range(TagsArray.shape[0]):\n",
    "        for j in range(TagsArray.shape[1]):\n",
    "            for k in range(len(LabelList)):\n",
    "                if(TagsArray[i][j]== LabelList[k]):\n",
    "                    LabelArray[i][k] = 1\n",
    "\n",
    "    return LabelArray\n",
    "\n",
    "def OneHotToStringLabels(OneHotArray, LabelList, delimiter):\n",
    "    string_labels = \"\"\n",
    "    if(len(OneHotArray)!=len(LabelList)):\n",
    "        raise Exception(\"OneHotArray does not match LabelList len/size\")\n",
    "\n",
    "    for i in range(len(OneHotArray)):\n",
    "        if(OneHotArray[i] == 1.0):\n",
    "            if(string_labels == \"\"):\n",
    "                string_labels = LabelList[i]\n",
    "            else:\n",
    "                string_labels = string_labels+delimiter+LabelList[i]\n",
    "    return string_labels\n",
    "\n",
    "def SplitData(df_Dataset, Ratio):\n",
    "\n",
    "    df_TrainData = pd.DataFrame(df_Dataset).sample(round(Ratio * df_Dataset['filename'].count()))\n",
    "\n",
    "    df_ValData = pd.DataFrame(df_Dataset)\n",
    "    condition = df_ValData['filename'].isin(df_TrainData['filename'])\n",
    "    df_ValData = df_ValData.drop(df_ValData[condition].index)\n",
    "\n",
    "    return df_TrainData, df_ValData"
   ]
  },
  {
   "cell_type": "markdown",
   "id": "cdc83eb1",
   "metadata": {
    "papermill": {
     "duration": 0.025245,
     "end_time": "2022-05-28T16:36:01.857345",
     "exception": false,
     "start_time": "2022-05-28T16:36:01.832100",
     "status": "completed"
    },
    "tags": []
   },
   "source": [
    "### **Encoding labels:** One-Hot"
   ]
  },
  {
   "cell_type": "code",
   "execution_count": 3,
   "id": "86e254a5",
   "metadata": {
    "execution": {
     "iopub.execute_input": "2022-05-28T16:36:01.911374Z",
     "iopub.status.busy": "2022-05-28T16:36:01.911109Z",
     "iopub.status.idle": "2022-05-28T16:36:08.219103Z",
     "shell.execute_reply": "2022-05-28T16:36:08.218298Z"
    },
    "papermill": {
     "duration": 6.33882,
     "end_time": "2022-05-28T16:36:08.221666",
     "exception": false,
     "start_time": "2022-05-28T16:36:01.882846",
     "status": "completed"
    },
    "tags": []
   },
   "outputs": [],
   "source": [
    "source_path = \"../input/amazon-satellite/raw-data\"\n",
    "source_path_Labels = os.path.join(source_path, 'train_v2.csv')\n",
    "source_path_Images = os.path.join(source_path, 'train-jpg')\n",
    "\n",
    "df_Raw = pd.read_csv(source_path_Labels)\n",
    "LabelList = Get_ListOfLabels(df_Raw.tags)\n",
    "\n",
    "Get_LabelEncodedArray(df_Raw.tags, LabelList)\n",
    "df_Dataset = pd.DataFrame(Get_LabelEncodedArray(df_Raw.tags, LabelList), columns=LabelList)\n",
    "df_Dataset['filename'] = df_Raw.image_name.to_list()\n",
    "df_Dataset['filename'] = df_Dataset['filename']+'.jpg'\n",
    "df_Dataset = df_Dataset.loc[: , ['filename']+LabelList]"
   ]
  },
  {
   "cell_type": "markdown",
   "id": "7b0be031",
   "metadata": {
    "papermill": {
     "duration": 0.025163,
     "end_time": "2022-05-28T16:36:08.272455",
     "exception": false,
     "start_time": "2022-05-28T16:36:08.247292",
     "status": "completed"
    },
    "tags": []
   },
   "source": [
    "## Data Exploration\n",
    "- Finding correlation between classes/labels and mutual exclusivity"
   ]
  },
  {
   "cell_type": "code",
   "execution_count": 4,
   "id": "3e0d3d85",
   "metadata": {
    "execution": {
     "iopub.execute_input": "2022-05-28T16:36:08.325954Z",
     "iopub.status.busy": "2022-05-28T16:36:08.325138Z",
     "iopub.status.idle": "2022-05-28T16:36:08.390463Z",
     "shell.execute_reply": "2022-05-28T16:36:08.389482Z"
    },
    "papermill": {
     "duration": 0.096129,
     "end_time": "2022-05-28T16:36:08.394313",
     "exception": false,
     "start_time": "2022-05-28T16:36:08.298184",
     "status": "completed"
    },
    "tags": []
   },
   "outputs": [
    {
     "name": "stdout",
     "output_type": "stream",
     "text": [
      "                   agriculture  artisinal_mine  bare_ground  blooming  \\\n",
      "agriculture           1.000000             NaN          NaN       NaN   \n",
      "artisinal_mine             NaN             1.0          NaN       NaN   \n",
      "bare_ground                NaN             NaN          1.0       NaN   \n",
      "blooming                   NaN             NaN          NaN       1.0   \n",
      "blow_down                  NaN             NaN          NaN       NaN   \n",
      "clear                      NaN             NaN          NaN       NaN   \n",
      "cloudy                     NaN             NaN          NaN       NaN   \n",
      "conventional_mine          NaN             NaN          NaN       NaN   \n",
      "cultivation           0.344964             NaN          NaN       NaN   \n",
      "habitation            0.303979             NaN          NaN       NaN   \n",
      "haze                       NaN             NaN          NaN       NaN   \n",
      "partly_cloudy              NaN             NaN          NaN       NaN   \n",
      "primary                    NaN             NaN          NaN       NaN   \n",
      "road                  0.480930             NaN          NaN       NaN   \n",
      "selective_logging          NaN             NaN          NaN       NaN   \n",
      "slash_burn                 NaN             NaN          NaN       NaN   \n",
      "water                      NaN             NaN          NaN       NaN   \n",
      "\n",
      "                   blow_down  clear  cloudy  conventional_mine  cultivation  \\\n",
      "agriculture              NaN    NaN     NaN                NaN     0.344964   \n",
      "artisinal_mine           NaN    NaN     NaN                NaN          NaN   \n",
      "bare_ground              NaN    NaN     NaN                NaN          NaN   \n",
      "blooming                 NaN    NaN     NaN                NaN          NaN   \n",
      "blow_down                1.0    NaN     NaN                NaN          NaN   \n",
      "clear                    NaN    1.0     NaN                NaN          NaN   \n",
      "cloudy                   NaN    NaN     1.0                NaN          NaN   \n",
      "conventional_mine        NaN    NaN     NaN                1.0          NaN   \n",
      "cultivation              NaN    NaN     NaN                NaN     1.000000   \n",
      "habitation               NaN    NaN     NaN                NaN          NaN   \n",
      "haze                     NaN    NaN     NaN                NaN          NaN   \n",
      "partly_cloudy            NaN    NaN     NaN                NaN          NaN   \n",
      "primary                  NaN    NaN     NaN                NaN          NaN   \n",
      "road                     NaN    NaN     NaN                NaN          NaN   \n",
      "selective_logging        NaN    NaN     NaN                NaN          NaN   \n",
      "slash_burn               NaN    NaN     NaN                NaN          NaN   \n",
      "water                    NaN    NaN     NaN                NaN          NaN   \n",
      "\n",
      "                   habitation  haze  partly_cloudy  primary      road  \\\n",
      "agriculture          0.303979   NaN            NaN      NaN  0.480930   \n",
      "artisinal_mine            NaN   NaN            NaN      NaN       NaN   \n",
      "bare_ground               NaN   NaN            NaN      NaN       NaN   \n",
      "blooming                  NaN   NaN            NaN      NaN       NaN   \n",
      "blow_down                 NaN   NaN            NaN      NaN       NaN   \n",
      "clear                     NaN   NaN            NaN      NaN       NaN   \n",
      "cloudy                    NaN   NaN            NaN      NaN       NaN   \n",
      "conventional_mine         NaN   NaN            NaN      NaN       NaN   \n",
      "cultivation               NaN   NaN            NaN      NaN       NaN   \n",
      "habitation           1.000000   NaN            NaN      NaN  0.443341   \n",
      "haze                      NaN   1.0            NaN      NaN       NaN   \n",
      "partly_cloudy             NaN   NaN            1.0      NaN       NaN   \n",
      "primary                   NaN   NaN            NaN      1.0       NaN   \n",
      "road                 0.443341   NaN            NaN      NaN  1.000000   \n",
      "selective_logging         NaN   NaN            NaN      NaN       NaN   \n",
      "slash_burn                NaN   NaN            NaN      NaN       NaN   \n",
      "water                     NaN   NaN            NaN      NaN       NaN   \n",
      "\n",
      "                   selective_logging  slash_burn  water  \n",
      "agriculture                      NaN         NaN    NaN  \n",
      "artisinal_mine                   NaN         NaN    NaN  \n",
      "bare_ground                      NaN         NaN    NaN  \n",
      "blooming                         NaN         NaN    NaN  \n",
      "blow_down                        NaN         NaN    NaN  \n",
      "clear                            NaN         NaN    NaN  \n",
      "cloudy                           NaN         NaN    NaN  \n",
      "conventional_mine                NaN         NaN    NaN  \n",
      "cultivation                      NaN         NaN    NaN  \n",
      "habitation                       NaN         NaN    NaN  \n",
      "haze                             NaN         NaN    NaN  \n",
      "partly_cloudy                    NaN         NaN    NaN  \n",
      "primary                          NaN         NaN    NaN  \n",
      "road                             NaN         NaN    NaN  \n",
      "selective_logging                1.0         NaN    NaN  \n",
      "slash_burn                       NaN         1.0    NaN  \n",
      "water                            NaN         NaN    1.0  \n"
     ]
    }
   ],
   "source": [
    "# Find labels with high correlation\n",
    "df_corr = df_Dataset.corr()\n",
    "print(df_corr[df_corr>0.3])"
   ]
  },
  {
   "cell_type": "code",
   "execution_count": 5,
   "id": "ae561e20",
   "metadata": {
    "execution": {
     "iopub.execute_input": "2022-05-28T16:36:08.450861Z",
     "iopub.status.busy": "2022-05-28T16:36:08.450181Z",
     "iopub.status.idle": "2022-05-28T16:36:08.500088Z",
     "shell.execute_reply": "2022-05-28T16:36:08.499311Z"
    },
    "papermill": {
     "duration": 0.08064,
     "end_time": "2022-05-28T16:36:08.504045",
     "exception": false,
     "start_time": "2022-05-28T16:36:08.423405",
     "status": "completed"
    },
    "tags": []
   },
   "outputs": [
    {
     "name": "stdout",
     "output_type": "stream",
     "text": [
      "                   agriculture  artisinal_mine  bare_ground  blooming  \\\n",
      "agriculture                NaN             NaN          NaN       NaN   \n",
      "artisinal_mine             NaN             NaN          NaN       NaN   \n",
      "bare_ground                NaN             NaN          NaN       NaN   \n",
      "blooming                   NaN             NaN          NaN       NaN   \n",
      "blow_down                  NaN             NaN          NaN       NaN   \n",
      "clear                      NaN             NaN          NaN       NaN   \n",
      "cloudy                     NaN             NaN          NaN       NaN   \n",
      "conventional_mine          NaN             NaN          NaN       NaN   \n",
      "cultivation                NaN             NaN          NaN       NaN   \n",
      "habitation                 NaN             NaN          NaN       NaN   \n",
      "haze                       NaN             NaN          NaN       NaN   \n",
      "partly_cloudy              NaN             NaN          NaN       NaN   \n",
      "primary                    NaN             NaN          NaN       NaN   \n",
      "road                       NaN             NaN          NaN       NaN   \n",
      "selective_logging          NaN             NaN          NaN       NaN   \n",
      "slash_burn                 NaN             NaN          NaN       NaN   \n",
      "water                      NaN             NaN          NaN       NaN   \n",
      "\n",
      "                   blow_down     clear    cloudy  conventional_mine  \\\n",
      "agriculture              NaN       NaN       NaN                NaN   \n",
      "artisinal_mine           NaN       NaN       NaN                NaN   \n",
      "bare_ground              NaN       NaN       NaN                NaN   \n",
      "blooming                 NaN       NaN       NaN                NaN   \n",
      "blow_down                NaN       NaN       NaN                NaN   \n",
      "clear                    NaN       NaN -0.358343                NaN   \n",
      "cloudy                   NaN -0.358343       NaN                NaN   \n",
      "conventional_mine        NaN       NaN       NaN                NaN   \n",
      "cultivation              NaN       NaN       NaN                NaN   \n",
      "habitation               NaN       NaN       NaN                NaN   \n",
      "haze                     NaN -0.410428       NaN                NaN   \n",
      "partly_cloudy            NaN -0.718208       NaN                NaN   \n",
      "primary                  NaN       NaN -0.829594                NaN   \n",
      "road                     NaN       NaN       NaN                NaN   \n",
      "selective_logging        NaN       NaN       NaN                NaN   \n",
      "slash_burn               NaN       NaN       NaN                NaN   \n",
      "water                    NaN       NaN       NaN                NaN   \n",
      "\n",
      "                   cultivation  habitation      haze  partly_cloudy   primary  \\\n",
      "agriculture                NaN         NaN       NaN            NaN       NaN   \n",
      "artisinal_mine             NaN         NaN       NaN            NaN       NaN   \n",
      "bare_ground                NaN         NaN       NaN            NaN       NaN   \n",
      "blooming                   NaN         NaN       NaN            NaN       NaN   \n",
      "blow_down                  NaN         NaN       NaN            NaN       NaN   \n",
      "clear                      NaN         NaN -0.410428      -0.718208       NaN   \n",
      "cloudy                     NaN         NaN       NaN            NaN -0.829594   \n",
      "conventional_mine          NaN         NaN       NaN            NaN       NaN   \n",
      "cultivation                NaN         NaN       NaN            NaN       NaN   \n",
      "habitation                 NaN         NaN       NaN            NaN       NaN   \n",
      "haze                       NaN         NaN       NaN            NaN       NaN   \n",
      "partly_cloudy              NaN         NaN       NaN            NaN       NaN   \n",
      "primary                    NaN         NaN       NaN            NaN       NaN   \n",
      "road                       NaN         NaN       NaN            NaN       NaN   \n",
      "selective_logging          NaN         NaN       NaN            NaN       NaN   \n",
      "slash_burn                 NaN         NaN       NaN            NaN       NaN   \n",
      "water                      NaN         NaN       NaN            NaN       NaN   \n",
      "\n",
      "                   road  selective_logging  slash_burn  water  \n",
      "agriculture         NaN                NaN         NaN    NaN  \n",
      "artisinal_mine      NaN                NaN         NaN    NaN  \n",
      "bare_ground         NaN                NaN         NaN    NaN  \n",
      "blooming            NaN                NaN         NaN    NaN  \n",
      "blow_down           NaN                NaN         NaN    NaN  \n",
      "clear               NaN                NaN         NaN    NaN  \n",
      "cloudy              NaN                NaN         NaN    NaN  \n",
      "conventional_mine   NaN                NaN         NaN    NaN  \n",
      "cultivation         NaN                NaN         NaN    NaN  \n",
      "habitation          NaN                NaN         NaN    NaN  \n",
      "haze                NaN                NaN         NaN    NaN  \n",
      "partly_cloudy       NaN                NaN         NaN    NaN  \n",
      "primary             NaN                NaN         NaN    NaN  \n",
      "road                NaN                NaN         NaN    NaN  \n",
      "selective_logging   NaN                NaN         NaN    NaN  \n",
      "slash_burn          NaN                NaN         NaN    NaN  \n",
      "water               NaN                NaN         NaN    NaN  \n"
     ]
    }
   ],
   "source": [
    "# Find labels with low correlation\n",
    "df_corr = df_Dataset.corr()\n",
    "print(df_corr[df_corr<-0.2])"
   ]
  },
  {
   "cell_type": "code",
   "execution_count": 6,
   "id": "0a687bd3",
   "metadata": {
    "execution": {
     "iopub.execute_input": "2022-05-28T16:36:08.559819Z",
     "iopub.status.busy": "2022-05-28T16:36:08.559576Z",
     "iopub.status.idle": "2022-05-28T16:36:08.599995Z",
     "shell.execute_reply": "2022-05-28T16:36:08.599102Z"
    },
    "papermill": {
     "duration": 0.069996,
     "end_time": "2022-05-28T16:36:08.602322",
     "exception": false,
     "start_time": "2022-05-28T16:36:08.532326",
     "status": "completed"
    },
    "tags": []
   },
   "outputs": [
    {
     "name": "stdout",
     "output_type": "stream",
     "text": [
      "Images labelled as clear AND haze:\t\t\t0\n",
      "Images labelled as clear AND partly_cloudy:\t\t0\n",
      "Images labelled as clear AND cloudy:\t\t\t0\n",
      "Images labelled as haze AND partly_cloudy:\t\t0\n",
      "Images labelled as haze AND cloudy:\t\t\t0\n",
      "Images labelled as partly_cloudy AND cloudy:\t\t0\n",
      "\n",
      "Images with any of these 4 labels:\t40478\n",
      "Images without any of these 4 labels:\t1\n",
      "total number of images:\t\t\t40479\n"
     ]
    }
   ],
   "source": [
    "# Verify mutual exclusivity of 4 labels: clear, haze, partly_cloudy, cloudy\n",
    "\n",
    "print('Images labelled as clear AND haze:\\t\\t\\t'+str(df_Dataset.loc[(df_Dataset['clear']==1.0) & (df_Dataset['haze']==1.0)]['filename'].count()))\n",
    "print('Images labelled as clear AND partly_cloudy:\\t\\t'+str(df_Dataset.loc[(df_Dataset['clear']==1.0) & (df_Dataset['partly_cloudy']==1.0)]['filename'].count()))\n",
    "print('Images labelled as clear AND cloudy:\\t\\t\\t'+str(df_Dataset.loc[(df_Dataset['clear']==1.0) & (df_Dataset['cloudy']==1.0)]['filename'].count()))\n",
    "print('Images labelled as haze AND partly_cloudy:\\t\\t'+str(df_Dataset.loc[(df_Dataset['haze']==1.0) & (df_Dataset['partly_cloudy']==1.0)]['filename'].count()))\n",
    "print('Images labelled as haze AND cloudy:\\t\\t\\t'+str(df_Dataset.loc[(df_Dataset['haze']==1.0) & (df_Dataset['cloudy']==1.0)]['filename'].count()))\n",
    "print('Images labelled as partly_cloudy AND cloudy:\\t\\t'+str(df_Dataset.loc[(df_Dataset['partly_cloudy']==1.0) & (df_Dataset['cloudy']==1.0)]['filename'].count()))\n",
    "\n",
    "print('\\nImages with any of these 4 labels:\\t'+str(df_Dataset.loc[(df_Dataset['clear']==1.0) | (df_Dataset['haze']==1.0) | (df_Dataset['partly_cloudy']==1.0) | (df_Dataset['cloudy']==1.0)]['filename'].count()))\n",
    "print('Images without any of these 4 labels:\\t'+str(df_Dataset.loc[~((df_Dataset['clear']==1.0) | (df_Dataset['haze']==1.0) | (df_Dataset['partly_cloudy']==1.0) | (df_Dataset['cloudy']==1.0))]['filename'].count()))\n",
    "print('total number of images:\\t\\t\\t'+str(df_Raw.tags.count()))"
   ]
  },
  {
   "cell_type": "code",
   "execution_count": 7,
   "id": "e375b5b1",
   "metadata": {
    "execution": {
     "iopub.execute_input": "2022-05-28T16:36:08.657497Z",
     "iopub.status.busy": "2022-05-28T16:36:08.656875Z",
     "iopub.status.idle": "2022-05-28T16:36:08.666703Z",
     "shell.execute_reply": "2022-05-28T16:36:08.665464Z"
    },
    "papermill": {
     "duration": 0.039352,
     "end_time": "2022-05-28T16:36:08.668618",
     "exception": false,
     "start_time": "2022-05-28T16:36:08.629266",
     "status": "completed"
    },
    "tags": []
   },
   "outputs": [
    {
     "name": "stdout",
     "output_type": "stream",
     "text": [
      "Images labelled as artisinal_mine AND conventional_mine: 4\n",
      "Images labelled as artisinal_mine OR conventional_mine: 435\n"
     ]
    }
   ],
   "source": [
    "# Verify mutual exclusivity of 4 labels: artisinal_mine and conventional_mine\n",
    "\n",
    "print('Images labelled as artisinal_mine AND conventional_mine: '+str(df_Dataset.loc[(df_Dataset['artisinal_mine']==1.0) & (df_Dataset['conventional_mine']==1.0)]['filename'].count()))\n",
    "print('Images labelled as artisinal_mine OR conventional_mine: '+str(df_Dataset.loc[(df_Dataset['artisinal_mine']==1.0) | (df_Dataset['conventional_mine']==1.0)]['filename'].count()))"
   ]
  },
  {
   "cell_type": "markdown",
   "id": "d62490ee",
   "metadata": {
    "papermill": {
     "duration": 0.027368,
     "end_time": "2022-05-28T16:36:08.722973",
     "exception": false,
     "start_time": "2022-05-28T16:36:08.695605",
     "status": "completed"
    },
    "tags": []
   },
   "source": [
    "## Training and Validation Generators\n",
    "\n",
    "Now that you know the images you are dealing with, it is time for you to code the generators that will fed these images to your Network. For this, complete the `train_val_generators` function below:\n",
    "\n",
    "**Important Note:** The images have a resolution of 256x256 but the `flow_from_dataframe` method you will use allows you to set a target resolution. Lower resolution may yield much quicker training times without compromising the accuracy!"
   ]
  },
  {
   "cell_type": "code",
   "execution_count": 8,
   "id": "ede07ac2",
   "metadata": {
    "execution": {
     "iopub.execute_input": "2022-05-28T16:36:08.778085Z",
     "iopub.status.busy": "2022-05-28T16:36:08.777881Z",
     "iopub.status.idle": "2022-05-28T16:36:08.801708Z",
     "shell.execute_reply": "2022-05-28T16:36:08.801037Z"
    },
    "papermill": {
     "duration": 0.053442,
     "end_time": "2022-05-28T16:36:08.803532",
     "exception": false,
     "start_time": "2022-05-28T16:36:08.750090",
     "status": "completed"
    },
    "tags": []
   },
   "outputs": [],
   "source": [
    "def generate_generator_multiple(generator, directory, df1, df2, df3, df4, df5, batch_size, target_size):\n",
    "    genX1 = generator.flow_from_dataframe(dataframe = df1,\n",
    "                                          directory=directory,\n",
    "                                          x_col=df1.columns[0],\n",
    "                                          y_col=df1.columns[1:len(df1.columns)],\n",
    "                                          target_size = target_size,\n",
    "                                          class_mode = 'raw',\n",
    "                                          batch_size = batch_size,\n",
    "                                          shuffle=False, \n",
    "                                          seed=7)\n",
    "    \n",
    "    genX2 = generator.flow_from_dataframe(dataframe = df2,\n",
    "                                          directory=directory,\n",
    "                                          x_col=df2.columns[0],\n",
    "                                          y_col=df2.columns[1:len(df2.columns)],\n",
    "                                          target_size = target_size,\n",
    "                                          class_mode = 'raw',\n",
    "                                          batch_size = batch_size,\n",
    "                                          shuffle=False, \n",
    "                                          seed=7)\n",
    "    \n",
    "    genX3 = generator.flow_from_dataframe(dataframe = df3,\n",
    "                                          directory=directory,\n",
    "                                          x_col=df3.columns[0],\n",
    "                                          y_col=df3.columns[1:len(df3.columns)],\n",
    "                                          target_size = target_size,\n",
    "                                          class_mode = 'raw',\n",
    "                                          batch_size = batch_size,\n",
    "                                          shuffle=False, \n",
    "                                          seed=7)\n",
    "    \n",
    "    genX4 = generator.flow_from_dataframe(dataframe = df4,\n",
    "                                          directory=directory,\n",
    "                                          x_col=df4.columns[0],\n",
    "                                          y_col=df4.columns[1:len(df4.columns)],\n",
    "                                          target_size = target_size,\n",
    "                                          class_mode = 'raw',\n",
    "                                          batch_size = batch_size,\n",
    "                                          shuffle=False, \n",
    "                                          seed=7)\n",
    "    \n",
    "    genX5 = generator.flow_from_dataframe(dataframe = df5,\n",
    "                                          directory=directory,\n",
    "                                          x_col=df5.columns[0],\n",
    "                                          y_col=df5.columns[1:len(df5.columns)],\n",
    "                                          target_size = target_size,\n",
    "                                          class_mode = 'raw',\n",
    "                                          batch_size = batch_size,\n",
    "                                          shuffle=False, \n",
    "                                          seed=7)\n",
    "    \n",
    "    for i in range(df1['filename'].count()):\n",
    "            X1i = genX1.next()\n",
    "            X2i = genX2.next()\n",
    "            X3i = genX3.next()\n",
    "            X4i = genX4.next()\n",
    "            X5i = genX5.next()\n",
    "            yield X1i[0],[X1i[1], X2i[1], X3i[1], X4i[1], X5i[1]]\n",
    "\n",
    "\n",
    "            \n",
    "            \n",
    "            \n",
    "# Get Data Generators\n",
    "def train_val_generators(DIRECTORY, df_Train, df_Validation):\n",
    "    \n",
    "  # Instantiate the ImageDataGenerator class \n",
    "  # Don't forget to normalize pixel values and set arguments to augment the images \n",
    "  train_datagen = ImageDataGenerator(rescale=1.0/255.0,\n",
    "                                     rotation_range=20,\n",
    "                                     width_shift_range=0.2,\n",
    "                                     height_shift_range=0.2,\n",
    "                                     horizontal_flip=True,\n",
    "                                     fill_mode='nearest')\n",
    "\n",
    "# create generator\n",
    "  df_vis = df_Train.loc[:, ['filename', 'clear', 'haze', 'partly_cloudy', 'cloudy']]\n",
    "  df_hum = df_Train.loc[:, ['filename', 'agriculture', 'cultivation', 'habitation']]\n",
    "  df_rw  = df_Train.loc[:, ['filename', 'road', 'water']]\n",
    "  df_prim = df_Train.loc[:, ['filename', 'primary']]\n",
    "  df_rem = df_Train.loc[:, ['filename', 'artisinal_mine', 'bare_ground', 'blooming', 'blow_down', 'conventional_mine', 'selective_logging', 'slash_burn']]\n",
    "\n",
    "  train_generator = generate_generator_multiple(train_datagen, DIRECTORY, df_vis, df_hum, df_rw, df_prim, df_rem, 32, (256, 256))\n",
    "    \n",
    "#   train_generator = train_datagen.flow_from_dataframe(dataframe=df_Train,\n",
    "#                                                       directory=DIRECTORY,\n",
    "#                                                       x_col=df_Train.columns[0],\n",
    "#                                                       y_col=df_Train.columns[1:len(df_Train.columns)],\n",
    "#                                                       batch_size=32, \n",
    "#                                                       class_mode='raw',\n",
    "#                                                       target_size=(256, 256))\n",
    "\n",
    "  # Instantiate the ImageDataGenerator class (set the rescale argument)\n",
    "  # Validation data not augmented\n",
    "  validation_datagen = ImageDataGenerator(rescale=1.0/255.0)\n",
    "    \n",
    "  df_vis = df_ValData.loc[:, ['filename', 'clear', 'haze', 'partly_cloudy', 'cloudy']]\n",
    "  df_hum = df_ValData.loc[:, ['filename', 'agriculture', 'cultivation', 'habitation']]\n",
    "  df_rw  = df_ValData.loc[:, ['filename', 'road', 'water']]\n",
    "  df_prim = df_ValData.loc[:, ['filename', 'primary']]\n",
    "  df_rem = df_ValData.loc[:, ['filename', 'artisinal_mine', 'bare_ground', 'blooming', 'blow_down', 'conventional_mine', 'selective_logging', 'slash_burn']]\n",
    "\n",
    "  validation_generator = generate_generator_multiple(validation_datagen, DIRECTORY, df_vis, df_hum, df_rw, df_prim, df_rem, 32, (256, 256))\n",
    "  \n",
    "#   flow_from_dataframe method\n",
    "#   validation_generator = validation_datagen.flow_from_dataframe(dataframe=df_Validation,\n",
    "#                                                                 directory=DIRECTORY,\n",
    "#                                                                 x_col=df_ValData.columns[0],\n",
    "#                                                                 y_col=df_ValData.columns[1:len(df_ValData.columns)],\n",
    "#                                                                 batch_size=32,\n",
    "#                                                                 class_mode='raw',\n",
    "#                                                                 target_size=(256, 256))\n",
    "  return train_generator, validation_generator"
   ]
  },
  {
   "cell_type": "code",
   "execution_count": 9,
   "id": "9f9cabfe",
   "metadata": {
    "execution": {
     "iopub.execute_input": "2022-05-28T16:36:08.858176Z",
     "iopub.status.busy": "2022-05-28T16:36:08.857961Z",
     "iopub.status.idle": "2022-05-28T16:36:08.905284Z",
     "shell.execute_reply": "2022-05-28T16:36:08.904533Z"
    },
    "papermill": {
     "duration": 0.077202,
     "end_time": "2022-05-28T16:36:08.907487",
     "exception": false,
     "start_time": "2022-05-28T16:36:08.830285",
     "status": "completed"
    },
    "tags": []
   },
   "outputs": [],
   "source": [
    "# Split Data\n",
    "TrainToValidation_DataSize_Ratio = 0.6\n",
    "df_TrainData, df_ValData = SplitData(df_Dataset, TrainToValidation_DataSize_Ratio)\n",
    "\n",
    "# Test Generators\n",
    "train_generator, validation_generator = train_val_generators(source_path_Images, df_TrainData, df_ValData)"
   ]
  },
  {
   "cell_type": "markdown",
   "id": "f451dad5",
   "metadata": {
    "papermill": {
     "duration": 0.026856,
     "end_time": "2022-05-28T16:36:08.963928",
     "exception": false,
     "start_time": "2022-05-28T16:36:08.937072",
     "status": "completed"
    },
    "tags": []
   },
   "source": [
    "## Test Image Data Generator and Label Encoding\n",
    "- Verify if functions are working and visualize data"
   ]
  },
  {
   "cell_type": "code",
   "execution_count": 10,
   "id": "75393f11",
   "metadata": {
    "execution": {
     "iopub.execute_input": "2022-05-28T16:36:09.019957Z",
     "iopub.status.busy": "2022-05-28T16:36:09.019595Z",
     "iopub.status.idle": "2022-05-28T16:36:09.023393Z",
     "shell.execute_reply": "2022-05-28T16:36:09.022632Z"
    },
    "papermill": {
     "duration": 0.034334,
     "end_time": "2022-05-28T16:36:09.025451",
     "exception": false,
     "start_time": "2022-05-28T16:36:08.991117",
     "status": "completed"
    },
    "tags": []
   },
   "outputs": [],
   "source": [
    "# data_index = 0\n",
    "\n",
    "# print(pd.DataFrame(np.array([LabelList, validation_generator.labels[data_index]]).transpose()).to_string(index=False))\n",
    "# print(\"\\nFile name:\\t\"+validation_generator.filenames[data_index])\n",
    "# print(\"Labels:\\t\\t\"+OneHotToStringLabels(validation_generator.labels[data_index], LabelList, ' ')+'\\n')\n",
    "\n",
    "# img = mpimg.imread(os.path.join(source_path_Images, validation_generator.filenames[data_index]))\n",
    "# img = img[:,:,:3]\n",
    "# plt.imshow(img)"
   ]
  },
  {
   "cell_type": "markdown",
   "id": "26c19821",
   "metadata": {
    "papermill": {
     "duration": 0.027217,
     "end_time": "2022-05-28T16:36:09.079823",
     "exception": false,
     "start_time": "2022-05-28T16:36:09.052606",
     "status": "completed"
    },
    "tags": []
   },
   "source": [
    "## Model Definition\n",
    "- Import InceptionV3 weights and define layers connected\n",
    "- Import VGG19 weights and define layers connected"
   ]
  },
  {
   "cell_type": "code",
   "execution_count": 11,
   "id": "71967675",
   "metadata": {
    "execution": {
     "iopub.execute_input": "2022-05-28T16:36:09.135823Z",
     "iopub.status.busy": "2022-05-28T16:36:09.135581Z",
     "iopub.status.idle": "2022-05-28T16:36:09.167591Z",
     "shell.execute_reply": "2022-05-28T16:36:09.166699Z"
    },
    "papermill": {
     "duration": 0.062765,
     "end_time": "2022-05-28T16:36:09.169800",
     "exception": false,
     "start_time": "2022-05-28T16:36:09.107035",
     "status": "completed"
    },
    "tags": []
   },
   "outputs": [],
   "source": [
    "from tensorflow.keras.optimizers import RMSprop\n",
    "from tensorflow.keras.optimizers import Adam\n",
    "import tensorflow_addons as tfa\n",
    "\n",
    "def create_model():\n",
    "    \n",
    "    Input = tf.keras.Input(shape=(256, 256, 3))\n",
    "    \n",
    "#     #Load InceptionV3 Model\n",
    "    Model_1 = tf.keras.applications.InceptionV3(input_tensor = Input, include_top = False, weights=\"imagenet\")\n",
    "    #Make all layers on InceptionV3 untrainable\n",
    "    for layer in Model_1.layers:\n",
    "        layer.trainable = True\n",
    "    x_Model_1 = Model_1(Input)\n",
    "    x_Model_1_Flat = tf.keras.layers.Flatten(name='Flatten_Model_1')(x_Model_1)\n",
    "    \n",
    "    \n",
    "#     #Load ResNet50V2 Model\n",
    "    Model_2 = tf.keras.applications.ResNet50V2(input_tensor = Input, include_top=False, weights=\"imagenet\")\n",
    "    for layer in Model_2.layers:\n",
    "            layer.trainable = True\n",
    "    x_Model_2 = Model_2(Input)\n",
    "    x_Model_2_Flat = tf.keras.layers.Flatten(name='Flatten_Model_2')(x_Model_2)\n",
    "    \n",
    "    \n",
    "    x_Top = tf.keras.layers.Concatenate(name='ConcatenateFlatten_Layer')([x_Model_1_Flat, x_Model_2_Flat])\n",
    "    x_Top = tf.keras.layers.Dense(1024)(x_Top)\n",
    "    \n",
    "    #Define Visibility Branch\n",
    "    # x_vis[0] -> clear\n",
    "    # x_vis[1] -> haze\n",
    "    # x_vis[2] -> partly_cloudy\n",
    "    # x_vis[3] -> cloudy\n",
    "    x_vis = tf.keras.layers.Dense(512, activation='relu')(x_Top)\n",
    "    x_vis = tf.keras.layers.BatchNormalization()(x_vis)\n",
    "    x_vis = tf.keras.layers.Dropout(0.2)(x_vis)\n",
    "    x_vis = tf.keras.layers.Dense(512, activation='relu')(x_vis)\n",
    "    x_vis = tf.keras.layers.BatchNormalization()(x_vis)\n",
    "    x_vis = tf.keras.layers.Dropout(0.4)(x_vis)\n",
    "    x_vis = tf.keras.layers.Dense(256, activation='relu')(x_vis)\n",
    "    x_vis = tf.keras.layers.BatchNormalization()(x_vis)\n",
    "    x_vis = tf.keras.layers.Dropout(0.4)(x_vis)\n",
    "    x_vis = tf.keras.layers.Dense(4, activation='softmax', name = 'visibility')(x_vis)\n",
    "    \n",
    "    #Define Human Activity Branch\n",
    "    # x_hum[0] -> agriculture\n",
    "    # x_hum[1] -> cultivation\n",
    "    # x_hum[2] -> habitation\n",
    "    x_hum = tf.keras.layers.Dense(512, activation='relu')(x_Top)\n",
    "    x_hum = tf.keras.layers.BatchNormalization()(x_hum)\n",
    "    x_hum = tf.keras.layers.Dropout(0.2)(x_hum)\n",
    "    x_hum = tf.keras.layers.Dense(512, activation='relu')(x_hum)\n",
    "    x_hum = tf.keras.layers.BatchNormalization()(x_hum)\n",
    "    x_hum = tf.keras.layers.Dropout(0.4)(x_hum)\n",
    "    x_hum = tf.keras.layers.Dense(256, activation='relu')(x_hum)\n",
    "    x_hum = tf.keras.layers.BatchNormalization()(x_hum)\n",
    "    x_hum = tf.keras.layers.Dropout(0.4)(x_hum)\n",
    "    x_hum = tf.keras.layers.Dense(3, activation='sigmoid', name='human_activity')(x_hum)\n",
    "    \n",
    "    #Define Track Branch (Road or Water)\n",
    "    # x_rw[0] -> road\n",
    "    # x_rw[1] -> water\n",
    "    x_rw = tf.keras.layers.Dense(512, activation='relu')(x_Top)\n",
    "    x_rw = tf.keras.layers.BatchNormalization()(x_rw)\n",
    "    x_rw = tf.keras.layers.Dropout(0.2)(x_rw)\n",
    "    x_rw = tf.keras.layers.Dense(512, activation='relu')(x_rw)\n",
    "    x_rw = tf.keras.layers.BatchNormalization()(x_rw)\n",
    "    x_rw = tf.keras.layers.Dropout(0.4)(x_rw)\n",
    "    x_rw = tf.keras.layers.Dense(256, activation='relu')(x_rw)\n",
    "    x_rw = tf.keras.layers.BatchNormalization()(x_rw)\n",
    "    x_rw = tf.keras.layers.Dropout(0.4)(x_rw)\n",
    "    x_rw = tf.keras.layers.Dense(2, activation='sigmoid', name='road_water')(x_rw)\n",
    "    \n",
    "    #Define Primary Branch\n",
    "    #x_primary[0] -> primary\n",
    "    x_prim = tf.keras.layers.Dense(512, activation='relu')(x_Top)\n",
    "    x_prim = tf.keras.layers.BatchNormalization()(x_prim)\n",
    "    x_prim = tf.keras.layers.Dropout(0.2)(x_prim)\n",
    "    x_prim = tf.keras.layers.Dense(512, activation='relu')(x_prim)\n",
    "    x_prim = tf.keras.layers.BatchNormalization()(x_prim)\n",
    "    x_prim = tf.keras.layers.Dropout(0.4)(x_prim)\n",
    "    x_prim = tf.keras.layers.Dense(256, activation='relu')(x_prim)\n",
    "    x_prim = tf.keras.layers.BatchNormalization()(x_prim)\n",
    "    x_prim = tf.keras.layers.Dropout(0.4)(x_prim)\n",
    "    x_prim = tf.keras.layers.Dense(1, activation='sigmoid', name='primary')(x_prim)\n",
    "    \n",
    "    \n",
    "    #Define Remaining Branch\n",
    "    #x_mine[0] -> artisinal_mine\n",
    "    # x_rem[1] -> bare_ground\n",
    "    # x_rem[2] -> blooming\n",
    "    # x_rem[3] -> blow_down\n",
    "    #x_mine[4] -> conventional_mine\n",
    "    # x_rem[5] -> selective_logging\n",
    "    # x_rem[6] -> slash_burn\n",
    "    x_rem = tf.keras.layers.Dense(512, activation='relu')(x_Top)\n",
    "    x_rem = tf.keras.layers.BatchNormalization()(x_rem)\n",
    "    x_rem = tf.keras.layers.Dropout(0.2)(x_rem)\n",
    "    x_rem = tf.keras.layers.Dense(512, activation='relu')(x_rem)\n",
    "    x_rem = tf.keras.layers.BatchNormalization()(x_rem)\n",
    "    x_rem = tf.keras.layers.Dropout(0.4)(x_rem)\n",
    "    x_rem = tf.keras.layers.Dense(256, activation='relu')(x_rem)\n",
    "    x_rem = tf.keras.layers.BatchNormalization()(x_rem)\n",
    "    x_rem = tf.keras.layers.Dropout(0.4)(x_rem)\n",
    "    x_rem = tf.keras.layers.Dense(7, activation='sigmoid', name='remaining')(x_rem)\n",
    "    \n",
    "    model = tf.keras.Model(inputs=Input, outputs=[x_vis, x_hum, x_rw, x_prim, x_rem])\n",
    "\n",
    "    model.compile(optimizer=Adam(lr=1e-4),\n",
    "                loss='binary_crossentropy',\n",
    "                metrics={\n",
    "                         'visibility': [tfa.metrics.FBetaScore(beta=2.0, num_classes=4 , average='micro', threshold=0.5)],\n",
    "                         'human_activity': [tfa.metrics.FBetaScore(beta=2.0, num_classes=3 , average='micro', threshold=0.5)],\n",
    "                         'road_water': [tfa.metrics.FBetaScore(beta=2.0, num_classes=2 , average='micro', threshold=0.5)],\n",
    "                         'primary': [tfa.metrics.FBetaScore(beta=2.0, num_classes=1 , average='micro', threshold=0.5)],\n",
    "                         'remaining': [tfa.metrics.FBetaScore(beta=2.0, num_classes=7 , average='micro', threshold=0.5)]\n",
    "                        }\n",
    "               ) \n",
    "    return model"
   ]
  },
  {
   "cell_type": "code",
   "execution_count": 12,
   "id": "5f4bad36",
   "metadata": {
    "collapsed": true,
    "execution": {
     "iopub.execute_input": "2022-05-28T16:36:09.225690Z",
     "iopub.status.busy": "2022-05-28T16:36:09.225479Z",
     "iopub.status.idle": "2022-05-28T16:36:18.885449Z",
     "shell.execute_reply": "2022-05-28T16:36:18.884443Z"
    },
    "jupyter": {
     "outputs_hidden": true
    },
    "papermill": {
     "duration": 9.694729,
     "end_time": "2022-05-28T16:36:18.891992",
     "exception": false,
     "start_time": "2022-05-28T16:36:09.197263",
     "status": "completed"
    },
    "tags": []
   },
   "outputs": [
    {
     "name": "stderr",
     "output_type": "stream",
     "text": [
      "2022-05-28 16:36:09.318854: I tensorflow/stream_executor/cuda/cuda_gpu_executor.cc:937] successful NUMA node read from SysFS had negative value (-1), but there must be at least one NUMA node, so returning NUMA node zero\n",
      "2022-05-28 16:36:09.415575: I tensorflow/stream_executor/cuda/cuda_gpu_executor.cc:937] successful NUMA node read from SysFS had negative value (-1), but there must be at least one NUMA node, so returning NUMA node zero\n",
      "2022-05-28 16:36:09.416419: I tensorflow/stream_executor/cuda/cuda_gpu_executor.cc:937] successful NUMA node read from SysFS had negative value (-1), but there must be at least one NUMA node, so returning NUMA node zero\n",
      "2022-05-28 16:36:09.417678: I tensorflow/core/platform/cpu_feature_guard.cc:142] This TensorFlow binary is optimized with oneAPI Deep Neural Network Library (oneDNN) to use the following CPU instructions in performance-critical operations:  AVX2 AVX512F FMA\n",
      "To enable them in other operations, rebuild TensorFlow with the appropriate compiler flags.\n",
      "2022-05-28 16:36:09.418027: I tensorflow/stream_executor/cuda/cuda_gpu_executor.cc:937] successful NUMA node read from SysFS had negative value (-1), but there must be at least one NUMA node, so returning NUMA node zero\n",
      "2022-05-28 16:36:09.418754: I tensorflow/stream_executor/cuda/cuda_gpu_executor.cc:937] successful NUMA node read from SysFS had negative value (-1), but there must be at least one NUMA node, so returning NUMA node zero\n",
      "2022-05-28 16:36:09.419463: I tensorflow/stream_executor/cuda/cuda_gpu_executor.cc:937] successful NUMA node read from SysFS had negative value (-1), but there must be at least one NUMA node, so returning NUMA node zero\n",
      "2022-05-28 16:36:11.447988: I tensorflow/stream_executor/cuda/cuda_gpu_executor.cc:937] successful NUMA node read from SysFS had negative value (-1), but there must be at least one NUMA node, so returning NUMA node zero\n",
      "2022-05-28 16:36:11.448898: I tensorflow/stream_executor/cuda/cuda_gpu_executor.cc:937] successful NUMA node read from SysFS had negative value (-1), but there must be at least one NUMA node, so returning NUMA node zero\n",
      "2022-05-28 16:36:11.449642: I tensorflow/stream_executor/cuda/cuda_gpu_executor.cc:937] successful NUMA node read from SysFS had negative value (-1), but there must be at least one NUMA node, so returning NUMA node zero\n",
      "2022-05-28 16:36:11.450918: I tensorflow/core/common_runtime/gpu/gpu_device.cc:1510] Created device /job:localhost/replica:0/task:0/device:GPU:0 with 15403 MB memory:  -> device: 0, name: Tesla P100-PCIE-16GB, pci bus id: 0000:00:04.0, compute capability: 6.0\n"
     ]
    },
    {
     "name": "stdout",
     "output_type": "stream",
     "text": [
      "Downloading data from https://storage.googleapis.com/tensorflow/keras-applications/inception_v3/inception_v3_weights_tf_dim_ordering_tf_kernels_notop.h5\n",
      "87916544/87910968 [==============================] - 0s 0us/step\n",
      "87924736/87910968 [==============================] - 0s 0us/step\n",
      "Downloading data from https://storage.googleapis.com/tensorflow/keras-applications/resnet/resnet50v2_weights_tf_dim_ordering_tf_kernels_notop.h5\n",
      "94674944/94668760 [==============================] - 1s 0us/step\n",
      "94683136/94668760 [==============================] - 1s 0us/step\n",
      "Model: \"model\"\n",
      "__________________________________________________________________________________________________\n",
      "Layer (type)                    Output Shape         Param #     Connected to                     \n",
      "==================================================================================================\n",
      "input_1 (InputLayer)            [(None, 256, 256, 3) 0                                            \n",
      "__________________________________________________________________________________________________\n",
      "inception_v3 (Functional)       (None, 6, 6, 2048)   21802784    input_1[0][0]                    \n",
      "__________________________________________________________________________________________________\n",
      "resnet50v2 (Functional)         (None, 8, 8, 2048)   23564800    input_1[0][0]                    \n",
      "__________________________________________________________________________________________________\n",
      "Flatten_Model_1 (Flatten)       (None, 73728)        0           inception_v3[0][0]               \n",
      "__________________________________________________________________________________________________\n",
      "Flatten_Model_2 (Flatten)       (None, 131072)       0           resnet50v2[0][0]                 \n",
      "__________________________________________________________________________________________________\n",
      "ConcatenateFlatten_Layer (Conca (None, 204800)       0           Flatten_Model_1[0][0]            \n",
      "                                                                 Flatten_Model_2[0][0]            \n",
      "__________________________________________________________________________________________________\n",
      "dense (Dense)                   (None, 1024)         209716224   ConcatenateFlatten_Layer[0][0]   \n",
      "__________________________________________________________________________________________________\n",
      "dense_1 (Dense)                 (None, 512)          524800      dense[0][0]                      \n",
      "__________________________________________________________________________________________________\n",
      "dense_4 (Dense)                 (None, 512)          524800      dense[0][0]                      \n",
      "__________________________________________________________________________________________________\n",
      "dense_7 (Dense)                 (None, 512)          524800      dense[0][0]                      \n",
      "__________________________________________________________________________________________________\n",
      "dense_10 (Dense)                (None, 512)          524800      dense[0][0]                      \n",
      "__________________________________________________________________________________________________\n",
      "dense_13 (Dense)                (None, 512)          524800      dense[0][0]                      \n",
      "__________________________________________________________________________________________________\n",
      "batch_normalization_94 (BatchNo (None, 512)          2048        dense_1[0][0]                    \n",
      "__________________________________________________________________________________________________\n",
      "batch_normalization_97 (BatchNo (None, 512)          2048        dense_4[0][0]                    \n",
      "__________________________________________________________________________________________________\n",
      "batch_normalization_100 (BatchN (None, 512)          2048        dense_7[0][0]                    \n",
      "__________________________________________________________________________________________________\n",
      "batch_normalization_103 (BatchN (None, 512)          2048        dense_10[0][0]                   \n",
      "__________________________________________________________________________________________________\n",
      "batch_normalization_106 (BatchN (None, 512)          2048        dense_13[0][0]                   \n",
      "__________________________________________________________________________________________________\n",
      "dropout (Dropout)               (None, 512)          0           batch_normalization_94[0][0]     \n",
      "__________________________________________________________________________________________________\n",
      "dropout_3 (Dropout)             (None, 512)          0           batch_normalization_97[0][0]     \n",
      "__________________________________________________________________________________________________\n",
      "dropout_6 (Dropout)             (None, 512)          0           batch_normalization_100[0][0]    \n",
      "__________________________________________________________________________________________________\n",
      "dropout_9 (Dropout)             (None, 512)          0           batch_normalization_103[0][0]    \n",
      "__________________________________________________________________________________________________\n",
      "dropout_12 (Dropout)            (None, 512)          0           batch_normalization_106[0][0]    \n",
      "__________________________________________________________________________________________________\n",
      "dense_2 (Dense)                 (None, 512)          262656      dropout[0][0]                    \n",
      "__________________________________________________________________________________________________\n",
      "dense_5 (Dense)                 (None, 512)          262656      dropout_3[0][0]                  \n",
      "__________________________________________________________________________________________________\n",
      "dense_8 (Dense)                 (None, 512)          262656      dropout_6[0][0]                  \n",
      "__________________________________________________________________________________________________\n",
      "dense_11 (Dense)                (None, 512)          262656      dropout_9[0][0]                  \n",
      "__________________________________________________________________________________________________\n",
      "dense_14 (Dense)                (None, 512)          262656      dropout_12[0][0]                 \n",
      "__________________________________________________________________________________________________\n",
      "batch_normalization_95 (BatchNo (None, 512)          2048        dense_2[0][0]                    \n",
      "__________________________________________________________________________________________________\n",
      "batch_normalization_98 (BatchNo (None, 512)          2048        dense_5[0][0]                    \n",
      "__________________________________________________________________________________________________\n",
      "batch_normalization_101 (BatchN (None, 512)          2048        dense_8[0][0]                    \n",
      "__________________________________________________________________________________________________\n",
      "batch_normalization_104 (BatchN (None, 512)          2048        dense_11[0][0]                   \n",
      "__________________________________________________________________________________________________\n",
      "batch_normalization_107 (BatchN (None, 512)          2048        dense_14[0][0]                   \n",
      "__________________________________________________________________________________________________\n",
      "dropout_1 (Dropout)             (None, 512)          0           batch_normalization_95[0][0]     \n",
      "__________________________________________________________________________________________________\n",
      "dropout_4 (Dropout)             (None, 512)          0           batch_normalization_98[0][0]     \n",
      "__________________________________________________________________________________________________\n",
      "dropout_7 (Dropout)             (None, 512)          0           batch_normalization_101[0][0]    \n",
      "__________________________________________________________________________________________________\n",
      "dropout_10 (Dropout)            (None, 512)          0           batch_normalization_104[0][0]    \n",
      "__________________________________________________________________________________________________\n",
      "dropout_13 (Dropout)            (None, 512)          0           batch_normalization_107[0][0]    \n",
      "__________________________________________________________________________________________________\n",
      "dense_3 (Dense)                 (None, 256)          131328      dropout_1[0][0]                  \n",
      "__________________________________________________________________________________________________\n",
      "dense_6 (Dense)                 (None, 256)          131328      dropout_4[0][0]                  \n",
      "__________________________________________________________________________________________________\n",
      "dense_9 (Dense)                 (None, 256)          131328      dropout_7[0][0]                  \n",
      "__________________________________________________________________________________________________\n",
      "dense_12 (Dense)                (None, 256)          131328      dropout_10[0][0]                 \n",
      "__________________________________________________________________________________________________\n",
      "dense_15 (Dense)                (None, 256)          131328      dropout_13[0][0]                 \n",
      "__________________________________________________________________________________________________\n",
      "batch_normalization_96 (BatchNo (None, 256)          1024        dense_3[0][0]                    \n",
      "__________________________________________________________________________________________________\n",
      "batch_normalization_99 (BatchNo (None, 256)          1024        dense_6[0][0]                    \n",
      "__________________________________________________________________________________________________\n",
      "batch_normalization_102 (BatchN (None, 256)          1024        dense_9[0][0]                    \n",
      "__________________________________________________________________________________________________\n",
      "batch_normalization_105 (BatchN (None, 256)          1024        dense_12[0][0]                   \n",
      "__________________________________________________________________________________________________\n",
      "batch_normalization_108 (BatchN (None, 256)          1024        dense_15[0][0]                   \n",
      "__________________________________________________________________________________________________\n",
      "dropout_2 (Dropout)             (None, 256)          0           batch_normalization_96[0][0]     \n",
      "__________________________________________________________________________________________________\n",
      "dropout_5 (Dropout)             (None, 256)          0           batch_normalization_99[0][0]     \n",
      "__________________________________________________________________________________________________\n",
      "dropout_8 (Dropout)             (None, 256)          0           batch_normalization_102[0][0]    \n",
      "__________________________________________________________________________________________________\n",
      "dropout_11 (Dropout)            (None, 256)          0           batch_normalization_105[0][0]    \n",
      "__________________________________________________________________________________________________\n",
      "dropout_14 (Dropout)            (None, 256)          0           batch_normalization_108[0][0]    \n",
      "__________________________________________________________________________________________________\n",
      "visibility (Dense)              (None, 4)            1028        dropout_2[0][0]                  \n",
      "__________________________________________________________________________________________________\n",
      "human_activity (Dense)          (None, 3)            771         dropout_5[0][0]                  \n",
      "__________________________________________________________________________________________________\n",
      "road_water (Dense)              (None, 2)            514         dropout_8[0][0]                  \n",
      "__________________________________________________________________________________________________\n",
      "primary (Dense)                 (None, 1)            257         dropout_11[0][0]                 \n",
      "__________________________________________________________________________________________________\n",
      "remaining (Dense)               (None, 7)            1799        dropout_14[0][0]                 \n",
      "==================================================================================================\n",
      "Total params: 259,707,697\n",
      "Trainable params: 259,615,025\n",
      "Non-trainable params: 92,672\n",
      "__________________________________________________________________________________________________\n"
     ]
    },
    {
     "name": "stderr",
     "output_type": "stream",
     "text": [
      "/opt/conda/lib/python3.7/site-packages/keras/optimizer_v2/optimizer_v2.py:356: UserWarning: The `lr` argument is deprecated, use `learning_rate` instead.\n",
      "  \"The `lr` argument is deprecated, use `learning_rate` instead.\")\n"
     ]
    }
   ],
   "source": [
    "model = create_model()\n",
    "model.summary()"
   ]
  },
  {
   "cell_type": "markdown",
   "id": "3070f0f8",
   "metadata": {
    "papermill": {
     "duration": 0.039739,
     "end_time": "2022-05-28T16:36:18.972267",
     "exception": false,
     "start_time": "2022-05-28T16:36:18.932528",
     "status": "completed"
    },
    "tags": []
   },
   "source": [
    "## Callback to stop training"
   ]
  },
  {
   "cell_type": "code",
   "execution_count": 13,
   "id": "8bda788f",
   "metadata": {
    "execution": {
     "iopub.execute_input": "2022-05-28T16:36:19.053981Z",
     "iopub.status.busy": "2022-05-28T16:36:19.053726Z",
     "iopub.status.idle": "2022-05-28T16:36:19.060479Z",
     "shell.execute_reply": "2022-05-28T16:36:19.059754Z"
    },
    "papermill": {
     "duration": 0.050314,
     "end_time": "2022-05-28T16:36:19.062370",
     "exception": false,
     "start_time": "2022-05-28T16:36:19.012056",
     "status": "completed"
    },
    "tags": []
   },
   "outputs": [],
   "source": [
    "from keras.callbacks import ModelCheckpoint, EarlyStopping, ReduceLROnPlateau, History\n",
    "\n",
    "class myCallback(tf.keras.callbacks.Callback):\n",
    "    def on_epoch_end(self, epoch, logs={}):\n",
    "        print(\"\\nReached FBeta Score = \"+str(statistics.harmonic_mean([logs.get('val_visibility_fbeta_score'), logs.get('val_human_activity_fbeta_score'), logs.get('val_road_water_fbeta_score'), logs.get('val_primary_fbeta_score')])))\n",
    "        ReduceLROnPlateau(monitor='val_loss', factor=0.1, patience=1, cooldown=0, min_lr=1e-7, verbose=1)\n",
    "        ModelCheckpoint(filepath='/kaggle/working/InceptionResNet.h5', monitor=\"val_loss\", verbose=1, save_best_only=True, save_weights_only=True, mode='auto')"
   ]
  },
  {
   "cell_type": "markdown",
   "id": "c7375f1f",
   "metadata": {
    "papermill": {
     "duration": 0.03982,
     "end_time": "2022-05-28T16:36:19.141811",
     "exception": false,
     "start_time": "2022-05-28T16:36:19.101991",
     "status": "completed"
    },
    "tags": []
   },
   "source": [
    "## Model Training"
   ]
  },
  {
   "cell_type": "code",
   "execution_count": 14,
   "id": "852f4556",
   "metadata": {
    "execution": {
     "iopub.execute_input": "2022-05-28T16:36:19.222616Z",
     "iopub.status.busy": "2022-05-28T16:36:19.222400Z",
     "iopub.status.idle": "2022-05-29T03:03:26.297858Z",
     "shell.execute_reply": "2022-05-29T03:03:26.297015Z"
    },
    "papermill": {
     "duration": 37627.118636,
     "end_time": "2022-05-29T03:03:26.300187",
     "exception": false,
     "start_time": "2022-05-28T16:36:19.181551",
     "status": "completed"
    },
    "tags": []
   },
   "outputs": [
    {
     "name": "stderr",
     "output_type": "stream",
     "text": [
      "/opt/conda/lib/python3.7/site-packages/keras/engine/training.py:1972: UserWarning: `Model.fit_generator` is deprecated and will be removed in a future version. Please use `Model.fit`, which supports generators.\n",
      "  warnings.warn('`Model.fit_generator` is deprecated and '\n"
     ]
    },
    {
     "name": "stdout",
     "output_type": "stream",
     "text": [
      "Found 24287 validated image filenames.\n",
      "Found 24287 validated image filenames.\n",
      "Found 24287 validated image filenames.\n",
      "Found 24287 validated image filenames.\n",
      "Found 24287 validated image filenames.\n"
     ]
    },
    {
     "name": "stderr",
     "output_type": "stream",
     "text": [
      "2022-05-28 16:37:47.143987: I tensorflow/compiler/mlir/mlir_graph_optimization_pass.cc:185] None of the MLIR Optimization Passes are enabled (registered 2)\n"
     ]
    },
    {
     "name": "stdout",
     "output_type": "stream",
     "text": [
      "Epoch 1/15\n"
     ]
    },
    {
     "name": "stderr",
     "output_type": "stream",
     "text": [
      "2022-05-28 16:38:05.519143: I tensorflow/stream_executor/cuda/cuda_dnn.cc:369] Loaded cuDNN version 8005\n"
     ]
    },
    {
     "name": "stdout",
     "output_type": "stream",
     "text": [
      "759/759 [==============================] - ETA: 0s - loss: 3.0665 - visibility_loss: 0.5544 - human_activity_loss: 0.6371 - road_water_loss: 0.5609 - primary_loss: 0.5719 - remaining_loss: 0.7423 - visibility_fbeta_score: 0.6894 - human_activity_fbeta_score: 0.5708 - road_water_fbeta_score: 0.6201 - primary_fbeta_score: 0.7971 - remaining_fbeta_score: 0.0429Found 16192 validated image filenames.\n",
      "Found 16192 validated image filenames.\n",
      "Found 16192 validated image filenames.\n",
      "Found 16192 validated image filenames.\n",
      "Found 16192 validated image filenames.\n",
      "759/759 [==============================] - 2710s 4s/step - loss: 3.0665 - visibility_loss: 0.5544 - human_activity_loss: 0.6371 - road_water_loss: 0.5609 - primary_loss: 0.5719 - remaining_loss: 0.7423 - visibility_fbeta_score: 0.6894 - human_activity_fbeta_score: 0.5708 - road_water_fbeta_score: 0.6201 - primary_fbeta_score: 0.7971 - remaining_fbeta_score: 0.0429 - val_loss: 1.7608 - val_visibility_loss: 0.3118 - val_human_activity_loss: 0.4115 - val_road_water_loss: 0.3251 - val_primary_loss: 0.3110 - val_remaining_loss: 0.4013 - val_visibility_fbeta_score: 0.9037 - val_human_activity_fbeta_score: 0.7129 - val_road_water_fbeta_score: 0.7155 - val_primary_fbeta_score: 0.9754 - val_remaining_fbeta_score: 0.0416\n",
      "\n",
      "Reached FBeta Score = 0.8110321674557016\n",
      "Epoch 2/15\n",
      "759/759 [==============================] - 2416s 3s/step - loss: 1.8048 - visibility_loss: 0.3312 - human_activity_loss: 0.4256 - road_water_loss: 0.3851 - primary_loss: 0.2991 - remaining_loss: 0.3639 - visibility_fbeta_score: 0.8472 - human_activity_fbeta_score: 0.6168 - road_water_fbeta_score: 0.6488 - primary_fbeta_score: 0.9376 - remaining_fbeta_score: 0.0342 - val_loss: 1.1909 - val_visibility_loss: 0.2191 - val_human_activity_loss: 0.3345 - val_road_water_loss: 0.3314 - val_primary_loss: 0.1630 - val_remaining_loss: 0.1430 - val_visibility_fbeta_score: 0.8623 - val_human_activity_fbeta_score: 0.7024 - val_road_water_fbeta_score: 0.7280 - val_primary_fbeta_score: 0.9792 - val_remaining_fbeta_score: 0.0000e+00\n",
      "\n",
      "Reached FBeta Score = 0.8034912363928794\n",
      "Epoch 3/15\n",
      "759/759 [==============================] - 2478s 3s/step - loss: 1.2528 - visibility_loss: 0.2424 - human_activity_loss: 0.3373 - road_water_loss: 0.3379 - primary_loss: 0.1987 - remaining_loss: 0.1365 - visibility_fbeta_score: 0.8672 - human_activity_fbeta_score: 0.6248 - road_water_fbeta_score: 0.6547 - primary_fbeta_score: 0.9679 - remaining_fbeta_score: 0.0128 - val_loss: 0.8699 - val_visibility_loss: 0.1522 - val_human_activity_loss: 0.2792 - val_road_water_loss: 0.2478 - val_primary_loss: 0.1233 - val_remaining_loss: 0.0674 - val_visibility_fbeta_score: 0.8955 - val_human_activity_fbeta_score: 0.6329 - val_road_water_fbeta_score: 0.6995 - val_primary_fbeta_score: 0.9795 - val_remaining_fbeta_score: 0.0000e+00\n",
      "\n",
      "Reached FBeta Score = 0.7771252218328211\n",
      "Epoch 4/15\n",
      "759/759 [==============================] - 2423s 3s/step - loss: 1.0453 - visibility_loss: 0.2016 - human_activity_loss: 0.2989 - road_water_loss: 0.3037 - primary_loss: 0.1695 - remaining_loss: 0.0716 - visibility_fbeta_score: 0.8766 - human_activity_fbeta_score: 0.6258 - road_water_fbeta_score: 0.6657 - primary_fbeta_score: 0.9737 - remaining_fbeta_score: 0.0043 - val_loss: 0.7940 - val_visibility_loss: 0.1275 - val_human_activity_loss: 0.2550 - val_road_water_loss: 0.2525 - val_primary_loss: 0.1105 - val_remaining_loss: 0.0484 - val_visibility_fbeta_score: 0.8976 - val_human_activity_fbeta_score: 0.5554 - val_road_water_fbeta_score: 0.6327 - val_primary_fbeta_score: 0.9793 - val_remaining_fbeta_score: 0.0000e+00\n",
      "\n",
      "Reached FBeta Score = 0.7251216137013664\n",
      "Epoch 5/15\n",
      "759/759 [==============================] - 2424s 3s/step - loss: 0.9263 - visibility_loss: 0.1680 - human_activity_loss: 0.2724 - road_water_loss: 0.2891 - primary_loss: 0.1441 - remaining_loss: 0.0527 - visibility_fbeta_score: 0.8909 - human_activity_fbeta_score: 0.6407 - road_water_fbeta_score: 0.6660 - primary_fbeta_score: 0.9764 - remaining_fbeta_score: 0.0018 - val_loss: 0.6912 - val_visibility_loss: 0.1195 - val_human_activity_loss: 0.2173 - val_road_water_loss: 0.2180 - val_primary_loss: 0.0944 - val_remaining_loss: 0.0420 - val_visibility_fbeta_score: 0.9123 - val_human_activity_fbeta_score: 0.6834 - val_road_water_fbeta_score: 0.7405 - val_primary_fbeta_score: 0.9834 - val_remaining_fbeta_score: 0.0000e+00\n",
      "\n",
      "Reached FBeta Score = 0.8119208285910972\n",
      "Epoch 6/15\n",
      "759/759 [==============================] - 2445s 3s/step - loss: 0.8285 - visibility_loss: 0.1480 - human_activity_loss: 0.2528 - road_water_loss: 0.2596 - primary_loss: 0.1232 - remaining_loss: 0.0449 - visibility_fbeta_score: 0.8989 - human_activity_fbeta_score: 0.6599 - road_water_fbeta_score: 0.6958 - primary_fbeta_score: 0.9788 - remaining_fbeta_score: 0.0197 - val_loss: 0.6426 - val_visibility_loss: 0.1016 - val_human_activity_loss: 0.2122 - val_road_water_loss: 0.2049 - val_primary_loss: 0.0874 - val_remaining_loss: 0.0365 - val_visibility_fbeta_score: 0.9223 - val_human_activity_fbeta_score: 0.6788 - val_road_water_fbeta_score: 0.7728 - val_primary_fbeta_score: 0.9803 - val_remaining_fbeta_score: 0.0972\n",
      "\n",
      "Reached FBeta Score = 0.821106638050905\n",
      "Epoch 7/15\n",
      "759/759 [==============================] - 2453s 3s/step - loss: 0.7933 - visibility_loss: 0.1438 - human_activity_loss: 0.2454 - road_water_loss: 0.2495 - primary_loss: 0.1133 - remaining_loss: 0.0412 - visibility_fbeta_score: 0.9005 - human_activity_fbeta_score: 0.6650 - road_water_fbeta_score: 0.7045 - primary_fbeta_score: 0.9812 - remaining_fbeta_score: 0.0622 - val_loss: 0.6366 - val_visibility_loss: 0.1042 - val_human_activity_loss: 0.2133 - val_road_water_loss: 0.1979 - val_primary_loss: 0.0824 - val_remaining_loss: 0.0389 - val_visibility_fbeta_score: 0.9249 - val_human_activity_fbeta_score: 0.6948 - val_road_water_fbeta_score: 0.7837 - val_primary_fbeta_score: 0.9862 - val_remaining_fbeta_score: 0.1418\n",
      "\n",
      "Reached FBeta Score = 0.8315404247770982\n",
      "Epoch 8/15\n",
      "759/759 [==============================] - 2462s 3s/step - loss: 0.7494 - visibility_loss: 0.1329 - human_activity_loss: 0.2321 - road_water_loss: 0.2395 - primary_loss: 0.1067 - remaining_loss: 0.0382 - visibility_fbeta_score: 0.9060 - human_activity_fbeta_score: 0.6785 - road_water_fbeta_score: 0.7171 - primary_fbeta_score: 0.9816 - remaining_fbeta_score: 0.0987 - val_loss: 0.6748 - val_visibility_loss: 0.1132 - val_human_activity_loss: 0.2413 - val_road_water_loss: 0.1989 - val_primary_loss: 0.0842 - val_remaining_loss: 0.0371 - val_visibility_fbeta_score: 0.9264 - val_human_activity_fbeta_score: 0.6351 - val_road_water_fbeta_score: 0.7626 - val_primary_fbeta_score: 0.9834 - val_remaining_fbeta_score: 0.1513\n",
      "\n",
      "Reached FBeta Score = 0.8028722083173774\n",
      "Epoch 9/15\n",
      "759/759 [==============================] - 2479s 3s/step - loss: 0.7412 - visibility_loss: 0.1322 - human_activity_loss: 0.2314 - road_water_loss: 0.2342 - primary_loss: 0.1059 - remaining_loss: 0.0374 - visibility_fbeta_score: 0.9065 - human_activity_fbeta_score: 0.6765 - road_water_fbeta_score: 0.7187 - primary_fbeta_score: 0.9821 - remaining_fbeta_score: 0.0970 - val_loss: 0.7079 - val_visibility_loss: 0.1506 - val_human_activity_loss: 0.2276 - val_road_water_loss: 0.2102 - val_primary_loss: 0.0809 - val_remaining_loss: 0.0387 - val_visibility_fbeta_score: 0.9211 - val_human_activity_fbeta_score: 0.6654 - val_road_water_fbeta_score: 0.7747 - val_primary_fbeta_score: 0.9850 - val_remaining_fbeta_score: 0.1135\n",
      "\n",
      "Reached FBeta Score = 0.8172096498693836\n",
      "Epoch 10/15\n",
      "759/759 [==============================] - 2487s 3s/step - loss: 0.7183 - visibility_loss: 0.1270 - human_activity_loss: 0.2251 - road_water_loss: 0.2277 - primary_loss: 0.1025 - remaining_loss: 0.0360 - visibility_fbeta_score: 0.9105 - human_activity_fbeta_score: 0.6827 - road_water_fbeta_score: 0.7279 - primary_fbeta_score: 0.9826 - remaining_fbeta_score: 0.1188 - val_loss: 0.6316 - val_visibility_loss: 0.1058 - val_human_activity_loss: 0.2026 - val_road_water_loss: 0.1991 - val_primary_loss: 0.0883 - val_remaining_loss: 0.0359 - val_visibility_fbeta_score: 0.9198 - val_human_activity_fbeta_score: 0.7089 - val_road_water_fbeta_score: 0.7631 - val_primary_fbeta_score: 0.9831 - val_remaining_fbeta_score: 0.1277\n",
      "\n",
      "Reached FBeta Score = 0.8289395335827446\n",
      "Epoch 11/15\n",
      "759/759 [==============================] - 2500s 3s/step - loss: 0.6963 - visibility_loss: 0.1223 - human_activity_loss: 0.2188 - road_water_loss: 0.2223 - primary_loss: 0.0985 - remaining_loss: 0.0343 - visibility_fbeta_score: 0.9132 - human_activity_fbeta_score: 0.6898 - road_water_fbeta_score: 0.7276 - primary_fbeta_score: 0.9826 - remaining_fbeta_score: 0.1317 - val_loss: 0.6341 - val_visibility_loss: 0.1095 - val_human_activity_loss: 0.2082 - val_road_water_loss: 0.2018 - val_primary_loss: 0.0805 - val_remaining_loss: 0.0341 - val_visibility_fbeta_score: 0.9248 - val_human_activity_fbeta_score: 0.6781 - val_road_water_fbeta_score: 0.7559 - val_primary_fbeta_score: 0.9858 - val_remaining_fbeta_score: 0.1583\n",
      "\n",
      "Reached FBeta Score = 0.8174145079963556\n",
      "Epoch 12/15\n",
      "759/759 [==============================] - 2526s 3s/step - loss: 0.6747 - visibility_loss: 0.1157 - human_activity_loss: 0.2146 - road_water_loss: 0.2150 - primary_loss: 0.0955 - remaining_loss: 0.0338 - visibility_fbeta_score: 0.9189 - human_activity_fbeta_score: 0.6922 - road_water_fbeta_score: 0.7466 - primary_fbeta_score: 0.9832 - remaining_fbeta_score: 0.1188 - val_loss: 0.6487 - val_visibility_loss: 0.1021 - val_human_activity_loss: 0.2069 - val_road_water_loss: 0.2074 - val_primary_loss: 0.0981 - val_remaining_loss: 0.0344 - val_visibility_fbeta_score: 0.9225 - val_human_activity_fbeta_score: 0.6905 - val_road_water_fbeta_score: 0.7756 - val_primary_fbeta_score: 0.9865 - val_remaining_fbeta_score: 0.0894\n",
      "\n",
      "Reached FBeta Score = 0.8272772662215279\n",
      "Epoch 13/15\n",
      "759/759 [==============================] - 2581s 3s/step - loss: 0.6504 - visibility_loss: 0.1138 - human_activity_loss: 0.2093 - road_water_loss: 0.2053 - primary_loss: 0.0893 - remaining_loss: 0.0327 - visibility_fbeta_score: 0.9197 - human_activity_fbeta_score: 0.7008 - road_water_fbeta_score: 0.7566 - primary_fbeta_score: 0.9841 - remaining_fbeta_score: 0.1386 - val_loss: 0.6184 - val_visibility_loss: 0.0917 - val_human_activity_loss: 0.2176 - val_road_water_loss: 0.1955 - val_primary_loss: 0.0814 - val_remaining_loss: 0.0322 - val_visibility_fbeta_score: 0.9278 - val_human_activity_fbeta_score: 0.7249 - val_road_water_fbeta_score: 0.7374 - val_primary_fbeta_score: 0.9847 - val_remaining_fbeta_score: 0.1637\n",
      "\n",
      "Reached FBeta Score = 0.8283704336253387\n",
      "Epoch 14/15\n",
      "759/759 [==============================] - 2542s 3s/step - loss: 0.6395 - visibility_loss: 0.1108 - human_activity_loss: 0.2054 - road_water_loss: 0.2016 - primary_loss: 0.0897 - remaining_loss: 0.0320 - visibility_fbeta_score: 0.9203 - human_activity_fbeta_score: 0.7029 - road_water_fbeta_score: 0.7622 - primary_fbeta_score: 0.9838 - remaining_fbeta_score: 0.1448 - val_loss: 0.6356 - val_visibility_loss: 0.0991 - val_human_activity_loss: 0.2061 - val_road_water_loss: 0.1984 - val_primary_loss: 0.0984 - val_remaining_loss: 0.0335 - val_visibility_fbeta_score: 0.9180 - val_human_activity_fbeta_score: 0.6740 - val_road_water_fbeta_score: 0.7616 - val_primary_fbeta_score: 0.9728 - val_remaining_fbeta_score: 0.1644\n",
      "\n",
      "Reached FBeta Score = 0.8139896264002531\n",
      "Epoch 15/15\n",
      "759/759 [==============================] - 2577s 3s/step - loss: 0.6162 - visibility_loss: 0.1062 - human_activity_loss: 0.1995 - road_water_loss: 0.1961 - primary_loss: 0.0831 - remaining_loss: 0.0314 - visibility_fbeta_score: 0.9238 - human_activity_fbeta_score: 0.7146 - road_water_fbeta_score: 0.7645 - primary_fbeta_score: 0.9853 - remaining_fbeta_score: 0.1511 - val_loss: 0.6341 - val_visibility_loss: 0.0985 - val_human_activity_loss: 0.2135 - val_road_water_loss: 0.2016 - val_primary_loss: 0.0872 - val_remaining_loss: 0.0333 - val_visibility_fbeta_score: 0.9193 - val_human_activity_fbeta_score: 0.6864 - val_road_water_fbeta_score: 0.7243 - val_primary_fbeta_score: 0.9827 - val_remaining_fbeta_score: 0.1006\n",
      "\n",
      "Reached FBeta Score = 0.8092338694296405\n"
     ]
    }
   ],
   "source": [
    "model = create_model()\n",
    "\n",
    "BATCH_SIZE = 32\n",
    "\n",
    "model_history = model.fit_generator(train_generator,\n",
    "                    steps_per_epoch = math.ceil(df_TrainData['filename'].count()/BATCH_SIZE),\n",
    "                    epochs=15,\n",
    "                    verbose=1,\n",
    "                    validation_data=validation_generator,\n",
    "                    validation_steps = math.ceil(df_ValData['filename'].count()/BATCH_SIZE),\n",
    "                    callbacks=myCallback()\n",
    "                   )\n",
    "\n",
    "history = model_history.history"
   ]
  },
  {
   "cell_type": "markdown",
   "id": "4695a07f",
   "metadata": {
    "papermill": {
     "duration": 5.197196,
     "end_time": "2022-05-29T03:03:35.762137",
     "exception": false,
     "start_time": "2022-05-29T03:03:30.564941",
     "status": "completed"
    },
    "tags": []
   },
   "source": [
    "## Save/Load Keras Model and History"
   ]
  },
  {
   "cell_type": "code",
   "execution_count": 15,
   "id": "9fd3180f",
   "metadata": {
    "execution": {
     "iopub.execute_input": "2022-05-29T03:03:44.647935Z",
     "iopub.status.busy": "2022-05-29T03:03:44.647633Z",
     "iopub.status.idle": "2022-05-29T03:03:59.863311Z",
     "shell.execute_reply": "2022-05-29T03:03:59.862363Z"
    },
    "papermill": {
     "duration": 19.83228,
     "end_time": "2022-05-29T03:03:59.867862",
     "exception": false,
     "start_time": "2022-05-29T03:03:40.035582",
     "status": "completed"
    },
    "tags": []
   },
   "outputs": [
    {
     "name": "stderr",
     "output_type": "stream",
     "text": [
      "/opt/conda/lib/python3.7/site-packages/keras/utils/generic_utils.py:497: CustomMaskWarning: Custom mask layers require a config and must override get_config. When loading, the custom mask layer must be passed to the custom_objects argument.\n",
      "  category=CustomMaskWarning)\n"
     ]
    }
   ],
   "source": [
    "# Save\n",
    "import pickle\n",
    "from keras.models import load_model\n",
    "with open(\"/kaggle/working/InceptionResNet.pkl\", 'wb') as f:\n",
    "    pickle.dump(history, f)\n",
    "model.save(\"/kaggle/working/InceptionResNet_EndTrain.h5\")"
   ]
  },
  {
   "cell_type": "code",
   "execution_count": 16,
   "id": "b51e2ae3",
   "metadata": {
    "execution": {
     "iopub.execute_input": "2022-05-29T03:04:09.557866Z",
     "iopub.status.busy": "2022-05-29T03:04:09.557431Z",
     "iopub.status.idle": "2022-05-29T03:04:09.561229Z",
     "shell.execute_reply": "2022-05-29T03:04:09.560484Z"
    },
    "papermill": {
     "duration": 5.305454,
     "end_time": "2022-05-29T03:04:09.563127",
     "exception": false,
     "start_time": "2022-05-29T03:04:04.257673",
     "status": "completed"
    },
    "tags": []
   },
   "outputs": [],
   "source": [
    "# # Load\n",
    "# from tensorflow import keras\n",
    "# import pickle\n",
    "# model = keras.models.load_model(\"/kaggle/working/InceptionV3_Untrainable_V2.h5\")\n",
    "# with open(\"/kaggle/working/InceptionV3_Untrainable_V2.pkl\", 'rb') as f:\n",
    "#     history = pickle.load(f)"
   ]
  },
  {
   "cell_type": "markdown",
   "id": "f3092189",
   "metadata": {
    "papermill": {
     "duration": 4.546146,
     "end_time": "2022-05-29T03:04:18.394101",
     "exception": false,
     "start_time": "2022-05-29T03:04:13.847955",
     "status": "completed"
    },
    "tags": []
   },
   "source": [
    "## Plot History"
   ]
  },
  {
   "cell_type": "code",
   "execution_count": 17,
   "id": "4a966413",
   "metadata": {
    "execution": {
     "iopub.execute_input": "2022-05-29T03:04:26.975112Z",
     "iopub.status.busy": "2022-05-29T03:04:26.974748Z",
     "iopub.status.idle": "2022-05-29T03:04:27.515635Z",
     "shell.execute_reply": "2022-05-29T03:04:27.514907Z"
    },
    "papermill": {
     "duration": 4.892789,
     "end_time": "2022-05-29T03:04:27.518201",
     "exception": false,
     "start_time": "2022-05-29T03:04:22.625412",
     "status": "completed"
    },
    "tags": []
   },
   "outputs": [
    {
     "data": {
      "image/png": "[encoded data removed]",
      "text/plain": [
       "<Figure size 432x288 with 1 Axes>"
      ]
     },
     "metadata": {
      "needs_background": "light"
     },
     "output_type": "display_data"
    },
    {
     "data": {
      "image/png": "[encoded data removed]",
      "text/plain": [
       "<Figure size 432x288 with 1 Axes>"
      ]
     },
     "metadata": {
      "needs_background": "light"
     },
     "output_type": "display_data"
    }
   ],
   "source": [
    "#-----------------------------------------------------------\n",
    "# Retrieve a list of list results on training and test data\n",
    "# sets for each training epoch\n",
    "#-----------------------------------------------------------\n",
    "loss=history['loss']\n",
    "val_loss=history['val_loss']\n",
    "\n",
    "epochs=np.array(range(len(loss)))+1 # Get number of epochs\n",
    "\n",
    "#------------------------------------------------\n",
    "# Plot training and validation loss per epoch\n",
    "#------------------------------------------------\n",
    "plt.plot(epochs, loss, label=\"Training Loss\")\n",
    "plt.plot(epochs, val_loss, label=\"Validation Loss\")\n",
    "plt.title('Training and validation Loss')\n",
    "plt.xlim([0, 15])\n",
    "plt.legend(loc='center left', bbox_to_anchor=(1, 0.5))\n",
    "plt.show()\n",
    "\n",
    "#------------------------------------------------\n",
    "# Plot training and validation F Scores per epoch\n",
    "#------------------------------------------------\n",
    "plt.plot(epochs, history['visibility_fbeta_score'], label=\"Visibility - Train\")\n",
    "plt.plot(epochs, history['val_visibility_fbeta_score'], label=\"Visibility - Validation\")\n",
    "plt.plot(epochs, history['human_activity_fbeta_score'], label=\"Human Activity  - Train\")\n",
    "plt.plot(epochs, history['val_human_activity_fbeta_score'], label=\"Human Activity  - Validation\")\n",
    "plt.plot(epochs, history['road_water_fbeta_score'], label=\"Road-Water - Train\")\n",
    "plt.plot(epochs, history['val_road_water_fbeta_score'], label=\"Road-Water - Validation\")\n",
    "plt.plot(epochs, history['primary_fbeta_score'], label=\"Primary - Train\")\n",
    "plt.plot(epochs, history['val_primary_fbeta_score'], label=\"Primary - Validation\")\n",
    "plt.plot(epochs, history['remaining_fbeta_score'], label=\"Remaining - Train\")\n",
    "plt.plot(epochs, history['val_remaining_fbeta_score'], label=\"Remaining - Validation\")\n",
    "plt.title('F-Beta Score')\n",
    "plt.xlim([0, 15])\n",
    "plt.legend(loc='center left', bbox_to_anchor=(1, 0.5))\n",
    "plt.show()"
   ]
  },
  {
   "cell_type": "markdown",
   "id": "09466c79",
   "metadata": {
    "papermill": {
     "duration": 4.213288,
     "end_time": "2022-05-29T03:04:36.208859",
     "exception": false,
     "start_time": "2022-05-29T03:04:31.995571",
     "status": "completed"
    },
    "tags": []
   },
   "source": [
    "## Submission"
   ]
  },
  {
   "cell_type": "code",
   "execution_count": 18,
   "id": "881d1135",
   "metadata": {
    "execution": {
     "iopub.execute_input": "2022-05-29T03:04:45.690804Z",
     "iopub.status.busy": "2022-05-29T03:04:45.690493Z",
     "iopub.status.idle": "2022-05-29T03:04:45.714808Z",
     "shell.execute_reply": "2022-05-29T03:04:45.714013Z"
    },
    "papermill": {
     "duration": 4.283853,
     "end_time": "2022-05-29T03:04:45.716699",
     "exception": false,
     "start_time": "2022-05-29T03:04:41.432846",
     "status": "completed"
    },
    "tags": []
   },
   "outputs": [],
   "source": [
    "import matplotlib.image as mpimg\n",
    "from IPython.display import clear_output\n",
    "\n",
    "def GetPredictions(df_Submission, ImageFolderPath):\n",
    "\n",
    "    start_time = datetime.now()\n",
    "    iteration_time = start_time\n",
    "    df_Submission.image_name = df_Submission.image_name+'.jpg'\n",
    "\n",
    "    predicted = np.array([np.zeros(4), np.zeros(3), np.zeros(2), np.zeros(2), np.zeros(6)], dtype=object)\n",
    "    predicted = [predicted]*df_Submission.image_name.count()\n",
    "\n",
    "    for i, row in enumerate(df_Submission.to_numpy()):\n",
    "        img = mpimg.imread(os.path.join(ImageFolderPath, row[0]))\n",
    "        img = img[:,:,:3]\n",
    "        img = np.array([img])\n",
    "        predicted[i] = model.predict(img)\n",
    "        iteration_elapsed = datetime.now()-iteration_time\n",
    "        if(iteration_elapsed.total_seconds()>5.00):\n",
    "            iteration_time = datetime.now()\n",
    "            elapsed_time = (datetime.now()-start_time)\n",
    "            estimate_to_completion = (elapsed_time/i)*(df_Submission.count()[0]-i)\n",
    "            clear_output(wait=True)\n",
    "            print('Completed\\t\\t\\t', \"{:.2f}\".format(100*i/df_Submission.image_name.count()),'%')\n",
    "            print('Elapsed time:\\t\\t', elapsed_time)\n",
    "            print('Estimate to completion:\\t', estimate_to_completion)\n",
    "\n",
    "    clear_output(wait=True)\n",
    "    print('completed 100 %')\n",
    "    elapsed_time = (datetime.now()-start_time)\n",
    "    print('Elapsed time: ', elapsed_time)\n",
    "    return predicted\n",
    "\n",
    "def GetPedictGeneratorOutput(prediction, index):\n",
    "    return [predictions[0][index], predictions[1][index], predictions[2][index], predictions[3][index], predictions[4][index]]\n",
    "\n",
    "def GetLabelsFromPrediction(ModelOutput, threshold):\n",
    "    label = \"\"\n",
    "    if(ModelOutput[1][0] > threshold):\n",
    "        label = label + \" agriculture\"\n",
    "    if(ModelOutput[4][0] > threshold):\n",
    "        label = label + \" artisinal_mine\"\n",
    "    if(ModelOutput[4][1] > threshold):\n",
    "        label = label + \" bare_ground\"\n",
    "    if(ModelOutput[4][2] > threshold):\n",
    "        label = label + \" blooming\"\n",
    "    if(ModelOutput[4][3] > threshold):\n",
    "        label = label + \" blow_down\"\n",
    "    if(ModelOutput[0][0] > threshold):\n",
    "        label = label + \" clear\"\n",
    "    if(ModelOutput[0][3] > threshold):\n",
    "        label = label + \" cloudy\"\n",
    "    if(ModelOutput[4][4] > threshold):\n",
    "        label = label + \" conventional_mine\"\n",
    "    if(ModelOutput[1][1] > threshold):\n",
    "        label = label + \" cultivation\"\n",
    "    if(ModelOutput[1][2] > threshold):\n",
    "        label = label + \" habitation\"\n",
    "    if(ModelOutput[0][1] > threshold):\n",
    "        label = label + \" haze\"\n",
    "    if(ModelOutput[0][2] > threshold):\n",
    "        label = label + \" partly_cloudy\"\n",
    "    if(ModelOutput[3][0] > threshold):\n",
    "        label = label + \" primary\"\n",
    "    if(ModelOutput[2][0] > threshold):\n",
    "        label = label + \" road\"\n",
    "    if(ModelOutput[4][5] > threshold):\n",
    "        label = label + \" selective_logging\"\n",
    "    if(ModelOutput[4][6] > threshold):\n",
    "        label = label + \" slash_burn\"\n",
    "    if(ModelOutput[2][1] > threshold):\n",
    "        label = label + \" water\"\n",
    "    return label.lstrip()\n",
    "\n",
    "\n",
    "def InsertLabels_Dataframe(df_Submission, predicted, threshold):\n",
    "    pred = []\n",
    "    for i in range(len(predicted[0])):\n",
    "        pred.append([])\n",
    "        pred[i] = [predicted[0][i], predicted[1][i], predicted[2][i], predicted[3][i], predicted[4][i]]\n",
    "    for i, ModelOutput in enumerate(pred):\n",
    "        df_Submission['tags'][i]=GetLabelsFromPrediction(ModelOutput, threshold)"
   ]
  },
  {
   "cell_type": "code",
   "execution_count": 19,
   "id": "b64b498c",
   "metadata": {
    "execution": {
     "iopub.execute_input": "2022-05-29T03:04:54.573199Z",
     "iopub.status.busy": "2022-05-29T03:04:54.572918Z",
     "iopub.status.idle": "2022-05-29T03:17:33.151477Z",
     "shell.execute_reply": "2022-05-29T03:17:33.150659Z"
    },
    "papermill": {
     "duration": 762.88025,
     "end_time": "2022-05-29T03:17:33.154219",
     "exception": false,
     "start_time": "2022-05-29T03:04:50.273969",
     "status": "completed"
    },
    "tags": []
   },
   "outputs": [
    {
     "name": "stdout",
     "output_type": "stream",
     "text": [
      "Found 61191 validated image filenames.\n",
      "1913/1913 [==============================] - 564s 293ms/step\n"
     ]
    },
    {
     "name": "stderr",
     "output_type": "stream",
     "text": [
      "/opt/conda/lib/python3.7/site-packages/ipykernel_launcher.py:19: FutureWarning: The default value of regex will change from True to False in a future version.\n"
     ]
    }
   ],
   "source": [
    "df_Submission = pd.read_csv('../input/amazon-satellite/raw-data/sample_submission_v2/sample_submission_v2.csv')\n",
    "Test_FolderPath = '../input/amazon-satellite/raw-data/test-jpg'\n",
    "\n",
    "df_Submission['image_name'] = df_Submission['image_name'] + '.jpg'\n",
    "\n",
    "validation_datagen = ImageDataGenerator(rescale=1.0/255.0)\n",
    "validation_generator = validation_datagen.flow_from_dataframe(dataframe=df_Submission,\n",
    "                                                                directory=Test_FolderPath,\n",
    "                                                                x_col=df_Submission.columns[0],\n",
    "                                                                y_col=df_Submission.columns[1:len(df_Submission.columns)],\n",
    "                                                                batch_size=32,\n",
    "                                                                class_mode='raw',\n",
    "                                                                shuffle=False,\n",
    "                                                                target_size=(256, 256))\n",
    "\n",
    "predictions = model.predict(validation_generator, verbose=1)\n",
    "InsertLabels_Dataframe(df_Submission, predictions, threshold=0.5)\n",
    "\n",
    "df_Submission['image_name'] = df_Submission['image_name'].str.replace('.jpg', '')\n",
    "df_Submission.to_csv('/kaggle/working/submission.csv', index=None)"
   ]
  }
 ],
 "metadata": {
  "kernelspec": {
   "display_name": "Python 3",
   "language": "python",
   "name": "python3"
  },
  "language_info": {
   "codemirror_mode": {
    "name": "ipython",
    "version": 3
   },
   "file_extension": ".py",
   "mimetype": "text/x-python",
   "name": "python",
   "nbconvert_exporter": "python",
   "pygments_lexer": "ipython3",
   "version": "3.7.12"
  },
  "papermill": {
   "default_parameters": {},
   "duration": 38513.307543,
   "end_time": "2022-05-29T03:17:40.853164",
   "environment_variables": {},
   "exception": null,
   "input_path": "__notebook__.ipynb",
   "output_path": "__notebook__.ipynb",
   "parameters": {},
   "start_time": "2022-05-28T16:35:47.545621",
   "version": "2.3.4"
  }
 },
 "nbformat": 4,
 "nbformat_minor": 5
}
