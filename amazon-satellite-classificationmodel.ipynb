{
 "cells": [
  {
   "cell_type": "code",
   "execution_count": 1,
   "id": "7a1ab07a",
   "metadata": {
    "execution": {
     "iopub.execute_input": "2022-05-29T16:01:22.615555Z",
     "iopub.status.busy": "2022-05-29T16:01:22.615154Z",
     "iopub.status.idle": "2022-05-29T16:01:28.684253Z",
     "shell.execute_reply": "2022-05-29T16:01:28.683448Z"
    },
    "papermill": {
     "duration": 6.09939,
     "end_time": "2022-05-29T16:01:28.686803",
     "exception": false,
     "start_time": "2022-05-29T16:01:22.587413",
     "status": "completed"
    },
    "tags": []
   },
   "outputs": [],
   "source": [
    "from datetime import datetime\n",
    "from datetime import timedelta\n",
    "import os\n",
    "import math\n",
    "import statistics\n",
    "import numpy as np\n",
    "import pandas as pd\n",
    "import matplotlib.pyplot as plt\n",
    "import matplotlib.image as mpimg\n",
    "from IPython.display import clear_output\n",
    "\n",
    "import tensorflow as tf\n",
    "from tensorflow.keras.preprocessing.image import ImageDataGenerator\n",
    "\n",
    "from tensorflow.keras.applications.inception_v3 import InceptionV3\n",
    "from tensorflow.keras.optimizers import RMSprop\n",
    "import tensorflow_addons as tfa\n",
    "\n",
    "# tf.test.is_gpu_available()\n",
    "# tf.config.list_physical_devices('GPU')"
   ]
  },
  {
   "cell_type": "markdown",
   "id": "5170c52e",
   "metadata": {
    "papermill": {
     "duration": 0.021913,
     "end_time": "2022-05-29T16:01:28.731355",
     "exception": false,
     "start_time": "2022-05-29T16:01:28.709442",
     "status": "completed"
    },
    "tags": []
   },
   "source": [
    "## Def functions: One-Hot Encoding and Split Data (Dataframe)"
   ]
  },
  {
   "cell_type": "code",
   "execution_count": 2,
   "id": "8ab7bf0f",
   "metadata": {
    "execution": {
     "iopub.execute_input": "2022-05-29T16:01:28.775411Z",
     "iopub.status.busy": "2022-05-29T16:01:28.775150Z",
     "iopub.status.idle": "2022-05-29T16:01:28.787247Z",
     "shell.execute_reply": "2022-05-29T16:01:28.786514Z"
    },
    "papermill": {
     "duration": 0.036165,
     "end_time": "2022-05-29T16:01:28.788951",
     "exception": false,
     "start_time": "2022-05-29T16:01:28.752786",
     "status": "completed"
    },
    "tags": []
   },
   "outputs": [],
   "source": [
    "def Get_ListOfLabels(df_InputLabels):\n",
    "    df_Tags = df_InputLabels.str.split(expand=True)\n",
    "    columns = len(df_Tags.columns)\n",
    "\n",
    "    for i in range(columns):\n",
    "        if i == 0:\n",
    "            df_aux = pd.DataFrame(df_Tags[0])\n",
    "        else:\n",
    "            df_aux = df_aux.append(pd.DataFrame(df_Tags[i].rename(index=0)))\n",
    "\n",
    "    LabelList = (df_aux.drop_duplicates().sort_values([0], ascending=[True]))[0].tolist()\n",
    "    LabelList = list(filter(None, LabelList))\n",
    "    return LabelList\n",
    "\n",
    "\n",
    "def Get_LabelEncodedArray(df_InputLabels, LabelList):\n",
    "    LabelArray = np.zeros((df_InputLabels.count(), len(LabelList)))\n",
    "    TagsArray = df_InputLabels.str.split(expand=True).to_numpy()\n",
    "\n",
    "    for i in range(TagsArray.shape[0]):\n",
    "        for j in range(TagsArray.shape[1]):\n",
    "            for k in range(len(LabelList)):\n",
    "                if(TagsArray[i][j]== LabelList[k]):\n",
    "                    LabelArray[i][k] = 1\n",
    "\n",
    "    return LabelArray\n",
    "\n",
    "def OneHotToStringLabels(OneHotArray, LabelList, delimiter):\n",
    "    string_labels = \"\"\n",
    "    if(len(OneHotArray)!=len(LabelList)):\n",
    "        raise Exception(\"OneHotArray does not match LabelList len/size\")\n",
    "\n",
    "    for i in range(len(OneHotArray)):\n",
    "        if(OneHotArray[i] == 1.0):\n",
    "            if(string_labels == \"\"):\n",
    "                string_labels = LabelList[i]\n",
    "            else:\n",
    "                string_labels = string_labels+delimiter+LabelList[i]\n",
    "    return string_labels\n",
    "\n",
    "def SplitData(df_Dataset, Ratio):\n",
    "\n",
    "    df_TrainData = pd.DataFrame(df_Dataset).sample(round(Ratio * df_Dataset['filename'].count()))\n",
    "\n",
    "    df_ValData = pd.DataFrame(df_Dataset)\n",
    "    condition = df_ValData['filename'].isin(df_TrainData['filename'])\n",
    "    df_ValData = df_ValData.drop(df_ValData[condition].index)\n",
    "\n",
    "    return df_TrainData, df_ValData"
   ]
  },
  {
   "cell_type": "markdown",
   "id": "95e49ba3",
   "metadata": {
    "papermill": {
     "duration": 0.021148,
     "end_time": "2022-05-29T16:01:28.831614",
     "exception": false,
     "start_time": "2022-05-29T16:01:28.810466",
     "status": "completed"
    },
    "tags": []
   },
   "source": [
    "### **Encoding labels:** One-Hot"
   ]
  },
  {
   "cell_type": "code",
   "execution_count": 3,
   "id": "1b43a6fe",
   "metadata": {
    "execution": {
     "iopub.execute_input": "2022-05-29T16:01:28.875747Z",
     "iopub.status.busy": "2022-05-29T16:01:28.875082Z",
     "iopub.status.idle": "2022-05-29T16:01:33.962537Z",
     "shell.execute_reply": "2022-05-29T16:01:33.961798Z"
    },
    "papermill": {
     "duration": 5.112008,
     "end_time": "2022-05-29T16:01:33.964954",
     "exception": false,
     "start_time": "2022-05-29T16:01:28.852946",
     "status": "completed"
    },
    "tags": []
   },
   "outputs": [],
   "source": [
    "source_path = \"../input/amazon-satellite/raw-data\"\n",
    "source_path_Labels = os.path.join(source_path, 'train_v2.csv')\n",
    "source_path_Images = os.path.join(source_path, 'train-jpg')\n",
    "\n",
    "df_Raw = pd.read_csv(source_path_Labels)\n",
    "LabelList = Get_ListOfLabels(df_Raw.tags)\n",
    "\n",
    "Get_LabelEncodedArray(df_Raw.tags, LabelList)\n",
    "df_Dataset = pd.DataFrame(Get_LabelEncodedArray(df_Raw.tags, LabelList), columns=LabelList)\n",
    "df_Dataset['filename'] = df_Raw.image_name.to_list()\n",
    "df_Dataset['filename'] = df_Dataset['filename']+'.jpg'\n",
    "df_Dataset = df_Dataset.loc[: , ['filename']+LabelList]"
   ]
  },
  {
   "cell_type": "markdown",
   "id": "56a3da8b",
   "metadata": {
    "papermill": {
     "duration": 0.022488,
     "end_time": "2022-05-29T16:01:34.011208",
     "exception": false,
     "start_time": "2022-05-29T16:01:33.988720",
     "status": "completed"
    },
    "tags": []
   },
   "source": [
    "## Data Exploration\n",
    "- Finding correlation between classes/labels and mutual exclusivity"
   ]
  },
  {
   "cell_type": "code",
   "execution_count": 4,
   "id": "a999cf67",
   "metadata": {
    "execution": {
     "iopub.execute_input": "2022-05-29T16:01:34.055374Z",
     "iopub.status.busy": "2022-05-29T16:01:34.055132Z",
     "iopub.status.idle": "2022-05-29T16:01:34.110403Z",
     "shell.execute_reply": "2022-05-29T16:01:34.109685Z"
    },
    "papermill": {
     "duration": 0.081239,
     "end_time": "2022-05-29T16:01:34.114025",
     "exception": false,
     "start_time": "2022-05-29T16:01:34.032786",
     "status": "completed"
    },
    "tags": []
   },
   "outputs": [
    {
     "name": "stdout",
     "output_type": "stream",
     "text": [
      "                   agriculture  artisinal_mine  bare_ground  blooming  \\\n",
      "agriculture           1.000000             NaN          NaN       NaN   \n",
      "artisinal_mine             NaN             1.0          NaN       NaN   \n",
      "bare_ground                NaN             NaN          1.0       NaN   \n",
      "blooming                   NaN             NaN          NaN       1.0   \n",
      "blow_down                  NaN             NaN          NaN       NaN   \n",
      "clear                      NaN             NaN          NaN       NaN   \n",
      "cloudy                     NaN             NaN          NaN       NaN   \n",
      "conventional_mine          NaN             NaN          NaN       NaN   \n",
      "cultivation           0.344964             NaN          NaN       NaN   \n",
      "habitation            0.303979             NaN          NaN       NaN   \n",
      "haze                       NaN             NaN          NaN       NaN   \n",
      "partly_cloudy              NaN             NaN          NaN       NaN   \n",
      "primary                    NaN             NaN          NaN       NaN   \n",
      "road                  0.480930             NaN          NaN       NaN   \n",
      "selective_logging          NaN             NaN          NaN       NaN   \n",
      "slash_burn                 NaN             NaN          NaN       NaN   \n",
      "water                      NaN             NaN          NaN       NaN   \n",
      "\n",
      "                   blow_down  clear  cloudy  conventional_mine  cultivation  \\\n",
      "agriculture              NaN    NaN     NaN                NaN     0.344964   \n",
      "artisinal_mine           NaN    NaN     NaN                NaN          NaN   \n",
      "bare_ground              NaN    NaN     NaN                NaN          NaN   \n",
      "blooming                 NaN    NaN     NaN                NaN          NaN   \n",
      "blow_down                1.0    NaN     NaN                NaN          NaN   \n",
      "clear                    NaN    1.0     NaN                NaN          NaN   \n",
      "cloudy                   NaN    NaN     1.0                NaN          NaN   \n",
      "conventional_mine        NaN    NaN     NaN                1.0          NaN   \n",
      "cultivation              NaN    NaN     NaN                NaN     1.000000   \n",
      "habitation               NaN    NaN     NaN                NaN          NaN   \n",
      "haze                     NaN    NaN     NaN                NaN          NaN   \n",
      "partly_cloudy            NaN    NaN     NaN                NaN          NaN   \n",
      "primary                  NaN    NaN     NaN                NaN          NaN   \n",
      "road                     NaN    NaN     NaN                NaN          NaN   \n",
      "selective_logging        NaN    NaN     NaN                NaN          NaN   \n",
      "slash_burn               NaN    NaN     NaN                NaN          NaN   \n",
      "water                    NaN    NaN     NaN                NaN          NaN   \n",
      "\n",
      "                   habitation  haze  partly_cloudy  primary      road  \\\n",
      "agriculture          0.303979   NaN            NaN      NaN  0.480930   \n",
      "artisinal_mine            NaN   NaN            NaN      NaN       NaN   \n",
      "bare_ground               NaN   NaN            NaN      NaN       NaN   \n",
      "blooming                  NaN   NaN            NaN      NaN       NaN   \n",
      "blow_down                 NaN   NaN            NaN      NaN       NaN   \n",
      "clear                     NaN   NaN            NaN      NaN       NaN   \n",
      "cloudy                    NaN   NaN            NaN      NaN       NaN   \n",
      "conventional_mine         NaN   NaN            NaN      NaN       NaN   \n",
      "cultivation               NaN   NaN            NaN      NaN       NaN   \n",
      "habitation           1.000000   NaN            NaN      NaN  0.443341   \n",
      "haze                      NaN   1.0            NaN      NaN       NaN   \n",
      "partly_cloudy             NaN   NaN            1.0      NaN       NaN   \n",
      "primary                   NaN   NaN            NaN      1.0       NaN   \n",
      "road                 0.443341   NaN            NaN      NaN  1.000000   \n",
      "selective_logging         NaN   NaN            NaN      NaN       NaN   \n",
      "slash_burn                NaN   NaN            NaN      NaN       NaN   \n",
      "water                     NaN   NaN            NaN      NaN       NaN   \n",
      "\n",
      "                   selective_logging  slash_burn  water  \n",
      "agriculture                      NaN         NaN    NaN  \n",
      "artisinal_mine                   NaN         NaN    NaN  \n",
      "bare_ground                      NaN         NaN    NaN  \n",
      "blooming                         NaN         NaN    NaN  \n",
      "blow_down                        NaN         NaN    NaN  \n",
      "clear                            NaN         NaN    NaN  \n",
      "cloudy                           NaN         NaN    NaN  \n",
      "conventional_mine                NaN         NaN    NaN  \n",
      "cultivation                      NaN         NaN    NaN  \n",
      "habitation                       NaN         NaN    NaN  \n",
      "haze                             NaN         NaN    NaN  \n",
      "partly_cloudy                    NaN         NaN    NaN  \n",
      "primary                          NaN         NaN    NaN  \n",
      "road                             NaN         NaN    NaN  \n",
      "selective_logging                1.0         NaN    NaN  \n",
      "slash_burn                       NaN         1.0    NaN  \n",
      "water                            NaN         NaN    1.0  \n"
     ]
    }
   ],
   "source": [
    "# Find labels with high correlation\n",
    "df_corr = df_Dataset.corr()\n",
    "print(df_corr[df_corr>0.3])"
   ]
  },
  {
   "cell_type": "code",
   "execution_count": 5,
   "id": "86239ee0",
   "metadata": {
    "execution": {
     "iopub.execute_input": "2022-05-29T16:01:34.161224Z",
     "iopub.status.busy": "2022-05-29T16:01:34.160581Z",
     "iopub.status.idle": "2022-05-29T16:01:34.206289Z",
     "shell.execute_reply": "2022-05-29T16:01:34.205528Z"
    },
    "papermill": {
     "duration": 0.070993,
     "end_time": "2022-05-29T16:01:34.208816",
     "exception": false,
     "start_time": "2022-05-29T16:01:34.137823",
     "status": "completed"
    },
    "tags": []
   },
   "outputs": [
    {
     "name": "stdout",
     "output_type": "stream",
     "text": [
      "                   agriculture  artisinal_mine  bare_ground  blooming  \\\n",
      "agriculture                NaN             NaN          NaN       NaN   \n",
      "artisinal_mine             NaN             NaN          NaN       NaN   \n",
      "bare_ground                NaN             NaN          NaN       NaN   \n",
      "blooming                   NaN             NaN          NaN       NaN   \n",
      "blow_down                  NaN             NaN          NaN       NaN   \n",
      "clear                      NaN             NaN          NaN       NaN   \n",
      "cloudy                     NaN             NaN          NaN       NaN   \n",
      "conventional_mine          NaN             NaN          NaN       NaN   \n",
      "cultivation                NaN             NaN          NaN       NaN   \n",
      "habitation                 NaN             NaN          NaN       NaN   \n",
      "haze                       NaN             NaN          NaN       NaN   \n",
      "partly_cloudy              NaN             NaN          NaN       NaN   \n",
      "primary                    NaN             NaN          NaN       NaN   \n",
      "road                       NaN             NaN          NaN       NaN   \n",
      "selective_logging          NaN             NaN          NaN       NaN   \n",
      "slash_burn                 NaN             NaN          NaN       NaN   \n",
      "water                      NaN             NaN          NaN       NaN   \n",
      "\n",
      "                   blow_down     clear    cloudy  conventional_mine  \\\n",
      "agriculture              NaN       NaN       NaN                NaN   \n",
      "artisinal_mine           NaN       NaN       NaN                NaN   \n",
      "bare_ground              NaN       NaN       NaN                NaN   \n",
      "blooming                 NaN       NaN       NaN                NaN   \n",
      "blow_down                NaN       NaN       NaN                NaN   \n",
      "clear                    NaN       NaN -0.358343                NaN   \n",
      "cloudy                   NaN -0.358343       NaN                NaN   \n",
      "conventional_mine        NaN       NaN       NaN                NaN   \n",
      "cultivation              NaN       NaN       NaN                NaN   \n",
      "habitation               NaN       NaN       NaN                NaN   \n",
      "haze                     NaN -0.410428       NaN                NaN   \n",
      "partly_cloudy            NaN -0.718208       NaN                NaN   \n",
      "primary                  NaN       NaN -0.829594                NaN   \n",
      "road                     NaN       NaN       NaN                NaN   \n",
      "selective_logging        NaN       NaN       NaN                NaN   \n",
      "slash_burn               NaN       NaN       NaN                NaN   \n",
      "water                    NaN       NaN       NaN                NaN   \n",
      "\n",
      "                   cultivation  habitation      haze  partly_cloudy   primary  \\\n",
      "agriculture                NaN         NaN       NaN            NaN       NaN   \n",
      "artisinal_mine             NaN         NaN       NaN            NaN       NaN   \n",
      "bare_ground                NaN         NaN       NaN            NaN       NaN   \n",
      "blooming                   NaN         NaN       NaN            NaN       NaN   \n",
      "blow_down                  NaN         NaN       NaN            NaN       NaN   \n",
      "clear                      NaN         NaN -0.410428      -0.718208       NaN   \n",
      "cloudy                     NaN         NaN       NaN            NaN -0.829594   \n",
      "conventional_mine          NaN         NaN       NaN            NaN       NaN   \n",
      "cultivation                NaN         NaN       NaN            NaN       NaN   \n",
      "habitation                 NaN         NaN       NaN            NaN       NaN   \n",
      "haze                       NaN         NaN       NaN            NaN       NaN   \n",
      "partly_cloudy              NaN         NaN       NaN            NaN       NaN   \n",
      "primary                    NaN         NaN       NaN            NaN       NaN   \n",
      "road                       NaN         NaN       NaN            NaN       NaN   \n",
      "selective_logging          NaN         NaN       NaN            NaN       NaN   \n",
      "slash_burn                 NaN         NaN       NaN            NaN       NaN   \n",
      "water                      NaN         NaN       NaN            NaN       NaN   \n",
      "\n",
      "                   road  selective_logging  slash_burn  water  \n",
      "agriculture         NaN                NaN         NaN    NaN  \n",
      "artisinal_mine      NaN                NaN         NaN    NaN  \n",
      "bare_ground         NaN                NaN         NaN    NaN  \n",
      "blooming            NaN                NaN         NaN    NaN  \n",
      "blow_down           NaN                NaN         NaN    NaN  \n",
      "clear               NaN                NaN         NaN    NaN  \n",
      "cloudy              NaN                NaN         NaN    NaN  \n",
      "conventional_mine   NaN                NaN         NaN    NaN  \n",
      "cultivation         NaN                NaN         NaN    NaN  \n",
      "habitation          NaN                NaN         NaN    NaN  \n",
      "haze                NaN                NaN         NaN    NaN  \n",
      "partly_cloudy       NaN                NaN         NaN    NaN  \n",
      "primary             NaN                NaN         NaN    NaN  \n",
      "road                NaN                NaN         NaN    NaN  \n",
      "selective_logging   NaN                NaN         NaN    NaN  \n",
      "slash_burn          NaN                NaN         NaN    NaN  \n",
      "water               NaN                NaN         NaN    NaN  \n"
     ]
    }
   ],
   "source": [
    "# Find labels with low correlation\n",
    "df_corr = df_Dataset.corr()\n",
    "print(df_corr[df_corr<-0.2])"
   ]
  },
  {
   "cell_type": "code",
   "execution_count": 6,
   "id": "0c508005",
   "metadata": {
    "execution": {
     "iopub.execute_input": "2022-05-29T16:01:34.257809Z",
     "iopub.status.busy": "2022-05-29T16:01:34.257551Z",
     "iopub.status.idle": "2022-05-29T16:01:34.292466Z",
     "shell.execute_reply": "2022-05-29T16:01:34.291330Z"
    },
    "papermill": {
     "duration": 0.061361,
     "end_time": "2022-05-29T16:01:34.294284",
     "exception": false,
     "start_time": "2022-05-29T16:01:34.232923",
     "status": "completed"
    },
    "tags": []
   },
   "outputs": [
    {
     "name": "stdout",
     "output_type": "stream",
     "text": [
      "Images labelled as clear AND haze:\t\t\t0\n",
      "Images labelled as clear AND partly_cloudy:\t\t0\n",
      "Images labelled as clear AND cloudy:\t\t\t0\n",
      "Images labelled as haze AND partly_cloudy:\t\t0\n",
      "Images labelled as haze AND cloudy:\t\t\t0\n",
      "Images labelled as partly_cloudy AND cloudy:\t\t0\n",
      "\n",
      "Images with any of these 4 labels:\t40478\n",
      "Images without any of these 4 labels:\t1\n",
      "total number of images:\t\t\t40479\n"
     ]
    }
   ],
   "source": [
    "# Verify mutual exclusivity of 4 labels: clear, haze, partly_cloudy, cloudy\n",
    "\n",
    "print('Images labelled as clear AND haze:\\t\\t\\t'+str(df_Dataset.loc[(df_Dataset['clear']==1.0) & (df_Dataset['haze']==1.0)]['filename'].count()))\n",
    "print('Images labelled as clear AND partly_cloudy:\\t\\t'+str(df_Dataset.loc[(df_Dataset['clear']==1.0) & (df_Dataset['partly_cloudy']==1.0)]['filename'].count()))\n",
    "print('Images labelled as clear AND cloudy:\\t\\t\\t'+str(df_Dataset.loc[(df_Dataset['clear']==1.0) & (df_Dataset['cloudy']==1.0)]['filename'].count()))\n",
    "print('Images labelled as haze AND partly_cloudy:\\t\\t'+str(df_Dataset.loc[(df_Dataset['haze']==1.0) & (df_Dataset['partly_cloudy']==1.0)]['filename'].count()))\n",
    "print('Images labelled as haze AND cloudy:\\t\\t\\t'+str(df_Dataset.loc[(df_Dataset['haze']==1.0) & (df_Dataset['cloudy']==1.0)]['filename'].count()))\n",
    "print('Images labelled as partly_cloudy AND cloudy:\\t\\t'+str(df_Dataset.loc[(df_Dataset['partly_cloudy']==1.0) & (df_Dataset['cloudy']==1.0)]['filename'].count()))\n",
    "\n",
    "print('\\nImages with any of these 4 labels:\\t'+str(df_Dataset.loc[(df_Dataset['clear']==1.0) | (df_Dataset['haze']==1.0) | (df_Dataset['partly_cloudy']==1.0) | (df_Dataset['cloudy']==1.0)]['filename'].count()))\n",
    "print('Images without any of these 4 labels:\\t'+str(df_Dataset.loc[~((df_Dataset['clear']==1.0) | (df_Dataset['haze']==1.0) | (df_Dataset['partly_cloudy']==1.0) | (df_Dataset['cloudy']==1.0))]['filename'].count()))\n",
    "print('total number of images:\\t\\t\\t'+str(df_Raw.tags.count()))"
   ]
  },
  {
   "cell_type": "code",
   "execution_count": 7,
   "id": "19de71a3",
   "metadata": {
    "execution": {
     "iopub.execute_input": "2022-05-29T16:01:34.340954Z",
     "iopub.status.busy": "2022-05-29T16:01:34.340742Z",
     "iopub.status.idle": "2022-05-29T16:01:34.350378Z",
     "shell.execute_reply": "2022-05-29T16:01:34.349018Z"
    },
    "papermill": {
     "duration": 0.035456,
     "end_time": "2022-05-29T16:01:34.352868",
     "exception": false,
     "start_time": "2022-05-29T16:01:34.317412",
     "status": "completed"
    },
    "tags": []
   },
   "outputs": [
    {
     "name": "stdout",
     "output_type": "stream",
     "text": [
      "Images labelled as artisinal_mine AND conventional_mine: 4\n",
      "Images labelled as artisinal_mine OR conventional_mine: 435\n"
     ]
    }
   ],
   "source": [
    "# Verify mutual exclusivity of 4 labels: artisinal_mine and conventional_mine\n",
    "\n",
    "print('Images labelled as artisinal_mine AND conventional_mine: '+str(df_Dataset.loc[(df_Dataset['artisinal_mine']==1.0) & (df_Dataset['conventional_mine']==1.0)]['filename'].count()))\n",
    "print('Images labelled as artisinal_mine OR conventional_mine: '+str(df_Dataset.loc[(df_Dataset['artisinal_mine']==1.0) | (df_Dataset['conventional_mine']==1.0)]['filename'].count()))"
   ]
  },
  {
   "cell_type": "markdown",
   "id": "a6b1586f",
   "metadata": {
    "papermill": {
     "duration": 0.022801,
     "end_time": "2022-05-29T16:01:34.400306",
     "exception": false,
     "start_time": "2022-05-29T16:01:34.377505",
     "status": "completed"
    },
    "tags": []
   },
   "source": [
    "## Training and Validation Generators\n",
    "\n",
    "Now that you know the images you are dealing with, it is time for you to code the generators that will fed these images to your Network. For this, complete the `train_val_generators` function below:\n",
    "\n",
    "**Important Note:** The images have a resolution of 256x256 but the `flow_from_dataframe` method you will use allows you to set a target resolution. Lower resolution may yield much quicker training times without compromising the accuracy!"
   ]
  },
  {
   "cell_type": "code",
   "execution_count": 8,
   "id": "a3742e19",
   "metadata": {
    "execution": {
     "iopub.execute_input": "2022-05-29T16:01:34.448536Z",
     "iopub.status.busy": "2022-05-29T16:01:34.448283Z",
     "iopub.status.idle": "2022-05-29T16:01:34.468487Z",
     "shell.execute_reply": "2022-05-29T16:01:34.467757Z"
    },
    "papermill": {
     "duration": 0.046828,
     "end_time": "2022-05-29T16:01:34.470292",
     "exception": false,
     "start_time": "2022-05-29T16:01:34.423464",
     "status": "completed"
    },
    "tags": []
   },
   "outputs": [],
   "source": [
    "def generate_generator_multiple(generator, directory, df1, df2, df3, df4, df5, batch_size, target_size):\n",
    "    genX1 = generator.flow_from_dataframe(dataframe = df1,\n",
    "                                          directory=directory,\n",
    "                                          x_col=df1.columns[0],\n",
    "                                          y_col=df1.columns[1:len(df1.columns)],\n",
    "                                          target_size = target_size,\n",
    "                                          class_mode = 'raw',\n",
    "                                          batch_size = batch_size,\n",
    "                                          shuffle=False, \n",
    "                                          seed=7)\n",
    "    \n",
    "    genX2 = generator.flow_from_dataframe(dataframe = df2,\n",
    "                                          directory=directory,\n",
    "                                          x_col=df2.columns[0],\n",
    "                                          y_col=df2.columns[1:len(df2.columns)],\n",
    "                                          target_size = target_size,\n",
    "                                          class_mode = 'raw',\n",
    "                                          batch_size = batch_size,\n",
    "                                          shuffle=False, \n",
    "                                          seed=7)\n",
    "    \n",
    "    genX3 = generator.flow_from_dataframe(dataframe = df3,\n",
    "                                          directory=directory,\n",
    "                                          x_col=df3.columns[0],\n",
    "                                          y_col=df3.columns[1:len(df3.columns)],\n",
    "                                          target_size = target_size,\n",
    "                                          class_mode = 'raw',\n",
    "                                          batch_size = batch_size,\n",
    "                                          shuffle=False, \n",
    "                                          seed=7)\n",
    "    \n",
    "    genX4 = generator.flow_from_dataframe(dataframe = df4,\n",
    "                                          directory=directory,\n",
    "                                          x_col=df4.columns[0],\n",
    "                                          y_col=df4.columns[1:len(df4.columns)],\n",
    "                                          target_size = target_size,\n",
    "                                          class_mode = 'raw',\n",
    "                                          batch_size = batch_size,\n",
    "                                          shuffle=False, \n",
    "                                          seed=7)\n",
    "    \n",
    "    genX5 = generator.flow_from_dataframe(dataframe = df5,\n",
    "                                          directory=directory,\n",
    "                                          x_col=df5.columns[0],\n",
    "                                          y_col=df5.columns[1:len(df5.columns)],\n",
    "                                          target_size = target_size,\n",
    "                                          class_mode = 'raw',\n",
    "                                          batch_size = batch_size,\n",
    "                                          shuffle=False, \n",
    "                                          seed=7)\n",
    "    \n",
    "    for i in range(df1['filename'].count()):\n",
    "            X1i = genX1.next()\n",
    "            X2i = genX2.next()\n",
    "            X3i = genX3.next()\n",
    "            X4i = genX4.next()\n",
    "            X5i = genX5.next()\n",
    "            yield X1i[0],[X1i[1], X2i[1], X3i[1], X4i[1], X5i[1]]\n",
    "\n",
    "\n",
    "            \n",
    "            \n",
    "            \n",
    "# Get Data Generators\n",
    "def train_val_generators(DIRECTORY, df_Train, df_Validation):\n",
    "    \n",
    "  # Instantiate the ImageDataGenerator class \n",
    "  # Don't forget to normalize pixel values and set arguments to augment the images \n",
    "  train_datagen = ImageDataGenerator(rescale=1.0/255.0,\n",
    "                                     rotation_range=30,\n",
    "                                     width_shift_range=0.2,\n",
    "                                     height_shift_range=0.2,\n",
    "                                     zoom_range=0.1,\n",
    "                                     horizontal_flip=True,\n",
    "                                     fill_mode='nearest')\n",
    "\n",
    "# create generator\n",
    "  df_vis = df_Train.loc[:, ['filename', 'clear', 'haze', 'partly_cloudy', 'cloudy']]\n",
    "  df_hum = df_Train.loc[:, ['filename', 'agriculture', 'cultivation', 'habitation']]\n",
    "  df_rw  = df_Train.loc[:, ['filename', 'road', 'water']]\n",
    "  df_prim = df_Train.loc[:, ['filename', 'primary']]\n",
    "  df_rem = df_Train.loc[:, ['filename', 'artisinal_mine', 'bare_ground', 'blooming', 'blow_down', 'conventional_mine', 'selective_logging', 'slash_burn']]\n",
    "\n",
    "  train_generator = generate_generator_multiple(train_datagen, DIRECTORY, df_vis, df_hum, df_rw, df_prim, df_rem, 32, (256, 256))\n",
    "    \n",
    "#   train_generator = train_datagen.flow_from_dataframe(dataframe=df_Train,\n",
    "#                                                       directory=DIRECTORY,\n",
    "#                                                       x_col=df_Train.columns[0],\n",
    "#                                                       y_col=df_Train.columns[1:len(df_Train.columns)],\n",
    "#                                                       batch_size=32, \n",
    "#                                                       class_mode='raw',\n",
    "#                                                       target_size=(256, 256))\n",
    "\n",
    "  # Instantiate the ImageDataGenerator class (set the rescale argument)\n",
    "  # Validation data not augmented\n",
    "  validation_datagen = ImageDataGenerator(rescale=1.0/255.0)\n",
    "    \n",
    "  df_vis = df_ValData.loc[:, ['filename', 'clear', 'haze', 'partly_cloudy', 'cloudy']]\n",
    "  df_hum = df_ValData.loc[:, ['filename', 'agriculture', 'cultivation', 'habitation']]\n",
    "  df_rw  = df_ValData.loc[:, ['filename', 'road', 'water']]\n",
    "  df_prim = df_ValData.loc[:, ['filename', 'primary']]\n",
    "  df_rem = df_ValData.loc[:, ['filename', 'artisinal_mine', 'bare_ground', 'blooming', 'blow_down', 'conventional_mine', 'selective_logging', 'slash_burn']]\n",
    "\n",
    "  validation_generator = generate_generator_multiple(validation_datagen, DIRECTORY, df_vis, df_hum, df_rw, df_prim, df_rem, 32, (256, 256))\n",
    "  \n",
    "#   flow_from_dataframe method\n",
    "#   validation_generator = validation_datagen.flow_from_dataframe(dataframe=df_Validation,\n",
    "#                                                                 directory=DIRECTORY,\n",
    "#                                                                 x_col=df_ValData.columns[0],\n",
    "#                                                                 y_col=df_ValData.columns[1:len(df_ValData.columns)],\n",
    "#                                                                 batch_size=32,\n",
    "#                                                                 class_mode='raw',\n",
    "#                                                                 target_size=(256, 256))\n",
    "  return train_generator, validation_generator"
   ]
  },
  {
   "cell_type": "code",
   "execution_count": 9,
   "id": "f3bd8055",
   "metadata": {
    "execution": {
     "iopub.execute_input": "2022-05-29T16:01:34.517843Z",
     "iopub.status.busy": "2022-05-29T16:01:34.517615Z",
     "iopub.status.idle": "2022-05-29T16:01:34.561177Z",
     "shell.execute_reply": "2022-05-29T16:01:34.560458Z"
    },
    "papermill": {
     "duration": 0.069799,
     "end_time": "2022-05-29T16:01:34.563347",
     "exception": false,
     "start_time": "2022-05-29T16:01:34.493548",
     "status": "completed"
    },
    "tags": []
   },
   "outputs": [],
   "source": [
    "# Split Data\n",
    "TrainToValidation_DataSize_Ratio = 0.6\n",
    "df_TrainData, df_ValData = SplitData(df_Dataset, TrainToValidation_DataSize_Ratio)\n",
    "\n",
    "# Test Generators\n",
    "train_generator, validation_generator = train_val_generators(source_path_Images, df_TrainData, df_ValData)"
   ]
  },
  {
   "cell_type": "markdown",
   "id": "f56e5436",
   "metadata": {
    "papermill": {
     "duration": 0.037702,
     "end_time": "2022-05-29T16:01:34.625658",
     "exception": false,
     "start_time": "2022-05-29T16:01:34.587956",
     "status": "completed"
    },
    "tags": []
   },
   "source": [
    "## Test Image Data Generator and Label Encoding\n",
    "- Verify if functions are working and visualize data"
   ]
  },
  {
   "cell_type": "code",
   "execution_count": 10,
   "id": "e13524ea",
   "metadata": {
    "execution": {
     "iopub.execute_input": "2022-05-29T16:01:34.730319Z",
     "iopub.status.busy": "2022-05-29T16:01:34.729952Z",
     "iopub.status.idle": "2022-05-29T16:01:34.733995Z",
     "shell.execute_reply": "2022-05-29T16:01:34.733303Z"
    },
    "papermill": {
     "duration": 0.056397,
     "end_time": "2022-05-29T16:01:34.738728",
     "exception": false,
     "start_time": "2022-05-29T16:01:34.682331",
     "status": "completed"
    },
    "tags": []
   },
   "outputs": [],
   "source": [
    "# data_index = 0\n",
    "\n",
    "# print(pd.DataFrame(np.array([LabelList, validation_generator.labels[data_index]]).transpose()).to_string(index=False))\n",
    "# print(\"\\nFile name:\\t\"+validation_generator.filenames[data_index])\n",
    "# print(\"Labels:\\t\\t\"+OneHotToStringLabels(validation_generator.labels[data_index], LabelList, ' ')+'\\n')\n",
    "\n",
    "# img = mpimg.imread(os.path.join(source_path_Images, validation_generator.filenames[data_index]))\n",
    "# img = img[:,:,:3]\n",
    "# plt.imshow(img)"
   ]
  },
  {
   "cell_type": "markdown",
   "id": "da80a1d1",
   "metadata": {
    "papermill": {
     "duration": 0.039967,
     "end_time": "2022-05-29T16:01:34.819782",
     "exception": false,
     "start_time": "2022-05-29T16:01:34.779815",
     "status": "completed"
    },
    "tags": []
   },
   "source": [
    "## Model Definition\n",
    "- Import InceptionV3 weights and define layers connected\n",
    "- Import VGG19 weights and define layers connected"
   ]
  },
  {
   "cell_type": "code",
   "execution_count": 11,
   "id": "797ef80a",
   "metadata": {
    "execution": {
     "iopub.execute_input": "2022-05-29T16:01:34.900888Z",
     "iopub.status.busy": "2022-05-29T16:01:34.900587Z",
     "iopub.status.idle": "2022-05-29T16:01:34.944214Z",
     "shell.execute_reply": "2022-05-29T16:01:34.943520Z"
    },
    "papermill": {
     "duration": 0.087286,
     "end_time": "2022-05-29T16:01:34.946554",
     "exception": false,
     "start_time": "2022-05-29T16:01:34.859268",
     "status": "completed"
    },
    "tags": []
   },
   "outputs": [],
   "source": [
    "from tensorflow.keras.optimizers import RMSprop\n",
    "from tensorflow.keras.optimizers import Adam\n",
    "import tensorflow_addons as tfa\n",
    "\n",
    "def create_model():\n",
    "    \n",
    "    Input = tf.keras.Input(shape=(256, 256, 3))\n",
    "    \n",
    "#     #Load InceptionResNetV2 Model\n",
    "    Model_1 = tf.keras.applications.InceptionResNetV2(input_tensor = Input, include_top = False, weights=\"imagenet\")\n",
    "    #Make all layers on InceptionResNetV2 trainable\n",
    "    for layer in Model_1.layers:\n",
    "        layer.trainable = True\n",
    "    x_Model_1 = Model_1(Input)\n",
    "    x_Model_1_Flat = tf.keras.layers.Flatten(name='Flatten_Model_1')(x_Model_1)\n",
    "    \n",
    "    \n",
    "#     #Load VGG19 Model\n",
    "    Model_2 = tf.keras.applications.VGG19(input_tensor = Input, include_top=False, weights=\"imagenet\")\n",
    "    #Make all layers on VGG19 trainable\n",
    "    for layer in Model_2.layers:\n",
    "            layer.trainable = True\n",
    "    x_Model_2 = Model_2(Input)\n",
    "    x_Model_2_Flat = tf.keras.layers.Flatten(name='Flatten_Model_2')(x_Model_2)\n",
    "    \n",
    "    \n",
    "    x_Top = tf.keras.layers.Concatenate(name='ConcatenateFlatten_Layer')([x_Model_1_Flat, x_Model_2_Flat])\n",
    "    x_Top = tf.keras.layers.Dense(1024)(x_Top)\n",
    "    \n",
    "    #Define Visibility Branch\n",
    "    # x_vis[0] -> clear\n",
    "    # x_vis[1] -> haze\n",
    "    # x_vis[2] -> partly_cloudy\n",
    "    # x_vis[3] -> cloudy\n",
    "    x_vis = tf.keras.layers.Dense(512, activation='relu')(x_Top)\n",
    "    x_vis = tf.keras.layers.BatchNormalization()(x_vis)\n",
    "    x_vis = tf.keras.layers.Dropout(0.2)(x_vis)\n",
    "    x_vis = tf.keras.layers.Dense(512, activation='relu')(x_vis)\n",
    "    x_vis = tf.keras.layers.BatchNormalization()(x_vis)\n",
    "    x_vis = tf.keras.layers.Dropout(0.4)(x_vis)\n",
    "    x_vis = tf.keras.layers.Dense(256, activation='relu')(x_vis)\n",
    "    x_vis = tf.keras.layers.BatchNormalization()(x_vis)\n",
    "    x_vis = tf.keras.layers.Dropout(0.4)(x_vis)\n",
    "    x_vis = tf.keras.layers.Dense(4, activation='softmax', name = 'visibility')(x_vis)\n",
    "    \n",
    "    #Define Human Activity Branch\n",
    "    # x_hum[0] -> agriculture\n",
    "    # x_hum[1] -> cultivation\n",
    "    # x_hum[2] -> habitation\n",
    "    x_hum = tf.keras.layers.Dense(512, activation='relu')(x_Top)\n",
    "    x_hum = tf.keras.layers.BatchNormalization()(x_hum)\n",
    "    x_hum = tf.keras.layers.Dropout(0.2)(x_hum)\n",
    "    x_hum = tf.keras.layers.Dense(512, activation='relu')(x_hum)\n",
    "    x_hum = tf.keras.layers.BatchNormalization()(x_hum)\n",
    "    x_hum = tf.keras.layers.Dropout(0.4)(x_hum)\n",
    "    x_hum = tf.keras.layers.Dense(256, activation='relu')(x_hum)\n",
    "    x_hum = tf.keras.layers.BatchNormalization()(x_hum)\n",
    "    x_hum = tf.keras.layers.Dropout(0.4)(x_hum)\n",
    "    x_hum = tf.keras.layers.Dense(3, activation='sigmoid', name='human_activity')(x_hum)\n",
    "    \n",
    "    #Define Track Branch (Road or Water)\n",
    "    # x_rw[0] -> road\n",
    "    # x_rw[1] -> water\n",
    "    x_rw = tf.keras.layers.Dense(512, activation='relu')(x_Top)\n",
    "    x_rw = tf.keras.layers.BatchNormalization()(x_rw)\n",
    "    x_rw = tf.keras.layers.Dropout(0.2)(x_rw)\n",
    "    x_rw = tf.keras.layers.Dense(512, activation='relu')(x_rw)\n",
    "    x_rw = tf.keras.layers.BatchNormalization()(x_rw)\n",
    "    x_rw = tf.keras.layers.Dropout(0.4)(x_rw)\n",
    "    x_rw = tf.keras.layers.Dense(256, activation='relu')(x_rw)\n",
    "    x_rw = tf.keras.layers.BatchNormalization()(x_rw)\n",
    "    x_rw = tf.keras.layers.Dropout(0.4)(x_rw)\n",
    "    x_rw = tf.keras.layers.Dense(2, activation='sigmoid', name='road_water')(x_rw)\n",
    "    \n",
    "    #Define Primary Branch\n",
    "    #x_primary[0] -> primary\n",
    "    x_prim = tf.keras.layers.Dense(512, activation='relu')(x_Top)\n",
    "    x_prim = tf.keras.layers.BatchNormalization()(x_prim)\n",
    "    x_prim = tf.keras.layers.Dropout(0.2)(x_prim)\n",
    "    x_prim = tf.keras.layers.Dense(512, activation='relu')(x_prim)\n",
    "    x_prim = tf.keras.layers.BatchNormalization()(x_prim)\n",
    "    x_prim = tf.keras.layers.Dropout(0.4)(x_prim)\n",
    "    x_prim = tf.keras.layers.Dense(256, activation='relu')(x_prim)\n",
    "    x_prim = tf.keras.layers.BatchNormalization()(x_prim)\n",
    "    x_prim = tf.keras.layers.Dropout(0.4)(x_prim)\n",
    "    x_prim = tf.keras.layers.Dense(1, activation='sigmoid', name='primary')(x_prim)\n",
    "    \n",
    "    \n",
    "    #Define Remaining Branch\n",
    "    #x_mine[0] -> artisinal_mine\n",
    "    # x_rem[1] -> bare_ground\n",
    "    # x_rem[2] -> blooming\n",
    "    # x_rem[3] -> blow_down\n",
    "    #x_mine[4] -> conventional_mine\n",
    "    # x_rem[5] -> selective_logging\n",
    "    # x_rem[6] -> slash_burn\n",
    "    x_rem = tf.keras.layers.Dense(512, activation='relu')(x_Top)\n",
    "    x_rem = tf.keras.layers.BatchNormalization()(x_rem)\n",
    "    x_rem = tf.keras.layers.Dropout(0.2)(x_rem)\n",
    "    x_rem = tf.keras.layers.Dense(512, activation='relu')(x_rem)\n",
    "    x_rem = tf.keras.layers.BatchNormalization()(x_rem)\n",
    "    x_rem = tf.keras.layers.Dropout(0.4)(x_rem)\n",
    "    x_rem = tf.keras.layers.Dense(256, activation='relu')(x_rem)\n",
    "    x_rem = tf.keras.layers.BatchNormalization()(x_rem)\n",
    "    x_rem = tf.keras.layers.Dropout(0.4)(x_rem)\n",
    "    x_rem = tf.keras.layers.Dense(7, activation='sigmoid', name='remaining')(x_rem)\n",
    "    \n",
    "    model = tf.keras.Model(inputs=Input, outputs=[x_vis, x_hum, x_rw, x_prim, x_rem])\n",
    "\n",
    "    model.compile(optimizer=Adam(lr=1e-4),\n",
    "                loss='binary_crossentropy',\n",
    "                metrics={\n",
    "                         'visibility': [tfa.metrics.FBetaScore(beta=2.0, num_classes=4 , average='micro', threshold=0.5)],\n",
    "                         'human_activity': [tfa.metrics.FBetaScore(beta=2.0, num_classes=3 , average='micro', threshold=0.5)],\n",
    "                         'road_water': [tfa.metrics.FBetaScore(beta=2.0, num_classes=2 , average='micro', threshold=0.5)],\n",
    "                         'primary': [tfa.metrics.FBetaScore(beta=2.0, num_classes=1 , average='micro', threshold=0.5)],\n",
    "                         'remaining': [tfa.metrics.FBetaScore(beta=2.0, num_classes=7 , average='micro', threshold=0.5)]\n",
    "                        }\n",
    "               ) \n",
    "    return model"
   ]
  },
  {
   "cell_type": "markdown",
   "id": "d4d31256",
   "metadata": {
    "papermill": {
     "duration": 0.037856,
     "end_time": "2022-05-29T16:01:35.022458",
     "exception": false,
     "start_time": "2022-05-29T16:01:34.984602",
     "status": "completed"
    },
    "tags": []
   },
   "source": [
    "## Callback to stop training"
   ]
  },
  {
   "cell_type": "code",
   "execution_count": 12,
   "id": "b7e62913",
   "metadata": {
    "execution": {
     "iopub.execute_input": "2022-05-29T16:01:35.099607Z",
     "iopub.status.busy": "2022-05-29T16:01:35.099222Z",
     "iopub.status.idle": "2022-05-29T16:01:35.105712Z",
     "shell.execute_reply": "2022-05-29T16:01:35.104972Z"
    },
    "papermill": {
     "duration": 0.047292,
     "end_time": "2022-05-29T16:01:35.107959",
     "exception": false,
     "start_time": "2022-05-29T16:01:35.060667",
     "status": "completed"
    },
    "tags": []
   },
   "outputs": [],
   "source": [
    "class myCallback(tf.keras.callbacks.Callback):\n",
    "    def on_epoch_end(self, epoch, logs={}):\n",
    "        print(\"\\nReached FBeta Score = \"+str(statistics.harmonic_mean([logs.get('val_visibility_fbeta_score'), logs.get('val_human_activity_fbeta_score'), logs.get('val_road_water_fbeta_score'), logs.get('val_primary_fbeta_score')])))"
   ]
  },
  {
   "cell_type": "markdown",
   "id": "46415268",
   "metadata": {
    "papermill": {
     "duration": 0.036379,
     "end_time": "2022-05-29T16:01:35.181751",
     "exception": false,
     "start_time": "2022-05-29T16:01:35.145372",
     "status": "completed"
    },
    "tags": []
   },
   "source": [
    "## Model Training"
   ]
  },
  {
   "cell_type": "code",
   "execution_count": 13,
   "id": "a65c0bb2",
   "metadata": {
    "execution": {
     "iopub.execute_input": "2022-05-29T16:01:35.239061Z",
     "iopub.status.busy": "2022-05-29T16:01:35.238807Z",
     "iopub.status.idle": "2022-05-29T19:18:59.613566Z",
     "shell.execute_reply": "2022-05-29T19:18:59.612798Z"
    },
    "papermill": {
     "duration": 11845.69778,
     "end_time": "2022-05-29T19:19:00.912356",
     "exception": false,
     "start_time": "2022-05-29T16:01:35.214576",
     "status": "completed"
    },
    "tags": []
   },
   "outputs": [
    {
     "name": "stderr",
     "output_type": "stream",
     "text": [
      "2022-05-29 16:01:35.354076: I tensorflow/stream_executor/cuda/cuda_gpu_executor.cc:937] successful NUMA node read from SysFS had negative value (-1), but there must be at least one NUMA node, so returning NUMA node zero\n",
      "2022-05-29 16:01:35.472498: I tensorflow/stream_executor/cuda/cuda_gpu_executor.cc:937] successful NUMA node read from SysFS had negative value (-1), but there must be at least one NUMA node, so returning NUMA node zero\n",
      "2022-05-29 16:01:35.473368: I tensorflow/stream_executor/cuda/cuda_gpu_executor.cc:937] successful NUMA node read from SysFS had negative value (-1), but there must be at least one NUMA node, so returning NUMA node zero\n",
      "2022-05-29 16:01:35.474482: I tensorflow/core/platform/cpu_feature_guard.cc:142] This TensorFlow binary is optimized with oneAPI Deep Neural Network Library (oneDNN) to use the following CPU instructions in performance-critical operations:  AVX2 AVX512F FMA\n",
      "To enable them in other operations, rebuild TensorFlow with the appropriate compiler flags.\n",
      "2022-05-29 16:01:35.474784: I tensorflow/stream_executor/cuda/cuda_gpu_executor.cc:937] successful NUMA node read from SysFS had negative value (-1), but there must be at least one NUMA node, so returning NUMA node zero\n",
      "2022-05-29 16:01:35.475451: I tensorflow/stream_executor/cuda/cuda_gpu_executor.cc:937] successful NUMA node read from SysFS had negative value (-1), but there must be at least one NUMA node, so returning NUMA node zero\n",
      "2022-05-29 16:01:35.476056: I tensorflow/stream_executor/cuda/cuda_gpu_executor.cc:937] successful NUMA node read from SysFS had negative value (-1), but there must be at least one NUMA node, so returning NUMA node zero\n",
      "2022-05-29 16:01:37.760742: I tensorflow/stream_executor/cuda/cuda_gpu_executor.cc:937] successful NUMA node read from SysFS had negative value (-1), but there must be at least one NUMA node, so returning NUMA node zero\n",
      "2022-05-29 16:01:37.762316: I tensorflow/stream_executor/cuda/cuda_gpu_executor.cc:937] successful NUMA node read from SysFS had negative value (-1), but there must be at least one NUMA node, so returning NUMA node zero\n",
      "2022-05-29 16:01:37.763534: I tensorflow/stream_executor/cuda/cuda_gpu_executor.cc:937] successful NUMA node read from SysFS had negative value (-1), but there must be at least one NUMA node, so returning NUMA node zero\n",
      "2022-05-29 16:01:37.765793: I tensorflow/core/common_runtime/gpu/gpu_device.cc:1510] Created device /job:localhost/replica:0/task:0/device:GPU:0 with 15403 MB memory:  -> device: 0, name: Tesla P100-PCIE-16GB, pci bus id: 0000:00:04.0, compute capability: 6.0\n"
     ]
    },
    {
     "name": "stdout",
     "output_type": "stream",
     "text": [
      "Downloading data from https://storage.googleapis.com/tensorflow/keras-applications/inception_resnet_v2/inception_resnet_v2_weights_tf_dim_ordering_tf_kernels_notop.h5\n",
      "219062272/219055592 [==============================] - 1s 0us/step\n",
      "219070464/219055592 [==============================] - 1s 0us/step\n",
      "Downloading data from https://storage.googleapis.com/tensorflow/keras-applications/vgg19/vgg19_weights_tf_dim_ordering_tf_kernels_notop.h5\n",
      "80142336/80134624 [==============================] - 0s 0us/step\n",
      "80150528/80134624 [==============================] - 0s 0us/step\n"
     ]
    },
    {
     "name": "stderr",
     "output_type": "stream",
     "text": [
      "/opt/conda/lib/python3.7/site-packages/keras/optimizer_v2/optimizer_v2.py:356: UserWarning: The `lr` argument is deprecated, use `learning_rate` instead.\n",
      "  \"The `lr` argument is deprecated, use `learning_rate` instead.\")\n",
      "/opt/conda/lib/python3.7/site-packages/keras/engine/training.py:1972: UserWarning: `Model.fit_generator` is deprecated and will be removed in a future version. Please use `Model.fit`, which supports generators.\n",
      "  warnings.warn('`Model.fit_generator` is deprecated and '\n"
     ]
    },
    {
     "name": "stdout",
     "output_type": "stream",
     "text": [
      "Found 24287 validated image filenames.\n",
      "Found 24287 validated image filenames.\n",
      "Found 24287 validated image filenames.\n",
      "Found 24287 validated image filenames.\n",
      "Found 24287 validated image filenames.\n"
     ]
    },
    {
     "name": "stderr",
     "output_type": "stream",
     "text": [
      "2022-05-29 16:03:14.906373: I tensorflow/compiler/mlir/mlir_graph_optimization_pass.cc:185] None of the MLIR Optimization Passes are enabled (registered 2)\n"
     ]
    },
    {
     "name": "stdout",
     "output_type": "stream",
     "text": [
      "Epoch 1/20\n"
     ]
    },
    {
     "name": "stderr",
     "output_type": "stream",
     "text": [
      "2022-05-29 16:03:38.834480: I tensorflow/stream_executor/cuda/cuda_dnn.cc:369] Loaded cuDNN version 8005\n"
     ]
    },
    {
     "name": "stdout",
     "output_type": "stream",
     "text": [
      "759/759 [==============================] - ETA: 0s - loss: 3.1717 - visibility_loss: 0.6007 - human_activity_loss: 0.6604 - road_water_loss: 0.5761 - primary_loss: 0.5765 - remaining_loss: 0.7579 - visibility_fbeta_score: 0.6315 - human_activity_fbeta_score: 0.5390 - road_water_fbeta_score: 0.6031 - primary_fbeta_score: 0.7870 - remaining_fbeta_score: 0.0416Found 16192 validated image filenames.\n",
      "Found 16192 validated image filenames.\n",
      "Found 16192 validated image filenames.\n",
      "Found 16192 validated image filenames.\n",
      "Found 16192 validated image filenames.\n",
      "759/759 [==============================] - 2513s 3s/step - loss: 3.1717 - visibility_loss: 0.6007 - human_activity_loss: 0.6604 - road_water_loss: 0.5761 - primary_loss: 0.5765 - remaining_loss: 0.7579 - visibility_fbeta_score: 0.6315 - human_activity_fbeta_score: 0.5390 - road_water_fbeta_score: 0.6031 - primary_fbeta_score: 0.7870 - remaining_fbeta_score: 0.0416 - val_loss: 18.6043 - val_visibility_loss: 12.6979 - val_human_activity_loss: 2.2317 - val_road_water_loss: 2.1466 - val_primary_loss: 0.2574 - val_remaining_loss: 1.2707 - val_visibility_fbeta_score: 0.0794 - val_human_activity_fbeta_score: 0.2037 - val_road_water_fbeta_score: 0.1193 - val_primary_fbeta_score: 0.9874 - val_remaining_fbeta_score: 0.0176\n",
      "\n",
      "Reached FBeta Score = 0.14866162002849473\n",
      "\n",
      "Epoch 00001: val_loss improved from inf to 18.60433, saving model to /kaggle/working/InceptionResNetVGG19.h5\n",
      "Epoch 2/20\n",
      "759/759 [==============================] - 2284s 3s/step - loss: 1.7906 - visibility_loss: 0.3274 - human_activity_loss: 0.4254 - road_water_loss: 0.3748 - primary_loss: 0.2924 - remaining_loss: 0.3707 - visibility_fbeta_score: 0.8570 - human_activity_fbeta_score: 0.6204 - road_water_fbeta_score: 0.6786 - primary_fbeta_score: 0.9451 - remaining_fbeta_score: 0.0345 - val_loss: 1.5363 - val_visibility_loss: 0.3941 - val_human_activity_loss: 0.3411 - val_road_water_loss: 0.4613 - val_primary_loss: 0.2161 - val_remaining_loss: 0.1237 - val_visibility_fbeta_score: 0.7013 - val_human_activity_fbeta_score: 0.3066 - val_road_water_fbeta_score: 0.6639 - val_primary_fbeta_score: 0.9867 - val_remaining_fbeta_score: 0.0000e+00\n",
      "\n",
      "Reached FBeta Score = 0.5549572905620219\n",
      "\n",
      "Epoch 00002: val_loss improved from 18.60433 to 1.53632, saving model to /kaggle/working/InceptionResNetVGG19.h5\n",
      "Epoch 3/20\n",
      "759/759 [==============================] - 2286s 3s/step - loss: 1.2108 - visibility_loss: 0.2278 - human_activity_loss: 0.3277 - road_water_loss: 0.3176 - primary_loss: 0.1964 - remaining_loss: 0.1415 - visibility_fbeta_score: 0.8825 - human_activity_fbeta_score: 0.6262 - road_water_fbeta_score: 0.6772 - primary_fbeta_score: 0.9700 - remaining_fbeta_score: 0.0146 - val_loss: 2.1626 - val_visibility_loss: 0.8243 - val_human_activity_loss: 0.4179 - val_road_water_loss: 0.3011 - val_primary_loss: 0.5590 - val_remaining_loss: 0.0602 - val_visibility_fbeta_score: 0.9057 - val_human_activity_fbeta_score: 0.6184 - val_road_water_fbeta_score: 0.7411 - val_primary_fbeta_score: 0.9874 - val_remaining_fbeta_score: 0.0000e+00\n",
      "\n",
      "Reached FBeta Score = 0.7868711029621994\n",
      "\n",
      "Epoch 00003: ReduceLROnPlateau reducing learning rate to 9.999999747378752e-06.\n",
      "\n",
      "Epoch 00003: val_loss did not improve from 1.53632\n",
      "Epoch 4/20\n",
      "759/759 [==============================] - 2332s 3s/step - loss: 0.9686 - visibility_loss: 0.1789 - human_activity_loss: 0.2833 - road_water_loss: 0.2707 - primary_loss: 0.1475 - remaining_loss: 0.0881 - visibility_fbeta_score: 0.8970 - human_activity_fbeta_score: 0.6515 - road_water_fbeta_score: 0.7145 - primary_fbeta_score: 0.9767 - remaining_fbeta_score: 0.0040 - val_loss: 1.5424 - val_visibility_loss: 0.4004 - val_human_activity_loss: 0.3615 - val_road_water_loss: 0.3147 - val_primary_loss: 0.4104 - val_remaining_loss: 0.0553 - val_visibility_fbeta_score: 0.9202 - val_human_activity_fbeta_score: 0.6934 - val_road_water_fbeta_score: 0.7826 - val_primary_fbeta_score: 0.9867 - val_remaining_fbeta_score: 0.0000e+00\n",
      "\n",
      "Reached FBeta Score = 0.8298654923754072\n",
      "\n",
      "Epoch 00004: ReduceLROnPlateau reducing learning rate to 9.999999747378752e-07.\n",
      "\n",
      "Epoch 00004: val_loss did not improve from 1.53632\n",
      "Epoch 5/20\n",
      "759/759 [==============================] - 2326s 3s/step - loss: 0.9372 - visibility_loss: 0.1716 - human_activity_loss: 0.2760 - road_water_loss: 0.2637 - primary_loss: 0.1408 - remaining_loss: 0.0851 - visibility_fbeta_score: 0.9021 - human_activity_fbeta_score: 0.6634 - road_water_fbeta_score: 0.7179 - primary_fbeta_score: 0.9776 - remaining_fbeta_score: 0.0056 - val_loss: 1.9025 - val_visibility_loss: 0.5486 - val_human_activity_loss: 0.4304 - val_road_water_loss: 0.3490 - val_primary_loss: 0.5197 - val_remaining_loss: 0.0548 - val_visibility_fbeta_score: 0.9204 - val_human_activity_fbeta_score: 0.6977 - val_road_water_fbeta_score: 0.7769 - val_primary_fbeta_score: 0.9864 - val_remaining_fbeta_score: 0.0000e+00\n",
      "\n",
      "Reached FBeta Score = 0.8297696773112633\n",
      "\n",
      "Epoch 00005: ReduceLROnPlateau reducing learning rate to 1e-07.\n",
      "\n",
      "Epoch 00005: val_loss did not improve from 1.53632\n",
      "Epoch 00005: early stopping\n"
     ]
    }
   ],
   "source": [
    "from keras.callbacks import ModelCheckpoint, EarlyStopping, ReduceLROnPlateau, History\n",
    "\n",
    "model = create_model()\n",
    "BATCH_SIZE = 32\n",
    "\n",
    "callbacks = [History(),\n",
    "            myCallback(),\n",
    "            EarlyStopping(monitor='val_loss', patience=3, verbose=1, min_delta=1e-4),\n",
    "            ReduceLROnPlateau(monitor='val_loss', factor=0.1, patience=1, cooldown=0, min_lr=1e-7, verbose=1),\n",
    "            ModelCheckpoint(filepath='/kaggle/working/InceptionResNetVGG19.h5', monitor=\"val_loss\", verbose=1, save_best_only=True, save_weights_only=True, mode='auto')]\n",
    "\n",
    "model_history = model.fit_generator(train_generator,\n",
    "                    steps_per_epoch = math.ceil(df_TrainData['filename'].count()/BATCH_SIZE),\n",
    "                    epochs=20,\n",
    "                    verbose=1,\n",
    "                    validation_data=validation_generator,\n",
    "                    validation_steps = math.ceil(df_ValData['filename'].count()/BATCH_SIZE),\n",
    "                    callbacks=callbacks\n",
    "                   )\n",
    "\n",
    "history = model_history.history"
   ]
  },
  {
   "cell_type": "markdown",
   "id": "a9930620",
   "metadata": {
    "papermill": {
     "duration": 1.244365,
     "end_time": "2022-05-29T19:19:03.666600",
     "exception": false,
     "start_time": "2022-05-29T19:19:02.422235",
     "status": "completed"
    },
    "tags": []
   },
   "source": [
    "## Save/Load Keras Model and History"
   ]
  },
  {
   "cell_type": "code",
   "execution_count": 14,
   "id": "5da5871c",
   "metadata": {
    "execution": {
     "iopub.execute_input": "2022-05-29T19:19:06.246029Z",
     "iopub.status.busy": "2022-05-29T19:19:06.245693Z",
     "iopub.status.idle": "2022-05-29T19:19:13.323929Z",
     "shell.execute_reply": "2022-05-29T19:19:13.323026Z"
    },
    "papermill": {
     "duration": 8.413386,
     "end_time": "2022-05-29T19:19:13.344444",
     "exception": false,
     "start_time": "2022-05-29T19:19:04.931058",
     "status": "completed"
    },
    "tags": []
   },
   "outputs": [],
   "source": [
    "# Save\n",
    "import pickle\n",
    "from keras.models import load_model\n",
    "with open(\"/kaggle/working/InceptionResNetVGG19.pkl\", 'wb') as f:\n",
    "    pickle.dump(history, f)\n",
    "model.save(\"/kaggle/working/InceptionResNetVGG19_EndTrain.h5\")"
   ]
  },
  {
   "cell_type": "code",
   "execution_count": 15,
   "id": "9affac1d",
   "metadata": {
    "execution": {
     "iopub.execute_input": "2022-05-29T19:19:16.594036Z",
     "iopub.status.busy": "2022-05-29T19:19:16.593750Z",
     "iopub.status.idle": "2022-05-29T19:19:16.597457Z",
     "shell.execute_reply": "2022-05-29T19:19:16.596728Z"
    },
    "papermill": {
     "duration": 1.297753,
     "end_time": "2022-05-29T19:19:16.599142",
     "exception": false,
     "start_time": "2022-05-29T19:19:15.301389",
     "status": "completed"
    },
    "tags": []
   },
   "outputs": [],
   "source": [
    "# # Load\n",
    "# from tensorflow import keras\n",
    "# import pickle\n",
    "# model = keras.models.load_model(\"/kaggle/working/InceptionV3_Untrainable_V2.h5\")\n",
    "# with open(\"/kaggle/working/InceptionV3_Untrainable_V2.pkl\", 'rb') as f:\n",
    "#     history = pickle.load(f)"
   ]
  },
  {
   "cell_type": "markdown",
   "id": "46d46fb1",
   "metadata": {
    "papermill": {
     "duration": 1.325495,
     "end_time": "2022-05-29T19:19:19.852417",
     "exception": false,
     "start_time": "2022-05-29T19:19:18.526922",
     "status": "completed"
    },
    "tags": []
   },
   "source": [
    "## Plot History"
   ]
  },
  {
   "cell_type": "code",
   "execution_count": 16,
   "id": "3a840db8",
   "metadata": {
    "execution": {
     "iopub.execute_input": "2022-05-29T19:19:22.373650Z",
     "iopub.status.busy": "2022-05-29T19:19:22.373299Z",
     "iopub.status.idle": "2022-05-29T19:19:22.816695Z",
     "shell.execute_reply": "2022-05-29T19:19:22.816024Z"
    },
    "papermill": {
     "duration": 1.729407,
     "end_time": "2022-05-29T19:19:22.818755",
     "exception": false,
     "start_time": "2022-05-29T19:19:21.089348",
     "status": "completed"
    },
    "tags": []
   },
   "outputs": [
    {
     "data": {
      "image/png": "[encoded data removed]",
      "text/plain": [
       "<Figure size 432x288 with 1 Axes>"
      ]
     },
     "metadata": {
      "needs_background": "light"
     },
     "output_type": "display_data"
    },
    {
     "data": {
      "image/png": "[encoded data removed]",
      "text/plain": [
       "<Figure size 432x288 with 1 Axes>"
      ]
     },
     "metadata": {
      "needs_background": "light"
     },
     "output_type": "display_data"
    }
   ],
   "source": [
    "#-----------------------------------------------------------\n",
    "# Retrieve a list of list results on training and test data\n",
    "# sets for each training epoch\n",
    "#-----------------------------------------------------------\n",
    "loss=history['loss']\n",
    "val_loss=history['val_loss']\n",
    "\n",
    "epochs=np.array(range(len(loss)))+1 # Get number of epochs\n",
    "\n",
    "#------------------------------------------------\n",
    "# Plot training and validation loss per epoch\n",
    "#------------------------------------------------\n",
    "plt.plot(epochs, loss, label=\"Training Loss\")\n",
    "plt.plot(epochs, val_loss, label=\"Validation Loss\")\n",
    "plt.title('Training and validation Loss')\n",
    "plt.xlim([0, 15])\n",
    "plt.legend(loc='center left', bbox_to_anchor=(1, 0.5))\n",
    "plt.show()\n",
    "\n",
    "#------------------------------------------------\n",
    "# Plot training and validation F Scores per epoch\n",
    "#------------------------------------------------\n",
    "plt.plot(epochs, history['visibility_fbeta_score'], label=\"Visibility - Train\")\n",
    "plt.plot(epochs, history['val_visibility_fbeta_score'], label=\"Visibility - Validation\")\n",
    "plt.plot(epochs, history['human_activity_fbeta_score'], label=\"Human Activity  - Train\")\n",
    "plt.plot(epochs, history['val_human_activity_fbeta_score'], label=\"Human Activity  - Validation\")\n",
    "plt.plot(epochs, history['road_water_fbeta_score'], label=\"Road-Water - Train\")\n",
    "plt.plot(epochs, history['val_road_water_fbeta_score'], label=\"Road-Water - Validation\")\n",
    "plt.plot(epochs, history['primary_fbeta_score'], label=\"Primary - Train\")\n",
    "plt.plot(epochs, history['val_primary_fbeta_score'], label=\"Primary - Validation\")\n",
    "plt.plot(epochs, history['remaining_fbeta_score'], label=\"Remaining - Train\")\n",
    "plt.plot(epochs, history['val_remaining_fbeta_score'], label=\"Remaining - Validation\")\n",
    "plt.title('F-Beta Score')\n",
    "plt.xlim([0, 15])\n",
    "plt.legend(loc='center left', bbox_to_anchor=(1, 0.5))\n",
    "plt.show()"
   ]
  },
  {
   "cell_type": "markdown",
   "id": "e7168aa9",
   "metadata": {
    "papermill": {
     "duration": 1.240003,
     "end_time": "2022-05-29T19:19:25.568620",
     "exception": false,
     "start_time": "2022-05-29T19:19:24.328617",
     "status": "completed"
    },
    "tags": []
   },
   "source": [
    "## Submission"
   ]
  },
  {
   "cell_type": "code",
   "execution_count": 17,
   "id": "0b28860e",
   "metadata": {
    "execution": {
     "iopub.execute_input": "2022-05-29T19:19:28.112618Z",
     "iopub.status.busy": "2022-05-29T19:19:28.112293Z",
     "iopub.status.idle": "2022-05-29T19:19:28.133400Z",
     "shell.execute_reply": "2022-05-29T19:19:28.132716Z"
    },
    "papermill": {
     "duration": 1.275317,
     "end_time": "2022-05-29T19:19:28.135054",
     "exception": false,
     "start_time": "2022-05-29T19:19:26.859737",
     "status": "completed"
    },
    "tags": []
   },
   "outputs": [],
   "source": [
    "import matplotlib.image as mpimg\n",
    "from IPython.display import clear_output\n",
    "\n",
    "def GetPredictions(df_Submission, ImageFolderPath):\n",
    "\n",
    "    start_time = datetime.now()\n",
    "    iteration_time = start_time\n",
    "    df_Submission.image_name = df_Submission.image_name+'.jpg'\n",
    "\n",
    "    predicted = np.array([np.zeros(4), np.zeros(3), np.zeros(2), np.zeros(2), np.zeros(6)], dtype=object)\n",
    "    predicted = [predicted]*df_Submission.image_name.count()\n",
    "\n",
    "    for i, row in enumerate(df_Submission.to_numpy()):\n",
    "        img = mpimg.imread(os.path.join(ImageFolderPath, row[0]))\n",
    "        img = img[:,:,:3]\n",
    "        img = np.array([img])\n",
    "        predicted[i] = model.predict(img)\n",
    "        iteration_elapsed = datetime.now()-iteration_time\n",
    "        if(iteration_elapsed.total_seconds()>5.00):\n",
    "            iteration_time = datetime.now()\n",
    "            elapsed_time = (datetime.now()-start_time)\n",
    "            estimate_to_completion = (elapsed_time/i)*(df_Submission.count()[0]-i)\n",
    "            clear_output(wait=True)\n",
    "            print('Completed\\t\\t\\t', \"{:.2f}\".format(100*i/df_Submission.image_name.count()),'%')\n",
    "            print('Elapsed time:\\t\\t', elapsed_time)\n",
    "            print('Estimate to completion:\\t', estimate_to_completion)\n",
    "\n",
    "    clear_output(wait=True)\n",
    "    print('completed 100 %')\n",
    "    elapsed_time = (datetime.now()-start_time)\n",
    "    print('Elapsed time: ', elapsed_time)\n",
    "    return predicted\n",
    "\n",
    "def GetPedictGeneratorOutput(prediction, index):\n",
    "    return [predictions[0][index], predictions[1][index], predictions[2][index], predictions[3][index], predictions[4][index]]\n",
    "\n",
    "def GetLabelsFromPrediction(ModelOutput, threshold):\n",
    "    label = \"\"\n",
    "    if(ModelOutput[1][0] > threshold):\n",
    "        label = label + \" agriculture\"\n",
    "    if(ModelOutput[4][0] > threshold):\n",
    "        label = label + \" artisinal_mine\"\n",
    "    if(ModelOutput[4][1] > threshold):\n",
    "        label = label + \" bare_ground\"\n",
    "    if(ModelOutput[4][2] > threshold):\n",
    "        label = label + \" blooming\"\n",
    "    if(ModelOutput[4][3] > threshold):\n",
    "        label = label + \" blow_down\"\n",
    "    if(ModelOutput[0][0] > threshold):\n",
    "        label = label + \" clear\"\n",
    "    if(ModelOutput[0][3] > threshold):\n",
    "        label = label + \" cloudy\"\n",
    "    if(ModelOutput[4][4] > threshold):\n",
    "        label = label + \" conventional_mine\"\n",
    "    if(ModelOutput[1][1] > threshold):\n",
    "        label = label + \" cultivation\"\n",
    "    if(ModelOutput[1][2] > threshold):\n",
    "        label = label + \" habitation\"\n",
    "    if(ModelOutput[0][1] > threshold):\n",
    "        label = label + \" haze\"\n",
    "    if(ModelOutput[0][2] > threshold):\n",
    "        label = label + \" partly_cloudy\"\n",
    "    if(ModelOutput[3][0] > threshold):\n",
    "        label = label + \" primary\"\n",
    "    if(ModelOutput[2][0] > threshold):\n",
    "        label = label + \" road\"\n",
    "    if(ModelOutput[4][5] > threshold):\n",
    "        label = label + \" selective_logging\"\n",
    "    if(ModelOutput[4][6] > threshold):\n",
    "        label = label + \" slash_burn\"\n",
    "    if(ModelOutput[2][1] > threshold):\n",
    "        label = label + \" water\"\n",
    "    return label.lstrip()\n",
    "\n",
    "\n",
    "def InsertLabels_Dataframe(df_Submission, predicted, threshold):\n",
    "    pred = []\n",
    "    for i in range(len(predicted[0])):\n",
    "        pred.append([])\n",
    "        pred[i] = [predicted[0][i], predicted[1][i], predicted[2][i], predicted[3][i], predicted[4][i]]\n",
    "    for i, ModelOutput in enumerate(pred):\n",
    "        df_Submission['tags'][i]=GetLabelsFromPrediction(ModelOutput, threshold)"
   ]
  },
  {
   "cell_type": "code",
   "execution_count": 18,
   "id": "f50e3de8",
   "metadata": {
    "execution": {
     "iopub.execute_input": "2022-05-29T19:19:30.666842Z",
     "iopub.status.busy": "2022-05-29T19:19:30.666581Z",
     "iopub.status.idle": "2022-05-29T19:32:19.696040Z",
     "shell.execute_reply": "2022-05-29T19:32:19.695121Z"
    },
    "papermill": {
     "duration": 772.152773,
     "end_time": "2022-05-29T19:32:21.526239",
     "exception": false,
     "start_time": "2022-05-29T19:19:29.373466",
     "status": "completed"
    },
    "tags": []
   },
   "outputs": [
    {
     "name": "stdout",
     "output_type": "stream",
     "text": [
      "Found 61191 validated image filenames.\n",
      "1913/1913 [==============================] - 570s 296ms/step\n"
     ]
    },
    {
     "name": "stderr",
     "output_type": "stream",
     "text": [
      "/opt/conda/lib/python3.7/site-packages/ipykernel_launcher.py:19: FutureWarning: The default value of regex will change from True to False in a future version.\n"
     ]
    }
   ],
   "source": [
    "df_Submission = pd.read_csv('../input/amazon-satellite/raw-data/sample_submission_v2/sample_submission_v2.csv')\n",
    "Test_FolderPath = '../input/amazon-satellite/raw-data/test-jpg'\n",
    "\n",
    "df_Submission['image_name'] = df_Submission['image_name'] + '.jpg'\n",
    "\n",
    "validation_datagen = ImageDataGenerator(rescale=1.0/255.0)\n",
    "validation_generator = validation_datagen.flow_from_dataframe(dataframe=df_Submission,\n",
    "                                                                directory=Test_FolderPath,\n",
    "                                                                x_col=df_Submission.columns[0],\n",
    "                                                                y_col=df_Submission.columns[1:len(df_Submission.columns)],\n",
    "                                                                batch_size=32,\n",
    "                                                                class_mode='raw',\n",
    "                                                                shuffle=False,\n",
    "                                                                target_size=(256, 256))\n",
    "\n",
    "predictions = model.predict(validation_generator, verbose=1)\n",
    "InsertLabels_Dataframe(df_Submission, predictions, threshold=0.5)\n",
    "\n",
    "df_Submission['image_name'] = df_Submission['image_name'].str.replace('.jpg', '')\n",
    "df_Submission.to_csv('/kaggle/working/submission.csv', index=None)"
   ]
  }
 ],
 "metadata": {
  "kernelspec": {
   "display_name": "Python 3",
   "language": "python",
   "name": "python3"
  },
  "language_info": {
   "codemirror_mode": {
    "name": "ipython",
    "version": 3
   },
   "file_extension": ".py",
   "mimetype": "text/x-python",
   "name": "python",
   "nbconvert_exporter": "python",
   "pygments_lexer": "ipython3",
   "version": "3.7.12"
  },
  "papermill": {
   "default_parameters": {},
   "duration": 12672.124092,
   "end_time": "2022-05-29T19:32:26.453529",
   "environment_variables": {},
   "exception": null,
   "input_path": "__notebook__.ipynb",
   "output_path": "__notebook__.ipynb",
   "parameters": {},
   "start_time": "2022-05-29T16:01:14.329437",
   "version": "2.3.4"
  }
 },
 "nbformat": 4,
 "nbformat_minor": 5
}
