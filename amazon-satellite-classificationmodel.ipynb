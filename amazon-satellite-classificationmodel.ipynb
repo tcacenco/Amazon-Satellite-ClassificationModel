{
 "cells": [
  {
   "cell_type": "code",
   "execution_count": 1,
   "id": "b46a34a7",
   "metadata": {
    "execution": {
     "iopub.execute_input": "2022-05-29T20:35:39.163746Z",
     "iopub.status.busy": "2022-05-29T20:35:39.163117Z",
     "iopub.status.idle": "2022-05-29T20:35:44.515682Z",
     "shell.execute_reply": "2022-05-29T20:35:44.514960Z"
    },
    "papermill": {
     "duration": 5.379555,
     "end_time": "2022-05-29T20:35:44.517893",
     "exception": false,
     "start_time": "2022-05-29T20:35:39.138338",
     "status": "completed"
    },
    "tags": []
   },
   "outputs": [],
   "source": [
    "from datetime import datetime\n",
    "from datetime import timedelta\n",
    "import os\n",
    "import math\n",
    "import statistics\n",
    "import numpy as np\n",
    "import pandas as pd\n",
    "import matplotlib.pyplot as plt\n",
    "import matplotlib.image as mpimg\n",
    "from IPython.display import clear_output\n",
    "\n",
    "import tensorflow as tf\n",
    "from tensorflow.keras.preprocessing.image import ImageDataGenerator\n",
    "\n",
    "from tensorflow.keras.applications.inception_v3 import InceptionV3\n",
    "from tensorflow.keras.optimizers import RMSprop\n",
    "import tensorflow_addons as tfa\n",
    "\n",
    "# tf.test.is_gpu_available()\n",
    "# tf.config.list_physical_devices('GPU')"
   ]
  },
  {
   "cell_type": "markdown",
   "id": "8dca89fe",
   "metadata": {
    "papermill": {
     "duration": 0.021465,
     "end_time": "2022-05-29T20:35:44.561095",
     "exception": false,
     "start_time": "2022-05-29T20:35:44.539630",
     "status": "completed"
    },
    "tags": []
   },
   "source": [
    "## Def functions: One-Hot Encoding and Split Data (Dataframe)"
   ]
  },
  {
   "cell_type": "code",
   "execution_count": 2,
   "id": "75af288b",
   "metadata": {
    "execution": {
     "iopub.execute_input": "2022-05-29T20:35:44.604780Z",
     "iopub.status.busy": "2022-05-29T20:35:44.604452Z",
     "iopub.status.idle": "2022-05-29T20:35:44.616902Z",
     "shell.execute_reply": "2022-05-29T20:35:44.616279Z"
    },
    "papermill": {
     "duration": 0.036125,
     "end_time": "2022-05-29T20:35:44.618483",
     "exception": false,
     "start_time": "2022-05-29T20:35:44.582358",
     "status": "completed"
    },
    "tags": []
   },
   "outputs": [],
   "source": [
    "def Get_ListOfLabels(df_InputLabels):\n",
    "    df_Tags = df_InputLabels.str.split(expand=True)\n",
    "    columns = len(df_Tags.columns)\n",
    "\n",
    "    for i in range(columns):\n",
    "        if i == 0:\n",
    "            df_aux = pd.DataFrame(df_Tags[0])\n",
    "        else:\n",
    "            df_aux = df_aux.append(pd.DataFrame(df_Tags[i].rename(index=0)))\n",
    "\n",
    "    LabelList = (df_aux.drop_duplicates().sort_values([0], ascending=[True]))[0].tolist()\n",
    "    LabelList = list(filter(None, LabelList))\n",
    "    return LabelList\n",
    "\n",
    "\n",
    "def Get_LabelEncodedArray(df_InputLabels, LabelList):\n",
    "    LabelArray = np.zeros((df_InputLabels.count(), len(LabelList)))\n",
    "    TagsArray = df_InputLabels.str.split(expand=True).to_numpy()\n",
    "\n",
    "    for i in range(TagsArray.shape[0]):\n",
    "        for j in range(TagsArray.shape[1]):\n",
    "            for k in range(len(LabelList)):\n",
    "                if(TagsArray[i][j]== LabelList[k]):\n",
    "                    LabelArray[i][k] = 1\n",
    "\n",
    "    return LabelArray\n",
    "\n",
    "def OneHotToStringLabels(OneHotArray, LabelList, delimiter):\n",
    "    string_labels = \"\"\n",
    "    if(len(OneHotArray)!=len(LabelList)):\n",
    "        raise Exception(\"OneHotArray does not match LabelList len/size\")\n",
    "\n",
    "    for i in range(len(OneHotArray)):\n",
    "        if(OneHotArray[i] == 1.0):\n",
    "            if(string_labels == \"\"):\n",
    "                string_labels = LabelList[i]\n",
    "            else:\n",
    "                string_labels = string_labels+delimiter+LabelList[i]\n",
    "    return string_labels\n",
    "\n",
    "def SplitData(df_Dataset, Ratio):\n",
    "\n",
    "    df_TrainData = pd.DataFrame(df_Dataset).sample(round(Ratio * df_Dataset['filename'].count()))\n",
    "\n",
    "    df_ValData = pd.DataFrame(df_Dataset)\n",
    "    condition = df_ValData['filename'].isin(df_TrainData['filename'])\n",
    "    df_ValData = df_ValData.drop(df_ValData[condition].index)\n",
    "\n",
    "    return df_TrainData, df_ValData"
   ]
  },
  {
   "cell_type": "markdown",
   "id": "52d59ad0",
   "metadata": {
    "papermill": {
     "duration": 0.021318,
     "end_time": "2022-05-29T20:35:44.660983",
     "exception": false,
     "start_time": "2022-05-29T20:35:44.639665",
     "status": "completed"
    },
    "tags": []
   },
   "source": [
    "### **Encoding labels:** One-Hot"
   ]
  },
  {
   "cell_type": "code",
   "execution_count": 3,
   "id": "a7efe2a8",
   "metadata": {
    "execution": {
     "iopub.execute_input": "2022-05-29T20:35:44.704544Z",
     "iopub.status.busy": "2022-05-29T20:35:44.704328Z",
     "iopub.status.idle": "2022-05-29T20:35:49.806091Z",
     "shell.execute_reply": "2022-05-29T20:35:49.805391Z"
    },
    "papermill": {
     "duration": 5.125917,
     "end_time": "2022-05-29T20:35:49.808169",
     "exception": false,
     "start_time": "2022-05-29T20:35:44.682252",
     "status": "completed"
    },
    "tags": []
   },
   "outputs": [],
   "source": [
    "source_path = \"../input/amazon-satellite/raw-data\"\n",
    "source_path_Labels = os.path.join(source_path, 'train_v2.csv')\n",
    "source_path_Images = os.path.join(source_path, 'train-jpg')\n",
    "\n",
    "df_Raw = pd.read_csv(source_path_Labels)\n",
    "LabelList = Get_ListOfLabels(df_Raw.tags)\n",
    "\n",
    "Get_LabelEncodedArray(df_Raw.tags, LabelList)\n",
    "df_Dataset = pd.DataFrame(Get_LabelEncodedArray(df_Raw.tags, LabelList), columns=LabelList)\n",
    "df_Dataset['filename'] = df_Raw.image_name.to_list()\n",
    "df_Dataset['filename'] = df_Dataset['filename']+'.jpg'\n",
    "df_Dataset = df_Dataset.loc[: , ['filename']+LabelList]"
   ]
  },
  {
   "cell_type": "markdown",
   "id": "47f55a01",
   "metadata": {
    "papermill": {
     "duration": 0.021972,
     "end_time": "2022-05-29T20:35:49.854054",
     "exception": false,
     "start_time": "2022-05-29T20:35:49.832082",
     "status": "completed"
    },
    "tags": []
   },
   "source": [
    "## Data Exploration\n",
    "- Finding correlation between classes/labels and mutual exclusivity"
   ]
  },
  {
   "cell_type": "code",
   "execution_count": 4,
   "id": "50111215",
   "metadata": {
    "execution": {
     "iopub.execute_input": "2022-05-29T20:35:49.898805Z",
     "iopub.status.busy": "2022-05-29T20:35:49.898565Z",
     "iopub.status.idle": "2022-05-29T20:35:49.952845Z",
     "shell.execute_reply": "2022-05-29T20:35:49.952022Z"
    },
    "papermill": {
     "duration": 0.080537,
     "end_time": "2022-05-29T20:35:49.956478",
     "exception": false,
     "start_time": "2022-05-29T20:35:49.875941",
     "status": "completed"
    },
    "tags": []
   },
   "outputs": [
    {
     "name": "stdout",
     "output_type": "stream",
     "text": [
      "                   agriculture  artisinal_mine  bare_ground  blooming  \\\n",
      "agriculture           1.000000             NaN          NaN       NaN   \n",
      "artisinal_mine             NaN             1.0          NaN       NaN   \n",
      "bare_ground                NaN             NaN          1.0       NaN   \n",
      "blooming                   NaN             NaN          NaN       1.0   \n",
      "blow_down                  NaN             NaN          NaN       NaN   \n",
      "clear                      NaN             NaN          NaN       NaN   \n",
      "cloudy                     NaN             NaN          NaN       NaN   \n",
      "conventional_mine          NaN             NaN          NaN       NaN   \n",
      "cultivation           0.344964             NaN          NaN       NaN   \n",
      "habitation            0.303979             NaN          NaN       NaN   \n",
      "haze                       NaN             NaN          NaN       NaN   \n",
      "partly_cloudy              NaN             NaN          NaN       NaN   \n",
      "primary                    NaN             NaN          NaN       NaN   \n",
      "road                  0.480930             NaN          NaN       NaN   \n",
      "selective_logging          NaN             NaN          NaN       NaN   \n",
      "slash_burn                 NaN             NaN          NaN       NaN   \n",
      "water                      NaN             NaN          NaN       NaN   \n",
      "\n",
      "                   blow_down  clear  cloudy  conventional_mine  cultivation  \\\n",
      "agriculture              NaN    NaN     NaN                NaN     0.344964   \n",
      "artisinal_mine           NaN    NaN     NaN                NaN          NaN   \n",
      "bare_ground              NaN    NaN     NaN                NaN          NaN   \n",
      "blooming                 NaN    NaN     NaN                NaN          NaN   \n",
      "blow_down                1.0    NaN     NaN                NaN          NaN   \n",
      "clear                    NaN    1.0     NaN                NaN          NaN   \n",
      "cloudy                   NaN    NaN     1.0                NaN          NaN   \n",
      "conventional_mine        NaN    NaN     NaN                1.0          NaN   \n",
      "cultivation              NaN    NaN     NaN                NaN     1.000000   \n",
      "habitation               NaN    NaN     NaN                NaN          NaN   \n",
      "haze                     NaN    NaN     NaN                NaN          NaN   \n",
      "partly_cloudy            NaN    NaN     NaN                NaN          NaN   \n",
      "primary                  NaN    NaN     NaN                NaN          NaN   \n",
      "road                     NaN    NaN     NaN                NaN          NaN   \n",
      "selective_logging        NaN    NaN     NaN                NaN          NaN   \n",
      "slash_burn               NaN    NaN     NaN                NaN          NaN   \n",
      "water                    NaN    NaN     NaN                NaN          NaN   \n",
      "\n",
      "                   habitation  haze  partly_cloudy  primary      road  \\\n",
      "agriculture          0.303979   NaN            NaN      NaN  0.480930   \n",
      "artisinal_mine            NaN   NaN            NaN      NaN       NaN   \n",
      "bare_ground               NaN   NaN            NaN      NaN       NaN   \n",
      "blooming                  NaN   NaN            NaN      NaN       NaN   \n",
      "blow_down                 NaN   NaN            NaN      NaN       NaN   \n",
      "clear                     NaN   NaN            NaN      NaN       NaN   \n",
      "cloudy                    NaN   NaN            NaN      NaN       NaN   \n",
      "conventional_mine         NaN   NaN            NaN      NaN       NaN   \n",
      "cultivation               NaN   NaN            NaN      NaN       NaN   \n",
      "habitation           1.000000   NaN            NaN      NaN  0.443341   \n",
      "haze                      NaN   1.0            NaN      NaN       NaN   \n",
      "partly_cloudy             NaN   NaN            1.0      NaN       NaN   \n",
      "primary                   NaN   NaN            NaN      1.0       NaN   \n",
      "road                 0.443341   NaN            NaN      NaN  1.000000   \n",
      "selective_logging         NaN   NaN            NaN      NaN       NaN   \n",
      "slash_burn                NaN   NaN            NaN      NaN       NaN   \n",
      "water                     NaN   NaN            NaN      NaN       NaN   \n",
      "\n",
      "                   selective_logging  slash_burn  water  \n",
      "agriculture                      NaN         NaN    NaN  \n",
      "artisinal_mine                   NaN         NaN    NaN  \n",
      "bare_ground                      NaN         NaN    NaN  \n",
      "blooming                         NaN         NaN    NaN  \n",
      "blow_down                        NaN         NaN    NaN  \n",
      "clear                            NaN         NaN    NaN  \n",
      "cloudy                           NaN         NaN    NaN  \n",
      "conventional_mine                NaN         NaN    NaN  \n",
      "cultivation                      NaN         NaN    NaN  \n",
      "habitation                       NaN         NaN    NaN  \n",
      "haze                             NaN         NaN    NaN  \n",
      "partly_cloudy                    NaN         NaN    NaN  \n",
      "primary                          NaN         NaN    NaN  \n",
      "road                             NaN         NaN    NaN  \n",
      "selective_logging                1.0         NaN    NaN  \n",
      "slash_burn                       NaN         1.0    NaN  \n",
      "water                            NaN         NaN    1.0  \n"
     ]
    }
   ],
   "source": [
    "# Find labels with high correlation\n",
    "df_corr = df_Dataset.corr()\n",
    "print(df_corr[df_corr>0.3])"
   ]
  },
  {
   "cell_type": "code",
   "execution_count": 5,
   "id": "3637ae02",
   "metadata": {
    "execution": {
     "iopub.execute_input": "2022-05-29T20:35:50.004290Z",
     "iopub.status.busy": "2022-05-29T20:35:50.003872Z",
     "iopub.status.idle": "2022-05-29T20:35:50.047979Z",
     "shell.execute_reply": "2022-05-29T20:35:50.047300Z"
    },
    "papermill": {
     "duration": 0.070204,
     "end_time": "2022-05-29T20:35:50.050696",
     "exception": false,
     "start_time": "2022-05-29T20:35:49.980492",
     "status": "completed"
    },
    "tags": []
   },
   "outputs": [
    {
     "name": "stdout",
     "output_type": "stream",
     "text": [
      "                   agriculture  artisinal_mine  bare_ground  blooming  \\\n",
      "agriculture                NaN             NaN          NaN       NaN   \n",
      "artisinal_mine             NaN             NaN          NaN       NaN   \n",
      "bare_ground                NaN             NaN          NaN       NaN   \n",
      "blooming                   NaN             NaN          NaN       NaN   \n",
      "blow_down                  NaN             NaN          NaN       NaN   \n",
      "clear                      NaN             NaN          NaN       NaN   \n",
      "cloudy                     NaN             NaN          NaN       NaN   \n",
      "conventional_mine          NaN             NaN          NaN       NaN   \n",
      "cultivation                NaN             NaN          NaN       NaN   \n",
      "habitation                 NaN             NaN          NaN       NaN   \n",
      "haze                       NaN             NaN          NaN       NaN   \n",
      "partly_cloudy              NaN             NaN          NaN       NaN   \n",
      "primary                    NaN             NaN          NaN       NaN   \n",
      "road                       NaN             NaN          NaN       NaN   \n",
      "selective_logging          NaN             NaN          NaN       NaN   \n",
      "slash_burn                 NaN             NaN          NaN       NaN   \n",
      "water                      NaN             NaN          NaN       NaN   \n",
      "\n",
      "                   blow_down     clear    cloudy  conventional_mine  \\\n",
      "agriculture              NaN       NaN       NaN                NaN   \n",
      "artisinal_mine           NaN       NaN       NaN                NaN   \n",
      "bare_ground              NaN       NaN       NaN                NaN   \n",
      "blooming                 NaN       NaN       NaN                NaN   \n",
      "blow_down                NaN       NaN       NaN                NaN   \n",
      "clear                    NaN       NaN -0.358343                NaN   \n",
      "cloudy                   NaN -0.358343       NaN                NaN   \n",
      "conventional_mine        NaN       NaN       NaN                NaN   \n",
      "cultivation              NaN       NaN       NaN                NaN   \n",
      "habitation               NaN       NaN       NaN                NaN   \n",
      "haze                     NaN -0.410428       NaN                NaN   \n",
      "partly_cloudy            NaN -0.718208       NaN                NaN   \n",
      "primary                  NaN       NaN -0.829594                NaN   \n",
      "road                     NaN       NaN       NaN                NaN   \n",
      "selective_logging        NaN       NaN       NaN                NaN   \n",
      "slash_burn               NaN       NaN       NaN                NaN   \n",
      "water                    NaN       NaN       NaN                NaN   \n",
      "\n",
      "                   cultivation  habitation      haze  partly_cloudy   primary  \\\n",
      "agriculture                NaN         NaN       NaN            NaN       NaN   \n",
      "artisinal_mine             NaN         NaN       NaN            NaN       NaN   \n",
      "bare_ground                NaN         NaN       NaN            NaN       NaN   \n",
      "blooming                   NaN         NaN       NaN            NaN       NaN   \n",
      "blow_down                  NaN         NaN       NaN            NaN       NaN   \n",
      "clear                      NaN         NaN -0.410428      -0.718208       NaN   \n",
      "cloudy                     NaN         NaN       NaN            NaN -0.829594   \n",
      "conventional_mine          NaN         NaN       NaN            NaN       NaN   \n",
      "cultivation                NaN         NaN       NaN            NaN       NaN   \n",
      "habitation                 NaN         NaN       NaN            NaN       NaN   \n",
      "haze                       NaN         NaN       NaN            NaN       NaN   \n",
      "partly_cloudy              NaN         NaN       NaN            NaN       NaN   \n",
      "primary                    NaN         NaN       NaN            NaN       NaN   \n",
      "road                       NaN         NaN       NaN            NaN       NaN   \n",
      "selective_logging          NaN         NaN       NaN            NaN       NaN   \n",
      "slash_burn                 NaN         NaN       NaN            NaN       NaN   \n",
      "water                      NaN         NaN       NaN            NaN       NaN   \n",
      "\n",
      "                   road  selective_logging  slash_burn  water  \n",
      "agriculture         NaN                NaN         NaN    NaN  \n",
      "artisinal_mine      NaN                NaN         NaN    NaN  \n",
      "bare_ground         NaN                NaN         NaN    NaN  \n",
      "blooming            NaN                NaN         NaN    NaN  \n",
      "blow_down           NaN                NaN         NaN    NaN  \n",
      "clear               NaN                NaN         NaN    NaN  \n",
      "cloudy              NaN                NaN         NaN    NaN  \n",
      "conventional_mine   NaN                NaN         NaN    NaN  \n",
      "cultivation         NaN                NaN         NaN    NaN  \n",
      "habitation          NaN                NaN         NaN    NaN  \n",
      "haze                NaN                NaN         NaN    NaN  \n",
      "partly_cloudy       NaN                NaN         NaN    NaN  \n",
      "primary             NaN                NaN         NaN    NaN  \n",
      "road                NaN                NaN         NaN    NaN  \n",
      "selective_logging   NaN                NaN         NaN    NaN  \n",
      "slash_burn          NaN                NaN         NaN    NaN  \n",
      "water               NaN                NaN         NaN    NaN  \n"
     ]
    }
   ],
   "source": [
    "# Find labels with low correlation\n",
    "df_corr = df_Dataset.corr()\n",
    "print(df_corr[df_corr<-0.2])"
   ]
  },
  {
   "cell_type": "code",
   "execution_count": 6,
   "id": "22b16b67",
   "metadata": {
    "execution": {
     "iopub.execute_input": "2022-05-29T20:35:50.098367Z",
     "iopub.status.busy": "2022-05-29T20:35:50.097635Z",
     "iopub.status.idle": "2022-05-29T20:35:50.132476Z",
     "shell.execute_reply": "2022-05-29T20:35:50.131521Z"
    },
    "papermill": {
     "duration": 0.060991,
     "end_time": "2022-05-29T20:35:50.134841",
     "exception": false,
     "start_time": "2022-05-29T20:35:50.073850",
     "status": "completed"
    },
    "tags": []
   },
   "outputs": [
    {
     "name": "stdout",
     "output_type": "stream",
     "text": [
      "Images labelled as clear AND haze:\t\t\t0\n",
      "Images labelled as clear AND partly_cloudy:\t\t0\n",
      "Images labelled as clear AND cloudy:\t\t\t0\n",
      "Images labelled as haze AND partly_cloudy:\t\t0\n",
      "Images labelled as haze AND cloudy:\t\t\t0\n",
      "Images labelled as partly_cloudy AND cloudy:\t\t0\n",
      "\n",
      "Images with any of these 4 labels:\t40478\n",
      "Images without any of these 4 labels:\t1\n",
      "total number of images:\t\t\t40479\n"
     ]
    }
   ],
   "source": [
    "# Verify mutual exclusivity of 4 labels: clear, haze, partly_cloudy, cloudy\n",
    "\n",
    "print('Images labelled as clear AND haze:\\t\\t\\t'+str(df_Dataset.loc[(df_Dataset['clear']==1.0) & (df_Dataset['haze']==1.0)]['filename'].count()))\n",
    "print('Images labelled as clear AND partly_cloudy:\\t\\t'+str(df_Dataset.loc[(df_Dataset['clear']==1.0) & (df_Dataset['partly_cloudy']==1.0)]['filename'].count()))\n",
    "print('Images labelled as clear AND cloudy:\\t\\t\\t'+str(df_Dataset.loc[(df_Dataset['clear']==1.0) & (df_Dataset['cloudy']==1.0)]['filename'].count()))\n",
    "print('Images labelled as haze AND partly_cloudy:\\t\\t'+str(df_Dataset.loc[(df_Dataset['haze']==1.0) & (df_Dataset['partly_cloudy']==1.0)]['filename'].count()))\n",
    "print('Images labelled as haze AND cloudy:\\t\\t\\t'+str(df_Dataset.loc[(df_Dataset['haze']==1.0) & (df_Dataset['cloudy']==1.0)]['filename'].count()))\n",
    "print('Images labelled as partly_cloudy AND cloudy:\\t\\t'+str(df_Dataset.loc[(df_Dataset['partly_cloudy']==1.0) & (df_Dataset['cloudy']==1.0)]['filename'].count()))\n",
    "\n",
    "print('\\nImages with any of these 4 labels:\\t'+str(df_Dataset.loc[(df_Dataset['clear']==1.0) | (df_Dataset['haze']==1.0) | (df_Dataset['partly_cloudy']==1.0) | (df_Dataset['cloudy']==1.0)]['filename'].count()))\n",
    "print('Images without any of these 4 labels:\\t'+str(df_Dataset.loc[~((df_Dataset['clear']==1.0) | (df_Dataset['haze']==1.0) | (df_Dataset['partly_cloudy']==1.0) | (df_Dataset['cloudy']==1.0))]['filename'].count()))\n",
    "print('total number of images:\\t\\t\\t'+str(df_Raw.tags.count()))"
   ]
  },
  {
   "cell_type": "code",
   "execution_count": 7,
   "id": "1a836842",
   "metadata": {
    "execution": {
     "iopub.execute_input": "2022-05-29T20:35:50.185045Z",
     "iopub.status.busy": "2022-05-29T20:35:50.184239Z",
     "iopub.status.idle": "2022-05-29T20:35:50.194893Z",
     "shell.execute_reply": "2022-05-29T20:35:50.193648Z"
    },
    "papermill": {
     "duration": 0.037328,
     "end_time": "2022-05-29T20:35:50.197111",
     "exception": false,
     "start_time": "2022-05-29T20:35:50.159783",
     "status": "completed"
    },
    "tags": []
   },
   "outputs": [
    {
     "name": "stdout",
     "output_type": "stream",
     "text": [
      "Images labelled as artisinal_mine AND conventional_mine: 4\n",
      "Images labelled as artisinal_mine OR conventional_mine: 435\n"
     ]
    }
   ],
   "source": [
    "# Verify mutual exclusivity of 4 labels: artisinal_mine and conventional_mine\n",
    "\n",
    "print('Images labelled as artisinal_mine AND conventional_mine: '+str(df_Dataset.loc[(df_Dataset['artisinal_mine']==1.0) & (df_Dataset['conventional_mine']==1.0)]['filename'].count()))\n",
    "print('Images labelled as artisinal_mine OR conventional_mine: '+str(df_Dataset.loc[(df_Dataset['artisinal_mine']==1.0) | (df_Dataset['conventional_mine']==1.0)]['filename'].count()))"
   ]
  },
  {
   "cell_type": "markdown",
   "id": "56de5160",
   "metadata": {
    "papermill": {
     "duration": 0.023357,
     "end_time": "2022-05-29T20:35:50.244881",
     "exception": false,
     "start_time": "2022-05-29T20:35:50.221524",
     "status": "completed"
    },
    "tags": []
   },
   "source": [
    "## Training and Validation Generators\n",
    "\n",
    "Now that you know the images you are dealing with, it is time for you to code the generators that will fed these images to your Network. For this, complete the `train_val_generators` function below:\n",
    "\n",
    "**Important Note:** The images have a resolution of 256x256 but the `flow_from_dataframe` method you will use allows you to set a target resolution. Lower resolution may yield much quicker training times without compromising the accuracy!"
   ]
  },
  {
   "cell_type": "code",
   "execution_count": 8,
   "id": "e600aaad",
   "metadata": {
    "execution": {
     "iopub.execute_input": "2022-05-29T20:35:50.294047Z",
     "iopub.status.busy": "2022-05-29T20:35:50.293791Z",
     "iopub.status.idle": "2022-05-29T20:35:50.314404Z",
     "shell.execute_reply": "2022-05-29T20:35:50.313608Z"
    },
    "papermill": {
     "duration": 0.047561,
     "end_time": "2022-05-29T20:35:50.316245",
     "exception": false,
     "start_time": "2022-05-29T20:35:50.268684",
     "status": "completed"
    },
    "tags": []
   },
   "outputs": [],
   "source": [
    "def generate_generator_multiple(generator, directory, df1, df2, df3, df4, df5, batch_size, target_size):\n",
    "    genX1 = generator.flow_from_dataframe(dataframe = df1,\n",
    "                                          directory=directory,\n",
    "                                          x_col=df1.columns[0],\n",
    "                                          y_col=df1.columns[1:len(df1.columns)],\n",
    "                                          target_size = target_size,\n",
    "                                          class_mode = 'raw',\n",
    "                                          batch_size = batch_size,\n",
    "                                          shuffle=False, \n",
    "                                          seed=7)\n",
    "    \n",
    "    genX2 = generator.flow_from_dataframe(dataframe = df2,\n",
    "                                          directory=directory,\n",
    "                                          x_col=df2.columns[0],\n",
    "                                          y_col=df2.columns[1:len(df2.columns)],\n",
    "                                          target_size = target_size,\n",
    "                                          class_mode = 'raw',\n",
    "                                          batch_size = batch_size,\n",
    "                                          shuffle=False, \n",
    "                                          seed=7)\n",
    "    \n",
    "    genX3 = generator.flow_from_dataframe(dataframe = df3,\n",
    "                                          directory=directory,\n",
    "                                          x_col=df3.columns[0],\n",
    "                                          y_col=df3.columns[1:len(df3.columns)],\n",
    "                                          target_size = target_size,\n",
    "                                          class_mode = 'raw',\n",
    "                                          batch_size = batch_size,\n",
    "                                          shuffle=False, \n",
    "                                          seed=7)\n",
    "    \n",
    "    genX4 = generator.flow_from_dataframe(dataframe = df4,\n",
    "                                          directory=directory,\n",
    "                                          x_col=df4.columns[0],\n",
    "                                          y_col=df4.columns[1:len(df4.columns)],\n",
    "                                          target_size = target_size,\n",
    "                                          class_mode = 'raw',\n",
    "                                          batch_size = batch_size,\n",
    "                                          shuffle=False, \n",
    "                                          seed=7)\n",
    "    \n",
    "    genX5 = generator.flow_from_dataframe(dataframe = df5,\n",
    "                                          directory=directory,\n",
    "                                          x_col=df5.columns[0],\n",
    "                                          y_col=df5.columns[1:len(df5.columns)],\n",
    "                                          target_size = target_size,\n",
    "                                          class_mode = 'raw',\n",
    "                                          batch_size = batch_size,\n",
    "                                          shuffle=False, \n",
    "                                          seed=7)\n",
    "    \n",
    "    for i in range(df1['filename'].count()):\n",
    "            X1i = genX1.next()\n",
    "            X2i = genX2.next()\n",
    "            X3i = genX3.next()\n",
    "            X4i = genX4.next()\n",
    "            X5i = genX5.next()\n",
    "            yield X1i[0],[X1i[1], X2i[1], X3i[1], X4i[1], X5i[1]]\n",
    "\n",
    "\n",
    "            \n",
    "            \n",
    "            \n",
    "# Get Data Generators\n",
    "def train_val_generators(DIRECTORY, df_Train, df_Validation):\n",
    "    \n",
    "  # Instantiate the ImageDataGenerator class \n",
    "  # Don't forget to normalize pixel values and set arguments to augment the images \n",
    "  train_datagen = ImageDataGenerator(rescale=1.0/255.0,\n",
    "                                     rotation_range=45,\n",
    "                                     width_shift_range=0.2,\n",
    "                                     height_shift_range=0.2,\n",
    "                                     zoom_range=0.15,\n",
    "                                     horizontal_flip=True,\n",
    "                                     fill_mode='nearest')\n",
    "\n",
    "# create generator\n",
    "  df_vis = df_Train.loc[:, ['filename', 'clear', 'haze', 'partly_cloudy', 'cloudy']]\n",
    "  df_hum = df_Train.loc[:, ['filename', 'agriculture', 'cultivation', 'habitation']]\n",
    "  df_rw  = df_Train.loc[:, ['filename', 'road', 'water']]\n",
    "  df_prim = df_Train.loc[:, ['filename', 'primary']]\n",
    "  df_rem = df_Train.loc[:, ['filename', 'artisinal_mine', 'bare_ground', 'blooming', 'blow_down', 'conventional_mine', 'selective_logging', 'slash_burn']]\n",
    "\n",
    "  train_generator = generate_generator_multiple(train_datagen, DIRECTORY, df_vis, df_hum, df_rw, df_prim, df_rem, 32, (256, 256))\n",
    "    \n",
    "#   train_generator = train_datagen.flow_from_dataframe(dataframe=df_Train,\n",
    "#                                                       directory=DIRECTORY,\n",
    "#                                                       x_col=df_Train.columns[0],\n",
    "#                                                       y_col=df_Train.columns[1:len(df_Train.columns)],\n",
    "#                                                       batch_size=32, \n",
    "#                                                       class_mode='raw',\n",
    "#                                                       target_size=(256, 256))\n",
    "\n",
    "  # Instantiate the ImageDataGenerator class (set the rescale argument)\n",
    "  # Validation data not augmented\n",
    "  validation_datagen = ImageDataGenerator(rescale=1.0/255.0)\n",
    "    \n",
    "  df_vis = df_ValData.loc[:, ['filename', 'clear', 'haze', 'partly_cloudy', 'cloudy']]\n",
    "  df_hum = df_ValData.loc[:, ['filename', 'agriculture', 'cultivation', 'habitation']]\n",
    "  df_rw  = df_ValData.loc[:, ['filename', 'road', 'water']]\n",
    "  df_prim = df_ValData.loc[:, ['filename', 'primary']]\n",
    "  df_rem = df_ValData.loc[:, ['filename', 'artisinal_mine', 'bare_ground', 'blooming', 'blow_down', 'conventional_mine', 'selective_logging', 'slash_burn']]\n",
    "\n",
    "  validation_generator = generate_generator_multiple(validation_datagen, DIRECTORY, df_vis, df_hum, df_rw, df_prim, df_rem, 32, (256, 256))\n",
    "  \n",
    "#   flow_from_dataframe method\n",
    "#   validation_generator = validation_datagen.flow_from_dataframe(dataframe=df_Validation,\n",
    "#                                                                 directory=DIRECTORY,\n",
    "#                                                                 x_col=df_ValData.columns[0],\n",
    "#                                                                 y_col=df_ValData.columns[1:len(df_ValData.columns)],\n",
    "#                                                                 batch_size=32,\n",
    "#                                                                 class_mode='raw',\n",
    "#                                                                 target_size=(256, 256))\n",
    "  return train_generator, validation_generator"
   ]
  },
  {
   "cell_type": "code",
   "execution_count": 9,
   "id": "ce05b75b",
   "metadata": {
    "execution": {
     "iopub.execute_input": "2022-05-29T20:35:50.365640Z",
     "iopub.status.busy": "2022-05-29T20:35:50.365195Z",
     "iopub.status.idle": "2022-05-29T20:35:50.414468Z",
     "shell.execute_reply": "2022-05-29T20:35:50.413584Z"
    },
    "papermill": {
     "duration": 0.076922,
     "end_time": "2022-05-29T20:35:50.417089",
     "exception": false,
     "start_time": "2022-05-29T20:35:50.340167",
     "status": "completed"
    },
    "tags": []
   },
   "outputs": [],
   "source": [
    "# Split Data\n",
    "TrainToValidation_DataSize_Ratio = 0.8\n",
    "df_TrainData, df_ValData = SplitData(df_Dataset, TrainToValidation_DataSize_Ratio)\n",
    "\n",
    "# Test Generators\n",
    "train_generator, validation_generator = train_val_generators(source_path_Images, df_TrainData, df_ValData)"
   ]
  },
  {
   "cell_type": "markdown",
   "id": "87ff24d4",
   "metadata": {
    "papermill": {
     "duration": 0.02746,
     "end_time": "2022-05-29T20:35:50.474951",
     "exception": false,
     "start_time": "2022-05-29T20:35:50.447491",
     "status": "completed"
    },
    "tags": []
   },
   "source": [
    "## Test Image Data Generator and Label Encoding\n",
    "- Verify if functions are working and visualize data"
   ]
  },
  {
   "cell_type": "code",
   "execution_count": 10,
   "id": "b122f9cc",
   "metadata": {
    "execution": {
     "iopub.execute_input": "2022-05-29T20:35:50.525651Z",
     "iopub.status.busy": "2022-05-29T20:35:50.525197Z",
     "iopub.status.idle": "2022-05-29T20:35:50.528597Z",
     "shell.execute_reply": "2022-05-29T20:35:50.527952Z"
    },
    "papermill": {
     "duration": 0.029701,
     "end_time": "2022-05-29T20:35:50.530261",
     "exception": false,
     "start_time": "2022-05-29T20:35:50.500560",
     "status": "completed"
    },
    "tags": []
   },
   "outputs": [],
   "source": [
    "# data_index = 0\n",
    "\n",
    "# print(pd.DataFrame(np.array([LabelList, validation_generator.labels[data_index]]).transpose()).to_string(index=False))\n",
    "# print(\"\\nFile name:\\t\"+validation_generator.filenames[data_index])\n",
    "# print(\"Labels:\\t\\t\"+OneHotToStringLabels(validation_generator.labels[data_index], LabelList, ' ')+'\\n')\n",
    "\n",
    "# img = mpimg.imread(os.path.join(source_path_Images, validation_generator.filenames[data_index]))\n",
    "# img = img[:,:,:3]\n",
    "# plt.imshow(img)"
   ]
  },
  {
   "cell_type": "markdown",
   "id": "0cb2f79c",
   "metadata": {
    "papermill": {
     "duration": 0.022824,
     "end_time": "2022-05-29T20:35:50.576041",
     "exception": false,
     "start_time": "2022-05-29T20:35:50.553217",
     "status": "completed"
    },
    "tags": []
   },
   "source": [
    "## Model Definition\n",
    "- Import InceptionV3 weights and define layers connected\n",
    "- Import VGG19 weights and define layers connected"
   ]
  },
  {
   "cell_type": "code",
   "execution_count": 11,
   "id": "40822d62",
   "metadata": {
    "execution": {
     "iopub.execute_input": "2022-05-29T20:35:50.626287Z",
     "iopub.status.busy": "2022-05-29T20:35:50.625784Z",
     "iopub.status.idle": "2022-05-29T20:35:50.654491Z",
     "shell.execute_reply": "2022-05-29T20:35:50.653792Z"
    },
    "papermill": {
     "duration": 0.056142,
     "end_time": "2022-05-29T20:35:50.656174",
     "exception": false,
     "start_time": "2022-05-29T20:35:50.600032",
     "status": "completed"
    },
    "tags": []
   },
   "outputs": [],
   "source": [
    "from tensorflow.keras.optimizers import RMSprop\n",
    "from tensorflow.keras.optimizers import Adam\n",
    "import tensorflow_addons as tfa\n",
    "\n",
    "def create_model():\n",
    "    \n",
    "    Input = tf.keras.Input(shape=(256, 256, 3))\n",
    "    \n",
    "#     #Load InceptionResNetV2 Model\n",
    "    Model_1 = tf.keras.applications.InceptionResNetV2(input_tensor = Input, include_top = False, weights=\"imagenet\")\n",
    "    #Make all layers on InceptionResNetV2 trainable\n",
    "    for layer in Model_1.layers:\n",
    "        layer.trainable = True\n",
    "    x_Model_1 = Model_1(Input)\n",
    "    x_Model_1_Flat = tf.keras.layers.Flatten(name='Flatten_Model_1')(x_Model_1)\n",
    "    \n",
    "    \n",
    "#     #Load VGG19 Model\n",
    "    Model_2 = tf.keras.applications.VGG19(input_tensor = Input, include_top=False, weights=\"imagenet\")\n",
    "    #Make all layers on VGG19 trainable\n",
    "    for layer in Model_2.layers:\n",
    "            layer.trainable = True\n",
    "    x_Model_2 = Model_2(Input)\n",
    "    x_Model_2_Flat = tf.keras.layers.Flatten(name='Flatten_Model_2')(x_Model_2)\n",
    "    \n",
    "    \n",
    "    x_Top = tf.keras.layers.Concatenate(name='ConcatenateFlatten_Layer')([x_Model_1_Flat, x_Model_2_Flat])\n",
    "    x_Top = tf.keras.layers.Dense(1024)(x_Top)\n",
    "    \n",
    "    #Define Visibility Branch\n",
    "    # x_vis[0] -> clear\n",
    "    # x_vis[1] -> haze\n",
    "    # x_vis[2] -> partly_cloudy\n",
    "    # x_vis[3] -> cloudy\n",
    "    x_vis = tf.keras.layers.Dense(512, activation='relu')(x_Top)\n",
    "    x_vis = tf.keras.layers.BatchNormalization()(x_vis)\n",
    "    x_vis = tf.keras.layers.Dropout(0.4)(x_vis)\n",
    "    x_vis = tf.keras.layers.Dense(512, activation='relu')(x_vis)\n",
    "    x_vis = tf.keras.layers.BatchNormalization()(x_vis)\n",
    "    x_vis = tf.keras.layers.Dropout(0.4)(x_vis)\n",
    "    x_vis = tf.keras.layers.Dense(256, activation='relu')(x_vis)\n",
    "    x_vis = tf.keras.layers.BatchNormalization()(x_vis)\n",
    "    x_vis = tf.keras.layers.Dropout(0.4)(x_vis)\n",
    "    x_vis = tf.keras.layers.Dense(4, activation='softmax', name = 'visibility')(x_vis)\n",
    "    \n",
    "    #Define Human Activity Branch\n",
    "    # x_hum[0] -> agriculture\n",
    "    # x_hum[1] -> cultivation\n",
    "    # x_hum[2] -> habitation\n",
    "    x_hum = tf.keras.layers.Dense(512, activation='relu')(x_Top)\n",
    "    x_hum = tf.keras.layers.BatchNormalization()(x_hum)\n",
    "    x_hum = tf.keras.layers.Dropout(0.4)(x_hum)\n",
    "    x_hum = tf.keras.layers.Dense(512, activation='relu')(x_hum)\n",
    "    x_hum = tf.keras.layers.BatchNormalization()(x_hum)\n",
    "    x_hum = tf.keras.layers.Dropout(0.4)(x_hum)\n",
    "    x_hum = tf.keras.layers.Dense(256, activation='relu')(x_hum)\n",
    "    x_hum = tf.keras.layers.BatchNormalization()(x_hum)\n",
    "    x_hum = tf.keras.layers.Dropout(0.4)(x_hum)\n",
    "    x_hum = tf.keras.layers.Dense(3, activation='sigmoid', name='human_activity')(x_hum)\n",
    "    \n",
    "    #Define Track Branch (Road or Water)\n",
    "    # x_rw[0] -> road\n",
    "    # x_rw[1] -> water\n",
    "    x_rw = tf.keras.layers.Dense(512, activation='relu')(x_Top)\n",
    "    x_rw = tf.keras.layers.BatchNormalization()(x_rw)\n",
    "    x_rw = tf.keras.layers.Dropout(0.4)(x_rw)\n",
    "    x_rw = tf.keras.layers.Dense(512, activation='relu')(x_rw)\n",
    "    x_rw = tf.keras.layers.BatchNormalization()(x_rw)\n",
    "    x_rw = tf.keras.layers.Dropout(0.4)(x_rw)\n",
    "    x_rw = tf.keras.layers.Dense(256, activation='relu')(x_rw)\n",
    "    x_rw = tf.keras.layers.BatchNormalization()(x_rw)\n",
    "    x_rw = tf.keras.layers.Dropout(0.4)(x_rw)\n",
    "    x_rw = tf.keras.layers.Dense(2, activation='sigmoid', name='road_water')(x_rw)\n",
    "    \n",
    "    #Define Primary Branch\n",
    "    #x_primary[0] -> primary\n",
    "    x_prim = tf.keras.layers.Dense(512, activation='relu')(x_Top)\n",
    "    x_prim = tf.keras.layers.BatchNormalization()(x_prim)\n",
    "    x_prim = tf.keras.layers.Dropout(0.4)(x_prim)\n",
    "    x_prim = tf.keras.layers.Dense(512, activation='relu')(x_prim)\n",
    "    x_prim = tf.keras.layers.BatchNormalization()(x_prim)\n",
    "    x_prim = tf.keras.layers.Dropout(0.4)(x_prim)\n",
    "    x_prim = tf.keras.layers.Dense(256, activation='relu')(x_prim)\n",
    "    x_prim = tf.keras.layers.BatchNormalization()(x_prim)\n",
    "    x_prim = tf.keras.layers.Dropout(0.4)(x_prim)\n",
    "    x_prim = tf.keras.layers.Dense(1, activation='sigmoid', name='primary')(x_prim)\n",
    "    \n",
    "    \n",
    "    #Define Remaining Branch\n",
    "    #x_mine[0] -> artisinal_mine\n",
    "    # x_rem[1] -> bare_ground\n",
    "    # x_rem[2] -> blooming\n",
    "    # x_rem[3] -> blow_down\n",
    "    #x_mine[4] -> conventional_mine\n",
    "    # x_rem[5] -> selective_logging\n",
    "    # x_rem[6] -> slash_burn\n",
    "    x_rem = tf.keras.layers.Dense(512, activation='relu')(x_Top)\n",
    "    x_rem = tf.keras.layers.BatchNormalization()(x_rem)\n",
    "    x_rem = tf.keras.layers.Dropout(0.4)(x_rem)\n",
    "    x_rem = tf.keras.layers.Dense(512, activation='relu')(x_rem)\n",
    "    x_rem = tf.keras.layers.BatchNormalization()(x_rem)\n",
    "    x_rem = tf.keras.layers.Dropout(0.4)(x_rem)\n",
    "    x_rem = tf.keras.layers.Dense(256, activation='relu')(x_rem)\n",
    "    x_rem = tf.keras.layers.BatchNormalization()(x_rem)\n",
    "    x_rem = tf.keras.layers.Dropout(0.4)(x_rem)\n",
    "    x_rem = tf.keras.layers.Dense(7, activation='sigmoid', name='remaining')(x_rem)\n",
    "    \n",
    "    model = tf.keras.Model(inputs=Input, outputs=[x_vis, x_hum, x_rw, x_prim, x_rem])\n",
    "\n",
    "    model.compile(optimizer=Adam(lr=1e-4),\n",
    "                loss='binary_crossentropy',\n",
    "                metrics={\n",
    "                         'visibility': [tfa.metrics.FBetaScore(beta=2.0, num_classes=4 , average='micro', threshold=0.5)],\n",
    "                         'human_activity': [tfa.metrics.FBetaScore(beta=2.0, num_classes=3 , average='micro', threshold=0.5)],\n",
    "                         'road_water': [tfa.metrics.FBetaScore(beta=2.0, num_classes=2 , average='micro', threshold=0.5)],\n",
    "                         'primary': [tfa.metrics.FBetaScore(beta=2.0, num_classes=1 , average='micro', threshold=0.5)],\n",
    "                         'remaining': [tfa.metrics.FBetaScore(beta=2.0, num_classes=7 , average='micro', threshold=0.5)]\n",
    "                        }\n",
    "               ) \n",
    "    return model"
   ]
  },
  {
   "cell_type": "markdown",
   "id": "b6325333",
   "metadata": {
    "papermill": {
     "duration": 0.022925,
     "end_time": "2022-05-29T20:35:50.702399",
     "exception": false,
     "start_time": "2022-05-29T20:35:50.679474",
     "status": "completed"
    },
    "tags": []
   },
   "source": [
    "## Callback to stop training"
   ]
  },
  {
   "cell_type": "code",
   "execution_count": 12,
   "id": "18dffdf4",
   "metadata": {
    "execution": {
     "iopub.execute_input": "2022-05-29T20:35:50.750108Z",
     "iopub.status.busy": "2022-05-29T20:35:50.749533Z",
     "iopub.status.idle": "2022-05-29T20:35:50.754088Z",
     "shell.execute_reply": "2022-05-29T20:35:50.753432Z"
    },
    "papermill": {
     "duration": 0.030218,
     "end_time": "2022-05-29T20:35:50.755675",
     "exception": false,
     "start_time": "2022-05-29T20:35:50.725457",
     "status": "completed"
    },
    "tags": []
   },
   "outputs": [],
   "source": [
    "class myCallback(tf.keras.callbacks.Callback):\n",
    "    def on_epoch_end(self, epoch, logs={}):\n",
    "        print(\"\\nReached FBeta Score = \"+str(statistics.harmonic_mean([logs.get('val_visibility_fbeta_score'), logs.get('val_human_activity_fbeta_score'), logs.get('val_road_water_fbeta_score'), logs.get('val_primary_fbeta_score')])))"
   ]
  },
  {
   "cell_type": "markdown",
   "id": "e280f1c3",
   "metadata": {
    "papermill": {
     "duration": 0.022991,
     "end_time": "2022-05-29T20:35:50.802048",
     "exception": false,
     "start_time": "2022-05-29T20:35:50.779057",
     "status": "completed"
    },
    "tags": []
   },
   "source": [
    "## Model Training"
   ]
  },
  {
   "cell_type": "code",
   "execution_count": 13,
   "id": "93a26093",
   "metadata": {
    "execution": {
     "iopub.execute_input": "2022-05-29T20:35:50.849790Z",
     "iopub.status.busy": "2022-05-29T20:35:50.849278Z",
     "iopub.status.idle": "2022-05-30T03:53:36.883115Z",
     "shell.execute_reply": "2022-05-30T03:53:36.882317Z"
    },
    "papermill": {
     "duration": 26268.787485,
     "end_time": "2022-05-30T03:53:39.612666",
     "exception": false,
     "start_time": "2022-05-29T20:35:50.825181",
     "status": "completed"
    },
    "tags": []
   },
   "outputs": [
    {
     "name": "stderr",
     "output_type": "stream",
     "text": [
      "2022-05-29 20:35:50.942826: I tensorflow/stream_executor/cuda/cuda_gpu_executor.cc:937] successful NUMA node read from SysFS had negative value (-1), but there must be at least one NUMA node, so returning NUMA node zero\n",
      "2022-05-29 20:35:51.042400: I tensorflow/stream_executor/cuda/cuda_gpu_executor.cc:937] successful NUMA node read from SysFS had negative value (-1), but there must be at least one NUMA node, so returning NUMA node zero\n",
      "2022-05-29 20:35:51.043130: I tensorflow/stream_executor/cuda/cuda_gpu_executor.cc:937] successful NUMA node read from SysFS had negative value (-1), but there must be at least one NUMA node, so returning NUMA node zero\n",
      "2022-05-29 20:35:51.044202: I tensorflow/core/platform/cpu_feature_guard.cc:142] This TensorFlow binary is optimized with oneAPI Deep Neural Network Library (oneDNN) to use the following CPU instructions in performance-critical operations:  AVX2 AVX512F FMA\n",
      "To enable them in other operations, rebuild TensorFlow with the appropriate compiler flags.\n",
      "2022-05-29 20:35:51.044501: I tensorflow/stream_executor/cuda/cuda_gpu_executor.cc:937] successful NUMA node read from SysFS had negative value (-1), but there must be at least one NUMA node, so returning NUMA node zero\n",
      "2022-05-29 20:35:51.045170: I tensorflow/stream_executor/cuda/cuda_gpu_executor.cc:937] successful NUMA node read from SysFS had negative value (-1), but there must be at least one NUMA node, so returning NUMA node zero\n",
      "2022-05-29 20:35:51.045786: I tensorflow/stream_executor/cuda/cuda_gpu_executor.cc:937] successful NUMA node read from SysFS had negative value (-1), but there must be at least one NUMA node, so returning NUMA node zero\n",
      "2022-05-29 20:35:53.162954: I tensorflow/stream_executor/cuda/cuda_gpu_executor.cc:937] successful NUMA node read from SysFS had negative value (-1), but there must be at least one NUMA node, so returning NUMA node zero\n",
      "2022-05-29 20:35:53.163844: I tensorflow/stream_executor/cuda/cuda_gpu_executor.cc:937] successful NUMA node read from SysFS had negative value (-1), but there must be at least one NUMA node, so returning NUMA node zero\n",
      "2022-05-29 20:35:53.164510: I tensorflow/stream_executor/cuda/cuda_gpu_executor.cc:937] successful NUMA node read from SysFS had negative value (-1), but there must be at least one NUMA node, so returning NUMA node zero\n",
      "2022-05-29 20:35:53.165814: I tensorflow/core/common_runtime/gpu/gpu_device.cc:1510] Created device /job:localhost/replica:0/task:0/device:GPU:0 with 15403 MB memory:  -> device: 0, name: Tesla P100-PCIE-16GB, pci bus id: 0000:00:04.0, compute capability: 6.0\n"
     ]
    },
    {
     "name": "stdout",
     "output_type": "stream",
     "text": [
      "Downloading data from https://storage.googleapis.com/tensorflow/keras-applications/inception_resnet_v2/inception_resnet_v2_weights_tf_dim_ordering_tf_kernels_notop.h5\n",
      "219062272/219055592 [==============================] - 1s 0us/step\n",
      "219070464/219055592 [==============================] - 1s 0us/step\n",
      "Downloading data from https://storage.googleapis.com/tensorflow/keras-applications/vgg19/vgg19_weights_tf_dim_ordering_tf_kernels_notop.h5\n",
      "80142336/80134624 [==============================] - 0s 0us/step\n",
      "80150528/80134624 [==============================] - 0s 0us/step\n"
     ]
    },
    {
     "name": "stderr",
     "output_type": "stream",
     "text": [
      "/opt/conda/lib/python3.7/site-packages/keras/optimizer_v2/optimizer_v2.py:356: UserWarning: The `lr` argument is deprecated, use `learning_rate` instead.\n",
      "  \"The `lr` argument is deprecated, use `learning_rate` instead.\")\n",
      "/opt/conda/lib/python3.7/site-packages/keras/engine/training.py:1972: UserWarning: `Model.fit_generator` is deprecated and will be removed in a future version. Please use `Model.fit`, which supports generators.\n",
      "  warnings.warn('`Model.fit_generator` is deprecated and '\n"
     ]
    },
    {
     "name": "stdout",
     "output_type": "stream",
     "text": [
      "Found 32383 validated image filenames.\n",
      "Found 32383 validated image filenames.\n",
      "Found 32383 validated image filenames.\n",
      "Found 32383 validated image filenames.\n",
      "Found 32383 validated image filenames.\n"
     ]
    },
    {
     "name": "stderr",
     "output_type": "stream",
     "text": [
      "2022-05-29 20:37:16.883154: I tensorflow/compiler/mlir/mlir_graph_optimization_pass.cc:185] None of the MLIR Optimization Passes are enabled (registered 2)\n"
     ]
    },
    {
     "name": "stdout",
     "output_type": "stream",
     "text": [
      "Epoch 1/20\n"
     ]
    },
    {
     "name": "stderr",
     "output_type": "stream",
     "text": [
      "2022-05-29 20:37:40.083090: I tensorflow/stream_executor/cuda/cuda_dnn.cc:369] Loaded cuDNN version 8005\n"
     ]
    },
    {
     "name": "stdout",
     "output_type": "stream",
     "text": [
      "1012/1012 [==============================] - ETA: 0s - loss: 3.1758 - visibility_loss: 0.6321 - human_activity_loss: 0.6556 - road_water_loss: 0.6370 - primary_loss: 0.5564 - remaining_loss: 0.6947 - visibility_fbeta_score: 0.5416 - human_activity_fbeta_score: 0.4929 - road_water_fbeta_score: 0.5145 - primary_fbeta_score: 0.8107 - remaining_fbeta_score: 0.0409Found 8096 validated image filenames.\n",
      "Found 8096 validated image filenames.\n",
      "Found 8096 validated image filenames.\n",
      "Found 8096 validated image filenames.\n",
      "Found 8096 validated image filenames.\n",
      "1012/1012 [==============================] - 2945s 3s/step - loss: 3.1758 - visibility_loss: 0.6321 - human_activity_loss: 0.6556 - road_water_loss: 0.6370 - primary_loss: 0.5564 - remaining_loss: 0.6947 - visibility_fbeta_score: 0.5416 - human_activity_fbeta_score: 0.4929 - road_water_fbeta_score: 0.5145 - primary_fbeta_score: 0.8107 - remaining_fbeta_score: 0.0409 - val_loss: 2.7643 - val_visibility_loss: 0.8845 - val_human_activity_loss: 0.3671 - val_road_water_loss: 0.4305 - val_primary_loss: 0.6240 - val_remaining_loss: 0.4582 - val_visibility_fbeta_score: 0.2183 - val_human_activity_fbeta_score: 0.1526 - val_road_water_fbeta_score: 0.1497 - val_primary_fbeta_score: 0.6282 - val_remaining_fbeta_score: 0.0098\n",
      "\n",
      "Reached FBeta Score = 0.20615217260218424\n",
      "\n",
      "Epoch 00001: val_loss improved from inf to 2.76435, saving model to /kaggle/working/InceptionResNetVGG19.h5\n",
      "Epoch 2/20\n",
      "1012/1012 [==============================] - 2834s 3s/step - loss: 1.5565 - visibility_loss: 0.3023 - human_activity_loss: 0.3982 - road_water_loss: 0.3786 - primary_loss: 0.2425 - remaining_loss: 0.2349 - visibility_fbeta_score: 0.8399 - human_activity_fbeta_score: 0.5754 - road_water_fbeta_score: 0.6424 - primary_fbeta_score: 0.9557 - remaining_fbeta_score: 0.0241 - val_loss: 1.1482 - val_visibility_loss: 0.2801 - val_human_activity_loss: 0.2857 - val_road_water_loss: 0.2635 - val_primary_loss: 0.2288 - val_remaining_loss: 0.0902 - val_visibility_fbeta_score: 0.8759 - val_human_activity_fbeta_score: 0.6444 - val_road_water_fbeta_score: 0.7553 - val_primary_fbeta_score: 0.9758 - val_remaining_fbeta_score: 0.0000e+00\n",
      "\n",
      "Reached FBeta Score = 0.7932801503032312\n",
      "\n",
      "Epoch 00002: val_loss improved from 2.76435 to 1.14819, saving model to /kaggle/working/InceptionResNetVGG19.h5\n",
      "Epoch 3/20\n",
      "1012/1012 [==============================] - 2872s 3s/step - loss: 1.0953 - visibility_loss: 0.2095 - human_activity_loss: 0.3229 - road_water_loss: 0.3144 - primary_loss: 0.1683 - remaining_loss: 0.0803 - visibility_fbeta_score: 0.8721 - human_activity_fbeta_score: 0.5917 - road_water_fbeta_score: 0.6644 - primary_fbeta_score: 0.9742 - remaining_fbeta_score: 0.0050 - val_loss: 1.0844 - val_visibility_loss: 0.3431 - val_human_activity_loss: 0.2891 - val_road_water_loss: 0.2697 - val_primary_loss: 0.1382 - val_remaining_loss: 0.0443 - val_visibility_fbeta_score: 0.7632 - val_human_activity_fbeta_score: 0.6005 - val_road_water_fbeta_score: 0.7220 - val_primary_fbeta_score: 0.9707 - val_remaining_fbeta_score: 0.0000e+00\n",
      "\n",
      "Reached FBeta Score = 0.7420193107580485\n",
      "\n",
      "Epoch 00003: val_loss improved from 1.14819 to 1.08440, saving model to /kaggle/working/InceptionResNetVGG19.h5\n",
      "Epoch 4/20\n",
      "1012/1012 [==============================] - 2864s 3s/step - loss: 0.9109 - visibility_loss: 0.1657 - human_activity_loss: 0.2781 - road_water_loss: 0.2787 - primary_loss: 0.1358 - remaining_loss: 0.0527 - visibility_fbeta_score: 0.8926 - human_activity_fbeta_score: 0.6277 - road_water_fbeta_score: 0.6860 - primary_fbeta_score: 0.9795 - remaining_fbeta_score: 6.6711e-04 - val_loss: 54.9820 - val_visibility_loss: 32.3298 - val_human_activity_loss: 4.4299 - val_road_water_loss: 3.5748 - val_primary_loss: 14.1856 - val_remaining_loss: 0.4619 - val_visibility_fbeta_score: 0.0531 - val_human_activity_fbeta_score: 0.0069 - val_road_water_fbeta_score: 0.0069 - val_primary_fbeta_score: 0.0033 - val_remaining_fbeta_score: 0.0000e+00\n",
      "\n",
      "Reached FBeta Score = 0.00657088520458931\n",
      "\n",
      "Epoch 00004: ReduceLROnPlateau reducing learning rate to 1.9999999494757503e-05.\n",
      "\n",
      "Epoch 00004: val_loss did not improve from 1.08440\n",
      "Epoch 5/20\n",
      "1012/1012 [==============================] - 2883s 3s/step - loss: 0.8113 - visibility_loss: 0.1421 - human_activity_loss: 0.2550 - road_water_loss: 0.2528 - primary_loss: 0.1154 - remaining_loss: 0.0460 - visibility_fbeta_score: 0.9062 - human_activity_fbeta_score: 0.6540 - road_water_fbeta_score: 0.7143 - primary_fbeta_score: 0.9819 - remaining_fbeta_score: 6.7295e-04 - val_loss: 0.6083 - val_visibility_loss: 0.0977 - val_human_activity_loss: 0.1966 - val_road_water_loss: 0.1824 - val_primary_loss: 0.0919 - val_remaining_loss: 0.0397 - val_visibility_fbeta_score: 0.9286 - val_human_activity_fbeta_score: 0.6928 - val_road_water_fbeta_score: 0.7699 - val_primary_fbeta_score: 0.9873 - val_remaining_fbeta_score: 0.0000e+00\n",
      "\n",
      "Reached FBeta Score = 0.8278169650581174\n",
      "\n",
      "Epoch 00005: val_loss improved from 1.08440 to 0.60833, saving model to /kaggle/working/InceptionResNetVGG19.h5\n",
      "Epoch 6/20\n",
      "1012/1012 [==============================] - 2901s 3s/step - loss: 0.7782 - visibility_loss: 0.1343 - human_activity_loss: 0.2485 - road_water_loss: 0.2427 - primary_loss: 0.1080 - remaining_loss: 0.0446 - visibility_fbeta_score: 0.9089 - human_activity_fbeta_score: 0.6680 - road_water_fbeta_score: 0.7260 - primary_fbeta_score: 0.9829 - remaining_fbeta_score: 0.0034 - val_loss: 0.6274 - val_visibility_loss: 0.1035 - val_human_activity_loss: 0.1943 - val_road_water_loss: 0.1978 - val_primary_loss: 0.0927 - val_remaining_loss: 0.0392 - val_visibility_fbeta_score: 0.9209 - val_human_activity_fbeta_score: 0.7179 - val_road_water_fbeta_score: 0.7850 - val_primary_fbeta_score: 0.9878 - val_remaining_fbeta_score: 0.0000e+00\n",
      "\n",
      "Reached FBeta Score = 0.8394446577295867\n",
      "\n",
      "Epoch 00006: ReduceLROnPlateau reducing learning rate to 3.999999898951501e-06.\n",
      "\n",
      "Epoch 00006: val_loss did not improve from 0.60833\n",
      "Epoch 7/20\n",
      "1012/1012 [==============================] - 2909s 3s/step - loss: 0.7475 - visibility_loss: 0.1296 - human_activity_loss: 0.2412 - road_water_loss: 0.2325 - primary_loss: 0.1012 - remaining_loss: 0.0430 - visibility_fbeta_score: 0.9126 - human_activity_fbeta_score: 0.6771 - road_water_fbeta_score: 0.7358 - primary_fbeta_score: 0.9837 - remaining_fbeta_score: 0.0061 - val_loss: 0.6611 - val_visibility_loss: 0.0969 - val_human_activity_loss: 0.2052 - val_road_water_loss: 0.2251 - val_primary_loss: 0.0945 - val_remaining_loss: 0.0393 - val_visibility_fbeta_score: 0.9264 - val_human_activity_fbeta_score: 0.7232 - val_road_water_fbeta_score: 0.7877 - val_primary_fbeta_score: 0.9873 - val_remaining_fbeta_score: 0.0000e+00\n",
      "\n",
      "Reached FBeta Score = 0.8430814353701451\n",
      "\n",
      "Epoch 00007: ReduceLROnPlateau reducing learning rate to 7.999999979801942e-07.\n",
      "\n",
      "Epoch 00007: val_loss did not improve from 0.60833\n",
      "Epoch 8/20\n",
      "1012/1012 [==============================] - 2962s 3s/step - loss: 0.7367 - visibility_loss: 0.1296 - human_activity_loss: 0.2357 - road_water_loss: 0.2302 - primary_loss: 0.0986 - remaining_loss: 0.0426 - visibility_fbeta_score: 0.9126 - human_activity_fbeta_score: 0.6879 - road_water_fbeta_score: 0.7402 - primary_fbeta_score: 0.9849 - remaining_fbeta_score: 0.0061 - val_loss: 0.6442 - val_visibility_loss: 0.0986 - val_human_activity_loss: 0.1987 - val_road_water_loss: 0.2135 - val_primary_loss: 0.0954 - val_remaining_loss: 0.0381 - val_visibility_fbeta_score: 0.9258 - val_human_activity_fbeta_score: 0.7303 - val_road_water_fbeta_score: 0.7902 - val_primary_fbeta_score: 0.9875 - val_remaining_fbeta_score: 0.0000e+00\n",
      "\n",
      "Reached FBeta Score = 0.84608134695968\n",
      "\n",
      "Epoch 00008: ReduceLROnPlateau reducing learning rate to 1.600000018697756e-07.\n",
      "\n",
      "Epoch 00008: val_loss did not improve from 0.60833\n",
      "Epoch 9/20\n",
      "1012/1012 [==============================] - 2994s 3s/step - loss: 0.7369 - visibility_loss: 0.1284 - human_activity_loss: 0.2378 - road_water_loss: 0.2307 - primary_loss: 0.0968 - remaining_loss: 0.0431 - visibility_fbeta_score: 0.9129 - human_activity_fbeta_score: 0.6830 - road_water_fbeta_score: 0.7381 - primary_fbeta_score: 0.9844 - remaining_fbeta_score: 0.0067 - val_loss: 0.6542 - val_visibility_loss: 0.1053 - val_human_activity_loss: 0.2002 - val_road_water_loss: 0.2156 - val_primary_loss: 0.0946 - val_remaining_loss: 0.0385 - val_visibility_fbeta_score: 0.9248 - val_human_activity_fbeta_score: 0.7293 - val_road_water_fbeta_score: 0.7913 - val_primary_fbeta_score: 0.9875 - val_remaining_fbeta_score: 0.0000e+00\n",
      "\n",
      "Reached FBeta Score = 0.8458673323154956\n",
      "Restoring model weights from the end of the best epoch.\n",
      "\n",
      "Epoch 00009: ReduceLROnPlateau reducing learning rate to 1e-07.\n",
      "\n",
      "Epoch 00009: val_loss did not improve from 0.60833\n",
      "Epoch 00009: early stopping\n"
     ]
    }
   ],
   "source": [
    "from keras.callbacks import ModelCheckpoint, EarlyStopping, ReduceLROnPlateau, History\n",
    "\n",
    "model = create_model()\n",
    "BATCH_SIZE = 32\n",
    "\n",
    "callbacks = [History(),\n",
    "            myCallback(),\n",
    "            EarlyStopping(monitor='val_loss', patience=4, verbose=1, min_delta=1e-4, restore_best_weights=True),\n",
    "            ReduceLROnPlateau(monitor='val_loss', factor=0.2, patience=1, cooldown=0, min_lr=1e-7, verbose=1),\n",
    "            ModelCheckpoint(filepath='/kaggle/working/InceptionResNetVGG19.h5', monitor=\"val_loss\", verbose=1, save_best_only=True, save_weights_only=True, mode='auto')]\n",
    "\n",
    "model_history = model.fit_generator(train_generator,\n",
    "                    steps_per_epoch = math.ceil(df_TrainData['filename'].count()/BATCH_SIZE),\n",
    "                    epochs=20,\n",
    "                    verbose=1,\n",
    "                    validation_data=validation_generator,\n",
    "                    validation_steps = math.ceil(df_ValData['filename'].count()/BATCH_SIZE),\n",
    "                    callbacks=callbacks\n",
    "                   )\n",
    "\n",
    "history = model_history.history"
   ]
  },
  {
   "cell_type": "markdown",
   "id": "0ae498a0",
   "metadata": {
    "papermill": {
     "duration": 3.535719,
     "end_time": "2022-05-30T03:53:46.532895",
     "exception": false,
     "start_time": "2022-05-30T03:53:42.997176",
     "status": "completed"
    },
    "tags": []
   },
   "source": [
    "## Save/Load Keras Model and History"
   ]
  },
  {
   "cell_type": "code",
   "execution_count": 14,
   "id": "64be76bd",
   "metadata": {
    "execution": {
     "iopub.execute_input": "2022-05-30T03:53:52.881111Z",
     "iopub.status.busy": "2022-05-30T03:53:52.880856Z",
     "iopub.status.idle": "2022-05-30T03:54:08.621666Z",
     "shell.execute_reply": "2022-05-30T03:54:08.620782Z"
    },
    "papermill": {
     "duration": 19.083076,
     "end_time": "2022-05-30T03:54:08.627208",
     "exception": false,
     "start_time": "2022-05-30T03:53:49.544132",
     "status": "completed"
    },
    "tags": []
   },
   "outputs": [],
   "source": [
    "# Save\n",
    "import pickle\n",
    "from keras.models import load_model\n",
    "with open(\"/kaggle/working/InceptionResNetVGG19.pkl\", 'wb') as f:\n",
    "    pickle.dump(history, f)\n",
    "model.save(\"/kaggle/working/InceptionResNetVGG19_EndTrain.h5\")"
   ]
  },
  {
   "cell_type": "code",
   "execution_count": 15,
   "id": "80689ea6",
   "metadata": {
    "execution": {
     "iopub.execute_input": "2022-05-30T03:54:15.666245Z",
     "iopub.status.busy": "2022-05-30T03:54:15.665877Z",
     "iopub.status.idle": "2022-05-30T03:54:15.670430Z",
     "shell.execute_reply": "2022-05-30T03:54:15.669735Z"
    },
    "papermill": {
     "duration": 3.499978,
     "end_time": "2022-05-30T03:54:15.672467",
     "exception": false,
     "start_time": "2022-05-30T03:54:12.172489",
     "status": "completed"
    },
    "tags": []
   },
   "outputs": [],
   "source": [
    "# # Load\n",
    "# from tensorflow import keras\n",
    "# import pickle\n",
    "# model = keras.models.load_model(\"/kaggle/working/InceptionV3_Untrainable_V2.h5\")\n",
    "# with open(\"/kaggle/working/InceptionV3_Untrainable_V2.pkl\", 'rb') as f:\n",
    "#     history = pickle.load(f)"
   ]
  },
  {
   "cell_type": "markdown",
   "id": "a1a94507",
   "metadata": {
    "papermill": {
     "duration": 3.031,
     "end_time": "2022-05-30T03:54:22.318444",
     "exception": false,
     "start_time": "2022-05-30T03:54:19.287444",
     "status": "completed"
    },
    "tags": []
   },
   "source": [
    "## Plot History"
   ]
  },
  {
   "cell_type": "code",
   "execution_count": 16,
   "id": "dcbdb908",
   "metadata": {
    "execution": {
     "iopub.execute_input": "2022-05-30T03:54:28.688585Z",
     "iopub.status.busy": "2022-05-30T03:54:28.688327Z",
     "iopub.status.idle": "2022-05-30T03:54:29.179379Z",
     "shell.execute_reply": "2022-05-30T03:54:29.178693Z"
    },
    "papermill": {
     "duration": 3.568292,
     "end_time": "2022-05-30T03:54:29.181742",
     "exception": false,
     "start_time": "2022-05-30T03:54:25.613450",
     "status": "completed"
    },
    "tags": []
   },
   "outputs": [
    {
     "data": {
      "image/png": "[encoded data removed]",
      "text/plain": [
       "<Figure size 432x288 with 1 Axes>"
      ]
     },
     "metadata": {
      "needs_background": "light"
     },
     "output_type": "display_data"
    },
    {
     "data": {
      "image/png": "[encoded data removed]",
      "text/plain": [
       "<Figure size 432x288 with 1 Axes>"
      ]
     },
     "metadata": {
      "needs_background": "light"
     },
     "output_type": "display_data"
    }
   ],
   "source": [
    "#-----------------------------------------------------------\n",
    "# Retrieve a list of list results on training and test data\n",
    "# sets for each training epoch\n",
    "#-----------------------------------------------------------\n",
    "loss=history['loss']\n",
    "val_loss=history['val_loss']\n",
    "\n",
    "epochs=np.array(range(len(loss)))+1 # Get number of epochs\n",
    "\n",
    "#------------------------------------------------\n",
    "# Plot training and validation loss per epoch\n",
    "#------------------------------------------------\n",
    "plt.plot(epochs, loss, label=\"Training Loss\")\n",
    "plt.plot(epochs, val_loss, label=\"Validation Loss\")\n",
    "plt.title('Training and validation Loss')\n",
    "plt.xlim([0, 15])\n",
    "plt.legend(loc='center left', bbox_to_anchor=(1, 0.5))\n",
    "plt.show()\n",
    "\n",
    "#------------------------------------------------\n",
    "# Plot training and validation F Scores per epoch\n",
    "#------------------------------------------------\n",
    "plt.plot(epochs, history['visibility_fbeta_score'], label=\"Visibility - Train\")\n",
    "plt.plot(epochs, history['val_visibility_fbeta_score'], label=\"Visibility - Validation\")\n",
    "plt.plot(epochs, history['human_activity_fbeta_score'], label=\"Human Activity  - Train\")\n",
    "plt.plot(epochs, history['val_human_activity_fbeta_score'], label=\"Human Activity  - Validation\")\n",
    "plt.plot(epochs, history['road_water_fbeta_score'], label=\"Road-Water - Train\")\n",
    "plt.plot(epochs, history['val_road_water_fbeta_score'], label=\"Road-Water - Validation\")\n",
    "plt.plot(epochs, history['primary_fbeta_score'], label=\"Primary - Train\")\n",
    "plt.plot(epochs, history['val_primary_fbeta_score'], label=\"Primary - Validation\")\n",
    "plt.plot(epochs, history['remaining_fbeta_score'], label=\"Remaining - Train\")\n",
    "plt.plot(epochs, history['val_remaining_fbeta_score'], label=\"Remaining - Validation\")\n",
    "plt.title('F-Beta Score')\n",
    "plt.xlim([0, 15])\n",
    "plt.legend(loc='center left', bbox_to_anchor=(1, 0.5))\n",
    "plt.show()"
   ]
  },
  {
   "cell_type": "markdown",
   "id": "f36138ca",
   "metadata": {
    "papermill": {
     "duration": 3.1247,
     "end_time": "2022-05-30T03:54:35.295141",
     "exception": false,
     "start_time": "2022-05-30T03:54:32.170441",
     "status": "completed"
    },
    "tags": []
   },
   "source": [
    "## Submission"
   ]
  },
  {
   "cell_type": "code",
   "execution_count": 17,
   "id": "ad082b03",
   "metadata": {
    "execution": {
     "iopub.execute_input": "2022-05-30T03:54:41.551498Z",
     "iopub.status.busy": "2022-05-30T03:54:41.551235Z",
     "iopub.status.idle": "2022-05-30T03:54:41.573364Z",
     "shell.execute_reply": "2022-05-30T03:54:41.572608Z"
    },
    "papermill": {
     "duration": 3.105904,
     "end_time": "2022-05-30T03:54:41.575088",
     "exception": false,
     "start_time": "2022-05-30T03:54:38.469184",
     "status": "completed"
    },
    "tags": []
   },
   "outputs": [],
   "source": [
    "import matplotlib.image as mpimg\n",
    "from IPython.display import clear_output\n",
    "\n",
    "def GetPredictions(df_Submission, ImageFolderPath):\n",
    "\n",
    "    start_time = datetime.now()\n",
    "    iteration_time = start_time\n",
    "    df_Submission.image_name = df_Submission.image_name+'.jpg'\n",
    "\n",
    "    predicted = np.array([np.zeros(4), np.zeros(3), np.zeros(2), np.zeros(2), np.zeros(6)], dtype=object)\n",
    "    predicted = [predicted]*df_Submission.image_name.count()\n",
    "\n",
    "    for i, row in enumerate(df_Submission.to_numpy()):\n",
    "        img = mpimg.imread(os.path.join(ImageFolderPath, row[0]))\n",
    "        img = img[:,:,:3]\n",
    "        img = np.array([img])\n",
    "        predicted[i] = model.predict(img)\n",
    "        iteration_elapsed = datetime.now()-iteration_time\n",
    "        if(iteration_elapsed.total_seconds()>5.00):\n",
    "            iteration_time = datetime.now()\n",
    "            elapsed_time = (datetime.now()-start_time)\n",
    "            estimate_to_completion = (elapsed_time/i)*(df_Submission.count()[0]-i)\n",
    "            clear_output(wait=True)\n",
    "            print('Completed\\t\\t\\t', \"{:.2f}\".format(100*i/df_Submission.image_name.count()),'%')\n",
    "            print('Elapsed time:\\t\\t', elapsed_time)\n",
    "            print('Estimate to completion:\\t', estimate_to_completion)\n",
    "\n",
    "    clear_output(wait=True)\n",
    "    print('completed 100 %')\n",
    "    elapsed_time = (datetime.now()-start_time)\n",
    "    print('Elapsed time: ', elapsed_time)\n",
    "    return predicted\n",
    "\n",
    "def GetPedictGeneratorOutput(prediction, index):\n",
    "    return [predictions[0][index], predictions[1][index], predictions[2][index], predictions[3][index], predictions[4][index]]\n",
    "\n",
    "def GetLabelsFromPrediction(ModelOutput, threshold):\n",
    "    label = \"\"\n",
    "    if(ModelOutput[1][0] > threshold):\n",
    "        label = label + \" agriculture\"\n",
    "    if(ModelOutput[4][0] > threshold):\n",
    "        label = label + \" artisinal_mine\"\n",
    "    if(ModelOutput[4][1] > threshold):\n",
    "        label = label + \" bare_ground\"\n",
    "    if(ModelOutput[4][2] > threshold):\n",
    "        label = label + \" blooming\"\n",
    "    if(ModelOutput[4][3] > threshold):\n",
    "        label = label + \" blow_down\"\n",
    "    if(ModelOutput[0][0] > threshold):\n",
    "        label = label + \" clear\"\n",
    "    if(ModelOutput[0][3] > threshold):\n",
    "        label = label + \" cloudy\"\n",
    "    if(ModelOutput[4][4] > threshold):\n",
    "        label = label + \" conventional_mine\"\n",
    "    if(ModelOutput[1][1] > threshold):\n",
    "        label = label + \" cultivation\"\n",
    "    if(ModelOutput[1][2] > threshold):\n",
    "        label = label + \" habitation\"\n",
    "    if(ModelOutput[0][1] > threshold):\n",
    "        label = label + \" haze\"\n",
    "    if(ModelOutput[0][2] > threshold):\n",
    "        label = label + \" partly_cloudy\"\n",
    "    if(ModelOutput[3][0] > threshold):\n",
    "        label = label + \" primary\"\n",
    "    if(ModelOutput[2][0] > threshold):\n",
    "        label = label + \" road\"\n",
    "    if(ModelOutput[4][5] > threshold):\n",
    "        label = label + \" selective_logging\"\n",
    "    if(ModelOutput[4][6] > threshold):\n",
    "        label = label + \" slash_burn\"\n",
    "    if(ModelOutput[2][1] > threshold):\n",
    "        label = label + \" water\"\n",
    "    return label.lstrip()\n",
    "\n",
    "\n",
    "def InsertLabels_Dataframe(df_Submission, predicted, threshold):\n",
    "    pred = []\n",
    "    for i in range(len(predicted[0])):\n",
    "        pred.append([])\n",
    "        pred[i] = [predicted[0][i], predicted[1][i], predicted[2][i], predicted[3][i], predicted[4][i]]\n",
    "    for i, ModelOutput in enumerate(pred):\n",
    "        df_Submission['tags'][i]=GetLabelsFromPrediction(ModelOutput, threshold)"
   ]
  },
  {
   "cell_type": "code",
   "execution_count": 18,
   "id": "6a0d0fc8",
   "metadata": {
    "execution": {
     "iopub.execute_input": "2022-05-30T03:54:48.031192Z",
     "iopub.status.busy": "2022-05-30T03:54:48.030937Z",
     "iopub.status.idle": "2022-05-30T04:03:00.512958Z",
     "shell.execute_reply": "2022-05-30T04:03:00.512264Z"
    },
    "papermill": {
     "duration": 495.852716,
     "end_time": "2022-05-30T04:03:00.515180",
     "exception": false,
     "start_time": "2022-05-30T03:54:44.662464",
     "status": "completed"
    },
    "tags": []
   },
   "outputs": [
    {
     "name": "stdout",
     "output_type": "stream",
     "text": [
      "Found 61191 validated image filenames.\n",
      "1913/1913 [==============================] - 415s 214ms/step\n"
     ]
    },
    {
     "name": "stderr",
     "output_type": "stream",
     "text": [
      "/opt/conda/lib/python3.7/site-packages/ipykernel_launcher.py:19: FutureWarning: The default value of regex will change from True to False in a future version.\n"
     ]
    }
   ],
   "source": [
    "df_Submission = pd.read_csv('../input/amazon-satellite/raw-data/sample_submission_v2/sample_submission_v2.csv')\n",
    "Test_FolderPath = '../input/amazon-satellite/raw-data/test-jpg'\n",
    "\n",
    "df_Submission['image_name'] = df_Submission['image_name'] + '.jpg'\n",
    "\n",
    "validation_datagen = ImageDataGenerator(rescale=1.0/255.0)\n",
    "validation_generator = validation_datagen.flow_from_dataframe(dataframe=df_Submission,\n",
    "                                                                directory=Test_FolderPath,\n",
    "                                                                x_col=df_Submission.columns[0],\n",
    "                                                                y_col=df_Submission.columns[1:len(df_Submission.columns)],\n",
    "                                                                batch_size=32,\n",
    "                                                                class_mode='raw',\n",
    "                                                                shuffle=False,\n",
    "                                                                target_size=(256, 256))\n",
    "\n",
    "predictions = model.predict(validation_generator, verbose=1)\n",
    "InsertLabels_Dataframe(df_Submission, predictions, threshold=0.5)\n",
    "\n",
    "df_Submission['image_name'] = df_Submission['image_name'].str.replace('.jpg', '')\n",
    "df_Submission.to_csv('/kaggle/working/submission.csv', index=None)"
   ]
  }
 ],
 "metadata": {
  "kernelspec": {
   "display_name": "Python 3",
   "language": "python",
   "name": "python3"
  },
  "language_info": {
   "codemirror_mode": {
    "name": "ipython",
    "version": 3
   },
   "file_extension": ".py",
   "mimetype": "text/x-python",
   "name": "python",
   "nbconvert_exporter": "python",
   "pygments_lexer": "ipython3",
   "version": "3.7.12"
  },
  "papermill": {
   "default_parameters": {},
   "duration": 26857.129197,
   "end_time": "2022-05-30T04:03:07.878175",
   "environment_variables": {},
   "exception": null,
   "input_path": "__notebook__.ipynb",
   "output_path": "__notebook__.ipynb",
   "parameters": {},
   "start_time": "2022-05-29T20:35:30.748978",
   "version": "2.3.4"
  }
 },
 "nbformat": 4,
 "nbformat_minor": 5
}
