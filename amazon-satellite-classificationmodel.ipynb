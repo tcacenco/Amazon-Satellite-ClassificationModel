{
 "cells": [
  {
   "cell_type": "code",
   "execution_count": 1,
   "id": "8146048f",
   "metadata": {
    "execution": {
     "iopub.execute_input": "2022-06-20T02:24:50.458660Z",
     "iopub.status.busy": "2022-06-20T02:24:50.457979Z",
     "iopub.status.idle": "2022-06-20T02:24:55.863565Z",
     "shell.execute_reply": "2022-06-20T02:24:55.862795Z"
    },
    "papermill": {
     "duration": 5.433295,
     "end_time": "2022-06-20T02:24:55.866205",
     "exception": false,
     "start_time": "2022-06-20T02:24:50.432910",
     "status": "completed"
    },
    "tags": []
   },
   "outputs": [],
   "source": [
    "from datetime import datetime\n",
    "from datetime import timedelta\n",
    "import os\n",
    "import math\n",
    "import statistics\n",
    "import numpy as np\n",
    "import pandas as pd\n",
    "import matplotlib.pyplot as plt\n",
    "import matplotlib.image as mpimg\n",
    "from IPython.display import clear_output\n",
    "\n",
    "import tensorflow as tf\n",
    "from tensorflow.keras.preprocessing.image import ImageDataGenerator\n",
    "\n",
    "from tensorflow.keras.applications.inception_v3 import InceptionV3\n",
    "from tensorflow.keras.optimizers import RMSprop\n",
    "import tensorflow_addons as tfa"
   ]
  },
  {
   "cell_type": "markdown",
   "id": "3a1f15b3",
   "metadata": {
    "papermill": {
     "duration": 0.02181,
     "end_time": "2022-06-20T02:24:55.910069",
     "exception": false,
     "start_time": "2022-06-20T02:24:55.888259",
     "status": "completed"
    },
    "tags": []
   },
   "source": [
    "## Def functions: One-Hot Encoding and Split Data (Dataframe)"
   ]
  },
  {
   "cell_type": "code",
   "execution_count": 2,
   "id": "c406ecd6",
   "metadata": {
    "execution": {
     "iopub.execute_input": "2022-06-20T02:24:55.954973Z",
     "iopub.status.busy": "2022-06-20T02:24:55.954750Z",
     "iopub.status.idle": "2022-06-20T02:24:55.967490Z",
     "shell.execute_reply": "2022-06-20T02:24:55.966764Z"
    },
    "papermill": {
     "duration": 0.037381,
     "end_time": "2022-06-20T02:24:55.969286",
     "exception": false,
     "start_time": "2022-06-20T02:24:55.931905",
     "status": "completed"
    },
    "tags": []
   },
   "outputs": [],
   "source": [
    "def Get_ListOfLabels(df_InputLabels):\n",
    "    df_Tags = df_InputLabels.str.split(expand=True)\n",
    "    columns = len(df_Tags.columns)\n",
    "\n",
    "    for i in range(columns):\n",
    "        if i == 0:\n",
    "            df_aux = pd.DataFrame(df_Tags[0])\n",
    "        else:\n",
    "            df_aux = df_aux.append(pd.DataFrame(df_Tags[i].rename(index=0)))\n",
    "\n",
    "    LabelList = (df_aux.drop_duplicates().sort_values([0], ascending=[True]))[0].tolist()\n",
    "    LabelList = list(filter(None, LabelList))\n",
    "    return LabelList\n",
    "\n",
    "\n",
    "def Get_LabelEncodedArray(df_InputLabels, LabelList):\n",
    "    LabelArray = np.zeros((df_InputLabels.count(), len(LabelList)))\n",
    "    TagsArray = df_InputLabels.str.split(expand=True).to_numpy()\n",
    "\n",
    "    for i in range(TagsArray.shape[0]):\n",
    "        for j in range(TagsArray.shape[1]):\n",
    "            for k in range(len(LabelList)):\n",
    "                if(TagsArray[i][j]== LabelList[k]):\n",
    "                    LabelArray[i][k] = 1\n",
    "\n",
    "    return LabelArray\n",
    "\n",
    "def OneHotToStringLabels(OneHotArray, LabelList, delimiter):\n",
    "    string_labels = \"\"\n",
    "    if(len(OneHotArray)!=len(LabelList)):\n",
    "        raise Exception(\"OneHotArray does not match LabelList len/size\")\n",
    "\n",
    "    for i in range(len(OneHotArray)):\n",
    "        if(OneHotArray[i] == 1.0):\n",
    "            if(string_labels == \"\"):\n",
    "                string_labels = LabelList[i]\n",
    "            else:\n",
    "                string_labels = string_labels+delimiter+LabelList[i]\n",
    "    return string_labels\n",
    "\n",
    "def SplitData(df_Dataset, Ratio):\n",
    "\n",
    "    df_TrainData = pd.DataFrame(df_Dataset).sample(round(Ratio * df_Dataset['filename'].count()))\n",
    "\n",
    "    df_ValData = pd.DataFrame(df_Dataset)\n",
    "    condition = df_ValData['filename'].isin(df_TrainData['filename'])\n",
    "    df_ValData = df_ValData.drop(df_ValData[condition].index)\n",
    "\n",
    "    return df_TrainData, df_ValData"
   ]
  },
  {
   "cell_type": "markdown",
   "id": "1f7be4b6",
   "metadata": {
    "papermill": {
     "duration": 0.021481,
     "end_time": "2022-06-20T02:24:56.011831",
     "exception": false,
     "start_time": "2022-06-20T02:24:55.990350",
     "status": "completed"
    },
    "tags": []
   },
   "source": [
    "### **Encoding labels:** One-Hot"
   ]
  },
  {
   "cell_type": "code",
   "execution_count": 3,
   "id": "038cf19e",
   "metadata": {
    "execution": {
     "iopub.execute_input": "2022-06-20T02:24:56.058661Z",
     "iopub.status.busy": "2022-06-20T02:24:56.058254Z",
     "iopub.status.idle": "2022-06-20T02:25:01.527792Z",
     "shell.execute_reply": "2022-06-20T02:25:01.527024Z"
    },
    "papermill": {
     "duration": 5.494607,
     "end_time": "2022-06-20T02:25:01.530245",
     "exception": false,
     "start_time": "2022-06-20T02:24:56.035638",
     "status": "completed"
    },
    "tags": []
   },
   "outputs": [],
   "source": [
    "source_path = \"../input/amazon-satellite/raw-data\"\n",
    "source_path_Labels = os.path.join(source_path, 'train_v2.csv')\n",
    "source_path_Images = os.path.join(source_path, 'train-jpg')\n",
    "\n",
    "df_Raw = pd.read_csv(source_path_Labels)\n",
    "LabelList = Get_ListOfLabels(df_Raw.tags)\n",
    "\n",
    "Get_LabelEncodedArray(df_Raw.tags, LabelList)\n",
    "df_Dataset = pd.DataFrame(Get_LabelEncodedArray(df_Raw.tags, LabelList), columns=LabelList)\n",
    "df_Dataset['filename'] = df_Raw.image_name.to_list()\n",
    "df_Dataset['filename'] = df_Dataset['filename']+'.jpg'\n",
    "df_Dataset = df_Dataset.loc[: , ['filename']+LabelList]"
   ]
  },
  {
   "cell_type": "markdown",
   "id": "471a0671",
   "metadata": {
    "papermill": {
     "duration": 0.021422,
     "end_time": "2022-06-20T02:25:01.573838",
     "exception": false,
     "start_time": "2022-06-20T02:25:01.552416",
     "status": "completed"
    },
    "tags": []
   },
   "source": [
    "## Data Exploration\n",
    "- Finding correlation between classes/labels and mutual exclusivity"
   ]
  },
  {
   "cell_type": "code",
   "execution_count": 4,
   "id": "4a31372a",
   "metadata": {
    "execution": {
     "iopub.execute_input": "2022-06-20T02:25:01.618117Z",
     "iopub.status.busy": "2022-06-20T02:25:01.617867Z",
     "iopub.status.idle": "2022-06-20T02:25:01.677317Z",
     "shell.execute_reply": "2022-06-20T02:25:01.676518Z"
    },
    "papermill": {
     "duration": 0.085716,
     "end_time": "2022-06-20T02:25:01.681122",
     "exception": false,
     "start_time": "2022-06-20T02:25:01.595406",
     "status": "completed"
    },
    "tags": []
   },
   "outputs": [
    {
     "name": "stdout",
     "output_type": "stream",
     "text": [
      "                   agriculture  artisinal_mine  bare_ground  blooming  \\\n",
      "agriculture           1.000000             NaN          NaN       NaN   \n",
      "artisinal_mine             NaN             1.0          NaN       NaN   \n",
      "bare_ground                NaN             NaN          1.0       NaN   \n",
      "blooming                   NaN             NaN          NaN       1.0   \n",
      "blow_down                  NaN             NaN          NaN       NaN   \n",
      "clear                      NaN             NaN          NaN       NaN   \n",
      "cloudy                     NaN             NaN          NaN       NaN   \n",
      "conventional_mine          NaN             NaN          NaN       NaN   \n",
      "cultivation           0.344964             NaN          NaN       NaN   \n",
      "habitation            0.303979             NaN          NaN       NaN   \n",
      "haze                       NaN             NaN          NaN       NaN   \n",
      "partly_cloudy              NaN             NaN          NaN       NaN   \n",
      "primary                    NaN             NaN          NaN       NaN   \n",
      "road                  0.480930             NaN          NaN       NaN   \n",
      "selective_logging          NaN             NaN          NaN       NaN   \n",
      "slash_burn                 NaN             NaN          NaN       NaN   \n",
      "water                      NaN             NaN          NaN       NaN   \n",
      "\n",
      "                   blow_down  clear  cloudy  conventional_mine  cultivation  \\\n",
      "agriculture              NaN    NaN     NaN                NaN     0.344964   \n",
      "artisinal_mine           NaN    NaN     NaN                NaN          NaN   \n",
      "bare_ground              NaN    NaN     NaN                NaN          NaN   \n",
      "blooming                 NaN    NaN     NaN                NaN          NaN   \n",
      "blow_down                1.0    NaN     NaN                NaN          NaN   \n",
      "clear                    NaN    1.0     NaN                NaN          NaN   \n",
      "cloudy                   NaN    NaN     1.0                NaN          NaN   \n",
      "conventional_mine        NaN    NaN     NaN                1.0          NaN   \n",
      "cultivation              NaN    NaN     NaN                NaN     1.000000   \n",
      "habitation               NaN    NaN     NaN                NaN          NaN   \n",
      "haze                     NaN    NaN     NaN                NaN          NaN   \n",
      "partly_cloudy            NaN    NaN     NaN                NaN          NaN   \n",
      "primary                  NaN    NaN     NaN                NaN          NaN   \n",
      "road                     NaN    NaN     NaN                NaN          NaN   \n",
      "selective_logging        NaN    NaN     NaN                NaN          NaN   \n",
      "slash_burn               NaN    NaN     NaN                NaN          NaN   \n",
      "water                    NaN    NaN     NaN                NaN          NaN   \n",
      "\n",
      "                   habitation  haze  partly_cloudy  primary      road  \\\n",
      "agriculture          0.303979   NaN            NaN      NaN  0.480930   \n",
      "artisinal_mine            NaN   NaN            NaN      NaN       NaN   \n",
      "bare_ground               NaN   NaN            NaN      NaN       NaN   \n",
      "blooming                  NaN   NaN            NaN      NaN       NaN   \n",
      "blow_down                 NaN   NaN            NaN      NaN       NaN   \n",
      "clear                     NaN   NaN            NaN      NaN       NaN   \n",
      "cloudy                    NaN   NaN            NaN      NaN       NaN   \n",
      "conventional_mine         NaN   NaN            NaN      NaN       NaN   \n",
      "cultivation               NaN   NaN            NaN      NaN       NaN   \n",
      "habitation           1.000000   NaN            NaN      NaN  0.443341   \n",
      "haze                      NaN   1.0            NaN      NaN       NaN   \n",
      "partly_cloudy             NaN   NaN            1.0      NaN       NaN   \n",
      "primary                   NaN   NaN            NaN      1.0       NaN   \n",
      "road                 0.443341   NaN            NaN      NaN  1.000000   \n",
      "selective_logging         NaN   NaN            NaN      NaN       NaN   \n",
      "slash_burn                NaN   NaN            NaN      NaN       NaN   \n",
      "water                     NaN   NaN            NaN      NaN       NaN   \n",
      "\n",
      "                   selective_logging  slash_burn  water  \n",
      "agriculture                      NaN         NaN    NaN  \n",
      "artisinal_mine                   NaN         NaN    NaN  \n",
      "bare_ground                      NaN         NaN    NaN  \n",
      "blooming                         NaN         NaN    NaN  \n",
      "blow_down                        NaN         NaN    NaN  \n",
      "clear                            NaN         NaN    NaN  \n",
      "cloudy                           NaN         NaN    NaN  \n",
      "conventional_mine                NaN         NaN    NaN  \n",
      "cultivation                      NaN         NaN    NaN  \n",
      "habitation                       NaN         NaN    NaN  \n",
      "haze                             NaN         NaN    NaN  \n",
      "partly_cloudy                    NaN         NaN    NaN  \n",
      "primary                          NaN         NaN    NaN  \n",
      "road                             NaN         NaN    NaN  \n",
      "selective_logging                1.0         NaN    NaN  \n",
      "slash_burn                       NaN         1.0    NaN  \n",
      "water                            NaN         NaN    1.0  \n"
     ]
    }
   ],
   "source": [
    "# Find labels with high correlation\n",
    "df_corr = df_Dataset.corr()\n",
    "print(df_corr[df_corr>0.3])"
   ]
  },
  {
   "cell_type": "code",
   "execution_count": 5,
   "id": "c86cfff9",
   "metadata": {
    "execution": {
     "iopub.execute_input": "2022-06-20T02:25:01.729839Z",
     "iopub.status.busy": "2022-06-20T02:25:01.729632Z",
     "iopub.status.idle": "2022-06-20T02:25:01.777558Z",
     "shell.execute_reply": "2022-06-20T02:25:01.776791Z"
    },
    "papermill": {
     "duration": 0.07459,
     "end_time": "2022-06-20T02:25:01.780915",
     "exception": false,
     "start_time": "2022-06-20T02:25:01.706325",
     "status": "completed"
    },
    "tags": []
   },
   "outputs": [
    {
     "name": "stdout",
     "output_type": "stream",
     "text": [
      "                   agriculture  artisinal_mine  bare_ground  blooming  \\\n",
      "agriculture                NaN             NaN          NaN       NaN   \n",
      "artisinal_mine             NaN             NaN          NaN       NaN   \n",
      "bare_ground                NaN             NaN          NaN       NaN   \n",
      "blooming                   NaN             NaN          NaN       NaN   \n",
      "blow_down                  NaN             NaN          NaN       NaN   \n",
      "clear                      NaN             NaN          NaN       NaN   \n",
      "cloudy                     NaN             NaN          NaN       NaN   \n",
      "conventional_mine          NaN             NaN          NaN       NaN   \n",
      "cultivation                NaN             NaN          NaN       NaN   \n",
      "habitation                 NaN             NaN          NaN       NaN   \n",
      "haze                       NaN             NaN          NaN       NaN   \n",
      "partly_cloudy              NaN             NaN          NaN       NaN   \n",
      "primary                    NaN             NaN          NaN       NaN   \n",
      "road                       NaN             NaN          NaN       NaN   \n",
      "selective_logging          NaN             NaN          NaN       NaN   \n",
      "slash_burn                 NaN             NaN          NaN       NaN   \n",
      "water                      NaN             NaN          NaN       NaN   \n",
      "\n",
      "                   blow_down     clear    cloudy  conventional_mine  \\\n",
      "agriculture              NaN       NaN       NaN                NaN   \n",
      "artisinal_mine           NaN       NaN       NaN                NaN   \n",
      "bare_ground              NaN       NaN       NaN                NaN   \n",
      "blooming                 NaN       NaN       NaN                NaN   \n",
      "blow_down                NaN       NaN       NaN                NaN   \n",
      "clear                    NaN       NaN -0.358343                NaN   \n",
      "cloudy                   NaN -0.358343       NaN                NaN   \n",
      "conventional_mine        NaN       NaN       NaN                NaN   \n",
      "cultivation              NaN       NaN       NaN                NaN   \n",
      "habitation               NaN       NaN       NaN                NaN   \n",
      "haze                     NaN -0.410428       NaN                NaN   \n",
      "partly_cloudy            NaN -0.718208       NaN                NaN   \n",
      "primary                  NaN       NaN -0.829594                NaN   \n",
      "road                     NaN       NaN       NaN                NaN   \n",
      "selective_logging        NaN       NaN       NaN                NaN   \n",
      "slash_burn               NaN       NaN       NaN                NaN   \n",
      "water                    NaN       NaN       NaN                NaN   \n",
      "\n",
      "                   cultivation  habitation      haze  partly_cloudy   primary  \\\n",
      "agriculture                NaN         NaN       NaN            NaN       NaN   \n",
      "artisinal_mine             NaN         NaN       NaN            NaN       NaN   \n",
      "bare_ground                NaN         NaN       NaN            NaN       NaN   \n",
      "blooming                   NaN         NaN       NaN            NaN       NaN   \n",
      "blow_down                  NaN         NaN       NaN            NaN       NaN   \n",
      "clear                      NaN         NaN -0.410428      -0.718208       NaN   \n",
      "cloudy                     NaN         NaN       NaN            NaN -0.829594   \n",
      "conventional_mine          NaN         NaN       NaN            NaN       NaN   \n",
      "cultivation                NaN         NaN       NaN            NaN       NaN   \n",
      "habitation                 NaN         NaN       NaN            NaN       NaN   \n",
      "haze                       NaN         NaN       NaN            NaN       NaN   \n",
      "partly_cloudy              NaN         NaN       NaN            NaN       NaN   \n",
      "primary                    NaN         NaN       NaN            NaN       NaN   \n",
      "road                       NaN         NaN       NaN            NaN       NaN   \n",
      "selective_logging          NaN         NaN       NaN            NaN       NaN   \n",
      "slash_burn                 NaN         NaN       NaN            NaN       NaN   \n",
      "water                      NaN         NaN       NaN            NaN       NaN   \n",
      "\n",
      "                   road  selective_logging  slash_burn  water  \n",
      "agriculture         NaN                NaN         NaN    NaN  \n",
      "artisinal_mine      NaN                NaN         NaN    NaN  \n",
      "bare_ground         NaN                NaN         NaN    NaN  \n",
      "blooming            NaN                NaN         NaN    NaN  \n",
      "blow_down           NaN                NaN         NaN    NaN  \n",
      "clear               NaN                NaN         NaN    NaN  \n",
      "cloudy              NaN                NaN         NaN    NaN  \n",
      "conventional_mine   NaN                NaN         NaN    NaN  \n",
      "cultivation         NaN                NaN         NaN    NaN  \n",
      "habitation          NaN                NaN         NaN    NaN  \n",
      "haze                NaN                NaN         NaN    NaN  \n",
      "partly_cloudy       NaN                NaN         NaN    NaN  \n",
      "primary             NaN                NaN         NaN    NaN  \n",
      "road                NaN                NaN         NaN    NaN  \n",
      "selective_logging   NaN                NaN         NaN    NaN  \n",
      "slash_burn          NaN                NaN         NaN    NaN  \n",
      "water               NaN                NaN         NaN    NaN  \n"
     ]
    }
   ],
   "source": [
    "# Find labels with low correlation\n",
    "df_corr = df_Dataset.corr()\n",
    "print(df_corr[df_corr<-0.2])"
   ]
  },
  {
   "cell_type": "code",
   "execution_count": 6,
   "id": "97a5155f",
   "metadata": {
    "execution": {
     "iopub.execute_input": "2022-06-20T02:25:01.829787Z",
     "iopub.status.busy": "2022-06-20T02:25:01.829583Z",
     "iopub.status.idle": "2022-06-20T02:25:01.864988Z",
     "shell.execute_reply": "2022-06-20T02:25:01.864170Z"
    },
    "papermill": {
     "duration": 0.06156,
     "end_time": "2022-06-20T02:25:01.867354",
     "exception": false,
     "start_time": "2022-06-20T02:25:01.805794",
     "status": "completed"
    },
    "tags": []
   },
   "outputs": [
    {
     "name": "stdout",
     "output_type": "stream",
     "text": [
      "Images labelled as clear AND haze:\t\t\t0\n",
      "Images labelled as clear AND partly_cloudy:\t\t0\n",
      "Images labelled as clear AND cloudy:\t\t\t0\n",
      "Images labelled as haze AND partly_cloudy:\t\t0\n",
      "Images labelled as haze AND cloudy:\t\t\t0\n",
      "Images labelled as partly_cloudy AND cloudy:\t\t0\n",
      "\n",
      "Images with any of these 4 labels:\t40478\n",
      "Images without any of these 4 labels:\t1\n",
      "total number of images:\t\t\t40479\n"
     ]
    }
   ],
   "source": [
    "# Verify mutual exclusivity of 4 labels: clear, haze, partly_cloudy, cloudy\n",
    "\n",
    "print('Images labelled as clear AND haze:\\t\\t\\t'+str(df_Dataset.loc[(df_Dataset['clear']==1.0) & (df_Dataset['haze']==1.0)]['filename'].count()))\n",
    "print('Images labelled as clear AND partly_cloudy:\\t\\t'+str(df_Dataset.loc[(df_Dataset['clear']==1.0) & (df_Dataset['partly_cloudy']==1.0)]['filename'].count()))\n",
    "print('Images labelled as clear AND cloudy:\\t\\t\\t'+str(df_Dataset.loc[(df_Dataset['clear']==1.0) & (df_Dataset['cloudy']==1.0)]['filename'].count()))\n",
    "print('Images labelled as haze AND partly_cloudy:\\t\\t'+str(df_Dataset.loc[(df_Dataset['haze']==1.0) & (df_Dataset['partly_cloudy']==1.0)]['filename'].count()))\n",
    "print('Images labelled as haze AND cloudy:\\t\\t\\t'+str(df_Dataset.loc[(df_Dataset['haze']==1.0) & (df_Dataset['cloudy']==1.0)]['filename'].count()))\n",
    "print('Images labelled as partly_cloudy AND cloudy:\\t\\t'+str(df_Dataset.loc[(df_Dataset['partly_cloudy']==1.0) & (df_Dataset['cloudy']==1.0)]['filename'].count()))\n",
    "\n",
    "print('\\nImages with any of these 4 labels:\\t'+str(df_Dataset.loc[(df_Dataset['clear']==1.0) | (df_Dataset['haze']==1.0) | (df_Dataset['partly_cloudy']==1.0) | (df_Dataset['cloudy']==1.0)]['filename'].count()))\n",
    "print('Images without any of these 4 labels:\\t'+str(df_Dataset.loc[~((df_Dataset['clear']==1.0) | (df_Dataset['haze']==1.0) | (df_Dataset['partly_cloudy']==1.0) | (df_Dataset['cloudy']==1.0))]['filename'].count()))\n",
    "print('total number of images:\\t\\t\\t'+str(df_Raw.tags.count()))"
   ]
  },
  {
   "cell_type": "code",
   "execution_count": 7,
   "id": "3a2db396",
   "metadata": {
    "execution": {
     "iopub.execute_input": "2022-06-20T02:25:01.917528Z",
     "iopub.status.busy": "2022-06-20T02:25:01.916909Z",
     "iopub.status.idle": "2022-06-20T02:25:01.926656Z",
     "shell.execute_reply": "2022-06-20T02:25:01.925724Z"
    },
    "papermill": {
     "duration": 0.036188,
     "end_time": "2022-06-20T02:25:01.928628",
     "exception": false,
     "start_time": "2022-06-20T02:25:01.892440",
     "status": "completed"
    },
    "tags": []
   },
   "outputs": [
    {
     "name": "stdout",
     "output_type": "stream",
     "text": [
      "Images labelled as artisinal_mine AND conventional_mine: 4\n",
      "Images labelled as artisinal_mine OR conventional_mine: 435\n"
     ]
    }
   ],
   "source": [
    "# Verify mutual exclusivity of 4 labels: artisinal_mine and conventional_mine\n",
    "\n",
    "print('Images labelled as artisinal_mine AND conventional_mine: '+str(df_Dataset.loc[(df_Dataset['artisinal_mine']==1.0) & (df_Dataset['conventional_mine']==1.0)]['filename'].count()))\n",
    "print('Images labelled as artisinal_mine OR conventional_mine: '+str(df_Dataset.loc[(df_Dataset['artisinal_mine']==1.0) | (df_Dataset['conventional_mine']==1.0)]['filename'].count()))"
   ]
  },
  {
   "cell_type": "markdown",
   "id": "63529edc",
   "metadata": {
    "papermill": {
     "duration": 0.024006,
     "end_time": "2022-06-20T02:25:01.976597",
     "exception": false,
     "start_time": "2022-06-20T02:25:01.952591",
     "status": "completed"
    },
    "tags": []
   },
   "source": [
    "## Training and Validation Generators\n",
    "\n",
    "Now that you know the images you are dealing with, it is time for you to code the generators that will fed these images to your Network. For this, complete the `train_val_generators` function below:\n",
    "\n",
    "**Important Note:** The images have a resolution of 256x256 but the `flow_from_dataframe` method you will use allows you to set a target resolution. Lower resolution may yield much quicker training times without compromising the accuracy!"
   ]
  },
  {
   "cell_type": "code",
   "execution_count": 8,
   "id": "33ce70f7",
   "metadata": {
    "execution": {
     "iopub.execute_input": "2022-06-20T02:25:02.026030Z",
     "iopub.status.busy": "2022-06-20T02:25:02.025803Z",
     "iopub.status.idle": "2022-06-20T02:25:02.047301Z",
     "shell.execute_reply": "2022-06-20T02:25:02.046597Z"
    },
    "papermill": {
     "duration": 0.048658,
     "end_time": "2022-06-20T02:25:02.049102",
     "exception": false,
     "start_time": "2022-06-20T02:25:02.000444",
     "status": "completed"
    },
    "tags": []
   },
   "outputs": [],
   "source": [
    "def generate_generator_multiple(generator, directory, df1, df2, df3, df4, df5, batch_size, target_size):\n",
    "    genX1 = generator.flow_from_dataframe(dataframe = df1,\n",
    "                                          directory=directory,\n",
    "                                          x_col=df1.columns[0],\n",
    "                                          y_col=df1.columns[1:len(df1.columns)],\n",
    "                                          target_size = target_size,\n",
    "                                          class_mode = 'raw',\n",
    "                                          batch_size = batch_size,\n",
    "                                          shuffle=False, \n",
    "                                          seed=7)\n",
    "    \n",
    "    genX2 = generator.flow_from_dataframe(dataframe = df2,\n",
    "                                          directory=directory,\n",
    "                                          x_col=df2.columns[0],\n",
    "                                          y_col=df2.columns[1:len(df2.columns)],\n",
    "                                          target_size = target_size,\n",
    "                                          class_mode = 'raw',\n",
    "                                          batch_size = batch_size,\n",
    "                                          shuffle=False, \n",
    "                                          seed=7)\n",
    "    \n",
    "    genX3 = generator.flow_from_dataframe(dataframe = df3,\n",
    "                                          directory=directory,\n",
    "                                          x_col=df3.columns[0],\n",
    "                                          y_col=df3.columns[1:len(df3.columns)],\n",
    "                                          target_size = target_size,\n",
    "                                          class_mode = 'raw',\n",
    "                                          batch_size = batch_size,\n",
    "                                          shuffle=False, \n",
    "                                          seed=7)\n",
    "    \n",
    "    genX4 = generator.flow_from_dataframe(dataframe = df4,\n",
    "                                          directory=directory,\n",
    "                                          x_col=df4.columns[0],\n",
    "                                          y_col=df4.columns[1:len(df4.columns)],\n",
    "                                          target_size = target_size,\n",
    "                                          class_mode = 'raw',\n",
    "                                          batch_size = batch_size,\n",
    "                                          shuffle=False, \n",
    "                                          seed=7)\n",
    "    \n",
    "    genX5 = generator.flow_from_dataframe(dataframe = df5,\n",
    "                                          directory=directory,\n",
    "                                          x_col=df5.columns[0],\n",
    "                                          y_col=df5.columns[1:len(df5.columns)],\n",
    "                                          target_size = target_size,\n",
    "                                          class_mode = 'raw',\n",
    "                                          batch_size = batch_size,\n",
    "                                          shuffle=False, \n",
    "                                          seed=7)\n",
    "    \n",
    "    for i in range(df1['filename'].count()):\n",
    "            X1i = genX1.next()\n",
    "            X2i = genX2.next()\n",
    "            X3i = genX3.next()\n",
    "            X4i = genX4.next()\n",
    "            X5i = genX5.next()\n",
    "            yield X1i[0],[X1i[1], X2i[1], X3i[1], X4i[1], X5i[1]]\n",
    "\n",
    "\n",
    "            \n",
    "            \n",
    "            \n",
    "# Get Data Generators\n",
    "def train_val_generators(DIRECTORY, df_Train, df_Validation):\n",
    "    \n",
    "  # Instantiate the ImageDataGenerator class \n",
    "  # Don't forget to normalize pixel values and set arguments to augment the images \n",
    "  train_datagen = ImageDataGenerator(rescale=1.0/255.0,\n",
    "                                     rotation_range=45,\n",
    "                                     width_shift_range=0.2,\n",
    "                                     height_shift_range=0.2,\n",
    "                                     zoom_range=0.15,\n",
    "                                     horizontal_flip=True,\n",
    "                                     fill_mode='nearest')\n",
    "\n",
    "# create generator\n",
    "  df_vis = df_Train.loc[:, ['filename', 'clear', 'haze', 'partly_cloudy', 'cloudy']]\n",
    "  df_hum = df_Train.loc[:, ['filename', 'agriculture', 'cultivation', 'habitation']]\n",
    "  df_rw  = df_Train.loc[:, ['filename', 'road', 'water']]\n",
    "  df_prim = df_Train.loc[:, ['filename', 'primary']]\n",
    "  df_rem = df_Train.loc[:, ['filename', 'artisinal_mine', 'bare_ground', 'blooming', 'blow_down', 'conventional_mine', 'selective_logging', 'slash_burn']]\n",
    "\n",
    "  train_generator = generate_generator_multiple(train_datagen, DIRECTORY, df_vis, df_hum, df_rw, df_prim, df_rem, 32, (256, 256))\n",
    "    \n",
    "#   train_generator = train_datagen.flow_from_dataframe(dataframe=df_Train,\n",
    "#                                                       directory=DIRECTORY,\n",
    "#                                                       x_col=df_Train.columns[0],\n",
    "#                                                       y_col=df_Train.columns[1:len(df_Train.columns)],\n",
    "#                                                       batch_size=32, \n",
    "#                                                       class_mode='raw',\n",
    "#                                                       target_size=(256, 256))\n",
    "\n",
    "  # Instantiate the ImageDataGenerator class (set the rescale argument)\n",
    "  # Validation data not augmented\n",
    "  validation_datagen = ImageDataGenerator(rescale=1.0/255.0)\n",
    "    \n",
    "  df_vis = df_ValData.loc[:, ['filename', 'clear', 'haze', 'partly_cloudy', 'cloudy']]\n",
    "  df_hum = df_ValData.loc[:, ['filename', 'agriculture', 'cultivation', 'habitation']]\n",
    "  df_rw  = df_ValData.loc[:, ['filename', 'road', 'water']]\n",
    "  df_prim = df_ValData.loc[:, ['filename', 'primary']]\n",
    "  df_rem = df_ValData.loc[:, ['filename', 'artisinal_mine', 'bare_ground', 'blooming', 'blow_down', 'conventional_mine', 'selective_logging', 'slash_burn']]\n",
    "\n",
    "  validation_generator = generate_generator_multiple(validation_datagen, DIRECTORY, df_vis, df_hum, df_rw, df_prim, df_rem, 32, (256, 256))\n",
    "  \n",
    "#   flow_from_dataframe method\n",
    "#   validation_generator = validation_datagen.flow_from_dataframe(dataframe=df_Validation,\n",
    "#                                                                 directory=DIRECTORY,\n",
    "#                                                                 x_col=df_ValData.columns[0],\n",
    "#                                                                 y_col=df_ValData.columns[1:len(df_ValData.columns)],\n",
    "#                                                                 batch_size=32,\n",
    "#                                                                 class_mode='raw',\n",
    "#                                                                 target_size=(256, 256))\n",
    "  return train_generator, validation_generator"
   ]
  },
  {
   "cell_type": "code",
   "execution_count": 9,
   "id": "caa4cd0d",
   "metadata": {
    "execution": {
     "iopub.execute_input": "2022-06-20T02:25:02.098495Z",
     "iopub.status.busy": "2022-06-20T02:25:02.097866Z",
     "iopub.status.idle": "2022-06-20T02:25:02.145893Z",
     "shell.execute_reply": "2022-06-20T02:25:02.145177Z"
    },
    "papermill": {
     "duration": 0.074917,
     "end_time": "2022-06-20T02:25:02.148302",
     "exception": false,
     "start_time": "2022-06-20T02:25:02.073385",
     "status": "completed"
    },
    "tags": []
   },
   "outputs": [],
   "source": [
    "# Split Data\n",
    "TrainToValidation_DataSize_Ratio = 0.8\n",
    "df_TrainData, df_ValData = SplitData(df_Dataset, TrainToValidation_DataSize_Ratio)\n",
    "\n",
    "# Test Generators\n",
    "train_generator, validation_generator = train_val_generators(source_path_Images, df_TrainData, df_ValData)"
   ]
  },
  {
   "cell_type": "markdown",
   "id": "0af26a6a",
   "metadata": {
    "papermill": {
     "duration": 0.024612,
     "end_time": "2022-06-20T02:25:02.200185",
     "exception": false,
     "start_time": "2022-06-20T02:25:02.175573",
     "status": "completed"
    },
    "tags": []
   },
   "source": [
    "## Test Image Data Generator and Label Encoding\n",
    "- Verify if functions are working and visualize data"
   ]
  },
  {
   "cell_type": "code",
   "execution_count": 10,
   "id": "4d267016",
   "metadata": {
    "execution": {
     "iopub.execute_input": "2022-06-20T02:25:02.250560Z",
     "iopub.status.busy": "2022-06-20T02:25:02.249874Z",
     "iopub.status.idle": "2022-06-20T02:25:02.253677Z",
     "shell.execute_reply": "2022-06-20T02:25:02.253007Z"
    },
    "papermill": {
     "duration": 0.030656,
     "end_time": "2022-06-20T02:25:02.255370",
     "exception": false,
     "start_time": "2022-06-20T02:25:02.224714",
     "status": "completed"
    },
    "tags": []
   },
   "outputs": [],
   "source": [
    "# data_index = 0\n",
    "\n",
    "# print(pd.DataFrame(np.array([LabelList, validation_generator.labels[data_index]]).transpose()).to_string(index=False))\n",
    "# print(\"\\nFile name:\\t\"+validation_generator.filenames[data_index])\n",
    "# print(\"Labels:\\t\\t\"+OneHotToStringLabels(validation_generator.labels[data_index], LabelList, ' ')+'\\n')\n",
    "\n",
    "# img = mpimg.imread(os.path.join(source_path_Images, validation_generator.filenames[data_index]))\n",
    "# img = img[:,:,:3]\n",
    "# plt.imshow(img)"
   ]
  },
  {
   "cell_type": "markdown",
   "id": "bd0c9697",
   "metadata": {
    "papermill": {
     "duration": 0.024435,
     "end_time": "2022-06-20T02:25:02.304263",
     "exception": false,
     "start_time": "2022-06-20T02:25:02.279828",
     "status": "completed"
    },
    "tags": []
   },
   "source": [
    "## Model Definition\n",
    "- Import InceptionV3 weights and define layers connected\n",
    "- Import VGG19 weights and define layers connected"
   ]
  },
  {
   "cell_type": "code",
   "execution_count": 11,
   "id": "344263f8",
   "metadata": {
    "execution": {
     "iopub.execute_input": "2022-06-20T02:25:02.354483Z",
     "iopub.status.busy": "2022-06-20T02:25:02.354288Z",
     "iopub.status.idle": "2022-06-20T02:25:02.385835Z",
     "shell.execute_reply": "2022-06-20T02:25:02.385192Z"
    },
    "papermill": {
     "duration": 0.058944,
     "end_time": "2022-06-20T02:25:02.387562",
     "exception": false,
     "start_time": "2022-06-20T02:25:02.328618",
     "status": "completed"
    },
    "tags": []
   },
   "outputs": [],
   "source": [
    "from tensorflow.keras.optimizers import RMSprop\n",
    "from tensorflow.keras.optimizers import Adam\n",
    "import tensorflow_addons as tfa\n",
    "\n",
    "def create_model():\n",
    "    \n",
    "    Input = tf.keras.Input(shape=(256, 256, 3))\n",
    "    \n",
    "#     #Load ResNet50V2 Model\n",
    "    Model_1 = tf.keras.applications.ResNet50V2(input_tensor = Input, include_top = False, weights=\"imagenet\")\n",
    "    #Make all layers on ResNet50V2 trainable\n",
    "    for layer in Model_1.layers:\n",
    "        layer.trainable = True\n",
    "    x_Model_1 = Model_1(Input)\n",
    "    x_Model_1_Flat = tf.keras.layers.Flatten(name='Flatten_Model_1')(x_Model_1)\n",
    "    \n",
    "    \n",
    "#     #Load VGG19 Model\n",
    "    Model_2 = tf.keras.applications.VGG19(input_tensor = Input, include_top=False, weights=\"imagenet\")\n",
    "    #Make all layers on VGG19 trainable\n",
    "    for layer in Model_2.layers:\n",
    "            layer.trainable = True\n",
    "    x_Model_2 = Model_2(Input)\n",
    "    x_Model_2_Flat = tf.keras.layers.Flatten(name='Flatten_Model_2')(x_Model_2)\n",
    "    \n",
    "    \n",
    "    x_Top = tf.keras.layers.Concatenate(name='ConcatenateFlatten_Layer')([x_Model_1_Flat, x_Model_2_Flat])\n",
    "    x_Top = tf.keras.layers.Dense(2048, activation='relu', kernel_initializer = tf.keras.initializers.HeUniform())(x_Top)\n",
    "    \n",
    "    #Define Visibility Branch\n",
    "    # x_vis[0] -> clear\n",
    "    # x_vis[1] -> haze\n",
    "    # x_vis[2] -> partly_cloudy\n",
    "    # x_vis[3] -> cloudy\n",
    "    x_vis = tf.keras.layers.Dense(1024, activation='relu', kernel_initializer = tf.keras.initializers.HeUniform())(x_Top)\n",
    "    x_vis = tf.keras.layers.Dropout(0.4)(x_vis)\n",
    "    x_vis = tf.keras.layers.Dense(1024, activation='relu', kernel_initializer = tf.keras.initializers.HeUniform())(x_vis)\n",
    "    x_vis = tf.keras.layers.Dropout(0.4)(x_vis)\n",
    "    x_vis = tf.keras.layers.Dense(1024, activation='relu', kernel_initializer = tf.keras.initializers.HeUniform())(x_vis)\n",
    "    x_vis = tf.keras.layers.Dropout(0.4)(x_vis)\n",
    "    x_vis = tf.keras.layers.Dense(4, activation='softmax', name = 'visibility', kernel_initializer = tf.keras.initializers.GlorotUniform())(x_vis)\n",
    "    \n",
    "    #Define Human Activity Branch\n",
    "    # x_hum[0] -> agriculture\n",
    "    # x_hum[1] -> cultivation\n",
    "    # x_hum[2] -> habitation\n",
    "    x_hum = tf.keras.layers.Dense(1024, activation='relu', kernel_initializer = tf.keras.initializers.HeUniform())(x_Top)\n",
    "    x_hum = tf.keras.layers.Dropout(0.4)(x_hum)\n",
    "    x_hum = tf.keras.layers.Dense(1024, activation='relu', kernel_initializer = tf.keras.initializers.HeUniform())(x_hum)\n",
    "    x_hum = tf.keras.layers.Dropout(0.4)(x_hum)\n",
    "    x_hum = tf.keras.layers.Dense(1024, activation='relu', kernel_initializer = tf.keras.initializers.HeUniform())(x_hum)\n",
    "    x_hum = tf.keras.layers.Dropout(0.4)(x_hum)\n",
    "    x_hum = tf.keras.layers.Dense(3, activation='sigmoid', name='human_activity', kernel_initializer = tf.keras.initializers.GlorotUniform())(x_hum)\n",
    "    \n",
    "    #Define Track Branch (Road or Water)\n",
    "    # x_rw[0] -> road\n",
    "    # x_rw[1] -> water\n",
    "    x_rw = tf.keras.layers.Dense(1024, activation='relu', kernel_initializer = tf.keras.initializers.HeUniform())(x_Top)\n",
    "    x_rw = tf.keras.layers.Dropout(0.4)(x_rw)\n",
    "    x_rw = tf.keras.layers.Dense(1024, activation='relu', kernel_initializer = tf.keras.initializers.HeUniform())(x_rw)\n",
    "    x_rw = tf.keras.layers.Dropout(0.4)(x_rw)\n",
    "    x_rw = tf.keras.layers.Dense(1024, activation='relu', kernel_initializer = tf.keras.initializers.HeUniform())(x_rw)\n",
    "    x_rw = tf.keras.layers.Dropout(0.4)(x_rw)\n",
    "    x_rw = tf.keras.layers.Dense(2, activation='sigmoid', name='road_water', kernel_initializer = tf.keras.initializers.GlorotUniform())(x_rw)\n",
    "    \n",
    "    #Define Primary Branch\n",
    "    #x_primary[0] -> primary\n",
    "    x_prim = tf.keras.layers.Dense(1024, activation='relu', kernel_initializer = tf.keras.initializers.HeUniform())(x_Top)\n",
    "    x_prim = tf.keras.layers.Dropout(0.4)(x_prim)\n",
    "    x_prim = tf.keras.layers.Dense(1024, activation='relu', kernel_initializer = tf.keras.initializers.HeUniform())(x_prim)\n",
    "    x_prim = tf.keras.layers.Dropout(0.4)(x_prim)\n",
    "    x_prim = tf.keras.layers.Dense(1024, activation='relu', kernel_initializer = tf.keras.initializers.HeUniform())(x_prim)\n",
    "    x_prim = tf.keras.layers.Dropout(0.4)(x_prim)\n",
    "    x_prim = tf.keras.layers.Dense(1, activation='sigmoid', name='primary', kernel_initializer = tf.keras.initializers.GlorotUniform())(x_prim)\n",
    "    \n",
    "    \n",
    "    #Define Remaining Branch\n",
    "    #x_mine[0] -> artisinal_mine\n",
    "    # x_rem[1] -> bare_ground\n",
    "    # x_rem[2] -> blooming\n",
    "    # x_rem[3] -> blow_down\n",
    "    #x_mine[4] -> conventional_mine\n",
    "    # x_rem[5] -> selective_logging\n",
    "    # x_rem[6] -> slash_burn\n",
    "    x_rem = tf.keras.layers.Dense(1024, activation='relu', kernel_initializer = tf.keras.initializers.HeUniform())(x_Top)\n",
    "    x_rem = tf.keras.layers.Dropout(0.4)(x_rem)\n",
    "    x_rem = tf.keras.layers.Dense(1024, activation='relu', kernel_initializer = tf.keras.initializers.HeUniform())(x_rem)\n",
    "    x_rem = tf.keras.layers.Dropout(0.4)(x_rem)\n",
    "    x_rem = tf.keras.layers.Dense(1024, activation='relu', kernel_initializer = tf.keras.initializers.HeUniform())(x_rem)\n",
    "    x_rem = tf.keras.layers.Dropout(0.4)(x_rem)\n",
    "    x_rem = tf.keras.layers.Dense(7, activation='sigmoid', name='remaining', kernel_initializer = tf.keras.initializers.GlorotUniform())(x_rem)\n",
    "    \n",
    "    model = tf.keras.Model(inputs=Input, outputs=[x_vis, x_hum, x_rw, x_prim, x_rem])\n",
    "\n",
    "    model.compile(optimizer=Adam(lr=1e-4),\n",
    "                loss='binary_crossentropy',\n",
    "                metrics={\n",
    "                         'visibility': [tfa.metrics.FBetaScore(beta=2.0, num_classes=4 , average='micro', threshold=0.5)],\n",
    "                         'human_activity': [tfa.metrics.FBetaScore(beta=2.0, num_classes=3 , average='micro', threshold=0.5)],\n",
    "                         'road_water': [tfa.metrics.FBetaScore(beta=2.0, num_classes=2 , average='micro', threshold=0.5)],\n",
    "                         'primary': [tfa.metrics.FBetaScore(beta=2.0, num_classes=1 , average='micro', threshold=0.5)],\n",
    "                         'remaining': [tfa.metrics.FBetaScore(beta=2.0, num_classes=7 , average='micro', threshold=0.5)]\n",
    "                        }\n",
    "               ) \n",
    "    return model"
   ]
  },
  {
   "cell_type": "markdown",
   "id": "29a85a6e",
   "metadata": {
    "papermill": {
     "duration": 0.024346,
     "end_time": "2022-06-20T02:25:02.437096",
     "exception": false,
     "start_time": "2022-06-20T02:25:02.412750",
     "status": "completed"
    },
    "tags": []
   },
   "source": [
    "## Callback to stop training"
   ]
  },
  {
   "cell_type": "code",
   "execution_count": 12,
   "id": "59103200",
   "metadata": {
    "execution": {
     "iopub.execute_input": "2022-06-20T02:25:02.488618Z",
     "iopub.status.busy": "2022-06-20T02:25:02.488167Z",
     "iopub.status.idle": "2022-06-20T02:25:02.492838Z",
     "shell.execute_reply": "2022-06-20T02:25:02.492191Z"
    },
    "papermill": {
     "duration": 0.031972,
     "end_time": "2022-06-20T02:25:02.494540",
     "exception": false,
     "start_time": "2022-06-20T02:25:02.462568",
     "status": "completed"
    },
    "tags": []
   },
   "outputs": [],
   "source": [
    "class myCallback(tf.keras.callbacks.Callback):\n",
    "    def on_epoch_end(self, epoch, logs={}):\n",
    "        print(\"\\nFBeta Score = \"+str(statistics.harmonic_mean([logs.get('val_visibility_fbeta_score'), logs.get('val_human_activity_fbeta_score'), logs.get('val_road_water_fbeta_score'), logs.get('val_primary_fbeta_score')])))"
   ]
  },
  {
   "cell_type": "markdown",
   "id": "5b95794d",
   "metadata": {
    "papermill": {
     "duration": 0.024713,
     "end_time": "2022-06-20T02:25:02.544437",
     "exception": false,
     "start_time": "2022-06-20T02:25:02.519724",
     "status": "completed"
    },
    "tags": []
   },
   "source": [
    "## Model Training"
   ]
  },
  {
   "cell_type": "code",
   "execution_count": 13,
   "id": "9d3727c4",
   "metadata": {
    "execution": {
     "iopub.execute_input": "2022-06-20T02:25:02.595980Z",
     "iopub.status.busy": "2022-06-20T02:25:02.595401Z",
     "iopub.status.idle": "2022-06-20T03:20:22.509257Z",
     "shell.execute_reply": "2022-06-20T03:20:22.508434Z"
    },
    "papermill": {
     "duration": 3319.942362,
     "end_time": "2022-06-20T03:20:22.511893",
     "exception": false,
     "start_time": "2022-06-20T02:25:02.569531",
     "status": "completed"
    },
    "tags": []
   },
   "outputs": [
    {
     "name": "stderr",
     "output_type": "stream",
     "text": [
      "2022-06-20 02:25:02.699213: I tensorflow/stream_executor/cuda/cuda_gpu_executor.cc:937] successful NUMA node read from SysFS had negative value (-1), but there must be at least one NUMA node, so returning NUMA node zero\n",
      "2022-06-20 02:25:02.853055: I tensorflow/stream_executor/cuda/cuda_gpu_executor.cc:937] successful NUMA node read from SysFS had negative value (-1), but there must be at least one NUMA node, so returning NUMA node zero\n",
      "2022-06-20 02:25:02.853960: I tensorflow/stream_executor/cuda/cuda_gpu_executor.cc:937] successful NUMA node read from SysFS had negative value (-1), but there must be at least one NUMA node, so returning NUMA node zero\n",
      "2022-06-20 02:25:02.855173: I tensorflow/core/platform/cpu_feature_guard.cc:142] This TensorFlow binary is optimized with oneAPI Deep Neural Network Library (oneDNN) to use the following CPU instructions in performance-critical operations:  AVX2 AVX512F FMA\n",
      "To enable them in other operations, rebuild TensorFlow with the appropriate compiler flags.\n",
      "2022-06-20 02:25:02.855472: I tensorflow/stream_executor/cuda/cuda_gpu_executor.cc:937] successful NUMA node read from SysFS had negative value (-1), but there must be at least one NUMA node, so returning NUMA node zero\n",
      "2022-06-20 02:25:02.856212: I tensorflow/stream_executor/cuda/cuda_gpu_executor.cc:937] successful NUMA node read from SysFS had negative value (-1), but there must be at least one NUMA node, so returning NUMA node zero\n",
      "2022-06-20 02:25:02.856944: I tensorflow/stream_executor/cuda/cuda_gpu_executor.cc:937] successful NUMA node read from SysFS had negative value (-1), but there must be at least one NUMA node, so returning NUMA node zero\n",
      "2022-06-20 02:25:04.919541: I tensorflow/stream_executor/cuda/cuda_gpu_executor.cc:937] successful NUMA node read from SysFS had negative value (-1), but there must be at least one NUMA node, so returning NUMA node zero\n",
      "2022-06-20 02:25:04.920419: I tensorflow/stream_executor/cuda/cuda_gpu_executor.cc:937] successful NUMA node read from SysFS had negative value (-1), but there must be at least one NUMA node, so returning NUMA node zero\n",
      "2022-06-20 02:25:04.921095: I tensorflow/stream_executor/cuda/cuda_gpu_executor.cc:937] successful NUMA node read from SysFS had negative value (-1), but there must be at least one NUMA node, so returning NUMA node zero\n",
      "2022-06-20 02:25:04.922434: I tensorflow/core/common_runtime/gpu/gpu_device.cc:1510] Created device /job:localhost/replica:0/task:0/device:GPU:0 with 15403 MB memory:  -> device: 0, name: Tesla P100-PCIE-16GB, pci bus id: 0000:00:04.0, compute capability: 6.0\n"
     ]
    },
    {
     "name": "stdout",
     "output_type": "stream",
     "text": [
      "Downloading data from https://storage.googleapis.com/tensorflow/keras-applications/resnet/resnet50v2_weights_tf_dim_ordering_tf_kernels_notop.h5\n",
      "94674944/94668760 [==============================] - 2s 0us/step\n",
      "94683136/94668760 [==============================] - 2s 0us/step\n",
      "Downloading data from https://storage.googleapis.com/tensorflow/keras-applications/vgg19/vgg19_weights_tf_dim_ordering_tf_kernels_notop.h5\n",
      "80142336/80134624 [==============================] - 0s 0us/step\n",
      "80150528/80134624 [==============================] - 0s 0us/step\n"
     ]
    },
    {
     "name": "stderr",
     "output_type": "stream",
     "text": [
      "/opt/conda/lib/python3.7/site-packages/keras/optimizer_v2/optimizer_v2.py:356: UserWarning: The `lr` argument is deprecated, use `learning_rate` instead.\n",
      "  \"The `lr` argument is deprecated, use `learning_rate` instead.\")\n",
      "/opt/conda/lib/python3.7/site-packages/keras/engine/training.py:1972: UserWarning: `Model.fit_generator` is deprecated and will be removed in a future version. Please use `Model.fit`, which supports generators.\n",
      "  warnings.warn('`Model.fit_generator` is deprecated and '\n"
     ]
    },
    {
     "name": "stdout",
     "output_type": "stream",
     "text": [
      "Found 32383 validated image filenames.\n",
      "Found 32383 validated image filenames.\n",
      "Found 32383 validated image filenames.\n",
      "Found 32383 validated image filenames.\n",
      "Found 32383 validated image filenames.\n"
     ]
    },
    {
     "name": "stderr",
     "output_type": "stream",
     "text": [
      "2022-06-20 02:27:01.683414: I tensorflow/compiler/mlir/mlir_graph_optimization_pass.cc:185] None of the MLIR Optimization Passes are enabled (registered 2)\n",
      "2022-06-20 02:27:10.656263: I tensorflow/stream_executor/cuda/cuda_dnn.cc:369] Loaded cuDNN version 8005\n"
     ]
    },
    {
     "name": "stdout",
     "output_type": "stream",
     "text": [
      "1012/1012 [==============================] - ETA: 0s - loss: 0.9858 - visibility_loss: 0.2011 - human_activity_loss: 0.2930 - road_water_loss: 0.3151 - primary_loss: 0.1272 - remaining_loss: 0.0494 - visibility_fbeta_score: 0.8526 - human_activity_fbeta_score: 0.5565 - road_water_fbeta_score: 0.5949 - primary_fbeta_score: 0.9802 - remaining_fbeta_score: 0.0026Found 8096 validated image filenames.\n",
      "Found 8096 validated image filenames.\n",
      "Found 8096 validated image filenames.\n",
      "Found 8096 validated image filenames.\n",
      "Found 8096 validated image filenames.\n",
      "1012/1012 [==============================] - 3182s 3s/step - loss: 0.9858 - visibility_loss: 0.2011 - human_activity_loss: 0.2930 - road_water_loss: 0.3151 - primary_loss: 0.1272 - remaining_loss: 0.0494 - visibility_fbeta_score: 0.8526 - human_activity_fbeta_score: 0.5565 - road_water_fbeta_score: 0.5949 - primary_fbeta_score: 0.9802 - remaining_fbeta_score: 0.0026 - val_loss: 0.7120 - val_visibility_loss: 0.1259 - val_human_activity_loss: 0.2168 - val_road_water_loss: 0.2142 - val_primary_loss: 0.1176 - val_remaining_loss: 0.0376 - val_visibility_fbeta_score: 0.8983 - val_human_activity_fbeta_score: 0.6800 - val_road_water_fbeta_score: 0.7127 - val_primary_fbeta_score: 0.9683 - val_remaining_fbeta_score: 0.0360\n",
      "\n",
      "FBeta Score = 0.7968604563360882\n",
      "\n",
      "Epoch 00001: val_loss improved from inf to 0.71205, saving model to /kaggle/working/ResNet50VGG19.h5\n"
     ]
    },
    {
     "name": "stderr",
     "output_type": "stream",
     "text": [
      "/opt/conda/lib/python3.7/site-packages/keras/utils/generic_utils.py:497: CustomMaskWarning: Custom mask layers require a config and must override get_config. When loading, the custom mask layer must be passed to the custom_objects argument.\n",
      "  category=CustomMaskWarning)\n",
      "2022-06-20 03:20:03.565477: W tensorflow/core/framework/cpu_allocator_impl.cc:80] Allocation of 1342177280 exceeds 10% of free system memory.\n",
      "2022-06-20 03:20:07.638012: W tensorflow/core/framework/cpu_allocator_impl.cc:80] Allocation of 1342177280 exceeds 10% of free system memory.\n",
      "2022-06-20 03:20:09.992545: W tensorflow/core/framework/cpu_allocator_impl.cc:80] Allocation of 1342177280 exceeds 10% of free system memory.\n"
     ]
    }
   ],
   "source": [
    "from keras.callbacks import ModelCheckpoint, EarlyStopping, ReduceLROnPlateau, History\n",
    "\n",
    "model = create_model()\n",
    "BATCH_SIZE = 32\n",
    "\n",
    "callbacks = [History(),\n",
    "            myCallback(),\n",
    "            EarlyStopping(monitor='val_loss', patience=3, verbose=1, min_delta=1e-4, restore_best_weights=False),\n",
    "            ReduceLROnPlateau(monitor='val_loss', factor=0.3, patience=1, cooldown=0, min_lr=1e-7, verbose=1),\n",
    "            ModelCheckpoint(filepath='/kaggle/working/ResNet50VGG19.h5', monitor=\"val_loss\", verbose=1, save_best_only=True, save_weights_only=False, mode='auto')]\n",
    "\n",
    "model_history = model.fit_generator(train_generator,\n",
    "                    steps_per_epoch = math.ceil(df_TrainData['filename'].count()/BATCH_SIZE),\n",
    "                    epochs=1,\n",
    "                    verbose=1,\n",
    "                    validation_data=validation_generator,\n",
    "                    validation_steps = math.ceil(df_ValData['filename'].count()/BATCH_SIZE),\n",
    "                    callbacks=callbacks\n",
    "                   )\n",
    "\n",
    "history = model_history.history"
   ]
  },
  {
   "cell_type": "markdown",
   "id": "752016ec",
   "metadata": {
    "papermill": {
     "duration": 4.713912,
     "end_time": "2022-06-20T03:20:27.638438",
     "exception": false,
     "start_time": "2022-06-20T03:20:22.924526",
     "status": "completed"
    },
    "tags": []
   },
   "source": [
    "## Save/Load Keras Model and History"
   ]
  },
  {
   "cell_type": "code",
   "execution_count": 14,
   "id": "27c40c26",
   "metadata": {
    "execution": {
     "iopub.execute_input": "2022-06-20T03:20:28.423144Z",
     "iopub.status.busy": "2022-06-20T03:20:28.422866Z",
     "iopub.status.idle": "2022-06-20T03:20:47.422997Z",
     "shell.execute_reply": "2022-06-20T03:20:47.421998Z"
    },
    "papermill": {
     "duration": 19.39489,
     "end_time": "2022-06-20T03:20:47.427617",
     "exception": false,
     "start_time": "2022-06-20T03:20:28.032727",
     "status": "completed"
    },
    "tags": []
   },
   "outputs": [
    {
     "name": "stderr",
     "output_type": "stream",
     "text": [
      "2022-06-20 03:20:28.531979: W tensorflow/core/framework/cpu_allocator_impl.cc:80] Allocation of 1342177280 exceeds 10% of free system memory.\n",
      "2022-06-20 03:20:32.960063: W tensorflow/core/framework/cpu_allocator_impl.cc:80] Allocation of 1342177280 exceeds 10% of free system memory.\n"
     ]
    }
   ],
   "source": [
    "# Save\n",
    "import pickle\n",
    "from keras.models import load_model\n",
    "with open(\"/kaggle/working/ResNet50VGG19.pkl\", 'wb') as f:\n",
    "    pickle.dump(history, f)\n",
    "model.save(\"/kaggle/working/ResNet50VGG19_EndTrain.h5\")"
   ]
  },
  {
   "cell_type": "code",
   "execution_count": 15,
   "id": "f476bfa8",
   "metadata": {
    "execution": {
     "iopub.execute_input": "2022-06-20T03:20:51.141194Z",
     "iopub.status.busy": "2022-06-20T03:20:51.140913Z",
     "iopub.status.idle": "2022-06-20T03:20:51.144443Z",
     "shell.execute_reply": "2022-06-20T03:20:51.143699Z"
    },
    "papermill": {
     "duration": 0.444607,
     "end_time": "2022-06-20T03:20:51.146235",
     "exception": false,
     "start_time": "2022-06-20T03:20:50.701628",
     "status": "completed"
    },
    "tags": []
   },
   "outputs": [],
   "source": [
    "# # Load\n",
    "# from tensorflow import keras\n",
    "# import pickle\n",
    "# model = keras.models.load_model(\"/kaggle/working/InceptionV3_Untrainable_V2.h5\")\n",
    "# with open(\"/kaggle/working/InceptionV3_Untrainable_V2.pkl\", 'rb') as f:\n",
    "#     history = pickle.load(f)"
   ]
  },
  {
   "cell_type": "markdown",
   "id": "cd971c9c",
   "metadata": {
    "papermill": {
     "duration": 0.394334,
     "end_time": "2022-06-20T03:20:51.933154",
     "exception": false,
     "start_time": "2022-06-20T03:20:51.538820",
     "status": "completed"
    },
    "tags": []
   },
   "source": [
    "## Plot History"
   ]
  },
  {
   "cell_type": "code",
   "execution_count": 16,
   "id": "edab8749",
   "metadata": {
    "execution": {
     "iopub.execute_input": "2022-06-20T03:20:52.713210Z",
     "iopub.status.busy": "2022-06-20T03:20:52.712933Z",
     "iopub.status.idle": "2022-06-20T03:20:53.212769Z",
     "shell.execute_reply": "2022-06-20T03:20:53.212020Z"
    },
    "papermill": {
     "duration": 0.892061,
     "end_time": "2022-06-20T03:20:53.214759",
     "exception": false,
     "start_time": "2022-06-20T03:20:52.322698",
     "status": "completed"
    },
    "tags": []
   },
   "outputs": [
    {
     "data": {
      "image/png": "[encoded data removed]",
      "text/plain": [
       "<Figure size 432x288 with 1 Axes>"
      ]
     },
     "metadata": {
      "needs_background": "light"
     },
     "output_type": "display_data"
    },
    {
     "data": {
      "image/png": "[encoded data removed]",
      "text/plain": [
       "<Figure size 432x288 with 1 Axes>"
      ]
     },
     "metadata": {
      "needs_background": "light"
     },
     "output_type": "display_data"
    }
   ],
   "source": [
    "#-----------------------------------------------------------\n",
    "# Retrieve a list of list results on training and test data\n",
    "# sets for each training epoch\n",
    "#-----------------------------------------------------------\n",
    "loss=history['loss']\n",
    "val_loss=history['val_loss']\n",
    "\n",
    "epochs=np.array(range(len(loss)))+1 # Get number of epochs\n",
    "\n",
    "#------------------------------------------------\n",
    "# Plot training and validation loss per epoch\n",
    "#------------------------------------------------\n",
    "plt.plot(epochs, loss, label=\"Training Loss\")\n",
    "plt.plot(epochs, val_loss, label=\"Validation Loss\")\n",
    "plt.title('Training and validation Loss')\n",
    "plt.xlim([0, 15])\n",
    "plt.legend(loc='center left', bbox_to_anchor=(1, 0.5))\n",
    "plt.show()\n",
    "\n",
    "#------------------------------------------------\n",
    "# Plot training and validation F Scores per epoch\n",
    "#------------------------------------------------\n",
    "plt.plot(epochs, history['visibility_fbeta_score'], label=\"Visibility - Train\")\n",
    "plt.plot(epochs, history['val_visibility_fbeta_score'], label=\"Visibility - Validation\")\n",
    "plt.plot(epochs, history['human_activity_fbeta_score'], label=\"Human Activity  - Train\")\n",
    "plt.plot(epochs, history['val_human_activity_fbeta_score'], label=\"Human Activity  - Validation\")\n",
    "plt.plot(epochs, history['road_water_fbeta_score'], label=\"Road-Water - Train\")\n",
    "plt.plot(epochs, history['val_road_water_fbeta_score'], label=\"Road-Water - Validation\")\n",
    "plt.plot(epochs, history['primary_fbeta_score'], label=\"Primary - Train\")\n",
    "plt.plot(epochs, history['val_primary_fbeta_score'], label=\"Primary - Validation\")\n",
    "plt.plot(epochs, history['remaining_fbeta_score'], label=\"Remaining - Train\")\n",
    "plt.plot(epochs, history['val_remaining_fbeta_score'], label=\"Remaining - Validation\")\n",
    "plt.title('F-Beta Score')\n",
    "plt.xlim([0, 15])\n",
    "plt.legend(loc='center left', bbox_to_anchor=(1, 0.5))\n",
    "plt.show()"
   ]
  },
  {
   "cell_type": "markdown",
   "id": "c73c4db7",
   "metadata": {
    "papermill": {
     "duration": 0.392746,
     "end_time": "2022-06-20T03:20:54.022500",
     "exception": false,
     "start_time": "2022-06-20T03:20:53.629754",
     "status": "completed"
    },
    "tags": []
   },
   "source": [
    "# Threshold optimization and Submission"
   ]
  },
  {
   "cell_type": "code",
   "execution_count": 17,
   "id": "ed9d18a1",
   "metadata": {
    "execution": {
     "iopub.execute_input": "2022-06-20T03:20:54.815500Z",
     "iopub.status.busy": "2022-06-20T03:20:54.815177Z",
     "iopub.status.idle": "2022-06-20T03:20:55.708786Z",
     "shell.execute_reply": "2022-06-20T03:20:55.708003Z"
    },
    "papermill": {
     "duration": 1.29141,
     "end_time": "2022-06-20T03:20:55.711172",
     "exception": false,
     "start_time": "2022-06-20T03:20:54.419762",
     "status": "completed"
    },
    "tags": []
   },
   "outputs": [],
   "source": [
    "import matplotlib.image as mpimg\n",
    "from IPython.display import clear_output\n",
    "\n",
    "import sklearn\n",
    "from sklearn import metrics\n",
    "import scipy\n",
    "\n",
    "\n",
    "def GetOneHotFromPrediction(predictions):\n",
    "    OneHotPred = np.zeros((len(predictions[0]), 17))\n",
    "    for i in range(len(predictions[0])):\n",
    "        OneHotPred[i][0] = predictions[1][i][0]     #agriculture\n",
    "        OneHotPred[i][1] = predictions[4][i][0]     #artisinal_mine\n",
    "        OneHotPred[i][2] = predictions[4][i][1]     #bare_ground\n",
    "        OneHotPred[i][3] = predictions[4][i][2]     #blooming\n",
    "        OneHotPred[i][4] = predictions[4][i][3]     #blow_down\n",
    "        OneHotPred[i][5] = predictions[0][i][0]     #clear\n",
    "        OneHotPred[i][6] = predictions[0][i][3]     #cloudy\n",
    "        OneHotPred[i][7] = predictions[4][i][4]     #conventional_mine\n",
    "        OneHotPred[i][8] = predictions[1][i][1]     #cultivation\n",
    "        OneHotPred[i][9] = predictions[1][i][2]     #habitation\n",
    "        OneHotPred[i][10] = predictions[0][i][1]    #haze\n",
    "        OneHotPred[i][11] = predictions[0][i][2]    #partly_cloudy\n",
    "        OneHotPred[i][12] = predictions[3][i][0]    #primary\n",
    "        OneHotPred[i][13] = predictions[2][i][0]    #road\n",
    "        OneHotPred[i][14] = predictions[4][i][5]    #selective_logging\n",
    "        OneHotPred[i][15] = predictions[4][i][6]    #slash_burn\n",
    "        OneHotPred[i][16] = predictions[2][i][1]    #water\n",
    "    return OneHotPred\n",
    "\n",
    "\n",
    "def GetFScore(threshold):\n",
    "    T_Val1 = np.zeros(True_Val1.shape)\n",
    "    T_Val2 = np.zeros(True_Val2.shape)\n",
    "    for i, row in enumerate(True_Val1):\n",
    "        for j, element in enumerate(row):\n",
    "            if(Pred_Val1[i][j] > threshold[j]):\n",
    "                T_Val1[i][j]=1\n",
    "            else:\n",
    "                T_Val1[i][j]=0\n",
    "    for i, row in enumerate(True_Val2):\n",
    "        for j, element in enumerate(row):\n",
    "            if(Pred_Val2[i][j] > threshold[j]):\n",
    "                T_Val2[i][j]=1\n",
    "            else:\n",
    "                T_Val2[i][j]=0\n",
    "    Fscore1 = sklearn.metrics.fbeta_score(y_true=True_Val1, y_pred=T_Val1, beta=2, average='micro')\n",
    "    Fscore2 = sklearn.metrics.fbeta_score(y_true=True_Val2, y_pred=T_Val2, beta=2, average='micro')\n",
    "    return ((Fscore1+Fscore2)/2.0)\n",
    "\n",
    "\n",
    "def InsertLabels_Dataframe(df_Submission, predicted, threshold):\n",
    "    for i, ModelOutput in enumerate(predicted):\n",
    "        label = \"\"\n",
    "        if(ModelOutput[0] > threshold[0]):\n",
    "            label = label + \" agriculture\"\n",
    "        if(ModelOutput[1] > threshold[1]):\n",
    "            label = label + \" artisinal_mine\"\n",
    "        if(ModelOutput[2] > threshold[2]):\n",
    "            label = label + \" bare_ground\"\n",
    "        if(ModelOutput[3] > threshold[3]):\n",
    "            label = label + \" blooming\"\n",
    "        if(ModelOutput[4] > threshold[4]):\n",
    "            label = label + \" blow_down\"\n",
    "        if(ModelOutput[5] > threshold[5]):\n",
    "            label = label + \" clear\"\n",
    "        if(ModelOutput[6] > threshold[6]):\n",
    "            label = label + \" cloudy\"\n",
    "        if(ModelOutput[7] > threshold[7]):\n",
    "            label = label + \" conventional_mine\"\n",
    "        if(ModelOutput[8] > threshold[8]):\n",
    "            label = label + \" cultivation\"\n",
    "        if(ModelOutput[9] > threshold[9]):\n",
    "            label = label + \" habitation\"\n",
    "        if(ModelOutput[10] > threshold[10]):\n",
    "            label = label + \" haze\"\n",
    "        if(ModelOutput[11] > threshold[11]):\n",
    "            label = label + \" partly_cloudy\"\n",
    "        if(ModelOutput[12] > threshold[12]):\n",
    "            label = label + \" primary\"\n",
    "        if(ModelOutput[13] > threshold[13]):\n",
    "            label = label + \" road\"\n",
    "        if(ModelOutput[14] > threshold[14]):\n",
    "            label = label + \" selective_logging\"\n",
    "        if(ModelOutput[15] > threshold[15]):\n",
    "            label = label + \" slash_burn\"\n",
    "        if(ModelOutput[16] > threshold[16]):\n",
    "            label = label + \" water\"\n",
    "        df_Submission['tags'][i] = label"
   ]
  },
  {
   "cell_type": "code",
   "execution_count": 18,
   "id": "1dda0eb0",
   "metadata": {
    "execution": {
     "iopub.execute_input": "2022-06-20T03:20:56.687615Z",
     "iopub.status.busy": "2022-06-20T03:20:56.687350Z",
     "iopub.status.idle": "2022-06-20T13:20:32.644595Z",
     "shell.execute_reply": "2022-06-20T13:20:32.643551Z"
    },
    "papermill": {
     "duration": 35977.424846,
     "end_time": "2022-06-20T13:20:33.616587",
     "exception": false,
     "start_time": "2022-06-20T03:20:56.191741",
     "status": "completed"
    },
    "tags": []
   },
   "outputs": [
    {
     "name": "stdout",
     "output_type": "stream",
     "text": [
      "Found 20240 validated image filenames.\n",
      "Found 20239 validated image filenames.\n",
      "633/633 [==============================] - 131s 205ms/step\n",
      "633/633 [==============================] - 125s 198ms/step\n",
      "0.8457392642593136\n",
      "[0.17518333 0.1475745  0.23493989 0.54597943 0.23448603 0.04897606\n",
      " 0.31980573 0.57041374 0.23245409 0.18863237 0.09912691 0.2384898\n",
      " 0.16328288 0.17190291 0.12541312 0.43703476 0.20891197]\n",
      "0.8922064126382498\n"
     ]
    }
   ],
   "source": [
    "FolderPath = '../input/amazon-satellite/raw-data/train-jpg'\n",
    "df_Raw = pd.read_csv('../input/amazon-satellite/raw-data/train_v2.csv')\n",
    "\n",
    "df_Dataset = pd.DataFrame(Get_LabelEncodedArray(df_Raw.tags, LabelList), columns=LabelList)\n",
    "df_Dataset['filename'] = df_Raw.image_name.to_list()\n",
    "df_Dataset['filename'] = df_Dataset['filename']+'.jpg'\n",
    "df_Dataset = df_Dataset.loc[: , ['filename']+LabelList]\n",
    "\n",
    "df_Val1, df_Val2 = SplitData(df_Dataset, Ratio=0.5)\n",
    "\n",
    "Val1_datagen = ImageDataGenerator(rescale=1.0/255.0)\n",
    "Val1_generator = Val1_datagen.flow_from_dataframe(dataframe=df_Val1,\n",
    "                                                                directory=FolderPath,\n",
    "                                                                x_col=df_Val1.columns[0],\n",
    "                                                                y_col=df_Val1.columns[1:len(df_Val1.columns)],\n",
    "                                                                batch_size=32,\n",
    "                                                                class_mode='raw',\n",
    "                                                                shuffle=False,\n",
    "                                                                target_size=(256, 256))\n",
    "\n",
    "Val2_datagen = ImageDataGenerator(rescale=1.0/255.0)\n",
    "Val2_generator = Val2_datagen.flow_from_dataframe(dataframe=df_Val2,\n",
    "                                                                directory=FolderPath,\n",
    "                                                                x_col=df_Val2.columns[0],\n",
    "                                                                y_col=df_Val2.columns[1:len(df_Val2.columns)],\n",
    "                                                                batch_size=32,\n",
    "                                                                class_mode='raw',\n",
    "                                                                shuffle=False,\n",
    "                                                                target_size=(256, 256))\n",
    "\n",
    "True_Val1 = np.array(df_Val1.loc[: , LabelList])\n",
    "True_Val2 = np.array(df_Val2.loc[: , LabelList])\n",
    "\n",
    "Pred_Val1 = GetOneHotFromPrediction(model.predict(Val1_generator, verbose=1))\n",
    "Pred_Val2 = GetOneHotFromPrediction(model.predict(Val2_generator, verbose=1))\n",
    "\n",
    "initial_threshold = np.ones(17)*0.5\n",
    "print(GetFScore(initial_threshold))\n",
    "\n",
    "# Threshold optimization\n",
    "lw = [0.0]*17\n",
    "up = [1.0]*17\n",
    "ret = scipy.optimize.dual_annealing(lambda x: -GetFScore(x), bounds=list(zip(lw, up)))\n",
    "optimized_threshold = ret.x\n",
    "optimized_fscore = -ret.fun\n",
    "print(optimized_threshold)\n",
    "print(optimized_fscore)"
   ]
  },
  {
   "cell_type": "code",
   "execution_count": 19,
   "id": "a28664cf",
   "metadata": {
    "execution": {
     "iopub.execute_input": "2022-06-20T13:20:35.221694Z",
     "iopub.status.busy": "2022-06-20T13:20:35.221091Z",
     "iopub.status.idle": "2022-06-20T13:34:36.517723Z",
     "shell.execute_reply": "2022-06-20T13:34:36.516912Z"
    },
    "papermill": {
     "duration": 843.363315,
     "end_time": "2022-06-20T13:34:37.780306",
     "exception": false,
     "start_time": "2022-06-20T13:20:34.416991",
     "status": "completed"
    },
    "tags": []
   },
   "outputs": [
    {
     "name": "stdout",
     "output_type": "stream",
     "text": [
      "Found 61191 validated image filenames.\n",
      "1913/1913 [==============================] - 614s 320ms/step\n"
     ]
    },
    {
     "name": "stderr",
     "output_type": "stream",
     "text": [
      "/opt/conda/lib/python3.7/site-packages/ipykernel_launcher.py:19: FutureWarning: The default value of regex will change from True to False in a future version.\n"
     ]
    }
   ],
   "source": [
    "df_Submission = pd.read_csv('../input/amazon-satellite/raw-data/sample_submission_v2/sample_submission_v2.csv')\n",
    "df_Submission['image_name'] = df_Submission['image_name'] + '.jpg'\n",
    "Test_FolderPath = '../input/amazon-satellite/raw-data/test-jpg'\n",
    "\n",
    "validation_datagen = ImageDataGenerator(rescale=1.0/255.0)\n",
    "validation_generator = validation_datagen.flow_from_dataframe(dataframe=df_Submission,\n",
    "                                                                directory=Test_FolderPath,\n",
    "                                                                x_col=df_Submission.columns[0],\n",
    "                                                                y_col=df_Submission.columns[1:len(df_Submission.columns)],\n",
    "                                                                batch_size=32,\n",
    "                                                                class_mode='raw',\n",
    "                                                                shuffle=False,\n",
    "                                                                target_size=(256, 256))\n",
    "\n",
    "Raw_Predictions = model.predict(validation_generator, verbose=1)\n",
    "OneHot_Predictions = GetOneHotFromPrediction(Raw_Predictions)\n",
    "InsertLabels_Dataframe(df_Submission, OneHot_Predictions, threshold=optimized_threshold)\n",
    "\n",
    "df_Submission['image_name'] = df_Submission['image_name'].str.replace('.jpg', '')\n",
    "df_Submission.to_csv('/kaggle/working/submission.csv', index=None)"
   ]
  }
 ],
 "metadata": {
  "kernelspec": {
   "display_name": "Python 3",
   "language": "python",
   "name": "python3"
  },
  "language_info": {
   "codemirror_mode": {
    "name": "ipython",
    "version": 3
   },
   "file_extension": ".py",
   "mimetype": "text/x-python",
   "name": "python",
   "nbconvert_exporter": "python",
   "pygments_lexer": "ipython3",
   "version": "3.7.12"
  },
  "papermill": {
   "default_parameters": {},
   "duration": 40200.23457,
   "end_time": "2022-06-20T13:34:42.390243",
   "environment_variables": {},
   "exception": null,
   "input_path": "__notebook__.ipynb",
   "output_path": "__notebook__.ipynb",
   "parameters": {},
   "start_time": "2022-06-20T02:24:42.155673",
   "version": "2.3.4"
  }
 },
 "nbformat": 4,
 "nbformat_minor": 5
}
