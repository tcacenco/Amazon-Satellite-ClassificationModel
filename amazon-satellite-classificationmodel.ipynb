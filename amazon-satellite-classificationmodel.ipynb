{
 "cells": [
  {
   "cell_type": "code",
   "execution_count": 1,
   "id": "a5196eab",
   "metadata": {
    "execution": {
     "iopub.execute_input": "2022-05-29T20:11:06.718804Z",
     "iopub.status.busy": "2022-05-29T20:11:06.718065Z",
     "iopub.status.idle": "2022-05-29T20:11:12.495514Z",
     "shell.execute_reply": "2022-05-29T20:11:12.494797Z"
    },
    "papermill": {
     "duration": 5.803833,
     "end_time": "2022-05-29T20:11:12.497709",
     "exception": false,
     "start_time": "2022-05-29T20:11:06.693876",
     "status": "completed"
    },
    "tags": []
   },
   "outputs": [],
   "source": [
    "from datetime import datetime\n",
    "from datetime import timedelta\n",
    "import os\n",
    "import math\n",
    "import statistics\n",
    "import numpy as np\n",
    "import pandas as pd\n",
    "import matplotlib.pyplot as plt\n",
    "import matplotlib.image as mpimg\n",
    "from IPython.display import clear_output\n",
    "\n",
    "import tensorflow as tf\n",
    "from tensorflow.keras.preprocessing.image import ImageDataGenerator\n",
    "\n",
    "from tensorflow.keras.applications.inception_v3 import InceptionV3\n",
    "from tensorflow.keras.optimizers import RMSprop\n",
    "import tensorflow_addons as tfa\n",
    "\n",
    "# tf.test.is_gpu_available()\n",
    "# tf.config.list_physical_devices('GPU')"
   ]
  },
  {
   "cell_type": "markdown",
   "id": "3606a39d",
   "metadata": {
    "papermill": {
     "duration": 0.021134,
     "end_time": "2022-05-29T20:11:12.540863",
     "exception": false,
     "start_time": "2022-05-29T20:11:12.519729",
     "status": "completed"
    },
    "tags": []
   },
   "source": [
    "## Def functions: One-Hot Encoding and Split Data (Dataframe)"
   ]
  },
  {
   "cell_type": "code",
   "execution_count": 2,
   "id": "79dfe627",
   "metadata": {
    "execution": {
     "iopub.execute_input": "2022-05-29T20:11:12.584907Z",
     "iopub.status.busy": "2022-05-29T20:11:12.584244Z",
     "iopub.status.idle": "2022-05-29T20:11:12.596968Z",
     "shell.execute_reply": "2022-05-29T20:11:12.596234Z"
    },
    "papermill": {
     "duration": 0.036594,
     "end_time": "2022-05-29T20:11:12.598697",
     "exception": false,
     "start_time": "2022-05-29T20:11:12.562103",
     "status": "completed"
    },
    "tags": []
   },
   "outputs": [],
   "source": [
    "def Get_ListOfLabels(df_InputLabels):\n",
    "    df_Tags = df_InputLabels.str.split(expand=True)\n",
    "    columns = len(df_Tags.columns)\n",
    "\n",
    "    for i in range(columns):\n",
    "        if i == 0:\n",
    "            df_aux = pd.DataFrame(df_Tags[0])\n",
    "        else:\n",
    "            df_aux = df_aux.append(pd.DataFrame(df_Tags[i].rename(index=0)))\n",
    "\n",
    "    LabelList = (df_aux.drop_duplicates().sort_values([0], ascending=[True]))[0].tolist()\n",
    "    LabelList = list(filter(None, LabelList))\n",
    "    return LabelList\n",
    "\n",
    "\n",
    "def Get_LabelEncodedArray(df_InputLabels, LabelList):\n",
    "    LabelArray = np.zeros((df_InputLabels.count(), len(LabelList)))\n",
    "    TagsArray = df_InputLabels.str.split(expand=True).to_numpy()\n",
    "\n",
    "    for i in range(TagsArray.shape[0]):\n",
    "        for j in range(TagsArray.shape[1]):\n",
    "            for k in range(len(LabelList)):\n",
    "                if(TagsArray[i][j]== LabelList[k]):\n",
    "                    LabelArray[i][k] = 1\n",
    "\n",
    "    return LabelArray\n",
    "\n",
    "def OneHotToStringLabels(OneHotArray, LabelList, delimiter):\n",
    "    string_labels = \"\"\n",
    "    if(len(OneHotArray)!=len(LabelList)):\n",
    "        raise Exception(\"OneHotArray does not match LabelList len/size\")\n",
    "\n",
    "    for i in range(len(OneHotArray)):\n",
    "        if(OneHotArray[i] == 1.0):\n",
    "            if(string_labels == \"\"):\n",
    "                string_labels = LabelList[i]\n",
    "            else:\n",
    "                string_labels = string_labels+delimiter+LabelList[i]\n",
    "    return string_labels\n",
    "\n",
    "def SplitData(df_Dataset, Ratio):\n",
    "\n",
    "    df_TrainData = pd.DataFrame(df_Dataset).sample(round(Ratio * df_Dataset['filename'].count()))\n",
    "\n",
    "    df_ValData = pd.DataFrame(df_Dataset)\n",
    "    condition = df_ValData['filename'].isin(df_TrainData['filename'])\n",
    "    df_ValData = df_ValData.drop(df_ValData[condition].index)\n",
    "\n",
    "    return df_TrainData, df_ValData"
   ]
  },
  {
   "cell_type": "markdown",
   "id": "04d24ffa",
   "metadata": {
    "papermill": {
     "duration": 0.021489,
     "end_time": "2022-05-29T20:11:12.641871",
     "exception": false,
     "start_time": "2022-05-29T20:11:12.620382",
     "status": "completed"
    },
    "tags": []
   },
   "source": [
    "### **Encoding labels:** One-Hot"
   ]
  },
  {
   "cell_type": "code",
   "execution_count": 3,
   "id": "85572cf0",
   "metadata": {
    "execution": {
     "iopub.execute_input": "2022-05-29T20:11:12.685746Z",
     "iopub.status.busy": "2022-05-29T20:11:12.685209Z",
     "iopub.status.idle": "2022-05-29T20:11:17.702777Z",
     "shell.execute_reply": "2022-05-29T20:11:17.702031Z"
    },
    "papermill": {
     "duration": 5.041563,
     "end_time": "2022-05-29T20:11:17.704795",
     "exception": false,
     "start_time": "2022-05-29T20:11:12.663232",
     "status": "completed"
    },
    "tags": []
   },
   "outputs": [],
   "source": [
    "source_path = \"../input/amazon-satellite/raw-data\"\n",
    "source_path_Labels = os.path.join(source_path, 'train_v2.csv')\n",
    "source_path_Images = os.path.join(source_path, 'train-jpg')\n",
    "\n",
    "df_Raw = pd.read_csv(source_path_Labels)\n",
    "LabelList = Get_ListOfLabels(df_Raw.tags)\n",
    "\n",
    "Get_LabelEncodedArray(df_Raw.tags, LabelList)\n",
    "df_Dataset = pd.DataFrame(Get_LabelEncodedArray(df_Raw.tags, LabelList), columns=LabelList)\n",
    "df_Dataset['filename'] = df_Raw.image_name.to_list()\n",
    "df_Dataset['filename'] = df_Dataset['filename']+'.jpg'\n",
    "df_Dataset = df_Dataset.loc[: , ['filename']+LabelList]"
   ]
  },
  {
   "cell_type": "markdown",
   "id": "f7256d30",
   "metadata": {
    "papermill": {
     "duration": 0.021748,
     "end_time": "2022-05-29T20:11:17.750191",
     "exception": false,
     "start_time": "2022-05-29T20:11:17.728443",
     "status": "completed"
    },
    "tags": []
   },
   "source": [
    "## Data Exploration\n",
    "- Finding correlation between classes/labels and mutual exclusivity"
   ]
  },
  {
   "cell_type": "code",
   "execution_count": 4,
   "id": "e7affc33",
   "metadata": {
    "execution": {
     "iopub.execute_input": "2022-05-29T20:11:17.795113Z",
     "iopub.status.busy": "2022-05-29T20:11:17.794875Z",
     "iopub.status.idle": "2022-05-29T20:11:17.850400Z",
     "shell.execute_reply": "2022-05-29T20:11:17.849660Z"
    },
    "papermill": {
     "duration": 0.081852,
     "end_time": "2022-05-29T20:11:17.853632",
     "exception": false,
     "start_time": "2022-05-29T20:11:17.771780",
     "status": "completed"
    },
    "tags": []
   },
   "outputs": [
    {
     "name": "stdout",
     "output_type": "stream",
     "text": [
      "                   agriculture  artisinal_mine  bare_ground  blooming  \\\n",
      "agriculture           1.000000             NaN          NaN       NaN   \n",
      "artisinal_mine             NaN             1.0          NaN       NaN   \n",
      "bare_ground                NaN             NaN          1.0       NaN   \n",
      "blooming                   NaN             NaN          NaN       1.0   \n",
      "blow_down                  NaN             NaN          NaN       NaN   \n",
      "clear                      NaN             NaN          NaN       NaN   \n",
      "cloudy                     NaN             NaN          NaN       NaN   \n",
      "conventional_mine          NaN             NaN          NaN       NaN   \n",
      "cultivation           0.344964             NaN          NaN       NaN   \n",
      "habitation            0.303979             NaN          NaN       NaN   \n",
      "haze                       NaN             NaN          NaN       NaN   \n",
      "partly_cloudy              NaN             NaN          NaN       NaN   \n",
      "primary                    NaN             NaN          NaN       NaN   \n",
      "road                  0.480930             NaN          NaN       NaN   \n",
      "selective_logging          NaN             NaN          NaN       NaN   \n",
      "slash_burn                 NaN             NaN          NaN       NaN   \n",
      "water                      NaN             NaN          NaN       NaN   \n",
      "\n",
      "                   blow_down  clear  cloudy  conventional_mine  cultivation  \\\n",
      "agriculture              NaN    NaN     NaN                NaN     0.344964   \n",
      "artisinal_mine           NaN    NaN     NaN                NaN          NaN   \n",
      "bare_ground              NaN    NaN     NaN                NaN          NaN   \n",
      "blooming                 NaN    NaN     NaN                NaN          NaN   \n",
      "blow_down                1.0    NaN     NaN                NaN          NaN   \n",
      "clear                    NaN    1.0     NaN                NaN          NaN   \n",
      "cloudy                   NaN    NaN     1.0                NaN          NaN   \n",
      "conventional_mine        NaN    NaN     NaN                1.0          NaN   \n",
      "cultivation              NaN    NaN     NaN                NaN     1.000000   \n",
      "habitation               NaN    NaN     NaN                NaN          NaN   \n",
      "haze                     NaN    NaN     NaN                NaN          NaN   \n",
      "partly_cloudy            NaN    NaN     NaN                NaN          NaN   \n",
      "primary                  NaN    NaN     NaN                NaN          NaN   \n",
      "road                     NaN    NaN     NaN                NaN          NaN   \n",
      "selective_logging        NaN    NaN     NaN                NaN          NaN   \n",
      "slash_burn               NaN    NaN     NaN                NaN          NaN   \n",
      "water                    NaN    NaN     NaN                NaN          NaN   \n",
      "\n",
      "                   habitation  haze  partly_cloudy  primary      road  \\\n",
      "agriculture          0.303979   NaN            NaN      NaN  0.480930   \n",
      "artisinal_mine            NaN   NaN            NaN      NaN       NaN   \n",
      "bare_ground               NaN   NaN            NaN      NaN       NaN   \n",
      "blooming                  NaN   NaN            NaN      NaN       NaN   \n",
      "blow_down                 NaN   NaN            NaN      NaN       NaN   \n",
      "clear                     NaN   NaN            NaN      NaN       NaN   \n",
      "cloudy                    NaN   NaN            NaN      NaN       NaN   \n",
      "conventional_mine         NaN   NaN            NaN      NaN       NaN   \n",
      "cultivation               NaN   NaN            NaN      NaN       NaN   \n",
      "habitation           1.000000   NaN            NaN      NaN  0.443341   \n",
      "haze                      NaN   1.0            NaN      NaN       NaN   \n",
      "partly_cloudy             NaN   NaN            1.0      NaN       NaN   \n",
      "primary                   NaN   NaN            NaN      1.0       NaN   \n",
      "road                 0.443341   NaN            NaN      NaN  1.000000   \n",
      "selective_logging         NaN   NaN            NaN      NaN       NaN   \n",
      "slash_burn                NaN   NaN            NaN      NaN       NaN   \n",
      "water                     NaN   NaN            NaN      NaN       NaN   \n",
      "\n",
      "                   selective_logging  slash_burn  water  \n",
      "agriculture                      NaN         NaN    NaN  \n",
      "artisinal_mine                   NaN         NaN    NaN  \n",
      "bare_ground                      NaN         NaN    NaN  \n",
      "blooming                         NaN         NaN    NaN  \n",
      "blow_down                        NaN         NaN    NaN  \n",
      "clear                            NaN         NaN    NaN  \n",
      "cloudy                           NaN         NaN    NaN  \n",
      "conventional_mine                NaN         NaN    NaN  \n",
      "cultivation                      NaN         NaN    NaN  \n",
      "habitation                       NaN         NaN    NaN  \n",
      "haze                             NaN         NaN    NaN  \n",
      "partly_cloudy                    NaN         NaN    NaN  \n",
      "primary                          NaN         NaN    NaN  \n",
      "road                             NaN         NaN    NaN  \n",
      "selective_logging                1.0         NaN    NaN  \n",
      "slash_burn                       NaN         1.0    NaN  \n",
      "water                            NaN         NaN    1.0  \n"
     ]
    }
   ],
   "source": [
    "# Find labels with high correlation\n",
    "df_corr = df_Dataset.corr()\n",
    "print(df_corr[df_corr>0.3])"
   ]
  },
  {
   "cell_type": "code",
   "execution_count": 5,
   "id": "0cd91aa6",
   "metadata": {
    "execution": {
     "iopub.execute_input": "2022-05-29T20:11:17.900519Z",
     "iopub.status.busy": "2022-05-29T20:11:17.900222Z",
     "iopub.status.idle": "2022-05-29T20:11:17.943592Z",
     "shell.execute_reply": "2022-05-29T20:11:17.942758Z"
    },
    "papermill": {
     "duration": 0.069526,
     "end_time": "2022-05-29T20:11:17.946563",
     "exception": false,
     "start_time": "2022-05-29T20:11:17.877037",
     "status": "completed"
    },
    "tags": []
   },
   "outputs": [
    {
     "name": "stdout",
     "output_type": "stream",
     "text": [
      "                   agriculture  artisinal_mine  bare_ground  blooming  \\\n",
      "agriculture                NaN             NaN          NaN       NaN   \n",
      "artisinal_mine             NaN             NaN          NaN       NaN   \n",
      "bare_ground                NaN             NaN          NaN       NaN   \n",
      "blooming                   NaN             NaN          NaN       NaN   \n",
      "blow_down                  NaN             NaN          NaN       NaN   \n",
      "clear                      NaN             NaN          NaN       NaN   \n",
      "cloudy                     NaN             NaN          NaN       NaN   \n",
      "conventional_mine          NaN             NaN          NaN       NaN   \n",
      "cultivation                NaN             NaN          NaN       NaN   \n",
      "habitation                 NaN             NaN          NaN       NaN   \n",
      "haze                       NaN             NaN          NaN       NaN   \n",
      "partly_cloudy              NaN             NaN          NaN       NaN   \n",
      "primary                    NaN             NaN          NaN       NaN   \n",
      "road                       NaN             NaN          NaN       NaN   \n",
      "selective_logging          NaN             NaN          NaN       NaN   \n",
      "slash_burn                 NaN             NaN          NaN       NaN   \n",
      "water                      NaN             NaN          NaN       NaN   \n",
      "\n",
      "                   blow_down     clear    cloudy  conventional_mine  \\\n",
      "agriculture              NaN       NaN       NaN                NaN   \n",
      "artisinal_mine           NaN       NaN       NaN                NaN   \n",
      "bare_ground              NaN       NaN       NaN                NaN   \n",
      "blooming                 NaN       NaN       NaN                NaN   \n",
      "blow_down                NaN       NaN       NaN                NaN   \n",
      "clear                    NaN       NaN -0.358343                NaN   \n",
      "cloudy                   NaN -0.358343       NaN                NaN   \n",
      "conventional_mine        NaN       NaN       NaN                NaN   \n",
      "cultivation              NaN       NaN       NaN                NaN   \n",
      "habitation               NaN       NaN       NaN                NaN   \n",
      "haze                     NaN -0.410428       NaN                NaN   \n",
      "partly_cloudy            NaN -0.718208       NaN                NaN   \n",
      "primary                  NaN       NaN -0.829594                NaN   \n",
      "road                     NaN       NaN       NaN                NaN   \n",
      "selective_logging        NaN       NaN       NaN                NaN   \n",
      "slash_burn               NaN       NaN       NaN                NaN   \n",
      "water                    NaN       NaN       NaN                NaN   \n",
      "\n",
      "                   cultivation  habitation      haze  partly_cloudy   primary  \\\n",
      "agriculture                NaN         NaN       NaN            NaN       NaN   \n",
      "artisinal_mine             NaN         NaN       NaN            NaN       NaN   \n",
      "bare_ground                NaN         NaN       NaN            NaN       NaN   \n",
      "blooming                   NaN         NaN       NaN            NaN       NaN   \n",
      "blow_down                  NaN         NaN       NaN            NaN       NaN   \n",
      "clear                      NaN         NaN -0.410428      -0.718208       NaN   \n",
      "cloudy                     NaN         NaN       NaN            NaN -0.829594   \n",
      "conventional_mine          NaN         NaN       NaN            NaN       NaN   \n",
      "cultivation                NaN         NaN       NaN            NaN       NaN   \n",
      "habitation                 NaN         NaN       NaN            NaN       NaN   \n",
      "haze                       NaN         NaN       NaN            NaN       NaN   \n",
      "partly_cloudy              NaN         NaN       NaN            NaN       NaN   \n",
      "primary                    NaN         NaN       NaN            NaN       NaN   \n",
      "road                       NaN         NaN       NaN            NaN       NaN   \n",
      "selective_logging          NaN         NaN       NaN            NaN       NaN   \n",
      "slash_burn                 NaN         NaN       NaN            NaN       NaN   \n",
      "water                      NaN         NaN       NaN            NaN       NaN   \n",
      "\n",
      "                   road  selective_logging  slash_burn  water  \n",
      "agriculture         NaN                NaN         NaN    NaN  \n",
      "artisinal_mine      NaN                NaN         NaN    NaN  \n",
      "bare_ground         NaN                NaN         NaN    NaN  \n",
      "blooming            NaN                NaN         NaN    NaN  \n",
      "blow_down           NaN                NaN         NaN    NaN  \n",
      "clear               NaN                NaN         NaN    NaN  \n",
      "cloudy              NaN                NaN         NaN    NaN  \n",
      "conventional_mine   NaN                NaN         NaN    NaN  \n",
      "cultivation         NaN                NaN         NaN    NaN  \n",
      "habitation          NaN                NaN         NaN    NaN  \n",
      "haze                NaN                NaN         NaN    NaN  \n",
      "partly_cloudy       NaN                NaN         NaN    NaN  \n",
      "primary             NaN                NaN         NaN    NaN  \n",
      "road                NaN                NaN         NaN    NaN  \n",
      "selective_logging   NaN                NaN         NaN    NaN  \n",
      "slash_burn          NaN                NaN         NaN    NaN  \n",
      "water               NaN                NaN         NaN    NaN  \n"
     ]
    }
   ],
   "source": [
    "# Find labels with low correlation\n",
    "df_corr = df_Dataset.corr()\n",
    "print(df_corr[df_corr<-0.2])"
   ]
  },
  {
   "cell_type": "code",
   "execution_count": 6,
   "id": "9618a688",
   "metadata": {
    "execution": {
     "iopub.execute_input": "2022-05-29T20:11:17.993844Z",
     "iopub.status.busy": "2022-05-29T20:11:17.993310Z",
     "iopub.status.idle": "2022-05-29T20:11:18.026851Z",
     "shell.execute_reply": "2022-05-29T20:11:18.025903Z"
    },
    "papermill": {
     "duration": 0.059259,
     "end_time": "2022-05-29T20:11:18.028960",
     "exception": false,
     "start_time": "2022-05-29T20:11:17.969701",
     "status": "completed"
    },
    "tags": []
   },
   "outputs": [
    {
     "name": "stdout",
     "output_type": "stream",
     "text": [
      "Images labelled as clear AND haze:\t\t\t0\n",
      "Images labelled as clear AND partly_cloudy:\t\t0\n",
      "Images labelled as clear AND cloudy:\t\t\t0\n",
      "Images labelled as haze AND partly_cloudy:\t\t0\n",
      "Images labelled as haze AND cloudy:\t\t\t0\n",
      "Images labelled as partly_cloudy AND cloudy:\t\t0\n",
      "\n",
      "Images with any of these 4 labels:\t40478\n",
      "Images without any of these 4 labels:\t1\n",
      "total number of images:\t\t\t40479\n"
     ]
    }
   ],
   "source": [
    "# Verify mutual exclusivity of 4 labels: clear, haze, partly_cloudy, cloudy\n",
    "\n",
    "print('Images labelled as clear AND haze:\\t\\t\\t'+str(df_Dataset.loc[(df_Dataset['clear']==1.0) & (df_Dataset['haze']==1.0)]['filename'].count()))\n",
    "print('Images labelled as clear AND partly_cloudy:\\t\\t'+str(df_Dataset.loc[(df_Dataset['clear']==1.0) & (df_Dataset['partly_cloudy']==1.0)]['filename'].count()))\n",
    "print('Images labelled as clear AND cloudy:\\t\\t\\t'+str(df_Dataset.loc[(df_Dataset['clear']==1.0) & (df_Dataset['cloudy']==1.0)]['filename'].count()))\n",
    "print('Images labelled as haze AND partly_cloudy:\\t\\t'+str(df_Dataset.loc[(df_Dataset['haze']==1.0) & (df_Dataset['partly_cloudy']==1.0)]['filename'].count()))\n",
    "print('Images labelled as haze AND cloudy:\\t\\t\\t'+str(df_Dataset.loc[(df_Dataset['haze']==1.0) & (df_Dataset['cloudy']==1.0)]['filename'].count()))\n",
    "print('Images labelled as partly_cloudy AND cloudy:\\t\\t'+str(df_Dataset.loc[(df_Dataset['partly_cloudy']==1.0) & (df_Dataset['cloudy']==1.0)]['filename'].count()))\n",
    "\n",
    "print('\\nImages with any of these 4 labels:\\t'+str(df_Dataset.loc[(df_Dataset['clear']==1.0) | (df_Dataset['haze']==1.0) | (df_Dataset['partly_cloudy']==1.0) | (df_Dataset['cloudy']==1.0)]['filename'].count()))\n",
    "print('Images without any of these 4 labels:\\t'+str(df_Dataset.loc[~((df_Dataset['clear']==1.0) | (df_Dataset['haze']==1.0) | (df_Dataset['partly_cloudy']==1.0) | (df_Dataset['cloudy']==1.0))]['filename'].count()))\n",
    "print('total number of images:\\t\\t\\t'+str(df_Raw.tags.count()))"
   ]
  },
  {
   "cell_type": "code",
   "execution_count": 7,
   "id": "c90b324e",
   "metadata": {
    "execution": {
     "iopub.execute_input": "2022-05-29T20:11:18.076734Z",
     "iopub.status.busy": "2022-05-29T20:11:18.076450Z",
     "iopub.status.idle": "2022-05-29T20:11:18.084951Z",
     "shell.execute_reply": "2022-05-29T20:11:18.083960Z"
    },
    "papermill": {
     "duration": 0.033294,
     "end_time": "2022-05-29T20:11:18.086594",
     "exception": false,
     "start_time": "2022-05-29T20:11:18.053300",
     "status": "completed"
    },
    "tags": []
   },
   "outputs": [
    {
     "name": "stdout",
     "output_type": "stream",
     "text": [
      "Images labelled as artisinal_mine AND conventional_mine: 4\n",
      "Images labelled as artisinal_mine OR conventional_mine: 435\n"
     ]
    }
   ],
   "source": [
    "# Verify mutual exclusivity of 4 labels: artisinal_mine and conventional_mine\n",
    "\n",
    "print('Images labelled as artisinal_mine AND conventional_mine: '+str(df_Dataset.loc[(df_Dataset['artisinal_mine']==1.0) & (df_Dataset['conventional_mine']==1.0)]['filename'].count()))\n",
    "print('Images labelled as artisinal_mine OR conventional_mine: '+str(df_Dataset.loc[(df_Dataset['artisinal_mine']==1.0) | (df_Dataset['conventional_mine']==1.0)]['filename'].count()))"
   ]
  },
  {
   "cell_type": "markdown",
   "id": "e5bc7299",
   "metadata": {
    "papermill": {
     "duration": 0.022894,
     "end_time": "2022-05-29T20:11:18.132892",
     "exception": false,
     "start_time": "2022-05-29T20:11:18.109998",
     "status": "completed"
    },
    "tags": []
   },
   "source": [
    "## Training and Validation Generators\n",
    "\n",
    "Now that you know the images you are dealing with, it is time for you to code the generators that will fed these images to your Network. For this, complete the `train_val_generators` function below:\n",
    "\n",
    "**Important Note:** The images have a resolution of 256x256 but the `flow_from_dataframe` method you will use allows you to set a target resolution. Lower resolution may yield much quicker training times without compromising the accuracy!"
   ]
  },
  {
   "cell_type": "code",
   "execution_count": 8,
   "id": "389e5a9e",
   "metadata": {
    "execution": {
     "iopub.execute_input": "2022-05-29T20:11:18.180309Z",
     "iopub.status.busy": "2022-05-29T20:11:18.180122Z",
     "iopub.status.idle": "2022-05-29T20:11:18.199750Z",
     "shell.execute_reply": "2022-05-29T20:11:18.198963Z"
    },
    "papermill": {
     "duration": 0.045492,
     "end_time": "2022-05-29T20:11:18.201614",
     "exception": false,
     "start_time": "2022-05-29T20:11:18.156122",
     "status": "completed"
    },
    "tags": []
   },
   "outputs": [],
   "source": [
    "def generate_generator_multiple(generator, directory, df1, df2, df3, df4, df5, batch_size, target_size):\n",
    "    genX1 = generator.flow_from_dataframe(dataframe = df1,\n",
    "                                          directory=directory,\n",
    "                                          x_col=df1.columns[0],\n",
    "                                          y_col=df1.columns[1:len(df1.columns)],\n",
    "                                          target_size = target_size,\n",
    "                                          class_mode = 'raw',\n",
    "                                          batch_size = batch_size,\n",
    "                                          shuffle=False, \n",
    "                                          seed=7)\n",
    "    \n",
    "    genX2 = generator.flow_from_dataframe(dataframe = df2,\n",
    "                                          directory=directory,\n",
    "                                          x_col=df2.columns[0],\n",
    "                                          y_col=df2.columns[1:len(df2.columns)],\n",
    "                                          target_size = target_size,\n",
    "                                          class_mode = 'raw',\n",
    "                                          batch_size = batch_size,\n",
    "                                          shuffle=False, \n",
    "                                          seed=7)\n",
    "    \n",
    "    genX3 = generator.flow_from_dataframe(dataframe = df3,\n",
    "                                          directory=directory,\n",
    "                                          x_col=df3.columns[0],\n",
    "                                          y_col=df3.columns[1:len(df3.columns)],\n",
    "                                          target_size = target_size,\n",
    "                                          class_mode = 'raw',\n",
    "                                          batch_size = batch_size,\n",
    "                                          shuffle=False, \n",
    "                                          seed=7)\n",
    "    \n",
    "    genX4 = generator.flow_from_dataframe(dataframe = df4,\n",
    "                                          directory=directory,\n",
    "                                          x_col=df4.columns[0],\n",
    "                                          y_col=df4.columns[1:len(df4.columns)],\n",
    "                                          target_size = target_size,\n",
    "                                          class_mode = 'raw',\n",
    "                                          batch_size = batch_size,\n",
    "                                          shuffle=False, \n",
    "                                          seed=7)\n",
    "    \n",
    "    genX5 = generator.flow_from_dataframe(dataframe = df5,\n",
    "                                          directory=directory,\n",
    "                                          x_col=df5.columns[0],\n",
    "                                          y_col=df5.columns[1:len(df5.columns)],\n",
    "                                          target_size = target_size,\n",
    "                                          class_mode = 'raw',\n",
    "                                          batch_size = batch_size,\n",
    "                                          shuffle=False, \n",
    "                                          seed=7)\n",
    "    \n",
    "    for i in range(df1['filename'].count()):\n",
    "            X1i = genX1.next()\n",
    "            X2i = genX2.next()\n",
    "            X3i = genX3.next()\n",
    "            X4i = genX4.next()\n",
    "            X5i = genX5.next()\n",
    "            yield X1i[0],[X1i[1], X2i[1], X3i[1], X4i[1], X5i[1]]\n",
    "\n",
    "\n",
    "            \n",
    "            \n",
    "            \n",
    "# Get Data Generators\n",
    "def train_val_generators(DIRECTORY, df_Train, df_Validation):\n",
    "    \n",
    "  # Instantiate the ImageDataGenerator class \n",
    "  # Don't forget to normalize pixel values and set arguments to augment the images \n",
    "  train_datagen = ImageDataGenerator(rescale=1.0/255.0,\n",
    "                                     rotation_range=30,\n",
    "                                     width_shift_range=0.2,\n",
    "                                     height_shift_range=0.2,\n",
    "                                     zoom_range=0.1,\n",
    "                                     horizontal_flip=True,\n",
    "                                     fill_mode='nearest')\n",
    "\n",
    "# create generator\n",
    "  df_vis = df_Train.loc[:, ['filename', 'clear', 'haze', 'partly_cloudy', 'cloudy']]\n",
    "  df_hum = df_Train.loc[:, ['filename', 'agriculture', 'cultivation', 'habitation']]\n",
    "  df_rw  = df_Train.loc[:, ['filename', 'road', 'water']]\n",
    "  df_prim = df_Train.loc[:, ['filename', 'primary']]\n",
    "  df_rem = df_Train.loc[:, ['filename', 'artisinal_mine', 'bare_ground', 'blooming', 'blow_down', 'conventional_mine', 'selective_logging', 'slash_burn']]\n",
    "\n",
    "  train_generator = generate_generator_multiple(train_datagen, DIRECTORY, df_vis, df_hum, df_rw, df_prim, df_rem, 32, (256, 256))\n",
    "    \n",
    "#   train_generator = train_datagen.flow_from_dataframe(dataframe=df_Train,\n",
    "#                                                       directory=DIRECTORY,\n",
    "#                                                       x_col=df_Train.columns[0],\n",
    "#                                                       y_col=df_Train.columns[1:len(df_Train.columns)],\n",
    "#                                                       batch_size=32, \n",
    "#                                                       class_mode='raw',\n",
    "#                                                       target_size=(256, 256))\n",
    "\n",
    "  # Instantiate the ImageDataGenerator class (set the rescale argument)\n",
    "  # Validation data not augmented\n",
    "  validation_datagen = ImageDataGenerator(rescale=1.0/255.0)\n",
    "    \n",
    "  df_vis = df_ValData.loc[:, ['filename', 'clear', 'haze', 'partly_cloudy', 'cloudy']]\n",
    "  df_hum = df_ValData.loc[:, ['filename', 'agriculture', 'cultivation', 'habitation']]\n",
    "  df_rw  = df_ValData.loc[:, ['filename', 'road', 'water']]\n",
    "  df_prim = df_ValData.loc[:, ['filename', 'primary']]\n",
    "  df_rem = df_ValData.loc[:, ['filename', 'artisinal_mine', 'bare_ground', 'blooming', 'blow_down', 'conventional_mine', 'selective_logging', 'slash_burn']]\n",
    "\n",
    "  validation_generator = generate_generator_multiple(validation_datagen, DIRECTORY, df_vis, df_hum, df_rw, df_prim, df_rem, 32, (256, 256))\n",
    "  \n",
    "#   flow_from_dataframe method\n",
    "#   validation_generator = validation_datagen.flow_from_dataframe(dataframe=df_Validation,\n",
    "#                                                                 directory=DIRECTORY,\n",
    "#                                                                 x_col=df_ValData.columns[0],\n",
    "#                                                                 y_col=df_ValData.columns[1:len(df_ValData.columns)],\n",
    "#                                                                 batch_size=32,\n",
    "#                                                                 class_mode='raw',\n",
    "#                                                                 target_size=(256, 256))\n",
    "  return train_generator, validation_generator"
   ]
  },
  {
   "cell_type": "code",
   "execution_count": 9,
   "id": "487bb34a",
   "metadata": {
    "execution": {
     "iopub.execute_input": "2022-05-29T20:11:18.248523Z",
     "iopub.status.busy": "2022-05-29T20:11:18.248006Z",
     "iopub.status.idle": "2022-05-29T20:11:18.289373Z",
     "shell.execute_reply": "2022-05-29T20:11:18.288718Z"
    },
    "papermill": {
     "duration": 0.066666,
     "end_time": "2022-05-29T20:11:18.291257",
     "exception": false,
     "start_time": "2022-05-29T20:11:18.224591",
     "status": "completed"
    },
    "tags": []
   },
   "outputs": [],
   "source": [
    "# Split Data\n",
    "TrainToValidation_DataSize_Ratio = 0.6\n",
    "df_TrainData, df_ValData = SplitData(df_Dataset, TrainToValidation_DataSize_Ratio)\n",
    "\n",
    "# Test Generators\n",
    "train_generator, validation_generator = train_val_generators(source_path_Images, df_TrainData, df_ValData)"
   ]
  },
  {
   "cell_type": "markdown",
   "id": "4ee439ec",
   "metadata": {
    "papermill": {
     "duration": 0.022609,
     "end_time": "2022-05-29T20:11:18.338393",
     "exception": false,
     "start_time": "2022-05-29T20:11:18.315784",
     "status": "completed"
    },
    "tags": []
   },
   "source": [
    "## Test Image Data Generator and Label Encoding\n",
    "- Verify if functions are working and visualize data"
   ]
  },
  {
   "cell_type": "code",
   "execution_count": 10,
   "id": "34b9d275",
   "metadata": {
    "execution": {
     "iopub.execute_input": "2022-05-29T20:11:18.384863Z",
     "iopub.status.busy": "2022-05-29T20:11:18.384658Z",
     "iopub.status.idle": "2022-05-29T20:11:18.387909Z",
     "shell.execute_reply": "2022-05-29T20:11:18.387236Z"
    },
    "papermill": {
     "duration": 0.028523,
     "end_time": "2022-05-29T20:11:18.389581",
     "exception": false,
     "start_time": "2022-05-29T20:11:18.361058",
     "status": "completed"
    },
    "tags": []
   },
   "outputs": [],
   "source": [
    "# data_index = 0\n",
    "\n",
    "# print(pd.DataFrame(np.array([LabelList, validation_generator.labels[data_index]]).transpose()).to_string(index=False))\n",
    "# print(\"\\nFile name:\\t\"+validation_generator.filenames[data_index])\n",
    "# print(\"Labels:\\t\\t\"+OneHotToStringLabels(validation_generator.labels[data_index], LabelList, ' ')+'\\n')\n",
    "\n",
    "# img = mpimg.imread(os.path.join(source_path_Images, validation_generator.filenames[data_index]))\n",
    "# img = img[:,:,:3]\n",
    "# plt.imshow(img)"
   ]
  },
  {
   "cell_type": "markdown",
   "id": "35f14ed3",
   "metadata": {
    "papermill": {
     "duration": 0.022701,
     "end_time": "2022-05-29T20:11:18.435167",
     "exception": false,
     "start_time": "2022-05-29T20:11:18.412466",
     "status": "completed"
    },
    "tags": []
   },
   "source": [
    "## Model Definition\n",
    "- Import InceptionV3 weights and define layers connected\n",
    "- Import VGG19 weights and define layers connected"
   ]
  },
  {
   "cell_type": "code",
   "execution_count": 11,
   "id": "c90b64e3",
   "metadata": {
    "execution": {
     "iopub.execute_input": "2022-05-29T20:11:18.482071Z",
     "iopub.status.busy": "2022-05-29T20:11:18.481870Z",
     "iopub.status.idle": "2022-05-29T20:11:18.510163Z",
     "shell.execute_reply": "2022-05-29T20:11:18.509206Z"
    },
    "papermill": {
     "duration": 0.053646,
     "end_time": "2022-05-29T20:11:18.511715",
     "exception": false,
     "start_time": "2022-05-29T20:11:18.458069",
     "status": "completed"
    },
    "tags": []
   },
   "outputs": [],
   "source": [
    "from tensorflow.keras.optimizers import RMSprop\n",
    "from tensorflow.keras.optimizers import Adam\n",
    "import tensorflow_addons as tfa\n",
    "\n",
    "def create_model():\n",
    "    \n",
    "    Input = tf.keras.Input(shape=(256, 256, 3))\n",
    "    \n",
    "#     #Load InceptionResNetV2 Model\n",
    "    Model_1 = tf.keras.applications.InceptionResNetV2(input_tensor = Input, include_top = False, weights=\"imagenet\")\n",
    "    #Make all layers on InceptionResNetV2 trainable\n",
    "    for layer in Model_1.layers:\n",
    "        layer.trainable = True\n",
    "    x_Model_1 = Model_1(Input)\n",
    "    x_Model_1_Flat = tf.keras.layers.Flatten(name='Flatten_Model_1')(x_Model_1)\n",
    "    \n",
    "    \n",
    "#     #Load VGG19 Model\n",
    "    Model_2 = tf.keras.applications.VGG19(input_tensor = Input, include_top=False, weights=\"imagenet\")\n",
    "    #Make all layers on VGG19 trainable\n",
    "    for layer in Model_2.layers:\n",
    "            layer.trainable = True\n",
    "    x_Model_2 = Model_2(Input)\n",
    "    x_Model_2_Flat = tf.keras.layers.Flatten(name='Flatten_Model_2')(x_Model_2)\n",
    "    \n",
    "    \n",
    "    x_Top = tf.keras.layers.Concatenate(name='ConcatenateFlatten_Layer')([x_Model_1_Flat, x_Model_2_Flat])\n",
    "    x_Top = tf.keras.layers.Dense(1024)(x_Top)\n",
    "    \n",
    "    #Define Visibility Branch\n",
    "    # x_vis[0] -> clear\n",
    "    # x_vis[1] -> haze\n",
    "    # x_vis[2] -> partly_cloudy\n",
    "    # x_vis[3] -> cloudy\n",
    "    x_vis = tf.keras.layers.Dense(512, activation='relu')(x_Top)\n",
    "    x_vis = tf.keras.layers.BatchNormalization()(x_vis)\n",
    "    x_vis = tf.keras.layers.Dropout(0.2)(x_vis)\n",
    "    x_vis = tf.keras.layers.Dense(512, activation='relu')(x_vis)\n",
    "    x_vis = tf.keras.layers.BatchNormalization()(x_vis)\n",
    "    x_vis = tf.keras.layers.Dropout(0.4)(x_vis)\n",
    "    x_vis = tf.keras.layers.Dense(256, activation='relu')(x_vis)\n",
    "    x_vis = tf.keras.layers.BatchNormalization()(x_vis)\n",
    "    x_vis = tf.keras.layers.Dropout(0.4)(x_vis)\n",
    "    x_vis = tf.keras.layers.Dense(4, activation='softmax', name = 'visibility')(x_vis)\n",
    "    \n",
    "    #Define Human Activity Branch\n",
    "    # x_hum[0] -> agriculture\n",
    "    # x_hum[1] -> cultivation\n",
    "    # x_hum[2] -> habitation\n",
    "    x_hum = tf.keras.layers.Dense(512, activation='relu')(x_Top)\n",
    "    x_hum = tf.keras.layers.BatchNormalization()(x_hum)\n",
    "    x_hum = tf.keras.layers.Dropout(0.2)(x_hum)\n",
    "    x_hum = tf.keras.layers.Dense(512, activation='relu')(x_hum)\n",
    "    x_hum = tf.keras.layers.BatchNormalization()(x_hum)\n",
    "    x_hum = tf.keras.layers.Dropout(0.4)(x_hum)\n",
    "    x_hum = tf.keras.layers.Dense(256, activation='relu')(x_hum)\n",
    "    x_hum = tf.keras.layers.BatchNormalization()(x_hum)\n",
    "    x_hum = tf.keras.layers.Dropout(0.4)(x_hum)\n",
    "    x_hum = tf.keras.layers.Dense(3, activation='sigmoid', name='human_activity')(x_hum)\n",
    "    \n",
    "    #Define Track Branch (Road or Water)\n",
    "    # x_rw[0] -> road\n",
    "    # x_rw[1] -> water\n",
    "    x_rw = tf.keras.layers.Dense(512, activation='relu')(x_Top)\n",
    "    x_rw = tf.keras.layers.BatchNormalization()(x_rw)\n",
    "    x_rw = tf.keras.layers.Dropout(0.2)(x_rw)\n",
    "    x_rw = tf.keras.layers.Dense(512, activation='relu')(x_rw)\n",
    "    x_rw = tf.keras.layers.BatchNormalization()(x_rw)\n",
    "    x_rw = tf.keras.layers.Dropout(0.4)(x_rw)\n",
    "    x_rw = tf.keras.layers.Dense(256, activation='relu')(x_rw)\n",
    "    x_rw = tf.keras.layers.BatchNormalization()(x_rw)\n",
    "    x_rw = tf.keras.layers.Dropout(0.4)(x_rw)\n",
    "    x_rw = tf.keras.layers.Dense(2, activation='sigmoid', name='road_water')(x_rw)\n",
    "    \n",
    "    #Define Primary Branch\n",
    "    #x_primary[0] -> primary\n",
    "    x_prim = tf.keras.layers.Dense(512, activation='relu')(x_Top)\n",
    "    x_prim = tf.keras.layers.BatchNormalization()(x_prim)\n",
    "    x_prim = tf.keras.layers.Dropout(0.2)(x_prim)\n",
    "    x_prim = tf.keras.layers.Dense(512, activation='relu')(x_prim)\n",
    "    x_prim = tf.keras.layers.BatchNormalization()(x_prim)\n",
    "    x_prim = tf.keras.layers.Dropout(0.4)(x_prim)\n",
    "    x_prim = tf.keras.layers.Dense(256, activation='relu')(x_prim)\n",
    "    x_prim = tf.keras.layers.BatchNormalization()(x_prim)\n",
    "    x_prim = tf.keras.layers.Dropout(0.4)(x_prim)\n",
    "    x_prim = tf.keras.layers.Dense(1, activation='sigmoid', name='primary')(x_prim)\n",
    "    \n",
    "    \n",
    "    #Define Remaining Branch\n",
    "    #x_mine[0] -> artisinal_mine\n",
    "    # x_rem[1] -> bare_ground\n",
    "    # x_rem[2] -> blooming\n",
    "    # x_rem[3] -> blow_down\n",
    "    #x_mine[4] -> conventional_mine\n",
    "    # x_rem[5] -> selective_logging\n",
    "    # x_rem[6] -> slash_burn\n",
    "    x_rem = tf.keras.layers.Dense(512, activation='relu')(x_Top)\n",
    "    x_rem = tf.keras.layers.BatchNormalization()(x_rem)\n",
    "    x_rem = tf.keras.layers.Dropout(0.2)(x_rem)\n",
    "    x_rem = tf.keras.layers.Dense(512, activation='relu')(x_rem)\n",
    "    x_rem = tf.keras.layers.BatchNormalization()(x_rem)\n",
    "    x_rem = tf.keras.layers.Dropout(0.4)(x_rem)\n",
    "    x_rem = tf.keras.layers.Dense(256, activation='relu')(x_rem)\n",
    "    x_rem = tf.keras.layers.BatchNormalization()(x_rem)\n",
    "    x_rem = tf.keras.layers.Dropout(0.4)(x_rem)\n",
    "    x_rem = tf.keras.layers.Dense(7, activation='sigmoid', name='remaining')(x_rem)\n",
    "    \n",
    "    model = tf.keras.Model(inputs=Input, outputs=[x_vis, x_hum, x_rw, x_prim, x_rem])\n",
    "\n",
    "    model.compile(optimizer=Adam(lr=1e-4),\n",
    "                loss='binary_crossentropy',\n",
    "                metrics={\n",
    "                         'visibility': [tfa.metrics.FBetaScore(beta=2.0, num_classes=4 , average='micro', threshold=0.5)],\n",
    "                         'human_activity': [tfa.metrics.FBetaScore(beta=2.0, num_classes=3 , average='micro', threshold=0.5)],\n",
    "                         'road_water': [tfa.metrics.FBetaScore(beta=2.0, num_classes=2 , average='micro', threshold=0.5)],\n",
    "                         'primary': [tfa.metrics.FBetaScore(beta=2.0, num_classes=1 , average='micro', threshold=0.5)],\n",
    "                         'remaining': [tfa.metrics.FBetaScore(beta=2.0, num_classes=7 , average='micro', threshold=0.5)]\n",
    "                        }\n",
    "               ) \n",
    "    return model"
   ]
  },
  {
   "cell_type": "markdown",
   "id": "51d53cfb",
   "metadata": {
    "papermill": {
     "duration": 0.022599,
     "end_time": "2022-05-29T20:11:18.557126",
     "exception": false,
     "start_time": "2022-05-29T20:11:18.534527",
     "status": "completed"
    },
    "tags": []
   },
   "source": [
    "## Callback to stop training"
   ]
  },
  {
   "cell_type": "code",
   "execution_count": 12,
   "id": "512d86e9",
   "metadata": {
    "execution": {
     "iopub.execute_input": "2022-05-29T20:11:18.603784Z",
     "iopub.status.busy": "2022-05-29T20:11:18.603595Z",
     "iopub.status.idle": "2022-05-29T20:11:18.607916Z",
     "shell.execute_reply": "2022-05-29T20:11:18.607285Z"
    },
    "papermill": {
     "duration": 0.029677,
     "end_time": "2022-05-29T20:11:18.609518",
     "exception": false,
     "start_time": "2022-05-29T20:11:18.579841",
     "status": "completed"
    },
    "tags": []
   },
   "outputs": [],
   "source": [
    "class myCallback(tf.keras.callbacks.Callback):\n",
    "    def on_epoch_end(self, epoch, logs={}):\n",
    "        print(\"\\nReached FBeta Score = \"+str(statistics.harmonic_mean([logs.get('val_visibility_fbeta_score'), logs.get('val_human_activity_fbeta_score'), logs.get('val_road_water_fbeta_score'), logs.get('val_primary_fbeta_score')])))"
   ]
  },
  {
   "cell_type": "markdown",
   "id": "1c622a9b",
   "metadata": {
    "papermill": {
     "duration": 0.022454,
     "end_time": "2022-05-29T20:11:18.654543",
     "exception": false,
     "start_time": "2022-05-29T20:11:18.632089",
     "status": "completed"
    },
    "tags": []
   },
   "source": [
    "## Model Training"
   ]
  },
  {
   "cell_type": "code",
   "execution_count": 13,
   "id": "bcaf8b84",
   "metadata": {
    "execution": {
     "iopub.execute_input": "2022-05-29T20:11:18.703053Z",
     "iopub.status.busy": "2022-05-29T20:11:18.702465Z",
     "iopub.status.idle": "2022-05-30T03:17:38.835765Z",
     "shell.execute_reply": "2022-05-30T03:17:38.835025Z"
    },
    "papermill": {
     "duration": 25582.84964,
     "end_time": "2022-05-30T03:17:41.527661",
     "exception": false,
     "start_time": "2022-05-29T20:11:18.678021",
     "status": "completed"
    },
    "tags": []
   },
   "outputs": [
    {
     "name": "stderr",
     "output_type": "stream",
     "text": [
      "2022-05-29 20:11:18.799068: I tensorflow/stream_executor/cuda/cuda_gpu_executor.cc:937] successful NUMA node read from SysFS had negative value (-1), but there must be at least one NUMA node, so returning NUMA node zero\n",
      "2022-05-29 20:11:18.893946: I tensorflow/stream_executor/cuda/cuda_gpu_executor.cc:937] successful NUMA node read from SysFS had negative value (-1), but there must be at least one NUMA node, so returning NUMA node zero\n",
      "2022-05-29 20:11:18.894692: I tensorflow/stream_executor/cuda/cuda_gpu_executor.cc:937] successful NUMA node read from SysFS had negative value (-1), but there must be at least one NUMA node, so returning NUMA node zero\n",
      "2022-05-29 20:11:18.895767: I tensorflow/core/platform/cpu_feature_guard.cc:142] This TensorFlow binary is optimized with oneAPI Deep Neural Network Library (oneDNN) to use the following CPU instructions in performance-critical operations:  AVX2 AVX512F FMA\n",
      "To enable them in other operations, rebuild TensorFlow with the appropriate compiler flags.\n",
      "2022-05-29 20:11:18.896097: I tensorflow/stream_executor/cuda/cuda_gpu_executor.cc:937] successful NUMA node read from SysFS had negative value (-1), but there must be at least one NUMA node, so returning NUMA node zero\n",
      "2022-05-29 20:11:18.896900: I tensorflow/stream_executor/cuda/cuda_gpu_executor.cc:937] successful NUMA node read from SysFS had negative value (-1), but there must be at least one NUMA node, so returning NUMA node zero\n",
      "2022-05-29 20:11:18.897555: I tensorflow/stream_executor/cuda/cuda_gpu_executor.cc:937] successful NUMA node read from SysFS had negative value (-1), but there must be at least one NUMA node, so returning NUMA node zero\n",
      "2022-05-29 20:11:20.986105: I tensorflow/stream_executor/cuda/cuda_gpu_executor.cc:937] successful NUMA node read from SysFS had negative value (-1), but there must be at least one NUMA node, so returning NUMA node zero\n",
      "2022-05-29 20:11:20.986901: I tensorflow/stream_executor/cuda/cuda_gpu_executor.cc:937] successful NUMA node read from SysFS had negative value (-1), but there must be at least one NUMA node, so returning NUMA node zero\n",
      "2022-05-29 20:11:20.987602: I tensorflow/stream_executor/cuda/cuda_gpu_executor.cc:937] successful NUMA node read from SysFS had negative value (-1), but there must be at least one NUMA node, so returning NUMA node zero\n",
      "2022-05-29 20:11:20.989061: I tensorflow/core/common_runtime/gpu/gpu_device.cc:1510] Created device /job:localhost/replica:0/task:0/device:GPU:0 with 15403 MB memory:  -> device: 0, name: Tesla P100-PCIE-16GB, pci bus id: 0000:00:04.0, compute capability: 6.0\n"
     ]
    },
    {
     "name": "stdout",
     "output_type": "stream",
     "text": [
      "Downloading data from https://storage.googleapis.com/tensorflow/keras-applications/inception_resnet_v2/inception_resnet_v2_weights_tf_dim_ordering_tf_kernels_notop.h5\n",
      "219062272/219055592 [==============================] - 1s 0us/step\n",
      "219070464/219055592 [==============================] - 1s 0us/step\n",
      "Downloading data from https://storage.googleapis.com/tensorflow/keras-applications/vgg19/vgg19_weights_tf_dim_ordering_tf_kernels_notop.h5\n",
      "80142336/80134624 [==============================] - 0s 0us/step\n",
      "80150528/80134624 [==============================] - 0s 0us/step\n"
     ]
    },
    {
     "name": "stderr",
     "output_type": "stream",
     "text": [
      "/opt/conda/lib/python3.7/site-packages/keras/optimizer_v2/optimizer_v2.py:356: UserWarning: The `lr` argument is deprecated, use `learning_rate` instead.\n",
      "  \"The `lr` argument is deprecated, use `learning_rate` instead.\")\n",
      "/opt/conda/lib/python3.7/site-packages/keras/engine/training.py:1972: UserWarning: `Model.fit_generator` is deprecated and will be removed in a future version. Please use `Model.fit`, which supports generators.\n",
      "  warnings.warn('`Model.fit_generator` is deprecated and '\n"
     ]
    },
    {
     "name": "stdout",
     "output_type": "stream",
     "text": [
      "Found 24287 validated image filenames.\n",
      "Found 24287 validated image filenames.\n",
      "Found 24287 validated image filenames.\n",
      "Found 24287 validated image filenames.\n",
      "Found 24287 validated image filenames.\n"
     ]
    },
    {
     "name": "stderr",
     "output_type": "stream",
     "text": [
      "2022-05-29 20:12:25.369281: I tensorflow/compiler/mlir/mlir_graph_optimization_pass.cc:185] None of the MLIR Optimization Passes are enabled (registered 2)\n"
     ]
    },
    {
     "name": "stdout",
     "output_type": "stream",
     "text": [
      "Epoch 1/20\n"
     ]
    },
    {
     "name": "stderr",
     "output_type": "stream",
     "text": [
      "2022-05-29 20:12:47.807795: I tensorflow/stream_executor/cuda/cuda_dnn.cc:369] Loaded cuDNN version 8005\n"
     ]
    },
    {
     "name": "stdout",
     "output_type": "stream",
     "text": [
      "759/759 [==============================] - ETA: 0s - loss: 3.1908 - visibility_loss: 0.5944 - human_activity_loss: 0.6639 - road_water_loss: 0.5890 - primary_loss: 0.5897 - remaining_loss: 0.7538 - visibility_fbeta_score: 0.6472 - human_activity_fbeta_score: 0.5475 - road_water_fbeta_score: 0.5961 - primary_fbeta_score: 0.7786 - remaining_fbeta_score: 0.0371Found 16192 validated image filenames.\n",
      "Found 16192 validated image filenames.\n",
      "Found 16192 validated image filenames.\n",
      "Found 16192 validated image filenames.\n",
      "Found 16192 validated image filenames.\n",
      "759/759 [==============================] - 2424s 3s/step - loss: 3.1908 - visibility_loss: 0.5944 - human_activity_loss: 0.6639 - road_water_loss: 0.5890 - primary_loss: 0.5897 - remaining_loss: 0.7538 - visibility_fbeta_score: 0.6472 - human_activity_fbeta_score: 0.5475 - road_water_fbeta_score: 0.5961 - primary_fbeta_score: 0.7786 - remaining_fbeta_score: 0.0371 - val_loss: 2.0250 - val_visibility_loss: 0.3089 - val_human_activity_loss: 0.4526 - val_road_water_loss: 0.5851 - val_primary_loss: 0.2535 - val_remaining_loss: 0.4248 - val_visibility_fbeta_score: 0.8889 - val_human_activity_fbeta_score: 0.6686 - val_road_water_fbeta_score: 0.6357 - val_primary_fbeta_score: 0.9757 - val_remaining_fbeta_score: 0.0172\n",
      "\n",
      "Reached FBeta Score = 0.7664925825963396\n",
      "\n",
      "Epoch 00001: val_loss improved from inf to 2.02497, saving model to /kaggle/working/InceptionResNetVGG19.h5\n",
      "Epoch 2/20\n",
      "759/759 [==============================] - 2301s 3s/step - loss: 1.8025 - visibility_loss: 0.3159 - human_activity_loss: 0.4315 - road_water_loss: 0.3966 - primary_loss: 0.2904 - remaining_loss: 0.3680 - visibility_fbeta_score: 0.8564 - human_activity_fbeta_score: 0.6184 - road_water_fbeta_score: 0.6686 - primary_fbeta_score: 0.9408 - remaining_fbeta_score: 0.0390 - val_loss: 0.9429 - val_visibility_loss: 0.1636 - val_human_activity_loss: 0.2742 - val_road_water_loss: 0.2452 - val_primary_loss: 0.1366 - val_remaining_loss: 0.1234 - val_visibility_fbeta_score: 0.9204 - val_human_activity_fbeta_score: 0.5846 - val_road_water_fbeta_score: 0.7317 - val_primary_fbeta_score: 0.9853 - val_remaining_fbeta_score: 0.0000e+00\n",
      "\n",
      "Reached FBeta Score = 0.7723874990369027\n",
      "\n",
      "Epoch 00002: val_loss improved from 2.02497 to 0.94293, saving model to /kaggle/working/InceptionResNetVGG19.h5\n",
      "Epoch 3/20\n",
      "759/759 [==============================] - 2284s 3s/step - loss: 1.1603 - visibility_loss: 0.2124 - human_activity_loss: 0.3220 - road_water_loss: 0.3061 - primary_loss: 0.1848 - remaining_loss: 0.1351 - visibility_fbeta_score: 0.8875 - human_activity_fbeta_score: 0.6487 - road_water_fbeta_score: 0.6923 - primary_fbeta_score: 0.9708 - remaining_fbeta_score: 0.0092 - val_loss: 0.7837 - val_visibility_loss: 0.1455 - val_human_activity_loss: 0.2523 - val_road_water_loss: 0.2235 - val_primary_loss: 0.1003 - val_remaining_loss: 0.0621 - val_visibility_fbeta_score: 0.9169 - val_human_activity_fbeta_score: 0.6617 - val_road_water_fbeta_score: 0.7833 - val_primary_fbeta_score: 0.9852 - val_remaining_fbeta_score: 0.0000e+00\n",
      "\n",
      "Reached FBeta Score = 0.817415146359995\n",
      "\n",
      "Epoch 00003: val_loss improved from 0.94293 to 0.78375, saving model to /kaggle/working/InceptionResNetVGG19.h5\n",
      "Epoch 4/20\n",
      "759/759 [==============================] - 2292s 3s/step - loss: 0.9343 - visibility_loss: 0.1707 - human_activity_loss: 0.2774 - road_water_loss: 0.2720 - primary_loss: 0.1433 - remaining_loss: 0.0710 - visibility_fbeta_score: 0.8981 - human_activity_fbeta_score: 0.6592 - road_water_fbeta_score: 0.7124 - primary_fbeta_score: 0.9786 - remaining_fbeta_score: 8.5383e-04 - val_loss: 0.7360 - val_visibility_loss: 0.1196 - val_human_activity_loss: 0.2515 - val_road_water_loss: 0.2219 - val_primary_loss: 0.0991 - val_remaining_loss: 0.0439 - val_visibility_fbeta_score: 0.9225 - val_human_activity_fbeta_score: 0.6097 - val_road_water_fbeta_score: 0.7574 - val_primary_fbeta_score: 0.9848 - val_remaining_fbeta_score: 0.0000e+00\n",
      "\n",
      "Reached FBeta Score = 0.790540538461614\n",
      "\n",
      "Epoch 00004: val_loss improved from 0.78375 to 0.73602, saving model to /kaggle/working/InceptionResNetVGG19.h5\n",
      "Epoch 5/20\n",
      "759/759 [==============================] - 2282s 3s/step - loss: 0.8349 - visibility_loss: 0.1552 - human_activity_loss: 0.2541 - road_water_loss: 0.2493 - primary_loss: 0.1247 - remaining_loss: 0.0517 - visibility_fbeta_score: 0.9027 - human_activity_fbeta_score: 0.6703 - road_water_fbeta_score: 0.7170 - primary_fbeta_score: 0.9811 - remaining_fbeta_score: 0.0088 - val_loss: 0.7190 - val_visibility_loss: 0.1125 - val_human_activity_loss: 0.2354 - val_road_water_loss: 0.2355 - val_primary_loss: 0.0955 - val_remaining_loss: 0.0401 - val_visibility_fbeta_score: 0.9240 - val_human_activity_fbeta_score: 0.6534 - val_road_water_fbeta_score: 0.7922 - val_primary_fbeta_score: 0.9815 - val_remaining_fbeta_score: 0.0000e+00\n",
      "\n",
      "Reached FBeta Score = 0.8173386671019705\n",
      "\n",
      "Epoch 00005: val_loss improved from 0.73602 to 0.71902, saving model to /kaggle/working/InceptionResNetVGG19.h5\n",
      "Epoch 6/20\n",
      "759/759 [==============================] - 2295s 3s/step - loss: 0.7789 - visibility_loss: 0.1443 - human_activity_loss: 0.2399 - road_water_loss: 0.2360 - primary_loss: 0.1144 - remaining_loss: 0.0442 - visibility_fbeta_score: 0.9061 - human_activity_fbeta_score: 0.6791 - road_water_fbeta_score: 0.7361 - primary_fbeta_score: 0.9817 - remaining_fbeta_score: 0.0414 - val_loss: 0.7374 - val_visibility_loss: 0.1139 - val_human_activity_loss: 0.2519 - val_road_water_loss: 0.2433 - val_primary_loss: 0.0896 - val_remaining_loss: 0.0388 - val_visibility_fbeta_score: 0.9265 - val_human_activity_fbeta_score: 0.7063 - val_road_water_fbeta_score: 0.7802 - val_primary_fbeta_score: 0.9884 - val_remaining_fbeta_score: 0.0868\n",
      "\n",
      "Reached FBeta Score = 0.8353223016039083\n",
      "\n",
      "Epoch 00006: ReduceLROnPlateau reducing learning rate to 1.9999999494757503e-05.\n",
      "\n",
      "Epoch 00006: val_loss did not improve from 0.71902\n",
      "Epoch 7/20\n",
      "759/759 [==============================] - 2298s 3s/step - loss: 0.7030 - visibility_loss: 0.1276 - human_activity_loss: 0.2233 - road_water_loss: 0.2187 - primary_loss: 0.0928 - remaining_loss: 0.0406 - visibility_fbeta_score: 0.9141 - human_activity_fbeta_score: 0.6939 - road_water_fbeta_score: 0.7508 - primary_fbeta_score: 0.9851 - remaining_fbeta_score: 0.0883 - val_loss: 0.5937 - val_visibility_loss: 0.0964 - val_human_activity_loss: 0.1861 - val_road_water_loss: 0.1829 - val_primary_loss: 0.0948 - val_remaining_loss: 0.0335 - val_visibility_fbeta_score: 0.9295 - val_human_activity_fbeta_score: 0.7075 - val_road_water_fbeta_score: 0.8072 - val_primary_fbeta_score: 0.9897 - val_remaining_fbeta_score: 0.1601\n",
      "\n",
      "Reached FBeta Score = 0.8441424125011451\n",
      "\n",
      "Epoch 00007: val_loss improved from 0.71902 to 0.59372, saving model to /kaggle/working/InceptionResNetVGG19.h5\n",
      "Epoch 8/20\n",
      "759/759 [==============================] - 2301s 3s/step - loss: 0.6730 - visibility_loss: 0.1164 - human_activity_loss: 0.2170 - road_water_loss: 0.2095 - primary_loss: 0.0908 - remaining_loss: 0.0393 - visibility_fbeta_score: 0.9211 - human_activity_fbeta_score: 0.7087 - road_water_fbeta_score: 0.7651 - primary_fbeta_score: 0.9852 - remaining_fbeta_score: 0.1061 - val_loss: 0.5963 - val_visibility_loss: 0.0981 - val_human_activity_loss: 0.1879 - val_road_water_loss: 0.1878 - val_primary_loss: 0.0891 - val_remaining_loss: 0.0335 - val_visibility_fbeta_score: 0.9298 - val_human_activity_fbeta_score: 0.7238 - val_road_water_fbeta_score: 0.8026 - val_primary_fbeta_score: 0.9883 - val_remaining_fbeta_score: 0.1628\n",
      "\n",
      "Reached FBeta Score = 0.8484018521369244\n",
      "\n",
      "Epoch 00008: ReduceLROnPlateau reducing learning rate to 3.999999898951501e-06.\n",
      "\n",
      "Epoch 00008: val_loss did not improve from 0.59372\n",
      "Epoch 9/20\n",
      "759/759 [==============================] - 2320s 3s/step - loss: 0.6457 - visibility_loss: 0.1106 - human_activity_loss: 0.2117 - road_water_loss: 0.2007 - primary_loss: 0.0838 - remaining_loss: 0.0389 - visibility_fbeta_score: 0.9253 - human_activity_fbeta_score: 0.7133 - road_water_fbeta_score: 0.7756 - primary_fbeta_score: 0.9862 - remaining_fbeta_score: 0.1331 - val_loss: 0.5954 - val_visibility_loss: 0.0981 - val_human_activity_loss: 0.1857 - val_road_water_loss: 0.1856 - val_primary_loss: 0.0931 - val_remaining_loss: 0.0330 - val_visibility_fbeta_score: 0.9282 - val_human_activity_fbeta_score: 0.7417 - val_road_water_fbeta_score: 0.8099 - val_primary_fbeta_score: 0.9885 - val_remaining_fbeta_score: 0.1849\n",
      "\n",
      "Reached FBeta Score = 0.8561719588187274\n",
      "\n",
      "Epoch 00009: ReduceLROnPlateau reducing learning rate to 7.999999979801942e-07.\n",
      "\n",
      "Epoch 00009: val_loss did not improve from 0.59372\n",
      "Epoch 10/20\n",
      "759/759 [==============================] - 2348s 3s/step - loss: 0.6362 - visibility_loss: 0.1107 - human_activity_loss: 0.2094 - road_water_loss: 0.1958 - primary_loss: 0.0817 - remaining_loss: 0.0385 - visibility_fbeta_score: 0.9255 - human_activity_fbeta_score: 0.7137 - road_water_fbeta_score: 0.7799 - primary_fbeta_score: 0.9861 - remaining_fbeta_score: 0.1206 - val_loss: 0.5956 - val_visibility_loss: 0.0985 - val_human_activity_loss: 0.1855 - val_road_water_loss: 0.1855 - val_primary_loss: 0.0931 - val_remaining_loss: 0.0330 - val_visibility_fbeta_score: 0.9283 - val_human_activity_fbeta_score: 0.7382 - val_road_water_fbeta_score: 0.8042 - val_primary_fbeta_score: 0.9882 - val_remaining_fbeta_score: 0.1897\n",
      "\n",
      "Reached FBeta Score = 0.8533781103753622\n",
      "\n",
      "Epoch 00010: ReduceLROnPlateau reducing learning rate to 1.600000018697756e-07.\n",
      "\n",
      "Epoch 00010: val_loss did not improve from 0.59372\n",
      "Epoch 11/20\n",
      "759/759 [==============================] - 2352s 3s/step - loss: 0.6316 - visibility_loss: 0.1089 - human_activity_loss: 0.2081 - road_water_loss: 0.1968 - primary_loss: 0.0795 - remaining_loss: 0.0384 - visibility_fbeta_score: 0.9273 - human_activity_fbeta_score: 0.7202 - road_water_fbeta_score: 0.7786 - primary_fbeta_score: 0.9861 - remaining_fbeta_score: 0.1290 - val_loss: 0.5983 - val_visibility_loss: 0.0988 - val_human_activity_loss: 0.1854 - val_road_water_loss: 0.1877 - val_primary_loss: 0.0935 - val_remaining_loss: 0.0330 - val_visibility_fbeta_score: 0.9277 - val_human_activity_fbeta_score: 0.7428 - val_road_water_fbeta_score: 0.8052 - val_primary_fbeta_score: 0.9881 - val_remaining_fbeta_score: 0.1897\n",
      "\n",
      "Reached FBeta Score = 0.8550401466680222\n",
      "\n",
      "Epoch 00011: ReduceLROnPlateau reducing learning rate to 1e-07.\n",
      "\n",
      "Epoch 00011: val_loss did not improve from 0.59372\n",
      "Epoch 00011: early stopping\n"
     ]
    }
   ],
   "source": [
    "from keras.callbacks import ModelCheckpoint, EarlyStopping, ReduceLROnPlateau, History\n",
    "\n",
    "model = create_model()\n",
    "BATCH_SIZE = 32\n",
    "\n",
    "callbacks = [History(),\n",
    "            myCallback(),\n",
    "            EarlyStopping(monitor='val_loss', patience=4, verbose=1, min_delta=1e-4),\n",
    "            ReduceLROnPlateau(monitor='val_loss', factor=0.2, patience=1, cooldown=0, min_lr=1e-7, verbose=1),\n",
    "            ModelCheckpoint(filepath='/kaggle/working/InceptionResNetVGG19.h5', monitor=\"val_loss\", verbose=1, save_best_only=True, save_weights_only=True, mode='auto')]\n",
    "\n",
    "model_history = model.fit_generator(train_generator,\n",
    "                    steps_per_epoch = math.ceil(df_TrainData['filename'].count()/BATCH_SIZE),\n",
    "                    epochs=20,\n",
    "                    verbose=1,\n",
    "                    validation_data=validation_generator,\n",
    "                    validation_steps = math.ceil(df_ValData['filename'].count()/BATCH_SIZE),\n",
    "                    callbacks=callbacks\n",
    "                   )\n",
    "\n",
    "history = model_history.history"
   ]
  },
  {
   "cell_type": "markdown",
   "id": "be892af8",
   "metadata": {
    "papermill": {
     "duration": 2.932198,
     "end_time": "2022-05-30T03:17:47.237874",
     "exception": false,
     "start_time": "2022-05-30T03:17:44.305676",
     "status": "completed"
    },
    "tags": []
   },
   "source": [
    "## Save/Load Keras Model and History"
   ]
  },
  {
   "cell_type": "code",
   "execution_count": 14,
   "id": "88c10dae",
   "metadata": {
    "execution": {
     "iopub.execute_input": "2022-05-30T03:17:52.634100Z",
     "iopub.status.busy": "2022-05-30T03:17:52.633734Z",
     "iopub.status.idle": "2022-05-30T03:18:16.137695Z",
     "shell.execute_reply": "2022-05-30T03:18:16.136692Z"
    },
    "papermill": {
     "duration": 26.196954,
     "end_time": "2022-05-30T03:18:16.143234",
     "exception": false,
     "start_time": "2022-05-30T03:17:49.946280",
     "status": "completed"
    },
    "tags": []
   },
   "outputs": [],
   "source": [
    "# Save\n",
    "import pickle\n",
    "from keras.models import load_model\n",
    "with open(\"/kaggle/working/InceptionResNetVGG19.pkl\", 'wb') as f:\n",
    "    pickle.dump(history, f)\n",
    "model.save(\"/kaggle/working/InceptionResNetVGG19_EndTrain.h5\")"
   ]
  },
  {
   "cell_type": "code",
   "execution_count": 15,
   "id": "930f96ee",
   "metadata": {
    "execution": {
     "iopub.execute_input": "2022-05-30T03:18:22.481098Z",
     "iopub.status.busy": "2022-05-30T03:18:22.480733Z",
     "iopub.status.idle": "2022-05-30T03:18:22.484330Z",
     "shell.execute_reply": "2022-05-30T03:18:22.483696Z"
    },
    "papermill": {
     "duration": 3.087996,
     "end_time": "2022-05-30T03:18:22.487624",
     "exception": false,
     "start_time": "2022-05-30T03:18:19.399628",
     "status": "completed"
    },
    "tags": []
   },
   "outputs": [],
   "source": [
    "# # Load\n",
    "# from tensorflow import keras\n",
    "# import pickle\n",
    "# model = keras.models.load_model(\"/kaggle/working/InceptionV3_Untrainable_V2.h5\")\n",
    "# with open(\"/kaggle/working/InceptionV3_Untrainable_V2.pkl\", 'rb') as f:\n",
    "#     history = pickle.load(f)"
   ]
  },
  {
   "cell_type": "markdown",
   "id": "0cda8893",
   "metadata": {
    "papermill": {
     "duration": 2.78938,
     "end_time": "2022-05-30T03:18:27.976900",
     "exception": false,
     "start_time": "2022-05-30T03:18:25.187520",
     "status": "completed"
    },
    "tags": []
   },
   "source": [
    "## Plot History"
   ]
  },
  {
   "cell_type": "code",
   "execution_count": 16,
   "id": "cbf2757d",
   "metadata": {
    "execution": {
     "iopub.execute_input": "2022-05-30T03:18:34.161629Z",
     "iopub.status.busy": "2022-05-30T03:18:34.161368Z",
     "iopub.status.idle": "2022-05-30T03:18:34.600542Z",
     "shell.execute_reply": "2022-05-30T03:18:34.599866Z"
    },
    "papermill": {
     "duration": 3.124384,
     "end_time": "2022-05-30T03:18:34.602593",
     "exception": false,
     "start_time": "2022-05-30T03:18:31.478209",
     "status": "completed"
    },
    "tags": []
   },
   "outputs": [
    {
     "data": {
      "image/png": "[encoded data removed]",
      "text/plain": [
       "<Figure size 432x288 with 1 Axes>"
      ]
     },
     "metadata": {
      "needs_background": "light"
     },
     "output_type": "display_data"
    },
    {
     "data": {
      "image/png": "[encoded data removed]",
      "text/plain": [
       "<Figure size 432x288 with 1 Axes>"
      ]
     },
     "metadata": {
      "needs_background": "light"
     },
     "output_type": "display_data"
    }
   ],
   "source": [
    "#-----------------------------------------------------------\n",
    "# Retrieve a list of list results on training and test data\n",
    "# sets for each training epoch\n",
    "#-----------------------------------------------------------\n",
    "loss=history['loss']\n",
    "val_loss=history['val_loss']\n",
    "\n",
    "epochs=np.array(range(len(loss)))+1 # Get number of epochs\n",
    "\n",
    "#------------------------------------------------\n",
    "# Plot training and validation loss per epoch\n",
    "#------------------------------------------------\n",
    "plt.plot(epochs, loss, label=\"Training Loss\")\n",
    "plt.plot(epochs, val_loss, label=\"Validation Loss\")\n",
    "plt.title('Training and validation Loss')\n",
    "plt.xlim([0, 15])\n",
    "plt.legend(loc='center left', bbox_to_anchor=(1, 0.5))\n",
    "plt.show()\n",
    "\n",
    "#------------------------------------------------\n",
    "# Plot training and validation F Scores per epoch\n",
    "#------------------------------------------------\n",
    "plt.plot(epochs, history['visibility_fbeta_score'], label=\"Visibility - Train\")\n",
    "plt.plot(epochs, history['val_visibility_fbeta_score'], label=\"Visibility - Validation\")\n",
    "plt.plot(epochs, history['human_activity_fbeta_score'], label=\"Human Activity  - Train\")\n",
    "plt.plot(epochs, history['val_human_activity_fbeta_score'], label=\"Human Activity  - Validation\")\n",
    "plt.plot(epochs, history['road_water_fbeta_score'], label=\"Road-Water - Train\")\n",
    "plt.plot(epochs, history['val_road_water_fbeta_score'], label=\"Road-Water - Validation\")\n",
    "plt.plot(epochs, history['primary_fbeta_score'], label=\"Primary - Train\")\n",
    "plt.plot(epochs, history['val_primary_fbeta_score'], label=\"Primary - Validation\")\n",
    "plt.plot(epochs, history['remaining_fbeta_score'], label=\"Remaining - Train\")\n",
    "plt.plot(epochs, history['val_remaining_fbeta_score'], label=\"Remaining - Validation\")\n",
    "plt.title('F-Beta Score')\n",
    "plt.xlim([0, 15])\n",
    "plt.legend(loc='center left', bbox_to_anchor=(1, 0.5))\n",
    "plt.show()"
   ]
  },
  {
   "cell_type": "markdown",
   "id": "07ab3872",
   "metadata": {
    "papermill": {
     "duration": 2.69874,
     "end_time": "2022-05-30T03:18:40.022855",
     "exception": false,
     "start_time": "2022-05-30T03:18:37.324115",
     "status": "completed"
    },
    "tags": []
   },
   "source": [
    "## Submission"
   ]
  },
  {
   "cell_type": "code",
   "execution_count": 17,
   "id": "6ae2e13d",
   "metadata": {
    "execution": {
     "iopub.execute_input": "2022-05-30T03:18:45.647377Z",
     "iopub.status.busy": "2022-05-30T03:18:45.646901Z",
     "iopub.status.idle": "2022-05-30T03:18:45.667589Z",
     "shell.execute_reply": "2022-05-30T03:18:45.666899Z"
    },
    "papermill": {
     "duration": 2.712163,
     "end_time": "2022-05-30T03:18:45.669249",
     "exception": false,
     "start_time": "2022-05-30T03:18:42.957086",
     "status": "completed"
    },
    "tags": []
   },
   "outputs": [],
   "source": [
    "import matplotlib.image as mpimg\n",
    "from IPython.display import clear_output\n",
    "\n",
    "def GetPredictions(df_Submission, ImageFolderPath):\n",
    "\n",
    "    start_time = datetime.now()\n",
    "    iteration_time = start_time\n",
    "    df_Submission.image_name = df_Submission.image_name+'.jpg'\n",
    "\n",
    "    predicted = np.array([np.zeros(4), np.zeros(3), np.zeros(2), np.zeros(2), np.zeros(6)], dtype=object)\n",
    "    predicted = [predicted]*df_Submission.image_name.count()\n",
    "\n",
    "    for i, row in enumerate(df_Submission.to_numpy()):\n",
    "        img = mpimg.imread(os.path.join(ImageFolderPath, row[0]))\n",
    "        img = img[:,:,:3]\n",
    "        img = np.array([img])\n",
    "        predicted[i] = model.predict(img)\n",
    "        iteration_elapsed = datetime.now()-iteration_time\n",
    "        if(iteration_elapsed.total_seconds()>5.00):\n",
    "            iteration_time = datetime.now()\n",
    "            elapsed_time = (datetime.now()-start_time)\n",
    "            estimate_to_completion = (elapsed_time/i)*(df_Submission.count()[0]-i)\n",
    "            clear_output(wait=True)\n",
    "            print('Completed\\t\\t\\t', \"{:.2f}\".format(100*i/df_Submission.image_name.count()),'%')\n",
    "            print('Elapsed time:\\t\\t', elapsed_time)\n",
    "            print('Estimate to completion:\\t', estimate_to_completion)\n",
    "\n",
    "    clear_output(wait=True)\n",
    "    print('completed 100 %')\n",
    "    elapsed_time = (datetime.now()-start_time)\n",
    "    print('Elapsed time: ', elapsed_time)\n",
    "    return predicted\n",
    "\n",
    "def GetPedictGeneratorOutput(prediction, index):\n",
    "    return [predictions[0][index], predictions[1][index], predictions[2][index], predictions[3][index], predictions[4][index]]\n",
    "\n",
    "def GetLabelsFromPrediction(ModelOutput, threshold):\n",
    "    label = \"\"\n",
    "    if(ModelOutput[1][0] > threshold):\n",
    "        label = label + \" agriculture\"\n",
    "    if(ModelOutput[4][0] > threshold):\n",
    "        label = label + \" artisinal_mine\"\n",
    "    if(ModelOutput[4][1] > threshold):\n",
    "        label = label + \" bare_ground\"\n",
    "    if(ModelOutput[4][2] > threshold):\n",
    "        label = label + \" blooming\"\n",
    "    if(ModelOutput[4][3] > threshold):\n",
    "        label = label + \" blow_down\"\n",
    "    if(ModelOutput[0][0] > threshold):\n",
    "        label = label + \" clear\"\n",
    "    if(ModelOutput[0][3] > threshold):\n",
    "        label = label + \" cloudy\"\n",
    "    if(ModelOutput[4][4] > threshold):\n",
    "        label = label + \" conventional_mine\"\n",
    "    if(ModelOutput[1][1] > threshold):\n",
    "        label = label + \" cultivation\"\n",
    "    if(ModelOutput[1][2] > threshold):\n",
    "        label = label + \" habitation\"\n",
    "    if(ModelOutput[0][1] > threshold):\n",
    "        label = label + \" haze\"\n",
    "    if(ModelOutput[0][2] > threshold):\n",
    "        label = label + \" partly_cloudy\"\n",
    "    if(ModelOutput[3][0] > threshold):\n",
    "        label = label + \" primary\"\n",
    "    if(ModelOutput[2][0] > threshold):\n",
    "        label = label + \" road\"\n",
    "    if(ModelOutput[4][5] > threshold):\n",
    "        label = label + \" selective_logging\"\n",
    "    if(ModelOutput[4][6] > threshold):\n",
    "        label = label + \" slash_burn\"\n",
    "    if(ModelOutput[2][1] > threshold):\n",
    "        label = label + \" water\"\n",
    "    return label.lstrip()\n",
    "\n",
    "\n",
    "def InsertLabels_Dataframe(df_Submission, predicted, threshold):\n",
    "    pred = []\n",
    "    for i in range(len(predicted[0])):\n",
    "        pred.append([])\n",
    "        pred[i] = [predicted[0][i], predicted[1][i], predicted[2][i], predicted[3][i], predicted[4][i]]\n",
    "    for i, ModelOutput in enumerate(pred):\n",
    "        df_Submission['tags'][i]=GetLabelsFromPrediction(ModelOutput, threshold)"
   ]
  },
  {
   "cell_type": "code",
   "execution_count": 18,
   "id": "8bece81d",
   "metadata": {
    "execution": {
     "iopub.execute_input": "2022-05-30T03:18:51.184528Z",
     "iopub.status.busy": "2022-05-30T03:18:51.184270Z",
     "iopub.status.idle": "2022-05-30T03:31:10.145860Z",
     "shell.execute_reply": "2022-05-30T03:31:10.145067Z"
    },
    "papermill": {
     "duration": 744.948077,
     "end_time": "2022-05-30T03:31:13.363268",
     "exception": false,
     "start_time": "2022-05-30T03:18:48.415191",
     "status": "completed"
    },
    "tags": []
   },
   "outputs": [
    {
     "name": "stdout",
     "output_type": "stream",
     "text": [
      "Found 61191 validated image filenames.\n",
      "1913/1913 [==============================] - 555s 287ms/step\n"
     ]
    },
    {
     "name": "stderr",
     "output_type": "stream",
     "text": [
      "/opt/conda/lib/python3.7/site-packages/ipykernel_launcher.py:19: FutureWarning: The default value of regex will change from True to False in a future version.\n"
     ]
    }
   ],
   "source": [
    "df_Submission = pd.read_csv('../input/amazon-satellite/raw-data/sample_submission_v2/sample_submission_v2.csv')\n",
    "Test_FolderPath = '../input/amazon-satellite/raw-data/test-jpg'\n",
    "\n",
    "df_Submission['image_name'] = df_Submission['image_name'] + '.jpg'\n",
    "\n",
    "validation_datagen = ImageDataGenerator(rescale=1.0/255.0)\n",
    "validation_generator = validation_datagen.flow_from_dataframe(dataframe=df_Submission,\n",
    "                                                                directory=Test_FolderPath,\n",
    "                                                                x_col=df_Submission.columns[0],\n",
    "                                                                y_col=df_Submission.columns[1:len(df_Submission.columns)],\n",
    "                                                                batch_size=32,\n",
    "                                                                class_mode='raw',\n",
    "                                                                shuffle=False,\n",
    "                                                                target_size=(256, 256))\n",
    "\n",
    "predictions = model.predict(validation_generator, verbose=1)\n",
    "InsertLabels_Dataframe(df_Submission, predictions, threshold=0.5)\n",
    "\n",
    "df_Submission['image_name'] = df_Submission['image_name'].str.replace('.jpg', '')\n",
    "df_Submission.to_csv('/kaggle/working/submission.csv', index=None)"
   ]
  }
 ],
 "metadata": {
  "kernelspec": {
   "display_name": "Python 3",
   "language": "python",
   "name": "python3"
  },
  "language_info": {
   "codemirror_mode": {
    "name": "ipython",
    "version": 3
   },
   "file_extension": ".py",
   "mimetype": "text/x-python",
   "name": "python",
   "nbconvert_exporter": "python",
   "pygments_lexer": "ipython3",
   "version": "3.7.12"
  },
  "papermill": {
   "default_parameters": {},
   "duration": 26420.74425,
   "end_time": "2022-05-30T03:31:19.458949",
   "environment_variables": {},
   "exception": null,
   "input_path": "__notebook__.ipynb",
   "output_path": "__notebook__.ipynb",
   "parameters": {},
   "start_time": "2022-05-29T20:10:58.714699",
   "version": "2.3.4"
  }
 },
 "nbformat": 4,
 "nbformat_minor": 5
}
