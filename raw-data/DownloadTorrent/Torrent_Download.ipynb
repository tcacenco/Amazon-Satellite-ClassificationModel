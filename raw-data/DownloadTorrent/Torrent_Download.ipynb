{
  "cells": [
    {
      "cell_type": "markdown",
      "metadata": {
        "id": "aQuWDmfm9YOi"
      },
      "source": [
        "# Torrent Downloader\n",
        "libtorrent required"
      ]
    },
    {
      "cell_type": "markdown",
      "metadata": {},
      "source": [
        "- Set Magnetic-URI or .torrent file full path\n",
        "- Set Dest folder"
      ]
    },
    {
      "cell_type": "code",
      "execution_count": 1,
      "metadata": {},
      "outputs": [
        {
          "name": "stdout",
          "output_type": "stream",
          "text": [
            "TorrentReference -> Torrent file\n"
          ]
        }
      ],
      "source": [
        "TorrentReference = \"C:/Users/FilipeAdami/Documents/DataScienceStudies/KaggleCompetition/planet-understanding-the-amazon-from-space/Kaggle-planet-train-tif.torrent\"\n",
        "SaveFolder_FullPath = \"C:/Users/FilipeAdami/Documents/DataScienceStudies/KaggleCompetition/planet-understanding-the-amazon-from-space/Torrent\"\n",
        "\n",
        "if(TorrentReference.__contains__(\"magnet\") and TorrentReference.__contains__(\"xt=urn\")):\n",
        "    TorrentFile_FullPath = \"\"\n",
        "    Magnetic_Uri = TorrentReference\n",
        "    print(\"TorrentReference -> Magnet-URI\")\n",
        "else:\n",
        "    TorrentFile_FullPath = TorrentReference\n",
        "    Magnetic_Uri = \"\"\n",
        "    print(\"TorrentReference -> Torrent file\")"
      ]
    },
    {
      "cell_type": "markdown",
      "metadata": {},
      "source": [
        "- Set torrent objects"
      ]
    },
    {
      "cell_type": "code",
      "execution_count": 2,
      "metadata": {
        "id": "m6hF0emftx4h"
      },
      "outputs": [
        {
          "name": "stderr",
          "output_type": "stream",
          "text": [
            "C:\\Users\\FILIPE~1\\AppData\\Local\\Temp/ipykernel_14136/3223740421.py:5: DeprecationWarning: listen_on() is deprecated\n",
            "  ses.listen_on(6881, 6891)\n"
          ]
        },
        {
          "ename": "NameError",
          "evalue": "name 'SavePath' is not defined",
          "output_type": "error",
          "traceback": [
            "\u001b[1;31m---------------------------------------------------------------------------\u001b[0m",
            "\u001b[1;31mNameError\u001b[0m                                 Traceback (most recent call last)",
            "\u001b[1;32mC:\\Users\\FILIPE~1\\AppData\\Local\\Temp/ipykernel_14136/3223740421.py\u001b[0m in \u001b[0;36m<module>\u001b[1;34m\u001b[0m\n\u001b[0;32m      6\u001b[0m \u001b[1;33m\u001b[0m\u001b[0m\n\u001b[0;32m      7\u001b[0m params = {\n\u001b[1;32m----> 8\u001b[1;33m     \u001b[1;34m\"save_path\"\u001b[0m\u001b[1;33m:\u001b[0m \u001b[0mSavePath\u001b[0m\u001b[1;33m,\u001b[0m\u001b[1;33m\u001b[0m\u001b[1;33m\u001b[0m\u001b[0m\n\u001b[0m\u001b[0;32m      9\u001b[0m     \u001b[1;34m'storage_mode'\u001b[0m\u001b[1;33m:\u001b[0m \u001b[0mlt\u001b[0m\u001b[1;33m.\u001b[0m\u001b[0mstorage_mode_t\u001b[0m\u001b[1;33m(\u001b[0m\u001b[1;36m2\u001b[0m\u001b[1;33m)\u001b[0m\u001b[1;33m\u001b[0m\u001b[1;33m\u001b[0m\u001b[0m\n\u001b[0;32m     10\u001b[0m }\n",
            "\u001b[1;31mNameError\u001b[0m: name 'SavePath' is not defined"
          ]
        }
      ],
      "source": [
        "import libtorrent as lt\n",
        "import time\n",
        "\n",
        "ses = lt.session()\n",
        "ses.listen_on(6881, 6891)\n",
        "\n",
        "params = {\n",
        "    \"save_path\": SaveFolder_FullPath,\n",
        "    'storage_mode': lt.storage_mode_t(2)\n",
        "}\n",
        "if(TorrentFile_FullPath != \"\"):\n",
        "    params[\"ti\"] = lt.torrent_info(TorrentFile_FullPath)\n",
        "\n",
        "handle = lt.add_magnet_uri(ses, Magnetic_Uri, params)"
      ]
    },
    {
      "cell_type": "markdown",
      "metadata": {},
      "source": [
        "- Start Torrent Download"
      ]
    },
    {
      "cell_type": "code",
      "execution_count": 71,
      "metadata": {},
      "outputs": [
        {
          "name": "stdout",
          "output_type": "stream",
          "text": [
            "downloading metadata...\n",
            "got metadata, starting torrent download...\n"
          ]
        },
        {
          "name": "stderr",
          "output_type": "stream",
          "text": [
            "C:\\Users\\FILIPE~1\\AppData\\Local\\Temp/ipykernel_24196/627455699.py:1: DeprecationWarning: start_dht() is deprecated\n",
            "  ses.start_dht()\n",
            "C:\\Users\\FILIPE~1\\AppData\\Local\\Temp/ipykernel_24196/627455699.py:3: DeprecationWarning: has_metadata() is deprecated\n",
            "  while (not handle.has_metadata()):\n"
          ]
        }
      ],
      "source": [
        "ses.start_dht()\n",
        "print ('downloading metadata...')\n",
        "while (not handle.has_metadata()):\n",
        "    time.sleep(1)\n",
        "print ('got metadata, starting torrent download...')\n",
        "while (handle.status().state != lt.torrent_status.seeding):\n",
        "    s = handle.status()\n",
        "    state_str = ['queued', 'checking', 'downloading metadata', \\\n",
        "            'downloading', 'finished', 'seeding', 'allocating']\n",
        "    print ('%.2f%% complete (down: %.1f kb/s up: %.1f kB/s peers: %d) %s' % \\\n",
        "            (s.progress * 100, s.download_rate / 1000, s.upload_rate / 1000, \\\n",
        "            s.num_peers, state_str[s.state]))\n",
        "    time.sleep(5)"
      ]
    },
    {
      "cell_type": "markdown",
      "metadata": {},
      "source": [
        "- Pause Download (If needed)"
      ]
    },
    {
      "cell_type": "code",
      "execution_count": 70,
      "metadata": {},
      "outputs": [
        {
          "name": "stdout",
          "output_type": "stream",
          "text": [
            "Download paused at 1.00%\n"
          ]
        }
      ],
      "source": [
        "print('Download paused at %.2f%%' % handle.status().progress)\n",
        "ses.pause()"
      ]
    }
  ],
  "metadata": {
    "colab": {
      "collapsed_sections": [],
      "name": "Torrent_To_Google_Drive_Downloader.ipynb",
      "provenance": []
    },
    "interpreter": {
      "hash": "ad2bdc8ecc057115af97d19610ffacc2b4e99fae6737bb82f5d7fb13d2f2c186"
    },
    "kernelspec": {
      "display_name": "Python 3.9.7 ('base')",
      "language": "python",
      "name": "python3"
    },
    "language_info": {
      "codemirror_mode": {
        "name": "ipython",
        "version": 3
      },
      "file_extension": ".py",
      "mimetype": "text/x-python",
      "name": "python",
      "nbconvert_exporter": "python",
      "pygments_lexer": "ipython3",
      "version": "3.9.7"
    }
  },
  "nbformat": 4,
  "nbformat_minor": 0
}
